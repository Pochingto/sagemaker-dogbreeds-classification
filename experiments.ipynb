{
 "cells": [
  {
   "cell_type": "markdown",
   "id": "5d76756a-0745-4f27-a299-8db7f3718112",
   "metadata": {},
   "source": [
    "# Pipeline"
   ]
  },
  {
   "cell_type": "code",
   "execution_count": 2,
   "id": "b329f245-cd3e-4f45-b5a5-d7ce021960ab",
   "metadata": {
    "tags": []
   },
   "outputs": [],
   "source": [
    "import os\n",
    "import sagemaker\n",
    "from sagemaker.workflow.pipeline_context import PipelineSession, LocalPipelineSession\n",
    "\n",
    "role = sagemaker.get_execution_role()\n",
    "bucket = \"pochingto-testing\"\n",
    "pipeline_session = PipelineSession(default_bucket=bucket)"
   ]
  },
  {
   "cell_type": "code",
   "execution_count": 3,
   "id": "89ef2f30-d3f6-4bdb-a648-11c3ecfa6f2d",
   "metadata": {
    "tags": []
   },
   "outputs": [
    {
     "data": {
      "text/plain": [
       "'2.183.0'"
      ]
     },
     "execution_count": 3,
     "metadata": {},
     "output_type": "execute_result"
    }
   ],
   "source": [
    "sagemaker.__version__"
   ]
  },
  {
   "cell_type": "code",
   "execution_count": 4,
   "id": "0c6e04ff-95a6-41df-9a85-ad6c6b7d10a5",
   "metadata": {
    "tags": []
   },
   "outputs": [],
   "source": [
    "# %%bash\n",
    "\n",
    "# pip install -q --upgrade pip\n",
    "# pip install -q --upgrade awscli boto3\n",
    "# pip install -q --upgrade scikit-learn==1.3.1\n",
    "# pip install -q --upgrade PyYAML==6.0\n",
    "# pip install -q --upgrade sagemaker\n",
    "# pip install -q --upgrade ipytest"
   ]
  },
  {
   "cell_type": "code",
   "execution_count": 5,
   "id": "a735ee68-dc56-4c78-a4c2-45de419c64a4",
   "metadata": {
    "tags": []
   },
   "outputs": [],
   "source": [
    "# import sagemaker\n",
    "# import importlib\n",
    "# importlib.reload(sagemaker)\n",
    "# sagemaker.__version__"
   ]
  },
  {
   "cell_type": "code",
   "execution_count": 6,
   "id": "b7ce5b81-fb7a-43c4-a365-097b095d8992",
   "metadata": {
    "tags": []
   },
   "outputs": [
    {
     "name": "stderr",
     "output_type": "stream",
     "text": [
      "/opt/conda/lib/python3.7/site-packages/boto3/compat.py:82: PythonDeprecationWarning: Boto3 will no longer support Python 3.7 starting December 13, 2023. To continue receiving service updates, bug fixes, and security updates please upgrade to Python 3.8 or later. More information can be found here: https://aws.amazon.com/blogs/developer/python-support-policy-updates-for-aws-sdks-and-tools/\n",
      "  warnings.warn(warning, PythonDeprecationWarning)\n"
     ]
    }
   ],
   "source": [
    "import boto3\n",
    "\n",
    "sagemaker_session = sagemaker.session.Session()\n",
    "sagemaker_client = boto3.client(\"sagemaker\")\n",
    "iam_client = boto3.client(\"iam\")\n",
    "region = boto3.Session().region_name\n",
    "bucket = \"pochingto-testing\""
   ]
  },
  {
   "cell_type": "code",
   "execution_count": 7,
   "id": "da7beea1-6d5f-4be1-a1b5-a24745a1f313",
   "metadata": {
    "tags": []
   },
   "outputs": [],
   "source": [
    "ENDPOINT = \"dogBreeds-endpoint\"\n",
    "DATA_CAPTURE_DESTINATION = f\"{bucket}/monitoring/data-capture\"\n",
    "MODEL_PACKAGE_GROUP = \"dogBreeds\""
   ]
  },
  {
   "cell_type": "code",
   "execution_count": 8,
   "id": "763d53e2-be53-4694-b455-c5bb4c26b633",
   "metadata": {
    "tags": []
   },
   "outputs": [],
   "source": [
    "config = {\n",
    "    \"session\": pipeline_session,\n",
    "    \"instance_type\": \"ml.m5.xlarge\",\n",
    "    \"image\": None,\n",
    "    \"framework_version\": \"1.12\",\n",
    "    \"py_version\": \"py38\",\n",
    "}"
   ]
  },
  {
   "cell_type": "code",
   "execution_count": 9,
   "id": "fe533980-b476-4bff-926b-220da050f01b",
   "metadata": {
    "tags": []
   },
   "outputs": [],
   "source": [
    "from sagemaker.workflow.steps import CacheConfig\n",
    "\n",
    "cache_config = CacheConfig(enable_caching=True, expire_after=\"15d\")"
   ]
  },
  {
   "cell_type": "markdown",
   "id": "ceca7666-071e-4183-9c63-fdd149836e0a",
   "metadata": {
    "tags": []
   },
   "source": [
    "## Data preprocessing"
   ]
  },
  {
   "cell_type": "code",
   "execution_count": 73,
   "id": "ea542088-da67-40ab-9580-f8256965c06d",
   "metadata": {
    "collapsed": true,
    "jupyter": {
     "outputs_hidden": true
    },
    "scrolled": true,
    "tags": []
   },
   "outputs": [
    {
     "name": "stdout",
     "output_type": "stream",
     "text": [
      "Splitting data...\n",
      "Splitting class folder: Affenpinscher\n",
      "Splitting class folder: Afghan_hound\n",
      "Splitting class folder: Airedale_terrier\n",
      "Splitting class folder: Akita\n",
      "Splitting class folder: Alaskan_malamute\n",
      "Splitting class folder: American_eskimo_dog\n",
      "Splitting class folder: American_foxhound\n",
      "Splitting class folder: American_staffordshire_terrier\n",
      "Splitting class folder: American_water_spaniel\n",
      "Splitting class folder: Anatolian_shepherd_dog\n",
      "Splitting class folder: Australian_cattle_dog\n",
      "Splitting class folder: Australian_shepherd\n",
      "Splitting class folder: Australian_terrier\n",
      "Splitting class folder: Basenji\n",
      "Splitting class folder: Basset_hound\n",
      "Splitting class folder: Beagle\n",
      "Splitting class folder: Bearded_collie\n",
      "Splitting class folder: Beauceron\n",
      "Splitting class folder: Bedlington_terrier\n",
      "Splitting class folder: Belgian_malinois\n",
      "Splitting class folder: Belgian_sheepdog\n",
      "Splitting class folder: Belgian_tervuren\n",
      "Splitting class folder: Bernese_mountain_dog\n",
      "Splitting class folder: Bichon_frise\n",
      "Splitting class folder: Black_and_tan_coonhound\n",
      "Splitting class folder: Black_russian_terrier\n",
      "Splitting class folder: Bloodhound\n",
      "Splitting class folder: Bluetick_coonhound\n",
      "Splitting class folder: Border_collie\n",
      "Splitting class folder: Border_terrier\n",
      "Splitting class folder: Borzoi\n",
      "Splitting class folder: Boston_terrier\n",
      "Splitting class folder: Bouvier_des_flandres\n",
      "Splitting class folder: Boxer\n",
      "Splitting class folder: Boykin_spaniel\n",
      "Splitting class folder: Briard\n",
      "Splitting class folder: Brittany\n",
      "Splitting class folder: Brussels_griffon\n",
      "Splitting class folder: Bull_terrier\n",
      "Splitting class folder: Bulldog\n",
      "Splitting class folder: Bullmastiff\n",
      "Splitting class folder: Cairn_terrier\n",
      "Splitting class folder: Canaan_dog\n",
      "Splitting class folder: Cane_corso\n",
      "Splitting class folder: Cardigan_welsh_corgi\n",
      "Splitting class folder: Cavalier_king_charles_spaniel\n",
      "Splitting class folder: Chesapeake_bay_retriever\n",
      "Splitting class folder: Chihuahua\n",
      "Splitting class folder: Chinese_crested\n",
      "Splitting class folder: Chinese_shar-pei\n",
      "Splitting class folder: Chow_chow\n",
      "Splitting class folder: Clumber_spaniel\n",
      "Splitting class folder: Cocker_spaniel\n",
      "Splitting class folder: Collie\n",
      "Splitting class folder: Curly-coated_retriever\n",
      "Splitting class folder: Dachshund\n",
      "Splitting class folder: Dalmatian\n",
      "Splitting class folder: Dandie_dinmont_terrier\n",
      "Splitting class folder: Doberman_pinscher\n",
      "Splitting class folder: Dogue_de_bordeaux\n",
      "Splitting class folder: English_cocker_spaniel\n",
      "Splitting class folder: English_setter\n",
      "Splitting class folder: English_springer_spaniel\n",
      "Splitting class folder: English_toy_spaniel\n",
      "Splitting class folder: Entlebucher_mountain_dog\n",
      "Splitting class folder: Field_spaniel\n",
      "Splitting class folder: Finnish_spitz\n",
      "Splitting class folder: Flat-coated_retriever\n",
      "Splitting class folder: French_bulldog\n",
      "Splitting class folder: German_pinscher\n",
      "Splitting class folder: German_shepherd_dog\n",
      "Splitting class folder: German_shorthaired_pointer\n",
      "Splitting class folder: German_wirehaired_pointer\n",
      "Splitting class folder: Giant_schnauzer\n",
      "Splitting class folder: Glen_of_imaal_terrier\n",
      "Splitting class folder: Golden_retriever\n",
      "Splitting class folder: Gordon_setter\n",
      "Splitting class folder: Great_dane\n",
      "Splitting class folder: Great_pyrenees\n",
      "Splitting class folder: Greater_swiss_mountain_dog\n",
      "Splitting class folder: Greyhound\n",
      "Splitting class folder: Havanese\n",
      "Splitting class folder: Ibizan_hound\n",
      "Splitting class folder: Icelandic_sheepdog\n",
      "Splitting class folder: Irish_red_and_white_setter\n",
      "Splitting class folder: Irish_setter\n",
      "Splitting class folder: Irish_terrier\n",
      "Splitting class folder: Irish_water_spaniel\n",
      "Splitting class folder: Irish_wolfhound\n",
      "Splitting class folder: Italian_greyhound\n",
      "Splitting class folder: Japanese_chin\n",
      "Splitting class folder: Keeshond\n",
      "Splitting class folder: Kerry_blue_terrier\n",
      "Splitting class folder: Komondor\n",
      "Splitting class folder: Kuvasz\n",
      "Splitting class folder: Labrador_retriever\n",
      "Splitting class folder: Lakeland_terrier\n",
      "Splitting class folder: Leonberger\n",
      "Splitting class folder: Lhasa_apso\n",
      "Splitting class folder: Lowchen\n",
      "Splitting class folder: Maltese\n",
      "Splitting class folder: Manchester_terrier\n",
      "Splitting class folder: Mastiff\n",
      "Splitting class folder: Miniature_schnauzer\n",
      "Splitting class folder: Neapolitan_mastiff\n",
      "Splitting class folder: Newfoundland\n",
      "Splitting class folder: Norfolk_terrier\n",
      "Splitting class folder: Norwegian_buhund\n",
      "Splitting class folder: Norwegian_elkhound\n",
      "Splitting class folder: Norwegian_lundehund\n",
      "Splitting class folder: Norwich_terrier\n",
      "Splitting class folder: Nova_scotia_duck_tolling_retriever\n",
      "Splitting class folder: Old_english_sheepdog\n",
      "Splitting class folder: Otterhound\n",
      "Splitting class folder: Papillon\n",
      "Splitting class folder: Parson_russell_terrier\n",
      "Splitting class folder: Pekingese\n",
      "Splitting class folder: Pembroke_welsh_corgi\n",
      "Splitting class folder: Petit_basset_griffon_vendeen\n",
      "Splitting class folder: Pharaoh_hound\n",
      "Splitting class folder: Plott\n",
      "Splitting class folder: Pointer\n",
      "Splitting class folder: Pomeranian\n",
      "Splitting class folder: Poodle\n",
      "Splitting class folder: Portuguese_water_dog\n",
      "Splitting class folder: Saint_bernard\n",
      "Splitting class folder: Silky_terrier\n",
      "Splitting class folder: Smooth_fox_terrier\n",
      "Splitting class folder: Tibetan_mastiff\n",
      "Splitting class folder: Welsh_springer_spaniel\n",
      "Splitting class folder: Wirehaired_pointing_griffon\n",
      "Splitting class folder: Xoloitzcuintli\n",
      "Splitting class folder: Yorkshire_terrier\n",
      "Data split into training and test sets completed.\n",
      "Initializing CSV...\n",
      "Extracting features in class Affenpinscher ...\n",
      "Extracting features in class Afghan_hound ...\n",
      "Extracting features in class Airedale_terrier ...\n",
      "Extracting features in class Akita ...\n",
      "Extracting features in class Alaskan_malamute ...\n",
      "Extracting features in class American_eskimo_dog ...\n",
      "Extracting features in class American_foxhound ...\n",
      "Extracting features in class American_staffordshire_terrier ...\n",
      "Extracting features in class American_water_spaniel ...\n",
      "Extracting features in class Anatolian_shepherd_dog ...\n",
      "Extracting features in class Australian_cattle_dog ...\n",
      "Extracting features in class Australian_shepherd ...\n",
      "Extracting features in class Australian_terrier ...\n",
      "Extracting features in class Basenji ...\n",
      "Extracting features in class Basset_hound ...\n",
      "Extracting features in class Beagle ...\n",
      "Extracting features in class Bearded_collie ...\n",
      "Extracting features in class Beauceron ...\n",
      "Extracting features in class Bedlington_terrier ...\n",
      "Extracting features in class Belgian_malinois ...\n",
      "Extracting features in class Belgian_sheepdog ...\n",
      "Extracting features in class Belgian_tervuren ...\n",
      "Extracting features in class Bernese_mountain_dog ...\n",
      "Extracting features in class Bichon_frise ...\n",
      "Extracting features in class Black_and_tan_coonhound ...\n",
      "Extracting features in class Black_russian_terrier ...\n",
      "Extracting features in class Bloodhound ...\n",
      "Extracting features in class Bluetick_coonhound ...\n",
      "Extracting features in class Border_collie ...\n",
      "Extracting features in class Border_terrier ...\n",
      "Extracting features in class Borzoi ...\n",
      "Extracting features in class Boston_terrier ...\n",
      "Extracting features in class Bouvier_des_flandres ...\n",
      "Extracting features in class Boxer ...\n",
      "Extracting features in class Boykin_spaniel ...\n",
      "Extracting features in class Briard ...\n",
      "Extracting features in class Brittany ...\n",
      "Extracting features in class Brussels_griffon ...\n",
      "Extracting features in class Bull_terrier ...\n",
      "Extracting features in class Bulldog ...\n",
      "Extracting features in class Bullmastiff ...\n",
      "Extracting features in class Cairn_terrier ...\n",
      "Extracting features in class Canaan_dog ...\n",
      "Extracting features in class Cane_corso ...\n",
      "Extracting features in class Cardigan_welsh_corgi ...\n",
      "Extracting features in class Cavalier_king_charles_spaniel ...\n",
      "Extracting features in class Chesapeake_bay_retriever ...\n",
      "Extracting features in class Chihuahua ...\n",
      "Extracting features in class Chinese_crested ...\n",
      "Extracting features in class Chinese_shar-pei ...\n",
      "Extracting features in class Chow_chow ...\n",
      "Extracting features in class Clumber_spaniel ...\n",
      "Extracting features in class Cocker_spaniel ...\n",
      "Extracting features in class Collie ...\n",
      "Extracting features in class Curly-coated_retriever ...\n",
      "Extracting features in class Dachshund ...\n",
      "Extracting features in class Dalmatian ...\n",
      "Extracting features in class Dandie_dinmont_terrier ...\n",
      "Extracting features in class Doberman_pinscher ...\n",
      "Extracting features in class Dogue_de_bordeaux ...\n",
      "Extracting features in class English_cocker_spaniel ...\n",
      "Extracting features in class English_setter ...\n",
      "Extracting features in class English_springer_spaniel ...\n",
      "Extracting features in class English_toy_spaniel ...\n",
      "Extracting features in class Entlebucher_mountain_dog ...\n",
      "Extracting features in class Field_spaniel ...\n",
      "Extracting features in class Finnish_spitz ...\n",
      "Extracting features in class Flat-coated_retriever ...\n",
      "Extracting features in class French_bulldog ...\n",
      "Extracting features in class German_pinscher ...\n",
      "Extracting features in class German_shepherd_dog ...\n",
      "Extracting features in class German_shorthaired_pointer ...\n",
      "Extracting features in class German_wirehaired_pointer ...\n",
      "Extracting features in class Giant_schnauzer ...\n",
      "Extracting features in class Glen_of_imaal_terrier ...\n",
      "Extracting features in class Golden_retriever ...\n",
      "Extracting features in class Gordon_setter ...\n",
      "Extracting features in class Great_dane ...\n",
      "Extracting features in class Great_pyrenees ...\n",
      "Extracting features in class Greater_swiss_mountain_dog ...\n",
      "Extracting features in class Greyhound ...\n",
      "Extracting features in class Havanese ...\n",
      "Extracting features in class Ibizan_hound ...\n",
      "Extracting features in class Icelandic_sheepdog ...\n",
      "Extracting features in class Irish_red_and_white_setter ...\n",
      "Extracting features in class Irish_setter ...\n",
      "Extracting features in class Irish_terrier ...\n",
      "Extracting features in class Irish_water_spaniel ...\n",
      "Extracting features in class Irish_wolfhound ...\n",
      "Extracting features in class Italian_greyhound ...\n",
      "Extracting features in class Japanese_chin ...\n",
      "Extracting features in class Keeshond ...\n",
      "Extracting features in class Kerry_blue_terrier ...\n",
      "Extracting features in class Komondor ...\n",
      "Extracting features in class Kuvasz ...\n",
      "Extracting features in class Labrador_retriever ...\n",
      "Extracting features in class Lakeland_terrier ...\n",
      "Extracting features in class Leonberger ...\n",
      "Extracting features in class Lhasa_apso ...\n",
      "Extracting features in class Lowchen ...\n",
      "Extracting features in class Maltese ...\n",
      "Extracting features in class Manchester_terrier ...\n",
      "Extracting features in class Mastiff ...\n",
      "Extracting features in class Miniature_schnauzer ...\n",
      "Extracting features in class Neapolitan_mastiff ...\n",
      "Extracting features in class Newfoundland ...\n",
      "Extracting features in class Norfolk_terrier ...\n",
      "Extracting features in class Norwegian_buhund ...\n",
      "Extracting features in class Norwegian_elkhound ...\n",
      "Extracting features in class Norwegian_lundehund ...\n",
      "Extracting features in class Norwich_terrier ...\n",
      "Extracting features in class Nova_scotia_duck_tolling_retriever ...\n",
      "Extracting features in class Old_english_sheepdog ...\n",
      "Extracting features in class Otterhound ...\n",
      "Extracting features in class Papillon ...\n",
      "Extracting features in class Parson_russell_terrier ...\n",
      "Extracting features in class Pekingese ...\n",
      "Extracting features in class Pembroke_welsh_corgi ...\n",
      "Extracting features in class Petit_basset_griffon_vendeen ...\n",
      "Extracting features in class Pharaoh_hound ...\n",
      "Extracting features in class Plott ...\n",
      "Extracting features in class Pointer ...\n",
      "Extracting features in class Pomeranian ...\n",
      "Extracting features in class Poodle ...\n",
      "Extracting features in class Portuguese_water_dog ...\n",
      "Extracting features in class Saint_bernard ...\n",
      "Extracting features in class Silky_terrier ...\n",
      "Extracting features in class Smooth_fox_terrier ...\n",
      "Extracting features in class Tibetan_mastiff ...\n",
      "Extracting features in class Welsh_springer_spaniel ...\n",
      "Extracting features in class Wirehaired_pointing_griffon ...\n",
      "Extracting features in class Xoloitzcuintli ...\n",
      "Extracting features in class Yorkshire_terrier ...\n",
      "Feature extraction completed.\n"
     ]
    }
   ],
   "source": [
    "import importlib\n",
    "from preprocessing import preprocess_data\n",
    "\n",
    "importlib.reload(preprocess_data)\n",
    "\n",
    "import tempfile\n",
    "import shutil\n",
    "\n",
    "from pathlib import Path\n",
    "\n",
    "directory = tempfile.mkdtemp()\n",
    "data_dir = \"all/\"\n",
    "train_ratio = 0.8\n",
    "output_dir = Path(directory) / \"output\"\n",
    "\n",
    "preprocess_data.preprocess_data(data_dir, output_dir, train_ratio)"
   ]
  },
  {
   "cell_type": "code",
   "execution_count": 52,
   "id": "f9dbd10c-3372-4e35-b70b-0bb26425ed31",
   "metadata": {
    "tags": []
   },
   "outputs": [],
   "source": [
    "# !cat /tmp/tmpp0tanr90/output/data-baseline/image_stats.csv\n",
    "shutil.rmtree(directory)"
   ]
  },
  {
   "cell_type": "code",
   "execution_count": 10,
   "id": "546fa7cd-bed0-4119-92bd-de4d59554d96",
   "metadata": {
    "tags": []
   },
   "outputs": [],
   "source": [
    "from sagemaker.workflow.pipeline_context import LocalPipelineSession\n",
    "local_pipeline_session = LocalPipelineSession()"
   ]
  },
  {
   "cell_type": "code",
   "execution_count": 11,
   "id": "0c458c46-7ccb-4b1f-bff7-3fadef13c4cb",
   "metadata": {
    "tags": []
   },
   "outputs": [],
   "source": [
    "from sagemaker.workflow.parameters import ParameterString\n",
    "\n",
    "dataset_location = ParameterString(\n",
    "    name=\"dataset_location\",\n",
    "    default_value=f\"s3://{bucket}/all\",\n",
    ")"
   ]
  },
  {
   "cell_type": "code",
   "execution_count": 12,
   "id": "b601e498-300c-4b1f-9759-c11dcf2e257e",
   "metadata": {
    "tags": []
   },
   "outputs": [],
   "source": [
    "from sagemaker.workflow.pipeline import Pipeline\n",
    "from sagemaker.workflow.pipeline_definition_config import PipelineDefinitionConfig\n",
    "\n",
    "pipeline_definition_config = PipelineDefinitionConfig(use_custom_job_prefix=True)"
   ]
  },
  {
   "cell_type": "code",
   "execution_count": 13,
   "id": "4f1e76ee-16fe-4a66-a206-12291428d139",
   "metadata": {
    "tags": []
   },
   "outputs": [
    {
     "data": {
      "text/plain": [
       "134"
      ]
     },
     "execution_count": 13,
     "metadata": {},
     "output_type": "execute_result"
    }
   ],
   "source": [
    "len(sorted(os.listdir('all/')))"
   ]
  },
  {
   "cell_type": "code",
   "execution_count": 14,
   "id": "c9d54431-b285-4b1b-b9f5-f13adafbf807",
   "metadata": {
    "tags": []
   },
   "outputs": [
    {
     "data": {
      "text/plain": [
       "ParameterString(name='dataset_location', parameter_type=<ParameterTypeEnum.STRING: 'String'>, default_value='s3://pochingto-testing/all')"
      ]
     },
     "execution_count": 14,
     "metadata": {},
     "output_type": "execute_result"
    }
   ],
   "source": [
    "dataset_location"
   ]
  },
  {
   "cell_type": "code",
   "execution_count": 15,
   "id": "fb1186de-a83a-4347-aec6-0db175c09056",
   "metadata": {
    "tags": []
   },
   "outputs": [
    {
     "name": "stderr",
     "output_type": "stream",
     "text": [
      "/opt/conda/lib/python3.7/site-packages/sagemaker/workflow/pipeline_context.py:300: UserWarning: Running within a PipelineSession, there will be No Wait, No Logs, and No Job being started.\n",
      "  UserWarning,\n"
     ]
    }
   ],
   "source": [
    "from sagemaker.processing import ScriptProcessor, ProcessingInput, ProcessingOutput\n",
    "from sagemaker.workflow.steps import ProcessingStep\n",
    "from sagemaker.pytorch.processing import PyTorchProcessor\n",
    "\n",
    "# pytorch_processor = PyTorchProcessor(\n",
    "#     base_job_name=\"evaluation-processor\",\n",
    "#     image_uri=config[\"image\"],\n",
    "#     framework_version=config[\"framework_version\"],\n",
    "#     py_version=config[\"py_version\"],\n",
    "#     instance_type=config[\"instance_type\"],\n",
    "#     instance_count=1,\n",
    "#     role=role,\n",
    "#     sagemaker_session=config[\"session\"],\n",
    "# )\n",
    "\n",
    "# Define the script processor\n",
    "pytorch_preprocessor = PyTorchProcessor(\n",
    "    base_job_name=\"preprocess-data\",\n",
    "    image_uri=config[\"image\"],\n",
    "    framework_version=config[\"framework_version\"],\n",
    "    py_version=config[\"py_version\"],\n",
    "    instance_type=config[\"instance_type\"],\n",
    "    instance_count=1,\n",
    "    role=role,\n",
    "    sagemaker_session=config[\"session\"],\n",
    "    # sagemaker_session=local_pipeline_session\n",
    ")\n",
    "\n",
    "preprocessing_step = ProcessingStep(\n",
    "    name=\"preprocess-data\",\n",
    "    step_args=pytorch_preprocessor.run(\n",
    "        code='preprocess_data.py',\n",
    "        source_dir='preprocessing', \n",
    "        inputs=[\n",
    "            ProcessingInput(\n",
    "                source=dataset_location,\n",
    "                destination='/opt/ml/processing/input'\n",
    "            )\n",
    "        ],\n",
    "        outputs=[\n",
    "            ProcessingOutput(\n",
    "                output_name=\"train\",\n",
    "                source='/opt/ml/processing/output/train',\n",
    "                destination=f's3://{bucket}/output/train'\n",
    "            ),\n",
    "            ProcessingOutput(\n",
    "                output_name=\"test\",\n",
    "                source='/opt/ml/processing/output/test',\n",
    "                destination=f's3://{bucket}/output/test'\n",
    "            ),\n",
    "            ProcessingOutput(\n",
    "                output_name=\"data-baseline\",\n",
    "                source='/opt/ml/processing/output/data-baseline',\n",
    "                destination=f's3://{bucket}/output/data-baseline'\n",
    "            )\n",
    "        ]\n",
    "    ),\n",
    "    cache_config=cache_config\n",
    ")"
   ]
  },
  {
   "cell_type": "code",
   "execution_count": 16,
   "id": "fb9e76ed-73ec-46ba-b8b4-50f86c0ed768",
   "metadata": {
    "tags": []
   },
   "outputs": [
    {
     "data": {
      "text/plain": [
       "sagemaker.workflow.steps.ProcessingStep"
      ]
     },
     "execution_count": 16,
     "metadata": {},
     "output_type": "execute_result"
    }
   ],
   "source": [
    "type(preprocessing_step)"
   ]
  },
  {
   "cell_type": "code",
   "execution_count": 17,
   "id": "d0394603-4f5d-4c4f-8927-2bd856689c0c",
   "metadata": {
    "tags": []
   },
   "outputs": [],
   "source": [
    "# dogbreed_pipeline = Pipeline(\n",
    "#     name=\"dogbreeds-preprocessing-pipeline\",\n",
    "#     parameters=[dataset_location],\n",
    "#     steps=[\n",
    "#         preprocessing_step,\n",
    "#     ],\n",
    "#     pipeline_definition_config=pipeline_definition_config,\n",
    "#     sagemaker_session=config[\"session\"],\n",
    "#     # sagemaker_session=local_pipeline_session\n",
    "# )\n",
    "\n",
    "# dogbreed_pipeline.upsert(role_arn=role)"
   ]
  },
  {
   "cell_type": "code",
   "execution_count": 18,
   "id": "1c3aade5-a0b4-4129-8951-a978d1140e4c",
   "metadata": {
    "tags": []
   },
   "outputs": [],
   "source": [
    "# dogbreed_pipeline.create(\n",
    "#     role_arn=sagemaker.get_execution_role(), \n",
    "#     description=\"local pipeline example\"\n",
    "# )\n",
    "\n",
    "# execution = dogbreed_pipeline.start()\n",
    "\n",
    "# steps = execution.list_steps()\n",
    "\n",
    "# training_job_name = steps['PipelineExecutionSteps'][0]['Metadata']['TrainingJob']['Arn']\n",
    "\n",
    "# step_outputs = local_pipeline_session.sagemaker_client.describe_training_job(TrainingJobName = training_job_name)"
   ]
  },
  {
   "cell_type": "markdown",
   "id": "f254ae54-0952-458d-bf0a-762f859fcb69",
   "metadata": {},
   "source": [
    "## Training"
   ]
  },
  {
   "cell_type": "code",
   "execution_count": 23,
   "id": "7fe37780-988f-47fd-97ec-49e29db705aa",
   "metadata": {
    "collapsed": true,
    "jupyter": {
     "outputs_hidden": true
    },
    "tags": []
   },
   "outputs": [
    {
     "name": "stdout",
     "output_type": "stream",
     "text": [
      "Requirement already satisfied: torch in /opt/conda/lib/python3.7/site-packages (1.13.1)\n",
      "Collecting torchvision\n",
      "  Downloading torchvision-0.14.1-cp37-cp37m-manylinux1_x86_64.whl (24.2 MB)\n",
      "\u001b[2K     \u001b[90m━━━━━━━━━━━━━━━━━━━━━━━━━━━━━━━━━━━━━━━━\u001b[0m \u001b[32m24.2/24.2 MB\u001b[0m \u001b[31m33.4 MB/s\u001b[0m eta \u001b[36m0:00:00\u001b[0m00:01\u001b[0m00:01\u001b[0m\n",
      "\u001b[?25hRequirement already satisfied: typing-extensions in /opt/conda/lib/python3.7/site-packages (from torch) (4.7.1)\n",
      "Requirement already satisfied: nvidia-cuda-runtime-cu11==11.7.99 in /opt/conda/lib/python3.7/site-packages (from torch) (11.7.99)\n",
      "Requirement already satisfied: nvidia-cudnn-cu11==8.5.0.96 in /opt/conda/lib/python3.7/site-packages (from torch) (8.5.0.96)\n",
      "Requirement already satisfied: nvidia-cublas-cu11==11.10.3.66 in /opt/conda/lib/python3.7/site-packages (from torch) (11.10.3.66)\n",
      "Requirement already satisfied: nvidia-cuda-nvrtc-cu11==11.7.99 in /opt/conda/lib/python3.7/site-packages (from torch) (11.7.99)\n",
      "Requirement already satisfied: setuptools in /opt/conda/lib/python3.7/site-packages (from nvidia-cublas-cu11==11.10.3.66->torch) (65.5.1)\n",
      "Requirement already satisfied: wheel in /opt/conda/lib/python3.7/site-packages (from nvidia-cublas-cu11==11.10.3.66->torch) (0.41.2)\n",
      "Requirement already satisfied: numpy in /opt/conda/lib/python3.7/site-packages (from torchvision) (1.21.6)\n",
      "Requirement already satisfied: requests in /opt/conda/lib/python3.7/site-packages (from torchvision) (2.31.0)\n",
      "Requirement already satisfied: pillow!=8.3.*,>=5.3.0 in /opt/conda/lib/python3.7/site-packages (from torchvision) (9.5.0)\n",
      "Requirement already satisfied: charset-normalizer<4,>=2 in /opt/conda/lib/python3.7/site-packages (from requests->torchvision) (2.0.4)\n",
      "Requirement already satisfied: idna<4,>=2.5 in /opt/conda/lib/python3.7/site-packages (from requests->torchvision) (2.8)\n",
      "Requirement already satisfied: urllib3<3,>=1.21.1 in /opt/conda/lib/python3.7/site-packages (from requests->torchvision) (2.0.6)\n",
      "Requirement already satisfied: certifi>=2017.4.17 in /opt/conda/lib/python3.7/site-packages (from requests->torchvision) (2023.7.22)\n",
      "\u001b[33mDEPRECATION: pyodbc 4.0.0-unsupported has a non-standard version number. pip 24.0 will enforce this behaviour change. A possible replacement is to upgrade to a newer version of pyodbc or contact the author to suggest that they release a version with a conforming version number. Discussion can be found at https://github.com/pypa/pip/issues/12063\u001b[0m\u001b[33m\n",
      "\u001b[0mInstalling collected packages: torchvision\n",
      "Successfully installed torchvision-0.14.1\n",
      "\u001b[33mWARNING: Running pip as the 'root' user can result in broken permissions and conflicting behaviour with the system package manager. It is recommended to use a virtual environment instead: https://pip.pypa.io/warnings/venv\u001b[0m\u001b[33m\n",
      "\u001b[0m"
     ]
    }
   ],
   "source": [
    "!pip install --upgrade torch torchvision"
   ]
  },
  {
   "cell_type": "code",
   "execution_count": 22,
   "id": "e3aa4147-f51e-4729-8329-60f322cc9826",
   "metadata": {
    "tags": []
   },
   "outputs": [
    {
     "ename": "ModuleNotFoundError",
     "evalue": "No module named 'torch'",
     "output_type": "error",
     "traceback": [
      "\u001b[0;31m---------------------------------------------------------------------------\u001b[0m",
      "\u001b[0;31mModuleNotFoundError\u001b[0m                       Traceback (most recent call last)",
      "\u001b[0;32m<ipython-input-22-f52411efeffa>\u001b[0m in \u001b[0;36m<module>\u001b[0;34m\u001b[0m\n\u001b[1;32m      1\u001b[0m \u001b[0;32mimport\u001b[0m \u001b[0mimportlib\u001b[0m\u001b[0;34m\u001b[0m\u001b[0;34m\u001b[0m\u001b[0m\n\u001b[0;32m----> 2\u001b[0;31m \u001b[0;32mimport\u001b[0m \u001b[0mtrain\u001b[0m\u001b[0;34m\u001b[0m\u001b[0;34m\u001b[0m\u001b[0m\n\u001b[0m\u001b[1;32m      3\u001b[0m \u001b[0;34m\u001b[0m\u001b[0m\n\u001b[1;32m      4\u001b[0m \u001b[0mimportlib\u001b[0m\u001b[0;34m.\u001b[0m\u001b[0mreload\u001b[0m\u001b[0;34m(\u001b[0m\u001b[0mtrain\u001b[0m\u001b[0;34m)\u001b[0m\u001b[0;34m\u001b[0m\u001b[0;34m\u001b[0m\u001b[0m\n\u001b[1;32m      5\u001b[0m \u001b[0;34m\u001b[0m\u001b[0m\n",
      "\u001b[0;32m~/dogBreedsClassifier/train.py\u001b[0m in \u001b[0;36m<module>\u001b[0;34m\u001b[0m\n\u001b[1;32m      6\u001b[0m \u001b[0;32mimport\u001b[0m \u001b[0mshutil\u001b[0m\u001b[0;34m\u001b[0m\u001b[0;34m\u001b[0m\u001b[0m\n\u001b[1;32m      7\u001b[0m \u001b[0;34m\u001b[0m\u001b[0m\n\u001b[0;32m----> 8\u001b[0;31m \u001b[0;32mimport\u001b[0m \u001b[0mtorch\u001b[0m\u001b[0;34m\u001b[0m\u001b[0;34m\u001b[0m\u001b[0m\n\u001b[0m\u001b[1;32m      9\u001b[0m \u001b[0;32mimport\u001b[0m \u001b[0mtorch\u001b[0m\u001b[0;34m.\u001b[0m\u001b[0mnn\u001b[0m \u001b[0;32mas\u001b[0m \u001b[0mnn\u001b[0m\u001b[0;34m\u001b[0m\u001b[0;34m\u001b[0m\u001b[0m\n\u001b[1;32m     10\u001b[0m \u001b[0;32mimport\u001b[0m \u001b[0mtorch\u001b[0m\u001b[0;34m.\u001b[0m\u001b[0moptim\u001b[0m \u001b[0;32mas\u001b[0m \u001b[0moptim\u001b[0m\u001b[0;34m\u001b[0m\u001b[0;34m\u001b[0m\u001b[0m\n",
      "\u001b[0;31mModuleNotFoundError\u001b[0m: No module named 'torch'"
     ]
    }
   ],
   "source": [
    "import importlib\n",
    "import train\n",
    "\n",
    "importlib.reload(train)\n",
    "\n",
    "import tempfile\n",
    "import shutil\n",
    "\n",
    "from pathlib import Path\n",
    "from train import main\n",
    "\n",
    "directory = tempfile.mkdtemp()\n",
    "data_dir = \"all/\"\n",
    "model_dir = Path(directory) / \"model\"\n",
    "output_dir = Path(directory) / \"output\"\n",
    "\n",
    "model_dir.mkdir(parents=True, exist_ok=True)\n",
    "output_dir.mkdir(parents=True, exist_ok=True)\n",
    "\n",
    "num_epochs = 1\n",
    "batch_size = 16\n",
    "debug = True\n",
    "\n",
    "# main(str(data_dir), str(model_dir), str(output_dir), num_epochs, batch_size, debug)"
   ]
  },
  {
   "cell_type": "code",
   "execution_count": 57,
   "id": "bf20c8d3-11a4-4ffd-8aaa-bfae31df0430",
   "metadata": {
    "tags": []
   },
   "outputs": [],
   "source": [
    "shutil.rmtree(directory)"
   ]
  },
  {
   "cell_type": "code",
   "execution_count": 18,
   "id": "a8d2bdd9-2529-44ee-9ac4-eb75b239df5b",
   "metadata": {
    "tags": []
   },
   "outputs": [],
   "source": [
    "from sagemaker.pytorch import PyTorch\n",
    "\n",
    "estimator = PyTorch(\n",
    "    base_job_name=\"dogbreeds-training\",\n",
    "    entry_point=f\"train.py\",\n",
    "\n",
    "    hyperparameters={\n",
    "        \"epochs\": 5,\n",
    "        \"batch_size\": 32,\n",
    "    },\n",
    "    \n",
    "    metric_definitions=[\n",
    "        {\"Name\": \"loss\", \"Regex\": \"Loss: ([0-9\\\\.]+)\"},\n",
    "        {\"Name\": \"accuracy\", \"Regex\": \"Validation Accuracy: ([0-9\\\\.]+)\"},\n",
    "    ],\n",
    "    image_uri=config[\"image\"],\n",
    "    framework_version=config[\"framework_version\"],\n",
    "    py_version=config[\"py_version\"],\n",
    "    instance_type=\"ml.g4dn.xlarge\",\n",
    "    instance_count=1,\n",
    "    disable_profiler=True,\n",
    "    sagemaker_session=config[\"session\"],\n",
    "    role=role\n",
    ")"
   ]
  },
  {
   "cell_type": "code",
   "execution_count": 19,
   "id": "2cd2c67f-a0b7-4be4-b982-68ce591d6e80",
   "metadata": {
    "tags": []
   },
   "outputs": [],
   "source": [
    "# print(preprocessing_step.properties.to_string()) #.ProcessingOutputConfig.Outputs[\"train\"].S3Output.S3Uri.to_string())"
   ]
  },
  {
   "cell_type": "code",
   "execution_count": 20,
   "id": "ec54fb23-8762-4b8b-98b6-2b23685d29e3",
   "metadata": {
    "tags": []
   },
   "outputs": [],
   "source": [
    "from sagemaker.workflow.steps import TrainingStep\n",
    "from sagemaker.inputs import TrainingInput\n",
    "\n",
    "train_model_step = TrainingStep(\n",
    "    name=\"train-model\",\n",
    "    step_args=estimator.fit(\n",
    "        inputs={\n",
    "            \"train\": TrainingInput(\n",
    "                s3_data=preprocessing_step.properties.ProcessingOutputConfig.Outputs[\n",
    "                    \"train\"\n",
    "                ].S3Output.S3Uri\n",
    "            )\n",
    "        }\n",
    "    ),\n",
    "    cache_config=cache_config,\n",
    ")"
   ]
  },
  {
   "cell_type": "markdown",
   "id": "f01107ff-e7aa-463f-ad19-a282ae9e7c62",
   "metadata": {},
   "source": [
    "## Evaluation"
   ]
  },
  {
   "cell_type": "code",
   "execution_count": 21,
   "id": "4c634b06-30c1-4804-b10e-0b36ebb59767",
   "metadata": {
    "tags": []
   },
   "outputs": [
    {
     "name": "stdout",
     "output_type": "stream",
     "text": [
      "ls: cannot access '/tmp/tmpjg2v2xz9/model/': No such file or directory\n"
     ]
    }
   ],
   "source": [
    "!ls /tmp/tmpjg2v2xz9/model/"
   ]
  },
  {
   "cell_type": "code",
   "execution_count": 17,
   "id": "41655027-b274-46de-b9f6-fe4fb6463079",
   "metadata": {
    "collapsed": true,
    "jupyter": {
     "outputs_hidden": true
    },
    "tags": []
   },
   "outputs": [
    {
     "data": {
      "text/plain": [
       "['Affenpinscher',\n",
       " 'Afghan_hound',\n",
       " 'Airedale_terrier',\n",
       " 'Akita',\n",
       " 'Alaskan_malamute',\n",
       " 'American_eskimo_dog',\n",
       " 'American_foxhound',\n",
       " 'American_staffordshire_terrier',\n",
       " 'American_water_spaniel',\n",
       " 'Anatolian_shepherd_dog',\n",
       " 'Australian_cattle_dog',\n",
       " 'Australian_shepherd',\n",
       " 'Australian_terrier',\n",
       " 'Basenji',\n",
       " 'Basset_hound',\n",
       " 'Beagle',\n",
       " 'Bearded_collie',\n",
       " 'Beauceron',\n",
       " 'Bedlington_terrier',\n",
       " 'Belgian_malinois',\n",
       " 'Belgian_sheepdog',\n",
       " 'Belgian_tervuren',\n",
       " 'Bernese_mountain_dog',\n",
       " 'Bichon_frise',\n",
       " 'Black_and_tan_coonhound',\n",
       " 'Black_russian_terrier',\n",
       " 'Bloodhound',\n",
       " 'Bluetick_coonhound',\n",
       " 'Border_collie',\n",
       " 'Border_terrier',\n",
       " 'Borzoi',\n",
       " 'Boston_terrier',\n",
       " 'Bouvier_des_flandres',\n",
       " 'Boxer',\n",
       " 'Boykin_spaniel',\n",
       " 'Briard',\n",
       " 'Brittany',\n",
       " 'Brussels_griffon',\n",
       " 'Bull_terrier',\n",
       " 'Bulldog',\n",
       " 'Bullmastiff',\n",
       " 'Cairn_terrier',\n",
       " 'Canaan_dog',\n",
       " 'Cane_corso',\n",
       " 'Cardigan_welsh_corgi',\n",
       " 'Cavalier_king_charles_spaniel',\n",
       " 'Chesapeake_bay_retriever',\n",
       " 'Chihuahua',\n",
       " 'Chinese_crested',\n",
       " 'Chinese_shar-pei',\n",
       " 'Chow_chow',\n",
       " 'Clumber_spaniel',\n",
       " 'Cocker_spaniel',\n",
       " 'Collie',\n",
       " 'Curly-coated_retriever',\n",
       " 'Dachshund',\n",
       " 'Dalmatian',\n",
       " 'Dandie_dinmont_terrier',\n",
       " 'Doberman_pinscher',\n",
       " 'Dogue_de_bordeaux',\n",
       " 'English_cocker_spaniel',\n",
       " 'English_setter',\n",
       " 'English_springer_spaniel',\n",
       " 'English_toy_spaniel',\n",
       " 'Entlebucher_mountain_dog',\n",
       " 'Field_spaniel',\n",
       " 'Finnish_spitz',\n",
       " 'Flat-coated_retriever',\n",
       " 'French_bulldog',\n",
       " 'German_pinscher',\n",
       " 'German_shepherd_dog',\n",
       " 'German_shorthaired_pointer',\n",
       " 'German_wirehaired_pointer',\n",
       " 'Giant_schnauzer',\n",
       " 'Glen_of_imaal_terrier',\n",
       " 'Golden_retriever',\n",
       " 'Gordon_setter',\n",
       " 'Great_dane',\n",
       " 'Great_pyrenees',\n",
       " 'Greater_swiss_mountain_dog',\n",
       " 'Greyhound',\n",
       " 'Havanese',\n",
       " 'Ibizan_hound',\n",
       " 'Icelandic_sheepdog',\n",
       " 'Irish_red_and_white_setter',\n",
       " 'Irish_setter',\n",
       " 'Irish_terrier',\n",
       " 'Irish_water_spaniel',\n",
       " 'Irish_wolfhound',\n",
       " 'Italian_greyhound',\n",
       " 'Japanese_chin',\n",
       " 'Keeshond',\n",
       " 'Kerry_blue_terrier',\n",
       " 'Komondor',\n",
       " 'Kuvasz',\n",
       " 'Labrador_retriever',\n",
       " 'Lakeland_terrier',\n",
       " 'Leonberger',\n",
       " 'Lhasa_apso',\n",
       " 'Lowchen',\n",
       " 'Maltese',\n",
       " 'Manchester_terrier',\n",
       " 'Mastiff',\n",
       " 'Miniature_schnauzer',\n",
       " 'Neapolitan_mastiff',\n",
       " 'Newfoundland',\n",
       " 'Norfolk_terrier',\n",
       " 'Norwegian_buhund',\n",
       " 'Norwegian_elkhound',\n",
       " 'Norwegian_lundehund',\n",
       " 'Norwich_terrier',\n",
       " 'Nova_scotia_duck_tolling_retriever',\n",
       " 'Old_english_sheepdog',\n",
       " 'Otterhound',\n",
       " 'Papillon',\n",
       " 'Parson_russell_terrier',\n",
       " 'Pekingese',\n",
       " 'Pembroke_welsh_corgi',\n",
       " 'Petit_basset_griffon_vendeen',\n",
       " 'Pharaoh_hound',\n",
       " 'Plott',\n",
       " 'Pointer',\n",
       " 'Pomeranian',\n",
       " 'Poodle',\n",
       " 'Portuguese_water_dog',\n",
       " 'Saint_bernard',\n",
       " 'Silky_terrier',\n",
       " 'Smooth_fox_terrier',\n",
       " 'Tibetan_mastiff',\n",
       " 'Welsh_springer_spaniel',\n",
       " 'Wirehaired_pointing_griffon',\n",
       " 'Xoloitzcuintli',\n",
       " 'Yorkshire_terrier']"
      ]
     },
     "execution_count": 17,
     "metadata": {},
     "output_type": "execute_result"
    }
   ],
   "source": [
    "with open(model_dir / \"data_classes.txt\", \"r\") as f:\n",
    "    classes = [cls.strip() for cls in f.readlines()]\n",
    "classes"
   ]
  },
  {
   "cell_type": "code",
   "execution_count": 26,
   "id": "9aee6629-1f1b-45c0-9825-0e7cef096ee8",
   "metadata": {
    "collapsed": true,
    "jupyter": {
     "outputs_hidden": true
    },
    "tags": []
   },
   "outputs": [
    {
     "data": {
      "text/plain": [
       "{'Affenpinscher': 0,\n",
       " 'Afghan_hound': 1,\n",
       " 'Airedale_terrier': 2,\n",
       " 'Akita': 3,\n",
       " 'Alaskan_malamute': 4,\n",
       " 'American_eskimo_dog': 5,\n",
       " 'American_foxhound': 6,\n",
       " 'American_staffordshire_terrier': 7,\n",
       " 'American_water_spaniel': 8,\n",
       " 'Anatolian_shepherd_dog': 9,\n",
       " 'Australian_cattle_dog': 10,\n",
       " 'Australian_shepherd': 11,\n",
       " 'Australian_terrier': 12,\n",
       " 'Basenji': 13,\n",
       " 'Basset_hound': 14,\n",
       " 'Beagle': 15,\n",
       " 'Bearded_collie': 16,\n",
       " 'Beauceron': 17,\n",
       " 'Bedlington_terrier': 18,\n",
       " 'Belgian_malinois': 19,\n",
       " 'Belgian_sheepdog': 20,\n",
       " 'Belgian_tervuren': 21,\n",
       " 'Bernese_mountain_dog': 22,\n",
       " 'Bichon_frise': 23,\n",
       " 'Black_and_tan_coonhound': 24,\n",
       " 'Black_russian_terrier': 25,\n",
       " 'Bloodhound': 26,\n",
       " 'Bluetick_coonhound': 27,\n",
       " 'Border_collie': 28,\n",
       " 'Border_terrier': 29,\n",
       " 'Borzoi': 30,\n",
       " 'Boston_terrier': 31,\n",
       " 'Bouvier_des_flandres': 32,\n",
       " 'Boxer': 33,\n",
       " 'Boykin_spaniel': 34,\n",
       " 'Briard': 35,\n",
       " 'Brittany': 36,\n",
       " 'Brussels_griffon': 37,\n",
       " 'Bull_terrier': 38,\n",
       " 'Bulldog': 39,\n",
       " 'Bullmastiff': 40,\n",
       " 'Cairn_terrier': 41,\n",
       " 'Canaan_dog': 42,\n",
       " 'Cane_corso': 43,\n",
       " 'Cardigan_welsh_corgi': 44,\n",
       " 'Cavalier_king_charles_spaniel': 45,\n",
       " 'Chesapeake_bay_retriever': 46,\n",
       " 'Chihuahua': 47,\n",
       " 'Chinese_crested': 48,\n",
       " 'Chinese_shar-pei': 49,\n",
       " 'Chow_chow': 50,\n",
       " 'Clumber_spaniel': 51,\n",
       " 'Cocker_spaniel': 52,\n",
       " 'Collie': 53,\n",
       " 'Curly-coated_retriever': 54,\n",
       " 'Dachshund': 55,\n",
       " 'Dalmatian': 56,\n",
       " 'Dandie_dinmont_terrier': 57,\n",
       " 'Doberman_pinscher': 58,\n",
       " 'Dogue_de_bordeaux': 59,\n",
       " 'English_cocker_spaniel': 60,\n",
       " 'English_setter': 61,\n",
       " 'English_springer_spaniel': 62,\n",
       " 'English_toy_spaniel': 63,\n",
       " 'Entlebucher_mountain_dog': 64,\n",
       " 'Field_spaniel': 65,\n",
       " 'Finnish_spitz': 66,\n",
       " 'Flat-coated_retriever': 67,\n",
       " 'French_bulldog': 68,\n",
       " 'German_pinscher': 69,\n",
       " 'German_shepherd_dog': 70,\n",
       " 'German_shorthaired_pointer': 71,\n",
       " 'German_wirehaired_pointer': 72,\n",
       " 'Giant_schnauzer': 73,\n",
       " 'Glen_of_imaal_terrier': 74,\n",
       " 'Golden_retriever': 75,\n",
       " 'Gordon_setter': 76,\n",
       " 'Great_dane': 77,\n",
       " 'Great_pyrenees': 78,\n",
       " 'Greater_swiss_mountain_dog': 79,\n",
       " 'Greyhound': 80,\n",
       " 'Havanese': 81,\n",
       " 'Ibizan_hound': 82,\n",
       " 'Icelandic_sheepdog': 83,\n",
       " 'Irish_red_and_white_setter': 84,\n",
       " 'Irish_setter': 85,\n",
       " 'Irish_terrier': 86,\n",
       " 'Irish_water_spaniel': 87,\n",
       " 'Irish_wolfhound': 88,\n",
       " 'Italian_greyhound': 89,\n",
       " 'Japanese_chin': 90,\n",
       " 'Keeshond': 91,\n",
       " 'Kerry_blue_terrier': 92,\n",
       " 'Komondor': 93,\n",
       " 'Kuvasz': 94,\n",
       " 'Labrador_retriever': 95,\n",
       " 'Lakeland_terrier': 96,\n",
       " 'Leonberger': 97,\n",
       " 'Lhasa_apso': 98,\n",
       " 'Lowchen': 99,\n",
       " 'Maltese': 100,\n",
       " 'Manchester_terrier': 101,\n",
       " 'Mastiff': 102,\n",
       " 'Miniature_schnauzer': 103,\n",
       " 'Neapolitan_mastiff': 104,\n",
       " 'Newfoundland': 105,\n",
       " 'Norfolk_terrier': 106,\n",
       " 'Norwegian_buhund': 107,\n",
       " 'Norwegian_elkhound': 108,\n",
       " 'Norwegian_lundehund': 109,\n",
       " 'Norwich_terrier': 110,\n",
       " 'Nova_scotia_duck_tolling_retriever': 111,\n",
       " 'Old_english_sheepdog': 112,\n",
       " 'Otterhound': 113,\n",
       " 'Papillon': 114,\n",
       " 'Parson_russell_terrier': 115,\n",
       " 'Pekingese': 116,\n",
       " 'Pembroke_welsh_corgi': 117,\n",
       " 'Petit_basset_griffon_vendeen': 118,\n",
       " 'Pharaoh_hound': 119,\n",
       " 'Plott': 120,\n",
       " 'Pointer': 121,\n",
       " 'Pomeranian': 122,\n",
       " 'Poodle': 123,\n",
       " 'Portuguese_water_dog': 124,\n",
       " 'Saint_bernard': 125,\n",
       " 'Silky_terrier': 126,\n",
       " 'Smooth_fox_terrier': 127,\n",
       " 'Tibetan_mastiff': 128,\n",
       " 'Welsh_springer_spaniel': 129,\n",
       " 'Wirehaired_pointing_griffon': 130,\n",
       " 'Xoloitzcuintli': 131,\n",
       " 'Yorkshire_terrier': 132}"
      ]
     },
     "execution_count": 26,
     "metadata": {},
     "output_type": "execute_result"
    }
   ],
   "source": [
    "from torchvision import datasets\n",
    "all_data = datasets.ImageFolder(root=data_dir)\n",
    "all_data.classes = classes\n",
    "all_data.class_to_idx = {cls_name: i for i, cls_name in enumerate(classes)}\n",
    "all_data.class_to_idx"
   ]
  },
  {
   "cell_type": "code",
   "execution_count": 28,
   "id": "9d59058d-44b8-40bb-91c0-5d5a88dd6b4f",
   "metadata": {
    "tags": []
   },
   "outputs": [
    {
     "data": {
      "text/plain": [
       "PosixPath('/tmp/tmp_vofh1d4')"
      ]
     },
     "execution_count": 28,
     "metadata": {},
     "output_type": "execute_result"
    }
   ],
   "source": [
    "output_dir.parent"
   ]
  },
  {
   "cell_type": "code",
   "execution_count": 35,
   "id": "f96920d5-6573-4dfc-b71f-c498f8273e9f",
   "metadata": {
    "tags": []
   },
   "outputs": [
    {
     "name": "stdout",
     "output_type": "stream",
     "text": [
      "tared data\n",
      "Extracting model_dir...\n",
      "extracted tar.\n",
      "Loading model...\n",
      "Test Accuracy: 0.0%\n",
      "Test weighted precision: 0.0\n",
      "Test weighted recall: 0.0\n",
      "Written evaluation.json .\n",
      "Writing baseline csv...\n",
      "Wrote /tmp/tmp_vofh1d4/baseline/evaluation_baseline.csv\n"
     ]
    }
   ],
   "source": [
    "# if 'autoreload' not in get_ipython().extension_manager.loaded:\n",
    "#     %load_ext autoreload\n",
    "import importlib\n",
    "\n",
    "import tempfile\n",
    "import shutil\n",
    "\n",
    "from pathlib import Path\n",
    "from evaluate import evaluation\n",
    "\n",
    "importlib.reload(evaluation)\n",
    "# generate model.tar.gz\n",
    "import tarfile\n",
    "import os\n",
    "\n",
    "def tar_sagemaker_style(source_dir, output_filename):\n",
    "    with tarfile.open(output_filename, \"w:gz\") as tar:\n",
    "        for item in os.listdir(source_dir):\n",
    "            item_path = os.path.join(source_dir, item)\n",
    "            tar.add(item_path, arcname=item)\n",
    "\n",
    "# Tar the 'model/' folder\n",
    "output_file = 'model.tar.gz'\n",
    "tar_sagemaker_style(str(model_dir), model_dir / output_file)\n",
    "print(\"tared data\")\n",
    "\n",
    "baseline_dir = output_dir.parent / \"baseline\"\n",
    "baseline_dir.mkdir(exist_ok=True)\n",
    "\n",
    "# with tarfile.open(Path(directory) / \"model.tar.gz\") as tar:\n",
    "#     tar.extractall(path=Path(model_dir))\n",
    "evaluation.main(str(model_dir), str(data_dir), str(output_dir), str(baseline_dir), debug=True)"
   ]
  },
  {
   "cell_type": "code",
   "execution_count": 42,
   "id": "6c7f6964-9681-40b0-88e5-11bac7265304",
   "metadata": {
    "tags": []
   },
   "outputs": [
    {
     "name": "stdout",
     "output_type": "stream",
     "text": [
      "Predicted,Label,Confidence\n",
      "123,0,0.058272272\n",
      "128,0,0.042744916\n",
      "43,0,0.040311657\n",
      "112,0,0.043824345\n",
      "112,0,0.043053087\n",
      "17,0,0.034501385\n",
      "17,0,0.03910346\n",
      "43,0,0.049315706\n",
      "78,0,0.02734374\n",
      "46,0,0.054395616\n",
      "46,0,0.05734981\n",
      "123,0,0.037385754\n",
      "123,0,0.04410225\n",
      "17,0,0.02573959\n",
      "43,0,0.033720877\n",
      "123,0,0.041246813\n",
      "112,0,0.047379896\n",
      "123,0,0.065215066\n",
      "112,0,0.051347382\n",
      "46,0,0.049985155\n",
      "0,0,0.030542245\n",
      "128,0,0.084609374\n",
      "112,0,0.057425596\n",
      "112,0,0.036075264\n",
      "46,0,0.03006444\n",
      "43,0,0.051023073\n",
      "112,0,0.052787412\n",
      "46,0,0.031601362\n",
      "43,0,0.03916564\n",
      "112,0,0.030664597\n",
      "123,0,0.02805526\n",
      "112,0,0.04982964\n"
     ]
    }
   ],
   "source": [
    "!cat /tmp/tmpjg2v2xz9/output/evaluation_baseline.csv"
   ]
  },
  {
   "cell_type": "code",
   "execution_count": 74,
   "id": "450fd1e7-479c-4127-80db-62429548c225",
   "metadata": {
    "tags": []
   },
   "outputs": [
    {
     "name": "stdout",
     "output_type": "stream",
     "text": [
      "data_classes.txt  model.pt\n"
     ]
    }
   ],
   "source": [
    "!ls /tmp/tmpnclu3kzg/model/"
   ]
  },
  {
   "cell_type": "code",
   "execution_count": 22,
   "id": "40a66823-5719-42b8-aa88-f56d3b924e0c",
   "metadata": {
    "tags": []
   },
   "outputs": [
    {
     "name": "stdout",
     "output_type": "stream",
     "text": [
      "/tmp/tmpdtjbje2o\n",
      "cat: /tmp/tmpf8kvn5ak/output/evaluation.json: No such file or directory\n"
     ]
    }
   ],
   "source": [
    "print(directory)\n",
    "!cat /tmp/tmpf8kvn5ak/output/evaluation.json"
   ]
  },
  {
   "cell_type": "code",
   "execution_count": 23,
   "id": "4760627a-58d5-4127-bb07-96d4ee0e29a5",
   "metadata": {
    "tags": []
   },
   "outputs": [],
   "source": [
    "shutil.rmtree(directory)"
   ]
  },
  {
   "cell_type": "code",
   "execution_count": 23,
   "id": "4f338bc9-b455-4225-932d-242c36648141",
   "metadata": {
    "tags": []
   },
   "outputs": [],
   "source": [
    "from sagemaker.workflow.properties import PropertyFile\n",
    "\n",
    "evaluation_report = PropertyFile(\n",
    "    name=\"evaluation-report\", output_name=\"evaluation\", path=\"evaluation.json\"\n",
    ")"
   ]
  },
  {
   "cell_type": "code",
   "execution_count": 24,
   "id": "05a9ff37-7771-44c6-92c1-8d7448705c42",
   "metadata": {
    "tags": []
   },
   "outputs": [
    {
     "data": {
      "text/plain": [
       "<sagemaker.workflow.properties.Properties at 0x7f4b399796d0>"
      ]
     },
     "execution_count": 24,
     "metadata": {},
     "output_type": "execute_result"
    }
   ],
   "source": [
    "model_assets = train_model_step.properties.ModelArtifacts.S3ModelArtifacts\n",
    "model_assets"
   ]
  },
  {
   "cell_type": "code",
   "execution_count": 25,
   "id": "1393ef1b-05ba-4461-b7c8-8aabe64b96e8",
   "metadata": {},
   "outputs": [
    {
     "data": {
      "text/plain": [
       "{'session': <sagemaker.workflow.pipeline_context.PipelineSession at 0x7f4b749dd4d0>,\n",
       " 'instance_type': 'ml.m5.xlarge',\n",
       " 'image': None,\n",
       " 'framework_version': '1.12',\n",
       " 'py_version': 'py38'}"
      ]
     },
     "execution_count": 25,
     "metadata": {},
     "output_type": "execute_result"
    }
   ],
   "source": [
    "config"
   ]
  },
  {
   "cell_type": "code",
   "execution_count": 26,
   "id": "eaa5335d-d273-4f81-98b3-187f6a40fcf8",
   "metadata": {
    "tags": []
   },
   "outputs": [],
   "source": [
    "from sagemaker.pytorch.processing import PyTorchProcessor\n",
    "\n",
    "pytorch_processor = PyTorchProcessor(\n",
    "    base_job_name=\"evaluation-processor\",\n",
    "    image_uri=config[\"image\"],\n",
    "    framework_version=config[\"framework_version\"],\n",
    "    py_version=config[\"py_version\"],\n",
    "    instance_type=config[\"instance_type\"],\n",
    "    instance_count=1,\n",
    "    role=role,\n",
    "    sagemaker_session=config[\"session\"],\n",
    ")\n"
   ]
  },
  {
   "cell_type": "code",
   "execution_count": 27,
   "id": "1a20b9d4-a1a5-43fe-bd53-d09d7dd7e0c8",
   "metadata": {
    "tags": []
   },
   "outputs": [],
   "source": [
    "evaluate_model_step = ProcessingStep(\n",
    "    name=\"evaluate-model\",\n",
    "    step_args=pytorch_processor.run(\n",
    "        code=f\"evaluation.py\",\n",
    "        source_dir='evaluate',\n",
    "        inputs=[\n",
    "            ProcessingInput(\n",
    "                source=preprocessing_step.properties.ProcessingOutputConfig.Outputs[\n",
    "                    \"test\"\n",
    "                ].S3Output.S3Uri,\n",
    "                destination=\"/opt/ml/processing/test\",\n",
    "            ),\n",
    "            ProcessingInput(\n",
    "                source=model_assets,\n",
    "                destination=\"/opt/ml/processing/model\",\n",
    "            ),\n",
    "        ],\n",
    "        outputs=[\n",
    "            ProcessingOutput(\n",
    "                output_name=\"evaluation\", source=\"/opt/ml/processing/evaluation\"\n",
    "            ),\n",
    "            ProcessingOutput(\n",
    "                output_name=\"model-baseline\", source=\"/opt/ml/processing/baseline\"\n",
    "            ),\n",
    "        ],\n",
    "    ),\n",
    "    property_files=[evaluation_report],\n",
    "    cache_config=cache_config,\n",
    ")"
   ]
  },
  {
   "cell_type": "markdown",
   "id": "c4995335-4357-47ac-990b-0f1e2dfed157",
   "metadata": {},
   "source": [
    "## Data & Model Quality Check Step"
   ]
  },
  {
   "cell_type": "code",
   "execution_count": 28,
   "id": "a9751957-3a39-476b-b770-cd0cdf505b21",
   "metadata": {
    "tags": []
   },
   "outputs": [],
   "source": [
    "GROUND_TRUTH_LOCATION = f\"{bucket}/monitoring/groundtruth\"\n",
    "DATA_QUALITY_LOCATION = f\"{bucket}/monitoring/data-quality\"\n",
    "MODEL_QUALITY_LOCATION = f\"{bucket}/monitoring/model-quality\""
   ]
  },
  {
   "cell_type": "code",
   "execution_count": 29,
   "id": "e640268c-aad8-406f-ad46-bc187a52fd95",
   "metadata": {
    "tags": []
   },
   "outputs": [],
   "source": [
    "from sagemaker.workflow.quality_check_step import (\n",
    "    QualityCheckStep,\n",
    "    DataQualityCheckConfig,\n",
    ")\n",
    "from sagemaker.workflow.check_job_config import CheckJobConfig\n",
    "from sagemaker.model_monitor.dataset_format import DatasetFormat\n",
    "\n",
    "data_quality_baseline_step = QualityCheckStep(\n",
    "    name=\"generate-data-quality-baseline\",\n",
    "    check_job_config=CheckJobConfig(\n",
    "        instance_type=\"ml.c5.xlarge\",\n",
    "        instance_count=1,\n",
    "        volume_size_in_gb=20,\n",
    "        sagemaker_session=pipeline_session,\n",
    "        role=role,\n",
    "    ),\n",
    "    quality_check_config=DataQualityCheckConfig(\n",
    "        baseline_dataset=preprocessing_step.properties.ProcessingOutputConfig.Outputs[\n",
    "            \"data-baseline\"\n",
    "        ].S3Output.S3Uri,\n",
    "        dataset_format=DatasetFormat.csv(header=True, output_columns_position=\"START\"),\n",
    "        output_s3_uri=DATA_QUALITY_LOCATION,\n",
    "    ),\n",
    "    model_package_group_name=MODEL_PACKAGE_GROUP,\n",
    "    skip_check=True,\n",
    "    register_new_baseline=True,\n",
    "    cache_config=cache_config,\n",
    ")"
   ]
  },
  {
   "cell_type": "code",
   "execution_count": 30,
   "id": "7b522439-09b2-465d-8738-b3d0371f551f",
   "metadata": {},
   "outputs": [],
   "source": [
    "from sagemaker.workflow.quality_check_step import ModelQualityCheckConfig\n",
    "\n",
    "model_quality_baseline_step = QualityCheckStep(\n",
    "    name=\"generate-model-quality-baseline\",\n",
    "    check_job_config=CheckJobConfig(\n",
    "        instance_type=\"ml.c5.xlarge\",\n",
    "        instance_count=1,\n",
    "        volume_size_in_gb=20,\n",
    "        sagemaker_session=pipeline_session,\n",
    "        role=role,\n",
    "    ),\n",
    "    quality_check_config=ModelQualityCheckConfig(\n",
    "        # We are going to use the output of the Transform Step to generate\n",
    "        # the model quality baseline.\n",
    "        baseline_dataset=evaluate_model_step.properties.ProcessingOutputConfig.Outputs[\n",
    "            \"model-baseline\"\n",
    "        ].S3Output.S3Uri,\n",
    "        dataset_format=DatasetFormat.csv(header=True),\n",
    "\n",
    "        # We need to specify the problem type and the fields where the prediction\n",
    "        # and groundtruth are so the process knows how to interpret the results.\n",
    "        problem_type=\"MulticlassClassification\",\n",
    "        \n",
    "        # Since the data doesn't have headers, SageMaker will autocreate headers for it.\n",
    "        # _c0 corresponds to the first column, and _c1 corresponds to the second column.\n",
    "        ground_truth_attribute=\"Label\",\n",
    "        inference_attribute=\"Predicted\",\n",
    "        probability_attribute=\"Confidence\",\n",
    "        output_s3_uri=MODEL_QUALITY_LOCATION,\n",
    "    ),\n",
    "    model_package_group_name=MODEL_PACKAGE_GROUP,\n",
    "    skip_check=True,\n",
    "    register_new_baseline=True,\n",
    "    cache_config=cache_config,\n",
    ")"
   ]
  },
  {
   "cell_type": "code",
   "execution_count": null,
   "id": "0b1d658f-061e-460a-a584-0022b017591b",
   "metadata": {},
   "outputs": [],
   "source": []
  },
  {
   "cell_type": "markdown",
   "id": "145d2f32-bd8e-42c9-9f13-35d7d5d0e1ba",
   "metadata": {},
   "source": [
    "## Registering Model"
   ]
  },
  {
   "cell_type": "code",
   "execution_count": 31,
   "id": "1ed2a948-af30-456b-bb7a-a69bc61ecdbd",
   "metadata": {
    "tags": []
   },
   "outputs": [
    {
     "data": {
      "text/plain": [
       "{'session': <sagemaker.workflow.pipeline_context.PipelineSession at 0x7f4b749dd4d0>,\n",
       " 'instance_type': 'ml.m5.xlarge',\n",
       " 'image': None,\n",
       " 'framework_version': '1.12',\n",
       " 'py_version': 'py38'}"
      ]
     },
     "execution_count": 31,
     "metadata": {},
     "output_type": "execute_result"
    }
   ],
   "source": [
    "config"
   ]
  },
  {
   "cell_type": "code",
   "execution_count": 32,
   "id": "8c59216d-9b89-460c-bf43-129e589f95da",
   "metadata": {
    "tags": []
   },
   "outputs": [],
   "source": [
    "MODEL_PACKAGE_GROUP = \"dogBreeds\""
   ]
  },
  {
   "cell_type": "code",
   "execution_count": null,
   "id": "d4385340-f80b-4832-ad1b-f0f6899632a9",
   "metadata": {},
   "outputs": [],
   "source": []
  },
  {
   "cell_type": "code",
   "execution_count": 112,
   "id": "41826499-bc38-43a4-8524-8b33104f63fc",
   "metadata": {
    "tags": []
   },
   "outputs": [],
   "source": [
    "from sagemaker.pytorch.model import PyTorchModel\n",
    "\n",
    "pytorch_model = PyTorchModel(\n",
    "    model_data=model_assets,\n",
    "    entry_point=\"inference.py\",\n",
    "    image_uri=config[\"image\"],\n",
    "    py_version=config[\"py_version\"],\n",
    "    framework_version=config[\"framework_version\"],\n",
    "    sagemaker_session=config[\"session\"],\n",
    "    role=role,\n",
    ")"
   ]
  },
  {
   "cell_type": "code",
   "execution_count": 113,
   "id": "2041853e-85f2-4c84-b1ed-ee817ddf5629",
   "metadata": {
    "tags": []
   },
   "outputs": [],
   "source": [
    "from sagemaker.model_metrics import ModelMetrics, MetricsSource\n",
    "from sagemaker.workflow.functions import Join\n",
    "\n",
    "# model_metrics = ModelMetrics(\n",
    "#     model_statistics=MetricsSource(\n",
    "#         s3_uri=Join(\n",
    "#             on=\"/\",\n",
    "#             values=[\n",
    "#                 evaluate_model_step.properties.ProcessingOutputConfig.Outputs[\n",
    "#                     \"evaluation\"\n",
    "#                 ].S3Output.S3Uri,\n",
    "#                 \"evaluation.json\",\n",
    "#             ],\n",
    "#         ),\n",
    "#         content_type=\"application/json\",\n",
    "#     )\n",
    "# )"
   ]
  },
  {
   "cell_type": "code",
   "execution_count": 114,
   "id": "f7238ccf-7af8-4b96-9235-16944cb40d4d",
   "metadata": {},
   "outputs": [],
   "source": [
    "from sagemaker.drift_check_baselines import DriftCheckBaselines\n",
    "\n",
    "model_metrics = ModelMetrics(\n",
    "    model_data_statistics=MetricsSource(\n",
    "        s3_uri=data_quality_baseline_step.properties.CalculatedBaselineStatistics,\n",
    "        content_type=\"application/json\",\n",
    "    ),\n",
    "    model_data_constraints=MetricsSource(\n",
    "        s3_uri=data_quality_baseline_step.properties.CalculatedBaselineConstraints,\n",
    "        content_type=\"application/json\",\n",
    "    ),\n",
    "    model_statistics=MetricsSource(\n",
    "        s3_uri=model_quality_baseline_step.properties.CalculatedBaselineStatistics,\n",
    "        content_type=\"application/json\",\n",
    "    ),\n",
    "    model_constraints=MetricsSource(\n",
    "        s3_uri=model_quality_baseline_step.properties.CalculatedBaselineConstraints,\n",
    "        content_type=\"application/json\",\n",
    "    ),\n",
    ")\n",
    "\n",
    "drift_check_baselines = DriftCheckBaselines(\n",
    "    model_data_statistics=MetricsSource(\n",
    "        s3_uri=data_quality_baseline_step.properties.BaselineUsedForDriftCheckStatistics,\n",
    "        content_type=\"application/json\",\n",
    "    ),\n",
    "    model_data_constraints=MetricsSource(\n",
    "        s3_uri=data_quality_baseline_step.properties.BaselineUsedForDriftCheckConstraints,\n",
    "        content_type=\"application/json\",\n",
    "    ),\n",
    "    model_statistics=MetricsSource(\n",
    "        s3_uri=model_quality_baseline_step.properties.BaselineUsedForDriftCheckStatistics,\n",
    "        content_type=\"application/json\",\n",
    "    ),\n",
    "    model_constraints=MetricsSource(\n",
    "        s3_uri=model_quality_baseline_step.properties.BaselineUsedForDriftCheckConstraints,\n",
    "        content_type=\"application/json\",\n",
    "    ),\n",
    ")"
   ]
  },
  {
   "cell_type": "code",
   "execution_count": 115,
   "id": "00b8d61d-bb3c-42a8-8b5c-81d5e9f2e599",
   "metadata": {
    "tags": []
   },
   "outputs": [],
   "source": [
    "from sagemaker.workflow.model_step import ModelStep\n",
    "\n",
    "register_model_step = ModelStep(\n",
    "    name=\"register-model\",\n",
    "    step_args=pytorch_model.register(\n",
    "        model_package_group_name=MODEL_PACKAGE_GROUP,\n",
    "        model_metrics=model_metrics,\n",
    "        drift_check_baselines=drift_check_baselines,\n",
    "        approval_status=\"PendingManualApproval\",\n",
    "        content_types=[\"application/json\", \"application/x-image\"],\n",
    "        response_types=[\"application/json\"],\n",
    "        inference_instances=[\"ml.m5.xlarge\"],\n",
    "        transform_instances=[\"ml.g4dn.xlarge\"],\n",
    "        domain=\"MACHINE_LEARNING\",\n",
    "        task=\"CLASSIFICATION\",\n",
    "        framework=\"PYTORCH\",\n",
    "        framework_version=config[\"framework_version\"],\n",
    "    ),\n",
    ")"
   ]
  },
  {
   "cell_type": "code",
   "execution_count": 116,
   "id": "675a678f-1cda-4ba0-a27d-d421dc5c8554",
   "metadata": {
    "tags": []
   },
   "outputs": [],
   "source": [
    "from sagemaker.workflow.parameters import ParameterFloat\n",
    "\n",
    "accuracy_threshold = ParameterFloat(name=\"accuracy_threshold\", default_value=0.50)"
   ]
  },
  {
   "cell_type": "code",
   "execution_count": 117,
   "id": "7f4e5fbe-96e7-457c-a169-c617a3b6a6fe",
   "metadata": {
    "tags": []
   },
   "outputs": [],
   "source": [
    "from sagemaker.workflow.fail_step import FailStep\n",
    "\n",
    "fail_step = FailStep(\n",
    "    name=\"fail\",\n",
    "    error_message=Join(\n",
    "        on=\" \",\n",
    "        values=[\n",
    "            \"Execution failed because the model's accuracy was lower than\",\n",
    "            accuracy_threshold,\n",
    "        ],\n",
    "    ),\n",
    ")"
   ]
  },
  {
   "cell_type": "code",
   "execution_count": 118,
   "id": "e9f72318-5b3c-4d52-96e5-ebadd7c1e8c9",
   "metadata": {
    "tags": []
   },
   "outputs": [],
   "source": [
    "from sagemaker.workflow.functions import JsonGet\n",
    "from sagemaker.workflow.conditions import ConditionGreaterThanOrEqualTo\n",
    "\n",
    "condition = ConditionGreaterThanOrEqualTo(\n",
    "    left=JsonGet(\n",
    "        step_name=evaluate_model_step.name,\n",
    "        property_file=evaluation_report,\n",
    "        json_path=\"metrics.accuracy.value\",\n",
    "    ),\n",
    "    right=accuracy_threshold,\n",
    ")"
   ]
  },
  {
   "cell_type": "code",
   "execution_count": 119,
   "id": "d3939587-06b6-450b-aaa5-e96d5420433d",
   "metadata": {
    "tags": []
   },
   "outputs": [],
   "source": [
    "from sagemaker.workflow.condition_step import ConditionStep\n",
    "\n",
    "condition_step = ConditionStep(\n",
    "    name=\"check-model-accuracy\",\n",
    "    conditions=[condition],\n",
    "    if_steps=[\n",
    "        model_quality_baseline_step, \n",
    "        register_model_step\n",
    "    ],\n",
    "    else_steps=[fail_step],\n",
    ")"
   ]
  },
  {
   "cell_type": "code",
   "execution_count": 120,
   "id": "098e6e08-08f4-42cf-b478-c47e35fb3b0c",
   "metadata": {
    "tags": []
   },
   "outputs": [],
   "source": [
    "training_pipeline = Pipeline(\n",
    "    name=\"dogBreeds-training-pipeline\",\n",
    "    parameters=[dataset_location, accuracy_threshold],\n",
    "    steps=[\n",
    "        preprocessing_step,\n",
    "        train_model_step,\n",
    "        data_quality_baseline_step,\n",
    "        evaluate_model_step,\n",
    "        condition_step,\n",
    "    ],\n",
    "    pipeline_definition_config=pipeline_definition_config,\n",
    "    sagemaker_session=config[\"session\"],\n",
    ")"
   ]
  },
  {
   "cell_type": "code",
   "execution_count": 121,
   "id": "2d8498c8-f1eb-4fdd-ad20-7f7219864018",
   "metadata": {
    "tags": []
   },
   "outputs": [
    {
     "name": "stderr",
     "output_type": "stream",
     "text": [
      "INFO:sagemaker.processing:Uploaded preprocessing to s3://pochingto-testing/dogBreeds-training-pipeline/code/af7855aa5c91b75932b386e381849af6/sourcedir.tar.gz\n",
      "INFO:sagemaker.processing:runproc.sh uploaded to s3://pochingto-testing/dogBreeds-training-pipeline/code/0c8137ea235a6debf66cba8d901e144c/runproc.sh\n"
     ]
    },
    {
     "name": "stdout",
     "output_type": "stream",
     "text": [
      "Using provided s3_resource\n",
      "Using provided s3_resource\n"
     ]
    },
    {
     "name": "stderr",
     "output_type": "stream",
     "text": [
      "INFO:sagemaker.image_uris:image_uri is not presented, retrieving image_uri based on instance_type, framework etc.\n",
      "INFO:sagemaker.processing:Uploaded evaluate to s3://pochingto-testing/dogBreeds-training-pipeline/code/4db941f04ed748882e10300736cad13a/sourcedir.tar.gz\n",
      "INFO:sagemaker.processing:runproc.sh uploaded to s3://pochingto-testing/dogBreeds-training-pipeline/code/2c207c809cb0e0e9a1d77e5247f961f9/runproc.sh\n"
     ]
    },
    {
     "name": "stdout",
     "output_type": "stream",
     "text": [
      "Using provided s3_resource\n",
      "Using provided s3_resource\n"
     ]
    },
    {
     "name": "stderr",
     "output_type": "stream",
     "text": [
      "WARNING:sagemaker.workflow._utils:Popping out 'CertifyForMarketplace' from the pipeline definition since it will be overridden in pipeline execution time.\n",
      "INFO:sagemaker.processing:Uploaded preprocessing to s3://pochingto-testing/dogBreeds-training-pipeline/code/af7855aa5c91b75932b386e381849af6/sourcedir.tar.gz\n",
      "INFO:sagemaker.processing:runproc.sh uploaded to s3://pochingto-testing/dogBreeds-training-pipeline/code/0c8137ea235a6debf66cba8d901e144c/runproc.sh\n"
     ]
    },
    {
     "name": "stdout",
     "output_type": "stream",
     "text": [
      "Using provided s3_resource\n",
      "Using provided s3_resource\n"
     ]
    },
    {
     "name": "stderr",
     "output_type": "stream",
     "text": [
      "INFO:sagemaker.image_uris:image_uri is not presented, retrieving image_uri based on instance_type, framework etc.\n",
      "INFO:sagemaker.processing:Uploaded evaluate to s3://pochingto-testing/dogBreeds-training-pipeline/code/4db941f04ed748882e10300736cad13a/sourcedir.tar.gz\n",
      "INFO:sagemaker.processing:runproc.sh uploaded to s3://pochingto-testing/dogBreeds-training-pipeline/code/2c207c809cb0e0e9a1d77e5247f961f9/runproc.sh\n"
     ]
    },
    {
     "name": "stdout",
     "output_type": "stream",
     "text": [
      "Using provided s3_resource\n",
      "Using provided s3_resource\n"
     ]
    },
    {
     "data": {
      "text/plain": [
       "{'PipelineArn': 'arn:aws:sagemaker:us-east-1:681340771742:pipeline/dogBreeds-training-pipeline',\n",
       " 'ResponseMetadata': {'RequestId': '2d57ef5c-c604-4ac9-9c70-d4a0eea332c1',\n",
       "  'HTTPStatusCode': 200,\n",
       "  'HTTPHeaders': {'x-amzn-requestid': '2d57ef5c-c604-4ac9-9c70-d4a0eea332c1',\n",
       "   'content-type': 'application/x-amz-json-1.1',\n",
       "   'content-length': '95',\n",
       "   'date': 'Tue, 21 Nov 2023 20:57:33 GMT'},\n",
       "  'RetryAttempts': 0}}"
      ]
     },
     "execution_count": 121,
     "metadata": {},
     "output_type": "execute_result"
    }
   ],
   "source": [
    "training_pipeline.upsert(role_arn=role)"
   ]
  },
  {
   "cell_type": "markdown",
   "id": "69aec151-97a9-4691-9e59-2ec16e474261",
   "metadata": {
    "tags": []
   },
   "source": [
    "# Setup lambda"
   ]
  },
  {
   "cell_type": "code",
   "execution_count": 37,
   "id": "356d8215-96ad-49a3-bb1a-24df3721313e",
   "metadata": {
    "collapsed": true,
    "jupyter": {
     "outputs_hidden": true
    },
    "tags": []
   },
   "outputs": [
    {
     "ename": "ClientError",
     "evalue": "An error occurred (AccessDenied) when calling the CreateRole operation: User: arn:aws:sts::681340771742:assumed-role/AmazonSageMaker-ExecutionRole-20230916T122655/SageMaker is not authorized to perform: iam:CreateRole on resource: arn:aws:iam::681340771742:role/lambda-deployment-role because no identity-based policy allows the iam:CreateRole action",
     "output_type": "error",
     "traceback": [
      "\u001b[0;31m---------------------------------------------------------------------------\u001b[0m",
      "\u001b[0;31mClientError\u001b[0m                               Traceback (most recent call last)",
      "Cell \u001b[0;32mIn[37], line 8\u001b[0m\n\u001b[1;32m      5\u001b[0m lambda_role_arn \u001b[38;5;241m=\u001b[39m \u001b[38;5;28;01mNone\u001b[39;00m\n\u001b[1;32m      7\u001b[0m \u001b[38;5;28;01mtry\u001b[39;00m:\n\u001b[0;32m----> 8\u001b[0m     response \u001b[38;5;241m=\u001b[39m \u001b[43miam_client\u001b[49m\u001b[38;5;241;43m.\u001b[39;49m\u001b[43mcreate_role\u001b[49m\u001b[43m(\u001b[49m\n\u001b[1;32m      9\u001b[0m \u001b[43m        \u001b[49m\u001b[43mRoleName\u001b[49m\u001b[38;5;241;43m=\u001b[39;49m\u001b[43mlambda_role_name\u001b[49m\u001b[43m,\u001b[49m\n\u001b[1;32m     10\u001b[0m \u001b[43m        \u001b[49m\u001b[43mAssumeRolePolicyDocument\u001b[49m\u001b[38;5;241;43m=\u001b[39;49m\u001b[43mjson\u001b[49m\u001b[38;5;241;43m.\u001b[39;49m\u001b[43mdumps\u001b[49m\u001b[43m(\u001b[49m\n\u001b[1;32m     11\u001b[0m \u001b[43m            \u001b[49m\u001b[43m{\u001b[49m\n\u001b[1;32m     12\u001b[0m \u001b[43m                \u001b[49m\u001b[38;5;124;43m\"\u001b[39;49m\u001b[38;5;124;43mVersion\u001b[39;49m\u001b[38;5;124;43m\"\u001b[39;49m\u001b[43m:\u001b[49m\u001b[43m \u001b[49m\u001b[38;5;124;43m\"\u001b[39;49m\u001b[38;5;124;43m2012-10-17\u001b[39;49m\u001b[38;5;124;43m\"\u001b[39;49m\u001b[43m,\u001b[49m\n\u001b[1;32m     13\u001b[0m \u001b[43m                \u001b[49m\u001b[38;5;124;43m\"\u001b[39;49m\u001b[38;5;124;43mStatement\u001b[39;49m\u001b[38;5;124;43m\"\u001b[39;49m\u001b[43m:\u001b[49m\u001b[43m \u001b[49m\u001b[43m[\u001b[49m\n\u001b[1;32m     14\u001b[0m \u001b[43m                    \u001b[49m\u001b[43m{\u001b[49m\n\u001b[1;32m     15\u001b[0m \u001b[43m                        \u001b[49m\u001b[38;5;124;43m\"\u001b[39;49m\u001b[38;5;124;43mEffect\u001b[39;49m\u001b[38;5;124;43m\"\u001b[39;49m\u001b[43m:\u001b[49m\u001b[43m \u001b[49m\u001b[38;5;124;43m\"\u001b[39;49m\u001b[38;5;124;43mAllow\u001b[39;49m\u001b[38;5;124;43m\"\u001b[39;49m\u001b[43m,\u001b[49m\n\u001b[1;32m     16\u001b[0m \u001b[43m                        \u001b[49m\u001b[38;5;124;43m\"\u001b[39;49m\u001b[38;5;124;43mPrincipal\u001b[39;49m\u001b[38;5;124;43m\"\u001b[39;49m\u001b[43m:\u001b[49m\u001b[43m \u001b[49m\u001b[43m{\u001b[49m\n\u001b[1;32m     17\u001b[0m \u001b[43m                            \u001b[49m\u001b[38;5;124;43m\"\u001b[39;49m\u001b[38;5;124;43mService\u001b[39;49m\u001b[38;5;124;43m\"\u001b[39;49m\u001b[43m:\u001b[49m\u001b[43m \u001b[49m\u001b[43m[\u001b[49m\u001b[38;5;124;43m\"\u001b[39;49m\u001b[38;5;124;43mlambda.amazonaws.com\u001b[39;49m\u001b[38;5;124;43m\"\u001b[39;49m\u001b[43m,\u001b[49m\u001b[43m \u001b[49m\u001b[38;5;124;43m\"\u001b[39;49m\u001b[38;5;124;43mevents.amazonaws.com\u001b[39;49m\u001b[38;5;124;43m\"\u001b[39;49m\u001b[43m]\u001b[49m\n\u001b[1;32m     18\u001b[0m \u001b[43m                        \u001b[49m\u001b[43m}\u001b[49m\u001b[43m,\u001b[49m\n\u001b[1;32m     19\u001b[0m \u001b[43m                        \u001b[49m\u001b[38;5;124;43m\"\u001b[39;49m\u001b[38;5;124;43mAction\u001b[39;49m\u001b[38;5;124;43m\"\u001b[39;49m\u001b[43m:\u001b[49m\u001b[43m \u001b[49m\u001b[38;5;124;43m\"\u001b[39;49m\u001b[38;5;124;43msts:AssumeRole\u001b[39;49m\u001b[38;5;124;43m\"\u001b[39;49m\u001b[43m,\u001b[49m\n\u001b[1;32m     20\u001b[0m \u001b[43m                    \u001b[49m\u001b[43m}\u001b[49m\n\u001b[1;32m     21\u001b[0m \u001b[43m                \u001b[49m\u001b[43m]\u001b[49m\u001b[43m,\u001b[49m\n\u001b[1;32m     22\u001b[0m \u001b[43m            \u001b[49m\u001b[43m}\u001b[49m\n\u001b[1;32m     23\u001b[0m \u001b[43m        \u001b[49m\u001b[43m)\u001b[49m\u001b[43m,\u001b[49m\n\u001b[1;32m     24\u001b[0m \u001b[43m        \u001b[49m\u001b[43mDescription\u001b[49m\u001b[38;5;241;43m=\u001b[39;49m\u001b[38;5;124;43m\"\u001b[39;49m\u001b[38;5;124;43mLambda Endpoint Deployment\u001b[39;49m\u001b[38;5;124;43m\"\u001b[39;49m\u001b[43m,\u001b[49m\n\u001b[1;32m     25\u001b[0m \u001b[43m    \u001b[49m\u001b[43m)\u001b[49m\n\u001b[1;32m     27\u001b[0m     lambda_role_arn \u001b[38;5;241m=\u001b[39m response[\u001b[38;5;124m\"\u001b[39m\u001b[38;5;124mRole\u001b[39m\u001b[38;5;124m\"\u001b[39m][\u001b[38;5;124m\"\u001b[39m\u001b[38;5;124mArn\u001b[39m\u001b[38;5;124m\"\u001b[39m]\n\u001b[1;32m     29\u001b[0m     iam_client\u001b[38;5;241m.\u001b[39mattach_role_policy(\n\u001b[1;32m     30\u001b[0m         PolicyArn\u001b[38;5;241m=\u001b[39m\u001b[38;5;124m\"\u001b[39m\u001b[38;5;124marn:aws:iam::aws:policy/service-role/AWSLambdaBasicExecutionRole\u001b[39m\u001b[38;5;124m\"\u001b[39m,\n\u001b[1;32m     31\u001b[0m         RoleName\u001b[38;5;241m=\u001b[39mlambda_role_name,\n\u001b[1;32m     32\u001b[0m     )\n",
      "File \u001b[0;32m/opt/conda/lib/python3.8/site-packages/botocore/client.py:535\u001b[0m, in \u001b[0;36mClientCreator._create_api_method.<locals>._api_call\u001b[0;34m(self, *args, **kwargs)\u001b[0m\n\u001b[1;32m    531\u001b[0m     \u001b[38;5;28;01mraise\u001b[39;00m \u001b[38;5;167;01mTypeError\u001b[39;00m(\n\u001b[1;32m    532\u001b[0m         \u001b[38;5;124mf\u001b[39m\u001b[38;5;124m\"\u001b[39m\u001b[38;5;132;01m{\u001b[39;00mpy_operation_name\u001b[38;5;132;01m}\u001b[39;00m\u001b[38;5;124m() only accepts keyword arguments.\u001b[39m\u001b[38;5;124m\"\u001b[39m\n\u001b[1;32m    533\u001b[0m     )\n\u001b[1;32m    534\u001b[0m \u001b[38;5;66;03m# The \"self\" in this scope is referring to the BaseClient.\u001b[39;00m\n\u001b[0;32m--> 535\u001b[0m \u001b[38;5;28;01mreturn\u001b[39;00m \u001b[38;5;28;43mself\u001b[39;49m\u001b[38;5;241;43m.\u001b[39;49m\u001b[43m_make_api_call\u001b[49m\u001b[43m(\u001b[49m\u001b[43moperation_name\u001b[49m\u001b[43m,\u001b[49m\u001b[43m \u001b[49m\u001b[43mkwargs\u001b[49m\u001b[43m)\u001b[49m\n",
      "File \u001b[0;32m/opt/conda/lib/python3.8/site-packages/botocore/client.py:980\u001b[0m, in \u001b[0;36mBaseClient._make_api_call\u001b[0;34m(self, operation_name, api_params)\u001b[0m\n\u001b[1;32m    978\u001b[0m     error_code \u001b[38;5;241m=\u001b[39m parsed_response\u001b[38;5;241m.\u001b[39mget(\u001b[38;5;124m\"\u001b[39m\u001b[38;5;124mError\u001b[39m\u001b[38;5;124m\"\u001b[39m, {})\u001b[38;5;241m.\u001b[39mget(\u001b[38;5;124m\"\u001b[39m\u001b[38;5;124mCode\u001b[39m\u001b[38;5;124m\"\u001b[39m)\n\u001b[1;32m    979\u001b[0m     error_class \u001b[38;5;241m=\u001b[39m \u001b[38;5;28mself\u001b[39m\u001b[38;5;241m.\u001b[39mexceptions\u001b[38;5;241m.\u001b[39mfrom_code(error_code)\n\u001b[0;32m--> 980\u001b[0m     \u001b[38;5;28;01mraise\u001b[39;00m error_class(parsed_response, operation_name)\n\u001b[1;32m    981\u001b[0m \u001b[38;5;28;01melse\u001b[39;00m:\n\u001b[1;32m    982\u001b[0m     \u001b[38;5;28;01mreturn\u001b[39;00m parsed_response\n",
      "\u001b[0;31mClientError\u001b[0m: An error occurred (AccessDenied) when calling the CreateRole operation: User: arn:aws:sts::681340771742:assumed-role/AmazonSageMaker-ExecutionRole-20230916T122655/SageMaker is not authorized to perform: iam:CreateRole on resource: arn:aws:iam::681340771742:role/lambda-deployment-role because no identity-based policy allows the iam:CreateRole action"
     ]
    }
   ],
   "source": [
    "# setup role for lambda to deploy endpoint\n",
    "import json\n",
    "\n",
    "lambda_role_name = \"lambda-deployment-role\"\n",
    "lambda_role_arn = None\n",
    "\n",
    "try:\n",
    "    response = iam_client.create_role(\n",
    "        RoleName=lambda_role_name,\n",
    "        AssumeRolePolicyDocument=json.dumps(\n",
    "            {\n",
    "                \"Version\": \"2012-10-17\",\n",
    "                \"Statement\": [\n",
    "                    {\n",
    "                        \"Effect\": \"Allow\",\n",
    "                        \"Principal\": {\n",
    "                            \"Service\": [\"lambda.amazonaws.com\", \"events.amazonaws.com\"]\n",
    "                        },\n",
    "                        \"Action\": \"sts:AssumeRole\",\n",
    "                    }\n",
    "                ],\n",
    "            }\n",
    "        ),\n",
    "        Description=\"Lambda Endpoint Deployment\",\n",
    "    )\n",
    "\n",
    "    lambda_role_arn = response[\"Role\"][\"Arn\"]\n",
    "\n",
    "    iam_client.attach_role_policy(\n",
    "        PolicyArn=\"arn:aws:iam::aws:policy/service-role/AWSLambdaBasicExecutionRole\",\n",
    "        RoleName=lambda_role_name,\n",
    "    )\n",
    "\n",
    "    iam_client.attach_role_policy(\n",
    "        PolicyArn=\"arn:aws:iam::aws:policy/AmazonSageMakerFullAccess\",\n",
    "        RoleName=lambda_role_name,\n",
    "    )\n",
    "\n",
    "    print(f'Role \"{lambda_role_name}\" created with ARN \"{lambda_role_arn}\".')\n",
    "except iam_client.exceptions.EntityAlreadyExistsException:\n",
    "    response = iam_client.get_role(RoleName=lambda_role_name)\n",
    "    lambda_role_arn = response[\"Role\"][\"Arn\"]\n",
    "    print(f'Role \"{lambda_role_name}\" already exists with ARN \"{lambda_role_arn}\".')"
   ]
  },
  {
   "cell_type": "code",
   "execution_count": 40,
   "id": "a55170ed-654e-4a44-97b8-a7046c29a328",
   "metadata": {
    "tags": []
   },
   "outputs": [
    {
     "data": {
      "text/plain": [
       "'pochingto-testing'"
      ]
     },
     "execution_count": 40,
     "metadata": {},
     "output_type": "execute_result"
    }
   ],
   "source": [
    "bucket"
   ]
  },
  {
   "cell_type": "code",
   "execution_count": 41,
   "id": "9aeb1cb0-db86-49ff-9ff8-46cc128102de",
   "metadata": {
    "tags": []
   },
   "outputs": [],
   "source": [
    "from sagemaker.predictor import Predictor\n",
    "\n",
    "ENDPOINT = \"dogbreeds-endpoint\"\n",
    "DATA_CAPTURE_DESTINATION = f\"{bucket}/monitoring/data-capture\""
   ]
  },
  {
   "cell_type": "code",
   "execution_count": 43,
   "id": "3030fae6-3031-4f67-b3eb-9301934bd2f1",
   "metadata": {
    "tags": []
   },
   "outputs": [
    {
     "data": {
      "text/plain": [
       "'pochingto-testing/monitoring/data-capture'"
      ]
     },
     "execution_count": 43,
     "metadata": {},
     "output_type": "execute_result"
    }
   ],
   "source": [
    "DATA_CAPTURE_DESTINATION"
   ]
  },
  {
   "cell_type": "code",
   "execution_count": 44,
   "id": "f92d5ed5-f5fd-4ce2-aec3-3aa19488bf9e",
   "metadata": {
    "tags": []
   },
   "outputs": [
    {
     "data": {
      "text/plain": [
       "'arn:aws:iam::681340771742:role/service-role/AmazonSageMaker-ExecutionRole-20230916T122655'"
      ]
     },
     "execution_count": 44,
     "metadata": {},
     "output_type": "execute_result"
    }
   ],
   "source": [
    "role"
   ]
  },
  {
   "cell_type": "code",
   "execution_count": 42,
   "id": "15934808-f487-4976-81df-bd27a3d845e1",
   "metadata": {
    "collapsed": true,
    "jupyter": {
     "outputs_hidden": true
    },
    "tags": []
   },
   "outputs": [
    {
     "ename": "ValueError",
     "evalue": "{'Message': 'User: arn:aws:sts::681340771742:assumed-role/AmazonSageMaker-ExecutionRole-20230916T122655/SageMaker is not authorized to perform: lambda:CreateFunction on resource: arn:aws:lambda:us-east-1:681340771742:function:deploy_fn because no identity-based policy allows the lambda:CreateFunction action', 'Code': 'AccessDeniedException'}",
     "output_type": "error",
     "traceback": [
      "\u001b[0;31m---------------------------------------------------------------------------\u001b[0m",
      "\u001b[0;31mClientError\u001b[0m                               Traceback (most recent call last)",
      "File \u001b[0;32m/opt/conda/lib/python3.8/site-packages/sagemaker/lambda_helper.py:136\u001b[0m, in \u001b[0;36mLambda.create\u001b[0;34m(self)\u001b[0m\n\u001b[1;32m    135\u001b[0m \u001b[38;5;28;01mtry\u001b[39;00m:\n\u001b[0;32m--> 136\u001b[0m     response \u001b[38;5;241m=\u001b[39m \u001b[43mlambda_client\u001b[49m\u001b[38;5;241;43m.\u001b[39;49m\u001b[43mcreate_function\u001b[49m\u001b[43m(\u001b[49m\n\u001b[1;32m    137\u001b[0m \u001b[43m        \u001b[49m\u001b[43mFunctionName\u001b[49m\u001b[38;5;241;43m=\u001b[39;49m\u001b[38;5;28;43mself\u001b[39;49m\u001b[38;5;241;43m.\u001b[39;49m\u001b[43mfunction_name\u001b[49m\u001b[43m,\u001b[49m\n\u001b[1;32m    138\u001b[0m \u001b[43m        \u001b[49m\u001b[43mRuntime\u001b[49m\u001b[38;5;241;43m=\u001b[39;49m\u001b[38;5;28;43mself\u001b[39;49m\u001b[38;5;241;43m.\u001b[39;49m\u001b[43mruntime\u001b[49m\u001b[43m,\u001b[49m\n\u001b[1;32m    139\u001b[0m \u001b[43m        \u001b[49m\u001b[43mHandler\u001b[49m\u001b[38;5;241;43m=\u001b[39;49m\u001b[38;5;28;43mself\u001b[39;49m\u001b[38;5;241;43m.\u001b[39;49m\u001b[43mhandler\u001b[49m\u001b[43m,\u001b[49m\n\u001b[1;32m    140\u001b[0m \u001b[43m        \u001b[49m\u001b[43mRole\u001b[49m\u001b[38;5;241;43m=\u001b[39;49m\u001b[38;5;28;43mself\u001b[39;49m\u001b[38;5;241;43m.\u001b[39;49m\u001b[43mexecution_role_arn\u001b[49m\u001b[43m,\u001b[49m\n\u001b[1;32m    141\u001b[0m \u001b[43m        \u001b[49m\u001b[43mCode\u001b[49m\u001b[38;5;241;43m=\u001b[39;49m\u001b[43mcode\u001b[49m\u001b[43m,\u001b[49m\n\u001b[1;32m    142\u001b[0m \u001b[43m        \u001b[49m\u001b[43mTimeout\u001b[49m\u001b[38;5;241;43m=\u001b[39;49m\u001b[38;5;28;43mself\u001b[39;49m\u001b[38;5;241;43m.\u001b[39;49m\u001b[43mtimeout\u001b[49m\u001b[43m,\u001b[49m\n\u001b[1;32m    143\u001b[0m \u001b[43m        \u001b[49m\u001b[43mMemorySize\u001b[49m\u001b[38;5;241;43m=\u001b[39;49m\u001b[38;5;28;43mself\u001b[39;49m\u001b[38;5;241;43m.\u001b[39;49m\u001b[43mmemory_size\u001b[49m\u001b[43m,\u001b[49m\n\u001b[1;32m    144\u001b[0m \u001b[43m        \u001b[49m\u001b[43mVpcConfig\u001b[49m\u001b[38;5;241;43m=\u001b[39;49m\u001b[38;5;28;43mself\u001b[39;49m\u001b[38;5;241;43m.\u001b[39;49m\u001b[43mvpc_config\u001b[49m\u001b[43m,\u001b[49m\n\u001b[1;32m    145\u001b[0m \u001b[43m        \u001b[49m\u001b[43mEnvironment\u001b[49m\u001b[38;5;241;43m=\u001b[39;49m\u001b[38;5;28;43mself\u001b[39;49m\u001b[38;5;241;43m.\u001b[39;49m\u001b[43menvironment\u001b[49m\u001b[43m,\u001b[49m\n\u001b[1;32m    146\u001b[0m \u001b[43m        \u001b[49m\u001b[43mLayers\u001b[49m\u001b[38;5;241;43m=\u001b[39;49m\u001b[38;5;28;43mself\u001b[39;49m\u001b[38;5;241;43m.\u001b[39;49m\u001b[43mlayers\u001b[49m\u001b[43m,\u001b[49m\n\u001b[1;32m    147\u001b[0m \u001b[43m    \u001b[49m\u001b[43m)\u001b[49m\n\u001b[1;32m    148\u001b[0m     \u001b[38;5;28;01mreturn\u001b[39;00m response\n",
      "File \u001b[0;32m/opt/conda/lib/python3.8/site-packages/botocore/client.py:535\u001b[0m, in \u001b[0;36mClientCreator._create_api_method.<locals>._api_call\u001b[0;34m(self, *args, **kwargs)\u001b[0m\n\u001b[1;32m    534\u001b[0m \u001b[38;5;66;03m# The \"self\" in this scope is referring to the BaseClient.\u001b[39;00m\n\u001b[0;32m--> 535\u001b[0m \u001b[38;5;28;01mreturn\u001b[39;00m \u001b[38;5;28;43mself\u001b[39;49m\u001b[38;5;241;43m.\u001b[39;49m\u001b[43m_make_api_call\u001b[49m\u001b[43m(\u001b[49m\u001b[43moperation_name\u001b[49m\u001b[43m,\u001b[49m\u001b[43m \u001b[49m\u001b[43mkwargs\u001b[49m\u001b[43m)\u001b[49m\n",
      "File \u001b[0;32m/opt/conda/lib/python3.8/site-packages/botocore/client.py:980\u001b[0m, in \u001b[0;36mBaseClient._make_api_call\u001b[0;34m(self, operation_name, api_params)\u001b[0m\n\u001b[1;32m    979\u001b[0m     error_class \u001b[38;5;241m=\u001b[39m \u001b[38;5;28mself\u001b[39m\u001b[38;5;241m.\u001b[39mexceptions\u001b[38;5;241m.\u001b[39mfrom_code(error_code)\n\u001b[0;32m--> 980\u001b[0m     \u001b[38;5;28;01mraise\u001b[39;00m error_class(parsed_response, operation_name)\n\u001b[1;32m    981\u001b[0m \u001b[38;5;28;01melse\u001b[39;00m:\n",
      "\u001b[0;31mClientError\u001b[0m: An error occurred (AccessDeniedException) when calling the CreateFunction operation: User: arn:aws:sts::681340771742:assumed-role/AmazonSageMaker-ExecutionRole-20230916T122655/SageMaker is not authorized to perform: lambda:CreateFunction on resource: arn:aws:lambda:us-east-1:681340771742:function:deploy_fn because no identity-based policy allows the lambda:CreateFunction action",
      "\nDuring handling of the above exception, another exception occurred:\n",
      "\u001b[0;31mValueError\u001b[0m                                Traceback (most recent call last)",
      "Cell \u001b[0;32mIn[42], line 21\u001b[0m\n\u001b[1;32m      3\u001b[0m lambda_role_arn \u001b[38;5;241m=\u001b[39m \u001b[38;5;124m\"\u001b[39m\u001b[38;5;124marn:aws:iam::681340771742:role/lambda-deployment-role\u001b[39m\u001b[38;5;124m\"\u001b[39m\n\u001b[1;32m      4\u001b[0m deploy_lambda_fn \u001b[38;5;241m=\u001b[39m Lambda(\n\u001b[1;32m      5\u001b[0m     function_name\u001b[38;5;241m=\u001b[39m\u001b[38;5;124m\"\u001b[39m\u001b[38;5;124mdeploy_fn\u001b[39m\u001b[38;5;124m\"\u001b[39m,\n\u001b[1;32m      6\u001b[0m     execution_role_arn\u001b[38;5;241m=\u001b[39mlambda_role_arn,\n\u001b[0;32m   (...)\u001b[0m\n\u001b[1;32m     18\u001b[0m     },\n\u001b[1;32m     19\u001b[0m )\n\u001b[0;32m---> 21\u001b[0m lambda_response \u001b[38;5;241m=\u001b[39m \u001b[43mdeploy_lambda_fn\u001b[49m\u001b[38;5;241;43m.\u001b[39;49m\u001b[43mupsert\u001b[49m\u001b[43m(\u001b[49m\u001b[43m)\u001b[49m\n\u001b[1;32m     22\u001b[0m lambda_response\n",
      "File \u001b[0;32m/opt/conda/lib/python3.8/site-packages/sagemaker/lambda_helper.py:211\u001b[0m, in \u001b[0;36mLambda.upsert\u001b[0;34m(self)\u001b[0m\n\u001b[1;32m    206\u001b[0m \u001b[38;5;250m\u001b[39m\u001b[38;5;124;03m\"\"\"Method to create a lambda function or update it if it already exists\u001b[39;00m\n\u001b[1;32m    207\u001b[0m \n\u001b[1;32m    208\u001b[0m \u001b[38;5;124;03mReturns: boto3 response from Lambda's methods.\u001b[39;00m\n\u001b[1;32m    209\u001b[0m \u001b[38;5;124;03m\"\"\"\u001b[39;00m\n\u001b[1;32m    210\u001b[0m \u001b[38;5;28;01mtry\u001b[39;00m:\n\u001b[0;32m--> 211\u001b[0m     \u001b[38;5;28;01mreturn\u001b[39;00m \u001b[38;5;28;43mself\u001b[39;49m\u001b[38;5;241;43m.\u001b[39;49m\u001b[43mcreate\u001b[49m\u001b[43m(\u001b[49m\u001b[43m)\u001b[49m\n\u001b[1;32m    212\u001b[0m \u001b[38;5;28;01mexcept\u001b[39;00m \u001b[38;5;167;01mValueError\u001b[39;00m \u001b[38;5;28;01mas\u001b[39;00m error:\n\u001b[1;32m    213\u001b[0m     \u001b[38;5;28;01mif\u001b[39;00m \u001b[38;5;124m\"\u001b[39m\u001b[38;5;124mResourceConflictException\u001b[39m\u001b[38;5;124m\"\u001b[39m \u001b[38;5;129;01min\u001b[39;00m \u001b[38;5;28mstr\u001b[39m(error):\n",
      "File \u001b[0;32m/opt/conda/lib/python3.8/site-packages/sagemaker/lambda_helper.py:151\u001b[0m, in \u001b[0;36mLambda.create\u001b[0;34m(self)\u001b[0m\n\u001b[1;32m    149\u001b[0m \u001b[38;5;28;01mexcept\u001b[39;00m ClientError \u001b[38;5;28;01mas\u001b[39;00m e:\n\u001b[1;32m    150\u001b[0m     error \u001b[38;5;241m=\u001b[39m e\u001b[38;5;241m.\u001b[39mresponse[\u001b[38;5;124m\"\u001b[39m\u001b[38;5;124mError\u001b[39m\u001b[38;5;124m\"\u001b[39m]\n\u001b[0;32m--> 151\u001b[0m     \u001b[38;5;28;01mraise\u001b[39;00m \u001b[38;5;167;01mValueError\u001b[39;00m(error)\n",
      "\u001b[0;31mValueError\u001b[0m: {'Message': 'User: arn:aws:sts::681340771742:assumed-role/AmazonSageMaker-ExecutionRole-20230916T122655/SageMaker is not authorized to perform: lambda:CreateFunction on resource: arn:aws:lambda:us-east-1:681340771742:function:deploy_fn because no identity-based policy allows the lambda:CreateFunction action', 'Code': 'AccessDeniedException'}"
     ]
    }
   ],
   "source": [
    "from sagemaker.lambda_helper import Lambda\n",
    "\n",
    "lambda_role_arn = \"arn:aws:iam::681340771742:role/lambda-deployment-role\"\n",
    "deploy_lambda_fn = Lambda(\n",
    "    function_name=\"deploy_fn\",\n",
    "    execution_role_arn=lambda_role_arn,\n",
    "    script=\"lambda.py\",\n",
    "    handler=\"lambda.lambda_handler\",\n",
    "    timeout=600,\n",
    "    session=sagemaker_session,\n",
    "    runtime=\"python3.11\",\n",
    "    environment={\n",
    "        \"Variables\": {\n",
    "            \"ENDPOINT\": ENDPOINT,\n",
    "            \"DATA_CAPTURE_DESTINATION\": DATA_CAPTURE_DESTINATION,\n",
    "            \"ROLE\": role,\n",
    "        }\n",
    "    },\n",
    ")\n",
    "\n",
    "lambda_response = deploy_lambda_fn.upsert()\n",
    "lambda_response"
   ]
  },
  {
   "cell_type": "markdown",
   "id": "bc94c32c-894b-49de-a57e-67053710c92a",
   "metadata": {},
   "source": [
    "## Setup Eventbridge"
   ]
  },
  {
   "cell_type": "code",
   "execution_count": 46,
   "id": "09914ec1-5353-44c0-9242-7872e9dfd65f",
   "metadata": {
    "tags": []
   },
   "outputs": [
    {
     "data": {
      "text/plain": [
       "'dogBreeds'"
      ]
     },
     "execution_count": 46,
     "metadata": {},
     "output_type": "execute_result"
    }
   ],
   "source": [
    "MODEL_PACKAGE_GROUP"
   ]
  },
  {
   "cell_type": "code",
   "execution_count": 47,
   "id": "0003d4c3-523a-403b-9a05-cfccf3a68969",
   "metadata": {
    "tags": []
   },
   "outputs": [],
   "source": [
    "event_pattern = f\"\"\"\n",
    "{{\n",
    "  \"source\": [\"aws.sagemaker\"],\n",
    "  \"detail-type\": [\"SageMaker Model Package State Change\"],\n",
    "  \"detail\": {{\n",
    "    \"ModelPackageGroupName\": [\"{MODEL_PACKAGE_GROUP}\"],\n",
    "    \"ModelApprovalStatus\": [\"Approved\"]\n",
    "  }}\n",
    "}}\n",
    "\"\"\""
   ]
  },
  {
   "cell_type": "code",
   "execution_count": 50,
   "id": "8a5ac4bc-8325-47fd-a660-735688ae0127",
   "metadata": {
    "tags": []
   },
   "outputs": [
    {
     "data": {
      "text/plain": [
       "'\\n{\\n  \"source\": [\"aws.sagemaker\"],\\n  \"detail-type\": [\"SageMaker Model Package State Change\"],\\n  \"detail\": {\\n    \"ModelPackageGroupName\": [\"dogBreeds\"],\\n    \"ModelApprovalStatus\": [\"Approved\"]\\n  }\\n}\\n'"
      ]
     },
     "execution_count": 50,
     "metadata": {},
     "output_type": "execute_result"
    }
   ],
   "source": [
    "event_pattern"
   ]
  },
  {
   "cell_type": "code",
   "execution_count": 48,
   "id": "01e3e4d0-293a-415d-bef5-ec1835b4d696",
   "metadata": {
    "tags": []
   },
   "outputs": [
    {
     "ename": "ClientError",
     "evalue": "An error occurred (AccessDeniedException) when calling the PutRule operation: User: arn:aws:sts::681340771742:assumed-role/AmazonSageMaker-ExecutionRole-20230916T122655/SageMaker is not authorized to perform: events:PutRule on resource: arn:aws:events:us-east-1:681340771742:rule/PipelineModelApprovedRule because no identity-based policy allows the events:PutRule action",
     "output_type": "error",
     "traceback": [
      "\u001b[0;31m---------------------------------------------------------------------------\u001b[0m",
      "\u001b[0;31mClientError\u001b[0m                               Traceback (most recent call last)",
      "Cell \u001b[0;32mIn[48], line 2\u001b[0m\n\u001b[1;32m      1\u001b[0m events_client \u001b[38;5;241m=\u001b[39m boto3\u001b[38;5;241m.\u001b[39mclient(\u001b[38;5;124m\"\u001b[39m\u001b[38;5;124mevents\u001b[39m\u001b[38;5;124m\"\u001b[39m)\n\u001b[0;32m----> 2\u001b[0m rule_response \u001b[38;5;241m=\u001b[39m \u001b[43mevents_client\u001b[49m\u001b[38;5;241;43m.\u001b[39;49m\u001b[43mput_rule\u001b[49m\u001b[43m(\u001b[49m\n\u001b[1;32m      3\u001b[0m \u001b[43m    \u001b[49m\u001b[43mName\u001b[49m\u001b[38;5;241;43m=\u001b[39;49m\u001b[38;5;124;43m\"\u001b[39;49m\u001b[38;5;124;43mPipelineModelApprovedRule\u001b[39;49m\u001b[38;5;124;43m\"\u001b[39;49m\u001b[43m,\u001b[49m\n\u001b[1;32m      4\u001b[0m \u001b[43m    \u001b[49m\u001b[43mEventPattern\u001b[49m\u001b[38;5;241;43m=\u001b[39;49m\u001b[43mevent_pattern\u001b[49m\u001b[43m,\u001b[49m\n\u001b[1;32m      5\u001b[0m \u001b[43m    \u001b[49m\u001b[43mState\u001b[49m\u001b[38;5;241;43m=\u001b[39;49m\u001b[38;5;124;43m\"\u001b[39;49m\u001b[38;5;124;43mENABLED\u001b[39;49m\u001b[38;5;124;43m\"\u001b[39;49m\u001b[43m,\u001b[49m\n\u001b[1;32m      6\u001b[0m \u001b[43m    \u001b[49m\u001b[43mRoleArn\u001b[49m\u001b[38;5;241;43m=\u001b[39;49m\u001b[43mrole\u001b[49m\u001b[43m,\u001b[49m\n\u001b[1;32m      7\u001b[0m \u001b[43m)\u001b[49m\n",
      "File \u001b[0;32m/opt/conda/lib/python3.8/site-packages/botocore/client.py:535\u001b[0m, in \u001b[0;36mClientCreator._create_api_method.<locals>._api_call\u001b[0;34m(self, *args, **kwargs)\u001b[0m\n\u001b[1;32m    531\u001b[0m     \u001b[38;5;28;01mraise\u001b[39;00m \u001b[38;5;167;01mTypeError\u001b[39;00m(\n\u001b[1;32m    532\u001b[0m         \u001b[38;5;124mf\u001b[39m\u001b[38;5;124m\"\u001b[39m\u001b[38;5;132;01m{\u001b[39;00mpy_operation_name\u001b[38;5;132;01m}\u001b[39;00m\u001b[38;5;124m() only accepts keyword arguments.\u001b[39m\u001b[38;5;124m\"\u001b[39m\n\u001b[1;32m    533\u001b[0m     )\n\u001b[1;32m    534\u001b[0m \u001b[38;5;66;03m# The \"self\" in this scope is referring to the BaseClient.\u001b[39;00m\n\u001b[0;32m--> 535\u001b[0m \u001b[38;5;28;01mreturn\u001b[39;00m \u001b[38;5;28;43mself\u001b[39;49m\u001b[38;5;241;43m.\u001b[39;49m\u001b[43m_make_api_call\u001b[49m\u001b[43m(\u001b[49m\u001b[43moperation_name\u001b[49m\u001b[43m,\u001b[49m\u001b[43m \u001b[49m\u001b[43mkwargs\u001b[49m\u001b[43m)\u001b[49m\n",
      "File \u001b[0;32m/opt/conda/lib/python3.8/site-packages/botocore/client.py:980\u001b[0m, in \u001b[0;36mBaseClient._make_api_call\u001b[0;34m(self, operation_name, api_params)\u001b[0m\n\u001b[1;32m    978\u001b[0m     error_code \u001b[38;5;241m=\u001b[39m parsed_response\u001b[38;5;241m.\u001b[39mget(\u001b[38;5;124m\"\u001b[39m\u001b[38;5;124mError\u001b[39m\u001b[38;5;124m\"\u001b[39m, {})\u001b[38;5;241m.\u001b[39mget(\u001b[38;5;124m\"\u001b[39m\u001b[38;5;124mCode\u001b[39m\u001b[38;5;124m\"\u001b[39m)\n\u001b[1;32m    979\u001b[0m     error_class \u001b[38;5;241m=\u001b[39m \u001b[38;5;28mself\u001b[39m\u001b[38;5;241m.\u001b[39mexceptions\u001b[38;5;241m.\u001b[39mfrom_code(error_code)\n\u001b[0;32m--> 980\u001b[0m     \u001b[38;5;28;01mraise\u001b[39;00m error_class(parsed_response, operation_name)\n\u001b[1;32m    981\u001b[0m \u001b[38;5;28;01melse\u001b[39;00m:\n\u001b[1;32m    982\u001b[0m     \u001b[38;5;28;01mreturn\u001b[39;00m parsed_response\n",
      "\u001b[0;31mClientError\u001b[0m: An error occurred (AccessDeniedException) when calling the PutRule operation: User: arn:aws:sts::681340771742:assumed-role/AmazonSageMaker-ExecutionRole-20230916T122655/SageMaker is not authorized to perform: events:PutRule on resource: arn:aws:events:us-east-1:681340771742:rule/PipelineModelApprovedRule because no identity-based policy allows the events:PutRule action"
     ]
    }
   ],
   "source": [
    "events_client = boto3.client(\"events\")\n",
    "rule_response = events_client.put_rule(\n",
    "    Name=\"PipelineModelApprovedRule\",\n",
    "    EventPattern=event_pattern,\n",
    "    State=\"ENABLED\",\n",
    "    RoleArn=role,\n",
    ")"
   ]
  },
  {
   "cell_type": "markdown",
   "id": "c364b905-d7fb-433e-a0db-3c986c6df4a6",
   "metadata": {},
   "source": [
    "# Deploy"
   ]
  },
  {
   "cell_type": "code",
   "execution_count": 4,
   "id": "30a3767a-c561-4bea-9bbb-af4fa6f34df2",
   "metadata": {
    "tags": []
   },
   "outputs": [],
   "source": [
    "bucket = \"pochingto-testing\""
   ]
  },
  {
   "cell_type": "code",
   "execution_count": 8,
   "id": "24e5f8a8-40e0-4cac-b302-abc2a437f308",
   "metadata": {
    "tags": []
   },
   "outputs": [],
   "source": [
    "from sagemaker.predictor import Predictor\n",
    "\n",
    "ENDPOINT = \"dogBreeds-endpoint\"\n",
    "DATA_CAPTURE_DESTINATION = f\"{bucket}/monitoring/data-capture\"\n",
    "MODEL_PACKAGE_GROUP = \"dogBreeds\""
   ]
  },
  {
   "cell_type": "code",
   "execution_count": 13,
   "id": "4bc6f249-2289-4821-bf66-851c82fd977e",
   "metadata": {
    "tags": []
   },
   "outputs": [
    {
     "name": "stdout",
     "output_type": "stream",
     "text": [
      "sagemaker.config INFO - Not applying SDK defaults from location: /etc/xdg/sagemaker/config.yaml\n",
      "sagemaker.config INFO - Not applying SDK defaults from location: /home/sagemaker-user/.config/sagemaker/config.yaml\n",
      "sagemaker.config INFO - Not applying SDK defaults from location: /etc/xdg/sagemaker/config.yaml\n",
      "sagemaker.config INFO - Not applying SDK defaults from location: /home/sagemaker-user/.config/sagemaker/config.yaml\n"
     ]
    }
   ],
   "source": [
    "import boto3\n",
    "import sagemaker\n",
    "\n",
    "sagemaker_client = boto3.client(\"sagemaker\")\n",
    "sagemaker_session = sagemaker.session.Session()\n",
    "role = sagemaker.get_execution_role()\n",
    "region = boto3.Session().region_name"
   ]
  },
  {
   "cell_type": "code",
   "execution_count": 14,
   "id": "7b8a455d-2531-4a55-b964-eefe59968a4c",
   "metadata": {
    "tags": []
   },
   "outputs": [
    {
     "data": {
      "text/plain": [
       "{'ModelPackageGroupName': 'dogBreeds',\n",
       " 'ModelPackageVersion': 5,\n",
       " 'ModelPackageArn': 'arn:aws:sagemaker:us-east-1:681340771742:model-package/dogBreeds/5',\n",
       " 'CreationTime': datetime.datetime(2023, 11, 3, 2, 56, 10, 102000, tzinfo=tzlocal()),\n",
       " 'ModelPackageStatus': 'Completed',\n",
       " 'ModelApprovalStatus': 'Approved'}"
      ]
     },
     "execution_count": 14,
     "metadata": {},
     "output_type": "execute_result"
    }
   ],
   "source": [
    "response = sagemaker_client.list_model_packages(\n",
    "    ModelPackageGroupName=MODEL_PACKAGE_GROUP,\n",
    "    ModelApprovalStatus=\"Approved\",\n",
    "    SortBy=\"CreationTime\",\n",
    "    MaxResults=1,\n",
    ")\n",
    "\n",
    "package = (\n",
    "    response[\"ModelPackageSummaryList\"][0]\n",
    "    if response[\"ModelPackageSummaryList\"]\n",
    "    else None\n",
    ")\n",
    "package"
   ]
  },
  {
   "cell_type": "code",
   "execution_count": 15,
   "id": "a5271f99-2e76-4958-a455-300d62b936b4",
   "metadata": {
    "tags": []
   },
   "outputs": [],
   "source": [
    "from sagemaker import ModelPackage\n",
    "\n",
    "model_package = ModelPackage(\n",
    "    model_package_arn=package[\"ModelPackageArn\"],\n",
    "    sagemaker_session=sagemaker_session,\n",
    "    role=role,\n",
    ")"
   ]
  },
  {
   "cell_type": "code",
   "execution_count": 16,
   "id": "5efc9cc5-463d-4c65-b502-917c92271bf3",
   "metadata": {
    "tags": []
   },
   "outputs": [],
   "source": [
    "# model_package.deploy(\n",
    "#     endpoint_name=ENDPOINT, \n",
    "#     initial_instance_count=1, \n",
    "#     instance_type=config[\"instance_type\"]\n",
    "# )"
   ]
  },
  {
   "cell_type": "code",
   "execution_count": 44,
   "id": "bbd412f4-e35d-4530-9c41-379420f869fe",
   "metadata": {
    "tags": []
   },
   "outputs": [
    {
     "ename": "NameError",
     "evalue": "name 'DATA_CAPTURE_LOCATION' is not defined",
     "output_type": "error",
     "traceback": [
      "\u001b[0;31m---------------------------------------------------------------------------\u001b[0m",
      "\u001b[0;31mNameError\u001b[0m                                 Traceback (most recent call last)",
      "\u001b[0;32m<ipython-input-44-466f1dd0748e>\u001b[0m in \u001b[0;36m<module>\u001b[0;34m\u001b[0m\n\u001b[0;32m----> 1\u001b[0;31m \u001b[0mDATA_CAPTURE_LOCATION\u001b[0m\u001b[0;34m\u001b[0m\u001b[0;34m\u001b[0m\u001b[0m\n\u001b[0m",
      "\u001b[0;31mNameError\u001b[0m: name 'DATA_CAPTURE_LOCATION' is not defined"
     ]
    }
   ],
   "source": [
    "DATA_CAPTURE_LOCATION"
   ]
  },
  {
   "cell_type": "code",
   "execution_count": 17,
   "id": "9fc1e180-f45f-4d22-ae94-cc6f7351895a",
   "metadata": {
    "tags": []
   },
   "outputs": [
    {
     "data": {
      "text/plain": [
       "{'EndpointConfigArn': 'arn:aws:sagemaker:us-east-1:681340771742:endpoint-config/dogbreeds-endpoint-config-1103183233',\n",
       " 'ResponseMetadata': {'RequestId': 'e58dde11-b8f3-4020-a9f3-b5fed768e9ff',\n",
       "  'HTTPStatusCode': 200,\n",
       "  'HTTPHeaders': {'x-amzn-requestid': 'e58dde11-b8f3-4020-a9f3-b5fed768e9ff',\n",
       "   'content-type': 'application/x-amz-json-1.1',\n",
       "   'content-length': '117',\n",
       "   'date': 'Fri, 03 Nov 2023 18:32:34 GMT'},\n",
       "  'RetryAttempts': 0}}"
      ]
     },
     "execution_count": 17,
     "metadata": {},
     "output_type": "execute_result"
    }
   ],
   "source": [
    "import time\n",
    "import boto3\n",
    "\n",
    "sagemaker_client = boto3.client(\"sagemaker\")\n",
    "\n",
    "endpoint_name = \"dogBreeds-endpoint\"\n",
    "data_capture_destination = DATA_CAPTURE_DESTINATION # f\"s3://{bucket}/monitoring/data-capture\"\n",
    "\n",
    "timestamp = time.strftime(\"%m%d%H%M%S\", time.localtime())\n",
    "model_name = f\"{endpoint_name}-model-{timestamp}\"\n",
    "endpoint_config_name = f\"{endpoint_name}-config-{timestamp}\"\n",
    "model_package_arn=package[\"ModelPackageArn\"]\n",
    "\n",
    "sagemaker_client.create_model(\n",
    "    ModelName=model_name, \n",
    "    ExecutionRoleArn=role, \n",
    "    Containers=[{\n",
    "        \"ModelPackageName\": model_package_arn\n",
    "    }] \n",
    ")\n",
    "sagemaker_client.create_endpoint_config(\n",
    "    EndpointConfigName=endpoint_config_name,\n",
    "    ProductionVariants=[{\n",
    "        \"ModelName\": model_name,\n",
    "        \"InstanceType\": \"ml.m5.xlarge\",\n",
    "        \"InitialVariantWeight\": 1,\n",
    "        \"InitialInstanceCount\": 1,\n",
    "        \"VariantName\": \"AllTraffic\",\n",
    "    }],\n",
    "\n",
    "    DataCaptureConfig={\n",
    "        \"EnableCapture\": True,\n",
    "        \"InitialSamplingPercentage\": 100,\n",
    "        \"DestinationS3Uri\": data_capture_destination,\n",
    "        \"CaptureOptions\": [\n",
    "            {\n",
    "                \"CaptureMode\": \"Input\"\n",
    "            },\n",
    "            {\n",
    "                \"CaptureMode\": \"Output\"\n",
    "            },\n",
    "        ],\n",
    "        \"CaptureContentTypeHeader\": {\n",
    "            \"JsonContentTypes\": [\n",
    "                \"application/json\",\n",
    "                \"application/x-image\"\n",
    "            ]\n",
    "        }\n",
    "    },\n",
    ")"
   ]
  },
  {
   "cell_type": "code",
   "execution_count": 18,
   "id": "934c9eb2-c7b2-4aa2-9129-6ba6b759239f",
   "metadata": {
    "tags": []
   },
   "outputs": [],
   "source": [
    "response = sagemaker_client.list_endpoints(NameContains=endpoint_name, MaxResults=1)\n",
    "\n",
    "if len(response[\"Endpoints\"]) == 0:\n",
    "    sagemaker_client.create_endpoint(\n",
    "        EndpointName=endpoint_name, \n",
    "        EndpointConfigName=endpoint_config_name,\n",
    "    )\n",
    "else:\n",
    "    sagemaker_client.update_endpoint(\n",
    "        EndpointName=endpoint_name, \n",
    "        EndpointConfigName=endpoint_config_name,\n",
    "    )"
   ]
  },
  {
   "cell_type": "markdown",
   "id": "6ab26fa0-b219-45b9-a161-2303e16f561f",
   "metadata": {},
   "source": [
    "## Evaluate"
   ]
  },
  {
   "cell_type": "code",
   "execution_count": 110,
   "id": "0317589a-8e53-41c1-8efb-f4c024a186aa",
   "metadata": {
    "tags": []
   },
   "outputs": [],
   "source": [
    "from PIL import Image\n",
    "import io\n",
    "import base64\n",
    "\n",
    "def load_and_preprocess_image(image_path):\n",
    "    # Load the image\n",
    "    image = Image.open(image_path)\n",
    "    # image = image.resize((224, 224))\n",
    "\n",
    "    # Convert the image to bytes\n",
    "    img_byte_arr = io.BytesIO()\n",
    "    image.save(img_byte_arr, format='JPEG')  # Adjust format if needed\n",
    "    img_byte_arr = img_byte_arr.getvalue()\n",
    "    image_data = base64.b64encode(img_byte_arr).decode('utf-8')\n",
    "\n",
    "    return image_data\n",
    "\n",
    "image_path = './test_images/chow-chow.jpg'\n",
    "image_data = load_and_preprocess_image(image_path)"
   ]
  },
  {
   "cell_type": "code",
   "execution_count": 108,
   "id": "67919a61-d2fb-4dd4-a95e-3e7b2b0f6dd2",
   "metadata": {
    "collapsed": true,
    "jupyter": {
     "outputs_hidden": true
    },
    "tags": []
   },
   "outputs": [
    {
     "data": {
      "text/plain": [
       "'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'"
      ]
     },
     "execution_count": 108,
     "metadata": {},
     "output_type": "execute_result"
    }
   ],
   "source": [
    "image_data"
   ]
  },
  {
   "cell_type": "code",
   "execution_count": 47,
   "id": "3197f1bd-02c1-40da-ac28-ebc6553c88cf",
   "metadata": {
    "tags": []
   },
   "outputs": [],
   "source": [
    "# Decode the base64 string to binary\n",
    "image_data = base64.b64decode(image_data)\n",
    "\n",
    "# Convert binary data to an image object using PIL\n",
    "image = Image.open(io.BytesIO(image_data))"
   ]
  },
  {
   "cell_type": "code",
   "execution_count": 65,
   "id": "138a4d43-bb7a-45aa-aab3-6ea986deda5f",
   "metadata": {
    "collapsed": true,
    "jupyter": {
     "outputs_hidden": true
    },
    "tags": []
   },
   "outputs": [
    {
     "data": {
      "text/plain": [
       "'{\"image_data\": \"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\"}'"
      ]
     },
     "execution_count": 65,
     "metadata": {},
     "output_type": "execute_result"
    }
   ],
   "source": [
    "# image\n",
    "import json\n",
    "json.dumps({\"image_data\": image_data})"
   ]
  },
  {
   "cell_type": "code",
   "execution_count": 111,
   "id": "cf12c2bc-bd25-46c5-b1d2-0d6d2a5c5e8e",
   "metadata": {
    "tags": []
   },
   "outputs": [
    {
     "name": "stdout",
     "output_type": "stream",
     "text": [
      "{'prediction': 'Chow_chow', 'confidence': 6.714193344116211}\n"
     ]
    }
   ],
   "source": [
    "import boto3\n",
    "import json\n",
    "\n",
    "endpoint_name = \"dogbreeds-endpoint\"\n",
    "\n",
    "client = boto3.client('sagemaker-runtime')\n",
    "\n",
    "# content_type = \"application/x-image\"\n",
    "\n",
    "# response = client.invoke_endpoint(\n",
    "#     EndpointName=endpoint_name,\n",
    "#     ContentType=content_type,\n",
    "#     Body=image_data\n",
    "# )\n",
    "\n",
    "content_type = \"application/json\"\n",
    "\n",
    "response = client.invoke_endpoint(\n",
    "    EndpointName=endpoint_name,\n",
    "    ContentType=content_type,\n",
    "    Body=json.dumps({\"image_data\": image_data})\n",
    ")\n",
    "\n",
    "# Parse the response\n",
    "response_body = response['Body'].read()\n",
    "predictions = json.loads(response_body)\n",
    "print(predictions)"
   ]
  },
  {
   "cell_type": "markdown",
   "id": "0a909841-2101-43dd-ae0b-8b10293941ef",
   "metadata": {},
   "source": [
    "# Setup Monitoring"
   ]
  },
  {
   "cell_type": "code",
   "execution_count": 10,
   "id": "f33e87b5-9f24-439c-8419-ed4be97bc9e0",
   "metadata": {
    "tags": []
   },
   "outputs": [],
   "source": [
    "from time import sleep\n",
    "from sagemaker.model_monitor import MonitoringExecution\n",
    "\n",
    "\n",
    "def describe_monitoring_schedules(endpoint_name):\n",
    "    schedules = []\n",
    "    response = sagemaker_client.list_monitoring_schedules(EndpointName=endpoint_name)[\n",
    "        \"MonitoringScheduleSummaries\"\n",
    "    ]\n",
    "    for item in response:\n",
    "        name = item[\"MonitoringScheduleName\"]\n",
    "        schedule = {\n",
    "            \"Name\": name,\n",
    "            \"Type\": item[\"MonitoringType\"],\n",
    "        }\n",
    "\n",
    "        description = sagemaker_client.describe_monitoring_schedule(\n",
    "            MonitoringScheduleName=name\n",
    "        )\n",
    "\n",
    "        schedule[\"Status\"] = description[\"MonitoringScheduleStatus\"]\n",
    "\n",
    "        last_execution_status = description[\"LastMonitoringExecutionSummary\"][\n",
    "            \"MonitoringExecutionStatus\"\n",
    "        ]\n",
    "\n",
    "        schedule[\"Last Execution Status\"] = last_execution_status\n",
    "        schedule[\"Last Execution Date\"] = str(description[\"LastMonitoringExecutionSummary\"][\"LastModifiedTime\"])\n",
    "\n",
    "        if last_execution_status == \"Failed\":\n",
    "            schedule[\"Failure Reason\"] = description[\"LastMonitoringExecutionSummary\"][\n",
    "                \"FailureReason\"\n",
    "            ]\n",
    "        elif last_execution_status == \"CompletedWithViolations\":\n",
    "            processing_job_arn = description[\"LastMonitoringExecutionSummary\"][\n",
    "                \"ProcessingJobArn\"\n",
    "            ]\n",
    "            execution = MonitoringExecution.from_processing_arn(\n",
    "                sagemaker_session=sagemaker_session,\n",
    "                processing_job_arn=processing_job_arn,\n",
    "            )\n",
    "            execution_destination = execution.output.destination\n",
    "\n",
    "            violations_filepath = os.path.join(\n",
    "                execution_destination, \"constraint_violations.json\"\n",
    "            )\n",
    "            violations = json.loads(S3Downloader.read_file(violations_filepath))[\n",
    "                \"violations\"\n",
    "            ]\n",
    "\n",
    "            schedule[\"Violations\"] = violations\n",
    "\n",
    "        schedules.append(schedule)\n",
    "\n",
    "    return schedules\n",
    "\n",
    "\n",
    "def describe_monitoring_schedule(endpoint_name, monitoring_type):\n",
    "    found = False\n",
    "\n",
    "    schedules = describe_monitoring_schedules(endpoint_name)\n",
    "    for schedule in schedules:\n",
    "        if schedule[\"Type\"] == monitoring_type:\n",
    "            found = True\n",
    "            print(json.dumps(schedule, indent=2))\n",
    "\n",
    "    if not found:\n",
    "        print(f\"There's no {monitoring_type} Monitoring Schedule.\")\n",
    "\n",
    "\n",
    "def describe_data_monitoring_schedule(endpoint_name):\n",
    "    describe_monitoring_schedule(endpoint_name, \"DataQuality\")\n",
    "\n",
    "\n",
    "def describe_model_monitoring_schedule(endpoint_name):\n",
    "    describe_monitoring_schedule(endpoint_name, \"ModelQuality\")\n",
    "\n",
    "\n",
    "def delete_monitoring_schedule(endpoint_name, monitoring_type):\n",
    "    attempts = 30\n",
    "    found = False\n",
    "\n",
    "    response = sagemaker_client.list_monitoring_schedules(EndpointName=endpoint_name)[\n",
    "        \"MonitoringScheduleSummaries\"\n",
    "    ]\n",
    "    for item in response:\n",
    "        if item[\"MonitoringType\"] == monitoring_type:\n",
    "            found = True\n",
    "            \n",
    "            summary = sagemaker_client.describe_monitoring_schedule(\n",
    "                MonitoringScheduleName=item[\"MonitoringScheduleName\"]\n",
    "            )\n",
    "            status = summary[\"MonitoringScheduleStatus\"]\n",
    "\n",
    "            if status == \"Scheduled\" and \"LastMonitoringExecutionSummary\" in summary and \"MonitoringExecutionStatus\" in summary[\"LastMonitoringExecutionSummary\"]:\n",
    "                status = summary[\"LastMonitoringExecutionSummary\"][\"MonitoringExecutionStatus\"]\n",
    "\n",
    "            while status in (\"Pending\", \"InProgress\") and attempts > 0:\n",
    "                attempts -= 1\n",
    "                print(\n",
    "                    f\"Monitoring schedule status: {status}. Waiting for it to finish.\"\n",
    "                )\n",
    "                sleep(30)\n",
    "\n",
    "                status = sagemaker_client.describe_monitoring_schedule(\n",
    "                    MonitoringScheduleName=item[\"MonitoringScheduleName\"]\n",
    "                )[\"MonitoringScheduleStatus\"]\n",
    "\n",
    "            if status not in (\"Pending\", \"InProgress\"):\n",
    "                sagemaker_client.delete_monitoring_schedule(\n",
    "                    MonitoringScheduleName=item[\"MonitoringScheduleName\"]\n",
    "                )\n",
    "                print(\"Monitoring schedule deleted.\")\n",
    "            else:\n",
    "                print(\"Waiting for monitoring schedule timed out\")\n",
    "\n",
    "    if not found:\n",
    "        print(f\"There's no {monitoring_type} Monitoring Schedule.\")\n",
    "\n",
    "\n",
    "def delete_data_monitoring_schedule(endpoint_name):\n",
    "    delete_monitoring_schedule(endpoint_name, \"DataQuality\")\n",
    "\n",
    "\n",
    "def delete_model_monitoring_schedule(endpoint_name):\n",
    "    delete_monitoring_schedule(endpoint_name, \"ModelQuality\")"
   ]
  },
  {
   "cell_type": "code",
   "execution_count": null,
   "id": "0b30cac4-4456-455c-a4f0-8651eeceec6e",
   "metadata": {},
   "outputs": [],
   "source": [
    "import json\n",
    "import numpy as np\n",
    "import io\n",
    "import base64\n",
    "\n",
    "from PIL import Image\n",
    "\n",
    "def extract_rgb_features(image_data):\n",
    "    img = Image.open(io.BytesIO(image_data))\n",
    "    width, height = img.size\n",
    "    img_array = np.array(img)\n",
    "    \n",
    "    columns = ['width', 'height', 'red_mean', 'red_std', 'green_mean', 'green_std', 'blue_mean', 'blue_std']\n",
    "    if img_array.ndim == 3:\n",
    "        red_channel = img_array[:, :, 0]\n",
    "        green_channel = img_array[:, :, 1]\n",
    "        blue_channel = img_array[:, :, 2]\n",
    "\n",
    "        red_mean, red_std = np.mean(red_channel), np.std(red_channel)\n",
    "        green_mean, green_std = np.mean(green_channel), np.std(green_channel)\n",
    "        blue_mean, blue_std = np.mean(blue_channel), np.std(blue_channel)\n",
    "\n",
    "        features = [width, height, red_mean, red_std, green_mean, green_std, blue_mean, blue_std]\n",
    "    else:\n",
    "        features = [width, height] + [-1.0] * 6\n",
    "        \n",
    "    return dict(zip(columns, features))\n",
    "\n",
    "def preprocess_handler(inference_record):\n",
    "    data = json.loads(inference_record.endpoint_input.data)\n",
    "    image_data = data[\"image_data\"]\n",
    "    image_data = base64.b64decode(image_data)\n",
    "    return extract_rgb_features(image_data)"
   ]
  },
  {
   "cell_type": "code",
   "execution_count": 58,
   "id": "2a8af58b-97bf-4bd1-bce6-54791644bbfe",
   "metadata": {
    "tags": []
   },
   "outputs": [],
   "source": [
    "import numpy as np\n",
    "import io\n",
    "\n",
    "from PIL import Image\n",
    "\n",
    "image = np.array(Image.open(io.BytesIO(image_data)))"
   ]
  },
  {
   "cell_type": "code",
   "execution_count": 59,
   "id": "7e8f3e76-d8e7-4fee-909e-5b4b53a5afcd",
   "metadata": {
    "tags": []
   },
   "outputs": [
    {
     "data": {
      "text/plain": [
       "(1470, 980, 3)"
      ]
     },
     "execution_count": 59,
     "metadata": {},
     "output_type": "execute_result"
    }
   ],
   "source": [
    "image.shape"
   ]
  },
  {
   "cell_type": "code",
   "execution_count": 62,
   "id": "e50395fd-558f-49e5-8230-61f33352022d",
   "metadata": {
    "tags": []
   },
   "outputs": [],
   "source": [
    "def extract_rgb_features(image_data):\n",
    "    img = Image.open(io.BytesIO(image_data))\n",
    "    width, height = img.size\n",
    "    img_array = np.array(img)\n",
    "    \n",
    "    columns = ['width', 'height', 'red_mean', 'red_std', 'green_mean', 'green_std', 'blue_mean', 'blue_std']\n",
    "    if img_array.ndim == 3:\n",
    "        red_channel = img_array[:, :, 0]\n",
    "        green_channel = img_array[:, :, 1]\n",
    "        blue_channel = img_array[:, :, 2]\n",
    "\n",
    "        red_mean, red_std = np.mean(red_channel), np.std(red_channel)\n",
    "        green_mean, green_std = np.mean(green_channel), np.std(green_channel)\n",
    "        blue_mean, blue_std = np.mean(blue_channel), np.std(blue_channel)\n",
    "\n",
    "        features = [width, height, red_mean, red_std, green_mean, green_std, blue_mean, blue_std]\n",
    "    else:\n",
    "        features = [width, height] + [-1.0] * 6\n",
    "        \n",
    "    return dict(zip(columns, features))"
   ]
  },
  {
   "cell_type": "code",
   "execution_count": 63,
   "id": "4f11cd6c-0ca4-4966-8e6f-2d1bc91fb509",
   "metadata": {
    "tags": []
   },
   "outputs": [
    {
     "data": {
      "text/plain": [
       "{'width': 980,\n",
       " 'height': 1470,\n",
       " 'red_mean': 143.260879494655,\n",
       " 'red_std': 81.90082719527202,\n",
       " 'green_mean': 146.8431507705123,\n",
       " 'green_std': 81.19748477605165,\n",
       " 'blue_mean': 137.0320595585173,\n",
       " 'blue_std': 89.76879514735792}"
      ]
     },
     "execution_count": 63,
     "metadata": {},
     "output_type": "execute_result"
    }
   ],
   "source": [
    "extract_rgb_features(image_data)"
   ]
  },
  {
   "cell_type": "code",
   "execution_count": 65,
   "id": "289b60ce-79cd-4f2b-a2d7-f48a72234019",
   "metadata": {
    "tags": []
   },
   "outputs": [
    {
     "data": {
      "text/plain": [
       "bytes"
      ]
     },
     "execution_count": 65,
     "metadata": {},
     "output_type": "execute_result"
    }
   ],
   "source": [
    "type(image_data)"
   ]
  },
  {
   "cell_type": "code",
   "execution_count": 67,
   "id": "01eee2d3-9ad4-419f-8d8c-67830140cb0f",
   "metadata": {
    "tags": []
   },
   "outputs": [],
   "source": [
    "import json\n",
    "\n",
    "def load_jsonl(file_path):\n",
    "    data = []\n",
    "    with open(file_path, 'r') as file:\n",
    "        for line in file:\n",
    "            # Parse each line as a JSON object\n",
    "            json_obj = json.loads(line)\n",
    "            data.append(json_obj)\n",
    "    return data\n",
    "\n",
    "# Example usage\n",
    "file_path = 'example.jsonl'\n",
    "data = load_jsonl(file_path)"
   ]
  },
  {
   "cell_type": "code",
   "execution_count": 114,
   "id": "ab6e7a67-0e61-4d4c-937b-97ef7541978a",
   "metadata": {
    "tags": []
   },
   "outputs": [],
   "source": [
    "image_binary = data[0]['captureData']['endpointInput']['data']"
   ]
  },
  {
   "cell_type": "code",
   "execution_count": 115,
   "id": "f21ae6e9-a516-4146-b9ab-9b602e4aa445",
   "metadata": {
    "collapsed": true,
    "jupyter": {
     "outputs_hidden": true
    },
    "tags": []
   },
   "outputs": [
    {
     "data": {
      "text/plain": [
       "'����\\x00\\x10JFIF\\x00\\x01\\x01\\x00\\x00\\x01\\x00\\x01\\x00\\x00��\\x00C\\x00\\x08\\x06\\x06\\x07\\x06\\x05\\x08\\x07\\x07\\x07\\t\\t\\x08\\n\\x0c\\x14\\r\\x0c\\x0b\\x0b\\x0c\\x19\\x12\\x13\\x0f\\x14\\x1d\\x1a\\x1f\\x1e\\x1d\\x1a\\x1c\\x1c $.\\' \",#\\x1c\\x1c(7),01444\\x1f\\'9=82<.342��\\x00C\\x01\\t\\t\\t\\x0c\\x0b\\x0c\\x18\\r\\r\\x182!\\x1c!22222222222222222222222222222222222222222222222222��\\x00\\x11\\x08\\x00�\\x00�\\x03\\x01\"\\x00\\x02\\x11\\x01\\x03\\x11\\x01��\\x00\\x1f\\x00\\x00\\x01\\x05\\x01\\x01\\x01\\x01\\x01\\x01\\x00\\x00\\x00\\x00\\x00\\x00\\x00\\x00\\x01\\x02\\x03\\x04\\x05\\x06\\x07\\x08\\t\\n\\x0b��\\x00�\\x10\\x00\\x02\\x01\\x03\\x03\\x02\\x04\\x03\\x05\\x05\\x04\\x04\\x00\\x00\\x01}\\x01\\x02\\x03\\x00\\x04\\x11\\x05\\x12!1A\\x06\\x13Qa\\x07\"q\\x142���\\x08#B��\\x15R��$3br�\\t\\n\\x16\\x17\\x18\\x19\\x1a%&\\'()*456789:CDEFGHIJSTUVWXYZcdefghijstuvwxyz���������������������������������������������������������������������������\\x00\\x1f\\x01\\x00\\x03\\x01\\x01\\x01\\x01\\x01\\x01\\x01\\x01\\x01\\x00\\x00\\x00\\x00\\x00\\x00\\x01\\x02\\x03\\x04\\x05\\x06\\x07\\x08\\t\\n\\x0b��\\x00�\\x11\\x00\\x02\\x01\\x02\\x04\\x04\\x03\\x04\\x07\\x05\\x04\\x04\\x00\\x01\\x02w\\x00\\x01\\x02\\x03\\x11\\x04\\x05!1\\x06\\x12AQ\\x07aq\\x13\"2�\\x08\\x14B����\\t#3R�\\x15br�\\n\\x16$4�%�\\x17\\x18\\x19\\x1a&\\'()*56789:CDEFGHIJSTUVWXYZcdefghijstuvwxyz��������������������������������������������������������������������������\\x00\\x0c\\x03\\x01\\x00\\x02\\x11\\x03\\x11\\x00?\\x00��\\x00�O�Tm�ړ\\x9fεV\"\\u07b4�e�����h�S�٧��m&\\x00x�)�d��7�+w�<\\x7fx�\\x1bKBz�Ο�����#=#e\\x1dTԠz�ҭ�5W�?�/ذx�K�J�e\\x1d�O\\\\T�.z�W>ȹ�\\x14�l���m\\x14�+,>�:�\\x07j�bQڞ#\\x15.C�_g�\"�h�k�\\x14�\\x07�.aث�\\x1c%\\x1c\\x1f�5ob�R\\x14\\x18��\\n�Gjc�FqS�eO\\x035\\x1c��\\x0cS�\\x15�Xԩ\\x08#��J�����m�p\\x06\\x05\\x17\\x15��\\x02g\\x06�6��\\x15l�s�4`�\\x0c)�\\x05�\\rf�:�)��)#$��<\\x0e��9<\\x03MM�Ȋ�ٱ�\\x00\\n���:V�\\x0c{R�&�R]Ñ\\x19�b:f�t�:1�k\\x1b\\x06��A\\x1d(��9\\x11�4�f�[P�\\n�U�Ԣ:N�c�Hϊp�\\x11�ԿkO�H��\\nj����C\\x15i&E�.}�G�O\\x17��5�Lc�Y�г�\\x1f�\\x7f:~�2}��.\\x1a�I7\\x0e+*+賃���\\x08�`+�\\n�Pk��f�R|�R�zT^j��i���gb�;��R����ލ��\\x1d�F\\x05 \\x18�A�\\x02�M�\\x16=��F\\x1d��\\t�HV�k��Y�U\\x1dI�\\n�<K�OD�#+\\x04���0S\\x14-���ҝ�\\x0b���j�}�i�Z\\x16����\\x00g��\\x05?�x���U����N�����\\x13n��=����oo$�V�wy�\\x1b�<�I��R�a���[�O���\\x1a;H���\\x1cn�\\x02����YR|yҰ7hw��̋^\\x1d��g\\x03p\\x18�\\x14��2�1�or*\\\\�5\\x1b��m��B�P�iZ�H\\x7f��l~\\x19���⟃�0?��\\x12\\x7f�L��q_4�\\x17�\\x7fy\\to|SG~�Gn��;������t=P\\x0f�k\\x16S��$˟˭j�8��_\\x190<ep݊��]߂�&��\\x19e��_��\\x16\\x1b����?�$��R\\x15�����\\x04��:>�e��_XL�� �yS�\\x1fCW�U\\x08p\\x14S\\x0eOzk�\\nq\\u058b\\x05�Kr���#\\x0ej�Q���;���G7;.\\x15���(�\\x11��U@�;��9n��C�]AI2ae\\x1b\\x1c�T�h���|�\\x07� �0�H��-\\'Ի�t/�J�\\x00�g\\x15���>��oD\\n^YV5\\x03$�b����Dj��\\x1ea�#Q�����\\x1fmY���?7�^a��UԥՖ{\\x1b��\\x14\\'�L\\x03Ǹ���w4M��o;�QK}\\x0c+�Y\\x11\\x17Վ+��\\uf29e ���x\")�F��ֲ��C��4��R��\\x0f����y�;3�S�\\x1e\\x1eҎ\\u06ddJ-��c;��\\\\�|K���~��\\x15�\\x1d���3|����k�,����Z�\\x03�\\x1cnR{W��\\x19�N�F��-��&PG�\\x06\\x0f�K��\\x1f/s˵\\x1f\\x02x�\\x00�\\x1b��5tTbs\\n�B��\\x1cW\\x03�\\x1f\\x02�^\\x1e\\\\�[\\x07���3�k\\ua8ca��\\x05�]�)\\\\�qQ�ʱ�+�?�0A���F9f$��[�ղZ_�n�|�\\x15-��c\\\\ۨ\\x1b�$�}i�\\x18�\\x0f#j��Og�\\x1d2RR5�\\x1fZ�y\\x19O�$����\\x00\\x18�qOq�֨�\\x13[��G��fPx�˷��+�\\x19����/#\\'��\\'�\\rq�p��\\x07>�U�u\\x10�[ȏ\\x7fb���*9-��}��\\x01g?�\\x1c�I8�,&6�kv\\x0f\\x02x�{T��ў�\\x17\\x19S\\x1b�q�$\\x1a�忒f\\x02I�)�RC�~��7û�:O\\x0e��t�(���ʟ�oJ\\x1c�3\\x1a����\\x18�_�Z.�nn��\\x06��D����}0��G�{2�{�\\x013\\x1e��$>��=�J�>�懘\\x00�Mi@\\x04�y���#�\\\\��4��\\x03�Y�2K\\x18\\\\gn>�\\x19A���R��iʙT�E�\\'4Ѧ���ՂĜ�C���̽@&�Ud�����3.�[\\x18\\x1a{�R(��;`\\n�5\\x7f��\\x0e�\\x1e;A%��q�1�G�k�|o��\\x1a߈.c�\\')\\x1cm�C\\x1c��\\x03�\\x00�5��\"V=��\\x0f\\x11-�P���\\x1f\\x16���\\x13K�[ @�7���\\x1e��+��5mGS�7\\x1a���1�c��\\x1d�6Y���_ر�Q�g\\'�9��RRݚF\\x11���[�\\x1clȜ{��X��\\x1aRT\\x15\\x04�\\'8�kx�^�z��\\x1cd�Y��\\'����汋�5��B\\x9b�V�1�����j\\x08b0�[\\x19\\x03�I\\x14��d�VA]�XL\\t=\\x0f\\\\W�|*�}��+��(�\\x17���k��P�\\x04\\x0e�*Ս��d�{mo*�;�\\x03����Kq����*��\"��P�2��W��\\x13��6Yj0:L�\\x06E�q�:����O\\x1a�9V\\x19\\x04T5`>d��\\x1b����F\\x11D��\\x1e�?�2?\\t[.�\\x19�wy\\x1c\\x03�z\\n�\\x1f�>\\x0c\\x1a���[��#�\\x07\\x00g=�k��_�4�e�.#a4\\x7f c�zTUU\\x1a\\\\�ڋ���Fv�a\\r�̑��*\\x7f:ʑZ0\\x18�\\x19�R2�q9id�1�qRMj�eо��[+�fd���H�\\x1eg��*3�J�ci\\x1dܾQ�Q�M�\\t�ݕ�J�bOnEv\\x1f\\x0e�;�?\\x11�\\x15�\\x03�\\x1c\\x14f�~����3Z\\x02q�85o�\\x17m��P� %��\\x06\\x7f�8K[��t�>���\\'�W(rG$t��G\\x07�o��\\x12�\\x1d���\\x18�7\\x05�\\rj���\\r�\\x1e�����9�����)��FI��\\x7f�Ap�!\\\\w�\\x17�p\\x106�?:\\x15H���%�\\x19�\\x0e��p����i/\\x07W�j?2�\\x01&�fW�:�v����O\\x0c�R\\x04ua���?Z�\\x18��\\x1b\\x1a�\\x1a^;\\x00\"l�����\\x1e\\x19�\\x08��\\x15\\\\��\\x14���\\x1a\\x15U�a�~U��\\x0cd�\\x08\\x07P��^+�=߉��\\x17��2�ѿ\\x04�Ҽ\\x12[)�ne��\\x1be��0� ��<�fm\\x17tE9�3��rsY��\\x007�*��b\\x1d��v\\x15��ű������P1\\x0b隼�\\x04)\")\\n8�\\x7f���i\\x18���w�w�\\x11��\\x12\\x01�\\x1d�\\n��W!�c���}�V\\x12\\x12F\\x0e��)�>H9�ˌ��M�yP(�V#�c�]M����\\x00%\\x7f�\\n8\\x18!�?J���+F\\n��\\t�V����푋7\\\\g嬪Ҍ�6�VTކ櫫[��ŨiS���yg�^�\\x00���\\t�\\x1d\\x11VW_�\\'\\x0c�z~\\x15�$�\\x08���\\x00\\x07N��\\x1f\\x06m�_\\x11��d\\x11\\x10wm\\x1c~5Q�,lD��.c�\\x16é\\x1dk��\\x7f��#���\\nM���\\x00��3�Wv\\x18�X�Z\\x05c�-Gྻ�;���7Q�x�&��oH�t�\\x00���X��nd ~u�ܨq�\\x15��Y[��b��$C�2.A�q3�֍�;O�\\x14�Yp�g\\x1e���ǀ�\\x1f1��©��\\x7f�y�|3c���f�\"n\\nzP��\\r$��e����]� \\r�+:x��z6�� ��T���Ӹ\\x07\\nO\\x14j/�2�\\x00�U1�Z\\x15-b}\\x07���\\x16���\\x15��*�C\\x0c�F\\x0f���]�w��\\x02\\x00�O�lv\\x16vr�$�\\tߒ�@x�\\x03�z�a\\x1dC+d\\x1e���\\x1b����迵\\x01�p*).L��\\'$VdQ�8PG֬\\x08%�3�/f��\\x15d��c̾F�d�H&ӂ�3���p\\x02Y\\t��\\rb뺼��!I�9�ZJ�*Ր�w�=i�\\x00\\x03%���J.���s���^k��M5�lev\\x18�Mh$�áǭ7I��\\x05Q_c���\\x13[�\\x02\\x11�\\u05ce���r�z����,\\t$�t�;m\\x01�Gַu\\x1f:h��N\\x07\\x7fJ�.d�&\\x0cX�^�5�⑬d��\\x0b�^\\x1ck��Cosy2�J�w,k�\\x1e�ֵ�/\\x04�ՙ�MŜ�8����r7w.�\\x0b1\\x18�M/P\\x17zyX��U��SO�M�\\x12mjy��\\x00�u�\\x0bƍbI�\\x1fj�a�\\x03��\\\\��e�ՁR\\x0f �\\x15�֗O\\x1e���ഀ���[��<�\\x7f-��W\\x7f��ޥê*2��D��)\\x06I\\x02�Д$\\x13H�\\x0e\\x0f�\"�^\\t!+�J�dR)*s]��jzDSF30�m�+���I/\\x05���[nOcYB��4�7\\x16,WL�.�E{�����.x�\\'R\\x07@+�l�/\\x1d���/\\x1f(<dצ|=X�5V�iB�F\\x07BMG���*4���9��h�w��h�|�(���܍���?�^;����K�\\x0c<�\\x0b1㨭\\x121�麏�4�9\\x00��6\\'�U�5�\\\\�I�#\\x7f.Y���5��X�b��\\\\�\\x1f܋�?��X7�л�D�\\x17<ol��\\x03g�v:���\\x035���\\x17���+\\x0f�:)�-��Z\\x7f\\x0ex\\x04�\\x00�x�\\x00���KI�Ặ��\\x07;%^�����o����!�P`P�Oz\\t<\\n�\\x00O���H�\\x19]\\x18�\\\\r?\\nŹv�F�ס����̍�G��\\x0c\\x16�&�mEJ�D��8��\\x088�Vc�ѳ���Z�a�T\\x04�\\ng�\\x00�_H�j��i\\x1a�u,\\x00���]5���K�]�\\x022��^�Lnlb�I��\\x0f\\x06�i�ՙ��N�\\rQQW�\\x15>��&�m�M��:�\\x11���\\x00Z��]&�VB\\x7f\\x1a�S�s7Q�Ww��]s�W=ym-ԦS�yϥ[wepXd�SO�\\x17�\\x0c���s^<�S���%��au��2�>X���Ǭ)�,��lu�Z�\\x0cg��t\\x1fv�y��]�8\\x1c\\n����D��h=��\\x05Q��_Z�h��4����\\t�\\t[\\x08\\x17p\\x1cf�3\\x19��&��g��X��ݔ�V��.>VP\\x17�)ʟd�h-�I\\x1djr\\x18\\x0c��\\x1d3R�)\\x07��\\x0cx\\x1cTƬ��c1a��s,�[\\x7f|�5�bm=�\\x07�\\x1d_95�\\x14��\\x19\\x18\\x1dI�U��%���\\x08̣�����U��`<�xʯC���9\\x03\\x15�j~\\x15�^��6�U\\x1ds�Q�O\\x02�\\x0e�4R�/\\x1b8뵲\\x07�]���:\\x0f\\x0cJ�n��Ͱ��������\\x0c�\\t\\x10�d���\\rfh�uŻ�E\\'p�q]A���@T8�9�W�Y�N鞕\\x15�\\x0b4s\\x1a}��S�\\x17\\x0c\\x18)<��\\x0b\\x01<�,n<�`�v�j\\x0f\\x0fH�\\x19\\x00\\x1c�(����\\x07N��o|�I \\x1f�H����\\x00:�8�W4�p���~�c��ָ���\\x08��=���|��T��z0�j�\\x7f�\\x16H�Fc\\x0c��\\x1e\\x01>��$գ\\x00��\\x1cu��\\x13���|ѭx:�C�Ou9t\\'\\x00»�>���wˑ�*�W<q_Dx�UѮ\"1\\x0c\\x16=B-y��hѢ���\\x07���*����\\x17J��\\x0bi\\x16�e}�p�w��s]�:��b�\\x16,@�\"p+�\\x10��\\x17������\\x00֫\\x02e(���Q�;�Z��5̭q&�zv�\\rd�ۉ�\\x19~a���V�㨤�\\x0f:2\\x17����3�B�N��K��)6�\\x0bd�N\\x0b)��t^\\x0e��\\x08��-�T�T��\\\\��q��_.�\\x1f���v?Z����^�ː�ϱ��S��SI�OO�ӵ\\x1cy��)˨�0ϙ���#�H؞OZ{\\x10X\\x058�\\x1e����c>H�ԟh�<h���rMK X�\\x0c����=*�L\\x08e`\\x07\\x18�o\\x14��\\x13\\x00K�>��[D�HM�*v�\\x1c\\x1e�X��B���j��\\x19cQ\"�\\x0b�B����\\x02�������2�� cВ}*Ϛ~�媓��L�2��ʿ{5b �\\\\oV\\x03ˤ\\x00��3F�s`\\x13�Z�{�fX��P�@��\\tD��`\\x0f\\x03�e�L�s��\\x1f^��\\x04Y��\\x0f�cn��7{T�\\x06�.�\\x0b��g&+q��\\x16�a�?ƸMR���\\t\\x0f��h\\'ҽ\\x03��\\x06�(tk{ͭ!��S\\'\\x1f�A��iS䏙I\\x17|G|��NѬ��\\x02��\\x03���\\x02�%��hv�o�U���o\\x19���=�{4v6�\\x1a{Cf\\x04k����1�&����\\\\�dU��g�ǩ��f����Twq\\x1bn/��c��Wif��!\\x18\\x04��\\x07j��4�o\\x0fxq�\\x14\\x06�v\\x08\\x0frǭW��i �(Ic,�,Oj�J�\\x1dt�سo`\\x12-�\\x06\\\\��hC��(�\\x01ן�l�b�خ\\x17�L\\n�k\\x10H�#�*\\x15\\x0b=Jx�քio\\x18�X�\\x15��R85��\\'��!���D<�\\x04�\\x1a�O��q��k:x�t1L��Ў��j�KK\\x1c�����l]\\x19���<�U{d �q�ֽ/[�\\x15�i!M�uQ�}+���\\n�\\x15���\\x1e��$�\\x16[\\x05a�G���\\x00fh����b��H�1Q:�\\x18\"�N�3=T���Ҭ�G�6H�#�OґfB\\n���5�d4fkQG�e<\\x12v�Z�\\x15�,\\x00���s\\u05cfΰ�\\x0b�(18�\\x07����u\\x08�\\x13\\x12��\\u07b2�\\x17(�3���N��I\\x01���ډ�%�\\x01\\x0c\\x0f\"��1,\\x03�P�v�Ҥ��>��\\x1b���Z��L�eo;�\\x1f{�N�CK��a���i�PUVA�{S\\x11<�\\ue2f9z���0&v+�/\\x19n9�P��gv(~U�\\x14ٝ�X̠)l`c�Tqr�G�c��6?�\\x1d�ۨ\\x0bi\"�^B\\x00\\\\\\x16\\x05�\\x07�d~yFS\\'lu\\x15��D�_g��\\x07�H�T&pʡ�\\x14F��\\x1cSV`O�\\x1f5�\\x0b\\x1eӵ�\\x07��dx��4�&H\\x15W�|�e>�e/v��E;\\x01�\\x1a\\x0e3\\\\O����Wu-�N\\x00�+z0��)\\x19��\\t�\\x0b�\"\\x13ݎ+����:B��-�Ñ�[��=\\x0b\\x1f�\\x15�ٰY�V\\x13+\\x13�=k�ӵse\\x0f�,���`Cl>oź����R=_Kԥh#��)\\x14��p���^@�����$\\x08|������\\x00�����\\x05ĺ���Z�\\uf7dc�H\\x1d�n�zrk�`�\\x06\\x18�b$\\x18\\x1e�\\x03��ж���&L��e�c�\\x11�\\x00��U�\\x0f�\\x15�\\x18\\x01���{U��m��\\x17�8�{�Xe\"pv�d0�z���RGG&$��\\x11O�\\x06�x\\x1d:V|\\x17D@\\x1a^\\x03\\x0f�\\x1e���\\x14��%�\\x19�+�=��\\r\\t�\\x82\\rU��H�Ԁ���Y���c�Y\\x15��\\x06W\\x07�bC�xI)qm:��[sǾ:�E\\x16\\x03r�0!i�]v\\x0f�h�\\x03��}+��4=;\\\\_��װ19\\x1b��~��k���\\x05��3\\x18\\'ܱ�,�Ĝu�Z����b�6J�$|���\\x19�;f���WI��Nn���4]?\\x1a�f�`\\n���d\\x1a�\\x15�\\\\�b��g��F\\x1b���ͺ��L]����_$`\\x1f\\x9f0�8�\\x15O\\x0e��\\x15J�\\x1d�\\x19y_�]��F��q�=�\\x1e�K��V�x[ێkH�\\x1a8k�bbK�\\t���`ymf\\r\\x1c��x\"�[�x�R��\\x11��\\x1f��\\\\��7\\x10��\\x08\\x03��8�bG\\x7f�Muo�C1P��Q]\\x1a�:���\\t8\\x07Ҽ��w���\\x0c�~�+�l]��u�0L�t�*�9e��bA\\x05������\\x13\\x1a�*\\x08U\\r��ml\\x0eO �W&�K��������V��I�0G\\x191ƅCc��z�k\\x04�|�\\x16�|Ϲ\\x1eй�j\\x17�:��]�0!A�\\x7f¬Gr/-d�\\x0ede� g\\x1c��v�|�ڭ�#��\\x05a����֑մ\\x0c!�S�I\\x14�\\x1f*\\x10X\\x0f�Kw\\x1f�e2��\\x03�Oz�k��M̋�ق�\\x14c�O֣��C�\"H\\x12#�-��1Ҝw\\x11ZI��-�\\x03`�O@?�y�����1,�I$�M�\\\\?�aBw0\\x1b�+�e(�O-]�#er�X�\\x0e����N��\\x19��\\x1b%p�\\x10˿B�\\x05b[mB\\x0b\\x1c�\\x7fj�\\uf1fa\\\\7\\x13�N�\\x0bo\\x07̻�q�F�e���/��G�[���ypv�_ƽ\\x06�%K�����N=j9\\x1b�$��J/�#�����Qc+Id��� \\x12=*[(��\\x0eO�\\x15Z[4����T��j�\\x10&\\x15=�&�p��՛\\x19R(\\x14D`u\\x19Q����,���\\x1c�to�[<�j�d\\\\�p9\\x15\\x04\\u058b2��\\x1c�j\\x00ϓL���\\x15O��T��ጳ-������@����p���\\x1f!U8�M\\x08��\\r>\\x1b9��o\\x10��\\x14�G�A��V�>�u\\x10v]�f�C�v�����;X���%�[�>�Pw���\"B���:�\\x1aA��t��\\x0c�9��\\x14�`�{卺I\\x0cn\\x06\\x18�z`֗�@\\x19P}�U�=u\\x06���[��h�&ݭ�\\x11�Yi\\x1e�;���GQJ�#�\\x05l�|�}:�k\"�\\x0by��u\\x16\\x08>�\\x15�$��\\x1e6\\x07ڳn�W�xa��U&K8mW�:m�m�Uۑ\"\\x12Gхy���_h�yL�\\x02�\\\\�=�{\\r�F�\"\\x7f-���?Z���$�����\"�+�>�\\x19��$��o��+��nH�A��L[�g\\x08\\x06Kz�J�V��\\x19�8\\x1fyO �����\\t�)\\x04yo�sҹq\\x1a����d�D��CJ��ַ�<��\\x04�Y��;�p\\x01�\\U000ec94do��\\x7f�\\x18��[��z��\\x00J�t��h��@�ڧ�\\x1atg$�q�k�{Y�\\x10�K-���\\x04\\x1b\\x19�\\x10\\'��`jN�\\x13�I#�r��˜c V�4���\\x14q���Y��Jö��\\x1aHfS�igc�\\x15V��D^�\\x10���2�ŝ����s�������\\\\�\\x0c\\x1eZ��&Ąt\\x18�͋U�/�B\\x00��\\x05\\x1c|��\\u07ba\\x0b�J��\\x14�\\x15o8���\\x19\\x18�kI]I0�s\\x17Ŗf\\x12�]��\\x11�f8�s�pyR\\x13�D�U��$7)\\x1b��m\\x19\\x1d0��A��{vx�#$��oJ�KSJqr�\\x1cU�\\t&Uc���}��ӵI���K�\\x0c���#���\\x03>��Pi�\\x07�{�$��\\x07\\x1fS^���\\tG\\x0e�\\x1a��m����\\x1f����Z\\x15��Դ\"2x���2R\\x18���@2\\x7fZ��2�*��*\\x05s�n���חl9`\\x10{\\n�\\x16=Ң�\\x1c�6R, �\\x01�HW,hc�\\x14{R���*@s\\x0f��R/\\nOn��ۖ�;\\x0e�����\\x07����Q�F\\x0fZx���M+ۿ�\\x07\\x03�_��V���\\x00lLӋ���@�d�\\x18\\x19�#�i\\x7f�#��\\x1c*l !x��]H����A:���N��$��\\x04�\\x14X�Q��0\\x05%�\\x04��V+�\\x1d\\x0fQ�NVg���;z�\\x06eŷ\\u0379IQ�mV�\\x19\\x1a,�I�\\x075��?C��T��9�$\\'�\\x0f�B@�GP���,���):\\x1f���r�:�|�M���L8�8\\x1f����\\x7f\\x10I\\x03[4�\\x16P2J�:����wU_9�YeC�]F\\rY\\x0c�UH �c��c(\\'9#���V����n��9\\x1bB��K3��\\x03�ɭ�\\x0c���Bl��F\\x08���\\x14�?�\\x15�KZ엩��{��\\x15~����\\x1ec�$�\\x07J|z��T��!UW\\x04/9$`\\x0c{\\x13��OU�l���3\\x18̒&~����Uth���{����\\x11I�\\x1bvN?\\x01\\\\6�d��X5k)���j�\"B��&8��\\x00��\\x07j̲I>�v�J~�\\x1c�(�\\x1c��W\\x1d�J�m|��m���3�#�N?��V�T�I�\\x10ۄ\\nX�\\r�\\x0fR��?�$�캂fa����ܕ\\n���,0s�\\x00�Mٽ��\\x08Y�c�K\\x0c\\x05\\x1cw�������\\x0co1\\x19\\x19}���j��u\\x12\\rBS\\x1a���\\x0eG�\\r��\\x1a�l\\x02��3/�9U �\\x00�[�\\x0f�1��v�3��F\\x06=O�W)$&�-�uh���j���!\\'%�\\x13Vt-K���p��`\\x15;\\x0f�i\\x18)G�Ҕ�es�t�9y�`�Gˑ��Ν���f\\x1c�\\x1dŏz��ܥ��S��U����o)\\x18�ZB<�Ƴ�3�\\x01�Tp:�MI\\x18����\\x1eN?\\x1aS�]Ʃ��O�߅?��*\\t\\x1f�!}���\\x08A�\\x02\\'��+ᔃ��8ɠ\\x1c�\\x07�\\x0029IʷQޕ�\\'4�Q�ïqHN9�@\\x0e�wS�z�� ���ސ�\\x0c\\x1e���3��L@F���)TmZz|�=�)�\\x08�\\x07\\x06�\\x15�\\x18,��G�Yww�#$\\x10\\x1b\\x1c�V�iY7\\'�#�5���Um1�9:�FOA�sN�\\x0b\\\\�|c�E7\\x0f\\x15��\\x13�O�8��\\x00\\n�K����NI\\x1cV��%\\x12_���,~�E��}ꖨ�+;\\x16��=N\\x05t:b\\x15��\\x16l�p�\"�\\x05�\\x1e���敋\\x00�%��\\n�ʹ�V��C\\x1aB҄k��~\\x126c���H�\\x07�cY�$@;���]y�͜\\x17\\'��\\x0f\\x0b�\\x7f\\nд��-*��\\ro\\x19\"F�\\x05�\\x8f�\\x03�5�\\x02\\x10�G\\x13�|�2�\\x1bT��\\x1d��z�Z��be��dg��H�$\\x1c�\\x01���F>��6hH��7��Ky<�[s�ܨ�\\x03�4M,Sݵ��%�&(\\x03\\x0c��9��?:�\\x7fs�\\x138��I&��@\\x00(\\x18\\x03� ���U�颲���x�II���nrO��\\x00=*y.�\\x03Zsr���I�&إ�\\x1c\\x01�\\x01��\\x00�Y�}�Y��y\\x0f�;\\x1cǞ\\x00�Io���ήb��<�`��\\x07��\\'\\'�ss��m\\x15��C$�eU�����+X�+��+2\\x1dSS�E(�\\x08�vq�^��*m+\\x10\\x08�+�H\\t\\x03�\\x0e3���Y���7A\\x12!��B\\x06c��\\x7f��[hkǆՌ�\\t\\x1a�?�\\x0f��5�\\x1b/u\\x14��^\\x00�iQ䑾U��=��\\x1fϥz\\x02>W5��\\x14�WJ��H2nX�\\x07�~\\x06\\x7fZ�h�\\x0f\\x12�x==��W-\\x17U�\\t�*\\x19$28\\x1d�ɨ听aI�5\\x0c�\\x0btY\\x18�\\x00\\x10���RP\\\\L\\x16d=��V���\\x1e�\"��e/q�x�\\x7f\\x1a��\\u074b�\\x15����4�k\\x16�T\"P\\u05cc��@��\\x7f�U\\x11�C�H\\x02�t��<s]�\\x12�J�\\x00�8\\x14��\\x08�n\\x0e\\x7f*��`�\\x1aF�J�\\x0f\\x15RI���?+r>�V\\x02U�\\x07d\\'8��H&��{\\x1e���j-&��\\x12\\x7fv�,k�e\\x19�ub�V�Eh���O\\x1f�\\x11\\x0c��\\x00y�\\x0f�ZJWW\\x03�iBa�\\x15^[��\\x00����.%�\\x17̑\\x13w;c矩�\\x00\\n�K��@A����@[\\x0e�\\x02\\x01\\x0c;W�|V�6\\x10�@�h�һMF�\\x00ȉ�6\\x01��xj�\\x1d�\\x06��qp�V��\\x1c��\\' {\\n9�����]�\\x1b���zS#�;\\x15ۣt\\x15��Y����V�]̅�]�p;��\\x05i��^\\x19�[M�k\\x07��-3\\x1f1��@�O�\\x00^����\"�=���bu+�Ey\\x07�\\x15��\\x14��99=�:O\\x1b_K&��\\x00�[�E\\x1ayJ~P�A?�\\x15�.�T��Ċ��\\x14�:\\x0c�Ǡ�M\\x04\\x17\\x1e\\'�\\r��\\t\\x1b��K\\'d\\\\��V|��<�Ζh.nnm�� \\x12!��\\x07\\x1f3����u=�b���=Մ\\n\\x0b\\x18rcC��m\\x00\\x1f�\\x17�QiQ�e\\x1d�uS�j\\x03�~�\\x10\\x0e�ObE2�xa�F�:8\\x0b\\x0c@&FA��\\x07�p\\x07�\\\\��BD�kyu��\\x1d\\x06�{\\x7f)�T\\x12�ԟc�G�YQ�1w�d�[Z��by��t\\x18Q�7�2;�4إ�/��Fa���\\x11��\\'5?��Lt�\\x00.#\\r���V\\x1d7\\x10\\t���\\x00:����c/S��h��Q!U�k�����O�x\\x15\\x05�\\x15��n�H�A��\\x18w\\n8\\x05�@O^O�j���H����=�a\\x0eOόr䞜�\\x07�\\r\\x1dLڼ\\x19A#\\x16�\\x1b��5�/a\\x1d\\x0f��\\x0e��\\\\NC*[DHl�`@�\\x00\\x1f¶�1��\\x1d�ޫ \\rkh�U���\\x07_�\\x1c\\nӲ�fм\\':!\\x0fy} R@�X��\\x035�h�\\x1c����:��@7�q�\\'8�\\\\��e�}O1����s풓��,O�9��B���\\x06��\\x1c\\x01��c^�\\x0fF�Ip��\\x11�ƃ�(��/\\x0e�m\\x0c\\x11�&�f\\x18������k�RI\\x1a\\x1dN���r��d�N#�z��\\x0fz��n&�O�I�_=�\\x03\\x07\\x00s�k\\x1d5#�b��]J�p\\x02\\x17���c�t\\x1e�\\x02���7��絎��\\x06Yg�̸�z\\x1cp��b��\\'(�\\n����!�]��%e�\\x13�9�\\x1d?\\x13T��\\x12�b\\'�M�\\x13|�\\x03��\\x11�ZzD�rFe����\\x1b!H\\'��+\\x16�R[9Y\\x1a\"��=8�\\x00�P��&ǯSҵ\\rz\\x1b�\\x18�m0/>#\\x00u\\x1b�����\\x1e#\\r�Q��\\x03c��x߅o㼜H��f�_\\x0f�ܐ��z�\\x13y\\x1a��)\\x18d��Tu�b[���(����f�n�\\x1a4\\x17s���\\x1b�I��\\x05R�u���e$\\x19e\\x05\\x153܌g�\\x07�2�K��I��H�a�q�g��ۨ��N���9Y�\\x0e�5��av�d���\\n�� c�\\x03�c\\x15~\\rQU^Ȭp\\x18�݃\\x19d=��+��\\x15��e���07)G\\x03�����\\x01����pJ�� ��\\x0f�;\\x03�j�ʬR]\\x0e���[Y_ʐ�(,H�����Yw^,�����#�\\x1e��\\x00��&��sez�c�+�Ė���-`�\\x7f�ۦ��\\x1b\\x19\\x18��o�\\x00_\\x15<�&�\\x14�I��u-R\\x7f�4ҳ�\\x17v�����/\\x15$��\\r���\\x1e�i\\x1b��\\x10��\\x1fλ=]^i�Б��k����\\x02���5��1��C�\\\\%�h~l�9,G�rOa�\\x03�\\x1eO��O{�E��_�za�\\x16��mbV3\\x04AG%�\\\\~���^�Y-!*-�����Ov�ϭz5ݹ��\\x18�̈\\x0c�Wq�j�-�q��%��ge\\x08�|�m\\x19rq���=\\t?�khTNnLw*�k��R�A\\x7f;,P�Y3�1�\\x03\\x03�ܶkM9?�4㝏��)\\x00��$\\x1f~�^k�4�\\x16�\\x0b���P��^�n`�@�q�X�9t}\\x1d�\\x0f�)�O�<���)5*���\\x04���'"
      ]
     },
     "execution_count": 115,
     "metadata": {},
     "output_type": "execute_result"
    }
   ],
   "source": [
    "image_binary"
   ]
  },
  {
   "cell_type": "code",
   "execution_count": 117,
   "id": "056db474-d99c-4f85-aff2-f31d101c4de9",
   "metadata": {
    "tags": []
   },
   "outputs": [],
   "source": [
    "import base64\n",
    "from PIL import Image\n",
    "import io\n",
    "\n",
    "def decode_image(image_binary):\n",
    "    try:\n",
    "        print(\"First few bytes (in hex):\", image_binary[:10].hex())\n",
    "        # Create a BytesIO object from the binary data\n",
    "        img_buffer = io.BytesIO(image_binary)\n",
    "        \n",
    "        # Open the image from this buffer\n",
    "        image = Image.open(img_buffer)\n",
    "\n",
    "        return image\n",
    "    except Exception as e:\n",
    "        print(f\"An error occurred: {e}\")\n",
    "        return None"
   ]
  },
  {
   "cell_type": "code",
   "execution_count": 118,
   "id": "cd1b4f27-4bda-4c7e-8271-737371109583",
   "metadata": {
    "tags": []
   },
   "outputs": [
    {
     "name": "stdout",
     "output_type": "stream",
     "text": [
      "First few bytes (in hex): efbfbdefbfbdefbfbdef\n",
      "An error occurred: cannot identify image file <_io.BytesIO object at 0x7f790f0548f0>\n"
     ]
    }
   ],
   "source": [
    "if isinstance(image_binary, str):\n",
    "    image_binary = image_binary.encode('utf-8')\n",
    "\n",
    "# Decode and load the image\n",
    "image = decode_image(image_binary)"
   ]
  },
  {
   "cell_type": "code",
   "execution_count": 93,
   "id": "03201fd3-f75d-4fe7-97da-4e45c0da4668",
   "metadata": {
    "tags": []
   },
   "outputs": [
    {
     "data": {
      "text/plain": [
       "bytes"
      ]
     },
     "execution_count": 93,
     "metadata": {},
     "output_type": "execute_result"
    }
   ],
   "source": [
    "type(image)"
   ]
  },
  {
   "cell_type": "code",
   "execution_count": 98,
   "id": "bfd2b706-3ada-4b97-b248-f2cad71626a5",
   "metadata": {
    "tags": []
   },
   "outputs": [
    {
     "data": {
      "text/plain": [
       "b'$R\\x05\\x0b\\xbd5\\xe3\\x8e=\\xf3m\\xf8\\xd8-\\xb6\\xdbm\\xb6\\xdbm\\xb6\\xdbm\\xb6\\xdbm\\xb6\\xdbm\\xb6\\xdbm\\xb6\\xdbm\\xb6\\xdbm\\xb6\\xdbm\\xb6\\xdbm\\xb6\\xdbm\\xb6\\xdbm\\xb6\\xdbP\\x10j\\xad\\x81Gv\\xeb\\xe3\\x9e\\xbb\\xf3\\xd0\\x83\\x10Q\\x87 \\x94\\x93QU\\x97a\\x97\\x1dy\\xf8!\\x8a;-\\xba\\xfc1\\xcb<5\\x01\\x06\\xaa\\xd8\\x1d\\xd1n\\xbe9\\xeb\\xbf=\\x081\\x05\\x18r\\tI5\\x15Yv\\x19q\\xd7\\x9f\\x82\\x18\\xa3\\xb2\\xdb\\xaf\\xc3\\x1c\\xb399\\x95z\\x14\\xa6\\xc5\\xde\\xfe\\xc3\\x12\\x81\\xcd\\xe4\\xf3\\xe5o\\xf1(\\x97\\x8eO5\\xa5\\x9b\\xe8\\xdb@(!\\x91\\xaehm\\x11\\xa3pZ\\x92x\\xeeR\\\\\\x99\\xa9\\x83\\xa9l\\xe1\\xffL1TQm\\xfbu\\x90\\x0fx|\\xf5\\rpzd8x\\xc2\\x88A\\x8e\\xe4\\xb7\\x18\\xd8\\x8e\\xfe\\xfb\\xe3\\xe4}\\x14sN8\\xa0m\\x11@0Q\\xd5\\x91\\x85\\x08(\\xe0\\xfe\\xd1(\\xe2f\\x0cT6z(W\\x0c\\x88E\\xa3\\x87\\x9d\\x84r\\xee\\x1c \\xa7mh\\xaf\\x99\\x81>&G\\x97B\\xea\\xe3*\\x12\\x18i\\xed>D\\xa3\\xf3G\\xa9y\\x17\\x97/$\\x82YJR;9**\\xb8\\xd0\\x1b\\xb5=\\x9c \\x08\\xd9\\xa7\\x93\\x87A\\xed\\xfc\\x98(\\r\\x85yl8\\xdaBf;iB\\xf0\\xe0\\xca\\x10+\\xe6>\\xc4P\\xb8G-\\xd2%\\xc2\\xb7\\x91\\x99\\xd1X\\xd1O\\x18\\xaf\\xec\\xc7\\x9bSn\\xc0V\\xdeJ\\x90\\xfb@\\x05\\xf5\\xf6gr(\\xce\\x83dQ\\xe5\\x9c\\x8e\\xa8\\xea\\x86|\\xfc~\\xfe\\xaaT\\xb9\\xbf`#\\xce\\xa4\\xbf\\x14\\xd2\\xa9\\xf2\\x11\\x0b\\xb3\\xad\\xa0\\x9d\\xd9\\x9ep\\xf4\\x1bm'"
      ]
     },
     "execution_count": 98,
     "metadata": {},
     "output_type": "execute_result"
    }
   ],
   "source": [
    "image"
   ]
  },
  {
   "cell_type": "code",
   "execution_count": 96,
   "id": "509ea814-de4f-4d33-9c98-166b69b54365",
   "metadata": {
    "tags": []
   },
   "outputs": [
    {
     "ename": "UnidentifiedImageError",
     "evalue": "cannot identify image file <_io.BytesIO object at 0x7f791432cdd0>",
     "output_type": "error",
     "traceback": [
      "\u001b[0;31m---------------------------------------------------------------------------\u001b[0m",
      "\u001b[0;31mUnidentifiedImageError\u001b[0m                    Traceback (most recent call last)",
      "\u001b[0;32m<ipython-input-96-80e5a21d83ab>\u001b[0m in \u001b[0;36m<module>\u001b[0;34m\u001b[0m\n\u001b[0;32m----> 1\u001b[0;31m \u001b[0mextract_rgb_features\u001b[0m\u001b[0;34m(\u001b[0m\u001b[0mimage\u001b[0m\u001b[0;34m)\u001b[0m\u001b[0;34m\u001b[0m\u001b[0;34m\u001b[0m\u001b[0m\n\u001b[0m",
      "\u001b[0;32m<ipython-input-62-7db8a46b96cd>\u001b[0m in \u001b[0;36mextract_rgb_features\u001b[0;34m(image_data)\u001b[0m\n\u001b[1;32m      1\u001b[0m \u001b[0;32mdef\u001b[0m \u001b[0mextract_rgb_features\u001b[0m\u001b[0;34m(\u001b[0m\u001b[0mimage_data\u001b[0m\u001b[0;34m)\u001b[0m\u001b[0;34m:\u001b[0m\u001b[0;34m\u001b[0m\u001b[0;34m\u001b[0m\u001b[0m\n\u001b[0;32m----> 2\u001b[0;31m     \u001b[0mimg\u001b[0m \u001b[0;34m=\u001b[0m \u001b[0mImage\u001b[0m\u001b[0;34m.\u001b[0m\u001b[0mopen\u001b[0m\u001b[0;34m(\u001b[0m\u001b[0mio\u001b[0m\u001b[0;34m.\u001b[0m\u001b[0mBytesIO\u001b[0m\u001b[0;34m(\u001b[0m\u001b[0mimage_data\u001b[0m\u001b[0;34m)\u001b[0m\u001b[0;34m)\u001b[0m\u001b[0;34m\u001b[0m\u001b[0;34m\u001b[0m\u001b[0m\n\u001b[0m\u001b[1;32m      3\u001b[0m     \u001b[0mwidth\u001b[0m\u001b[0;34m,\u001b[0m \u001b[0mheight\u001b[0m \u001b[0;34m=\u001b[0m \u001b[0mimg\u001b[0m\u001b[0;34m.\u001b[0m\u001b[0msize\u001b[0m\u001b[0;34m\u001b[0m\u001b[0;34m\u001b[0m\u001b[0m\n\u001b[1;32m      4\u001b[0m     \u001b[0mimg_array\u001b[0m \u001b[0;34m=\u001b[0m \u001b[0mnp\u001b[0m\u001b[0;34m.\u001b[0m\u001b[0marray\u001b[0m\u001b[0;34m(\u001b[0m\u001b[0mimg\u001b[0m\u001b[0;34m)\u001b[0m\u001b[0;34m\u001b[0m\u001b[0;34m\u001b[0m\u001b[0m\n\u001b[1;32m      5\u001b[0m \u001b[0;34m\u001b[0m\u001b[0m\n",
      "\u001b[0;32m/opt/conda/lib/python3.7/site-packages/PIL/Image.py\u001b[0m in \u001b[0;36mopen\u001b[0;34m(fp, mode, formats)\u001b[0m\n\u001b[1;32m   3296\u001b[0m         \u001b[0mwarnings\u001b[0m\u001b[0;34m.\u001b[0m\u001b[0mwarn\u001b[0m\u001b[0;34m(\u001b[0m\u001b[0mmessage\u001b[0m\u001b[0;34m)\u001b[0m\u001b[0;34m\u001b[0m\u001b[0;34m\u001b[0m\u001b[0m\n\u001b[1;32m   3297\u001b[0m     \u001b[0mmsg\u001b[0m \u001b[0;34m=\u001b[0m \u001b[0;34m\"cannot identify image file %r\"\u001b[0m \u001b[0;34m%\u001b[0m \u001b[0;34m(\u001b[0m\u001b[0mfilename\u001b[0m \u001b[0;32mif\u001b[0m \u001b[0mfilename\u001b[0m \u001b[0;32melse\u001b[0m \u001b[0mfp\u001b[0m\u001b[0;34m)\u001b[0m\u001b[0;34m\u001b[0m\u001b[0;34m\u001b[0m\u001b[0m\n\u001b[0;32m-> 3298\u001b[0;31m     \u001b[0;32mraise\u001b[0m \u001b[0mUnidentifiedImageError\u001b[0m\u001b[0;34m(\u001b[0m\u001b[0mmsg\u001b[0m\u001b[0;34m)\u001b[0m\u001b[0;34m\u001b[0m\u001b[0;34m\u001b[0m\u001b[0m\n\u001b[0m\u001b[1;32m   3299\u001b[0m \u001b[0;34m\u001b[0m\u001b[0m\n\u001b[1;32m   3300\u001b[0m \u001b[0;34m\u001b[0m\u001b[0m\n",
      "\u001b[0;31mUnidentifiedImageError\u001b[0m: cannot identify image file <_io.BytesIO object at 0x7f791432cdd0>"
     ]
    }
   ],
   "source": [
    "extract_rgb_features(image)"
   ]
  },
  {
   "cell_type": "code",
   "execution_count": 101,
   "id": "72b37abb-271f-4df4-8177-a11a2ad38262",
   "metadata": {
    "tags": []
   },
   "outputs": [
    {
     "data": {
      "text/plain": [
       "168025"
      ]
     },
     "execution_count": 101,
     "metadata": {},
     "output_type": "execute_result"
    }
   ],
   "source": [
    "len(image_data)"
   ]
  },
  {
   "cell_type": "code",
   "execution_count": 104,
   "id": "4ef3b007-6cd8-4e1c-8c0f-589ccf65619d",
   "metadata": {
    "tags": []
   },
   "outputs": [
    {
     "ename": "AttributeError",
     "evalue": "'str' object has no attribute 'hex'",
     "output_type": "error",
     "traceback": [
      "\u001b[0;31m---------------------------------------------------------------------------\u001b[0m",
      "\u001b[0;31mAttributeError\u001b[0m                            Traceback (most recent call last)",
      "\u001b[0;32m<ipython-input-104-22f4d73ea745>\u001b[0m in \u001b[0;36m<module>\u001b[0;34m\u001b[0m\n\u001b[0;32m----> 1\u001b[0;31m \u001b[0mimage_base64\u001b[0m\u001b[0;34m[\u001b[0m\u001b[0;34m:\u001b[0m\u001b[0;36m10\u001b[0m\u001b[0;34m]\u001b[0m\u001b[0;34m.\u001b[0m\u001b[0mhex\u001b[0m\u001b[0;34m(\u001b[0m\u001b[0;34m)\u001b[0m\u001b[0;34m\u001b[0m\u001b[0;34m\u001b[0m\u001b[0m\n\u001b[0m",
      "\u001b[0;31mAttributeError\u001b[0m: 'str' object has no attribute 'hex'"
     ]
    }
   ],
   "source": [
    "image_base64[:10].hex()"
   ]
  },
  {
   "cell_type": "code",
   "execution_count": null,
   "id": "f0ffbfe3-610b-4ac8-8914-fd381f89c934",
   "metadata": {},
   "outputs": [],
   "source": []
  }
 ],
 "metadata": {
  "availableInstances": [
   {
    "_defaultOrder": 0,
    "_isFastLaunch": true,
    "category": "General purpose",
    "gpuNum": 0,
    "hideHardwareSpecs": false,
    "memoryGiB": 4,
    "name": "ml.t3.medium",
    "vcpuNum": 2
   },
   {
    "_defaultOrder": 1,
    "_isFastLaunch": false,
    "category": "General purpose",
    "gpuNum": 0,
    "hideHardwareSpecs": false,
    "memoryGiB": 8,
    "name": "ml.t3.large",
    "vcpuNum": 2
   },
   {
    "_defaultOrder": 2,
    "_isFastLaunch": false,
    "category": "General purpose",
    "gpuNum": 0,
    "hideHardwareSpecs": false,
    "memoryGiB": 16,
    "name": "ml.t3.xlarge",
    "vcpuNum": 4
   },
   {
    "_defaultOrder": 3,
    "_isFastLaunch": false,
    "category": "General purpose",
    "gpuNum": 0,
    "hideHardwareSpecs": false,
    "memoryGiB": 32,
    "name": "ml.t3.2xlarge",
    "vcpuNum": 8
   },
   {
    "_defaultOrder": 4,
    "_isFastLaunch": true,
    "category": "General purpose",
    "gpuNum": 0,
    "hideHardwareSpecs": false,
    "memoryGiB": 8,
    "name": "ml.m5.large",
    "vcpuNum": 2
   },
   {
    "_defaultOrder": 5,
    "_isFastLaunch": false,
    "category": "General purpose",
    "gpuNum": 0,
    "hideHardwareSpecs": false,
    "memoryGiB": 16,
    "name": "ml.m5.xlarge",
    "vcpuNum": 4
   },
   {
    "_defaultOrder": 6,
    "_isFastLaunch": false,
    "category": "General purpose",
    "gpuNum": 0,
    "hideHardwareSpecs": false,
    "memoryGiB": 32,
    "name": "ml.m5.2xlarge",
    "vcpuNum": 8
   },
   {
    "_defaultOrder": 7,
    "_isFastLaunch": false,
    "category": "General purpose",
    "gpuNum": 0,
    "hideHardwareSpecs": false,
    "memoryGiB": 64,
    "name": "ml.m5.4xlarge",
    "vcpuNum": 16
   },
   {
    "_defaultOrder": 8,
    "_isFastLaunch": false,
    "category": "General purpose",
    "gpuNum": 0,
    "hideHardwareSpecs": false,
    "memoryGiB": 128,
    "name": "ml.m5.8xlarge",
    "vcpuNum": 32
   },
   {
    "_defaultOrder": 9,
    "_isFastLaunch": false,
    "category": "General purpose",
    "gpuNum": 0,
    "hideHardwareSpecs": false,
    "memoryGiB": 192,
    "name": "ml.m5.12xlarge",
    "vcpuNum": 48
   },
   {
    "_defaultOrder": 10,
    "_isFastLaunch": false,
    "category": "General purpose",
    "gpuNum": 0,
    "hideHardwareSpecs": false,
    "memoryGiB": 256,
    "name": "ml.m5.16xlarge",
    "vcpuNum": 64
   },
   {
    "_defaultOrder": 11,
    "_isFastLaunch": false,
    "category": "General purpose",
    "gpuNum": 0,
    "hideHardwareSpecs": false,
    "memoryGiB": 384,
    "name": "ml.m5.24xlarge",
    "vcpuNum": 96
   },
   {
    "_defaultOrder": 12,
    "_isFastLaunch": false,
    "category": "General purpose",
    "gpuNum": 0,
    "hideHardwareSpecs": false,
    "memoryGiB": 8,
    "name": "ml.m5d.large",
    "vcpuNum": 2
   },
   {
    "_defaultOrder": 13,
    "_isFastLaunch": false,
    "category": "General purpose",
    "gpuNum": 0,
    "hideHardwareSpecs": false,
    "memoryGiB": 16,
    "name": "ml.m5d.xlarge",
    "vcpuNum": 4
   },
   {
    "_defaultOrder": 14,
    "_isFastLaunch": false,
    "category": "General purpose",
    "gpuNum": 0,
    "hideHardwareSpecs": false,
    "memoryGiB": 32,
    "name": "ml.m5d.2xlarge",
    "vcpuNum": 8
   },
   {
    "_defaultOrder": 15,
    "_isFastLaunch": false,
    "category": "General purpose",
    "gpuNum": 0,
    "hideHardwareSpecs": false,
    "memoryGiB": 64,
    "name": "ml.m5d.4xlarge",
    "vcpuNum": 16
   },
   {
    "_defaultOrder": 16,
    "_isFastLaunch": false,
    "category": "General purpose",
    "gpuNum": 0,
    "hideHardwareSpecs": false,
    "memoryGiB": 128,
    "name": "ml.m5d.8xlarge",
    "vcpuNum": 32
   },
   {
    "_defaultOrder": 17,
    "_isFastLaunch": false,
    "category": "General purpose",
    "gpuNum": 0,
    "hideHardwareSpecs": false,
    "memoryGiB": 192,
    "name": "ml.m5d.12xlarge",
    "vcpuNum": 48
   },
   {
    "_defaultOrder": 18,
    "_isFastLaunch": false,
    "category": "General purpose",
    "gpuNum": 0,
    "hideHardwareSpecs": false,
    "memoryGiB": 256,
    "name": "ml.m5d.16xlarge",
    "vcpuNum": 64
   },
   {
    "_defaultOrder": 19,
    "_isFastLaunch": false,
    "category": "General purpose",
    "gpuNum": 0,
    "hideHardwareSpecs": false,
    "memoryGiB": 384,
    "name": "ml.m5d.24xlarge",
    "vcpuNum": 96
   },
   {
    "_defaultOrder": 20,
    "_isFastLaunch": false,
    "category": "General purpose",
    "gpuNum": 0,
    "hideHardwareSpecs": true,
    "memoryGiB": 0,
    "name": "ml.geospatial.interactive",
    "supportedImageNames": [
     "sagemaker-geospatial-v1-0"
    ],
    "vcpuNum": 0
   },
   {
    "_defaultOrder": 21,
    "_isFastLaunch": true,
    "category": "Compute optimized",
    "gpuNum": 0,
    "hideHardwareSpecs": false,
    "memoryGiB": 4,
    "name": "ml.c5.large",
    "vcpuNum": 2
   },
   {
    "_defaultOrder": 22,
    "_isFastLaunch": false,
    "category": "Compute optimized",
    "gpuNum": 0,
    "hideHardwareSpecs": false,
    "memoryGiB": 8,
    "name": "ml.c5.xlarge",
    "vcpuNum": 4
   },
   {
    "_defaultOrder": 23,
    "_isFastLaunch": false,
    "category": "Compute optimized",
    "gpuNum": 0,
    "hideHardwareSpecs": false,
    "memoryGiB": 16,
    "name": "ml.c5.2xlarge",
    "vcpuNum": 8
   },
   {
    "_defaultOrder": 24,
    "_isFastLaunch": false,
    "category": "Compute optimized",
    "gpuNum": 0,
    "hideHardwareSpecs": false,
    "memoryGiB": 32,
    "name": "ml.c5.4xlarge",
    "vcpuNum": 16
   },
   {
    "_defaultOrder": 25,
    "_isFastLaunch": false,
    "category": "Compute optimized",
    "gpuNum": 0,
    "hideHardwareSpecs": false,
    "memoryGiB": 72,
    "name": "ml.c5.9xlarge",
    "vcpuNum": 36
   },
   {
    "_defaultOrder": 26,
    "_isFastLaunch": false,
    "category": "Compute optimized",
    "gpuNum": 0,
    "hideHardwareSpecs": false,
    "memoryGiB": 96,
    "name": "ml.c5.12xlarge",
    "vcpuNum": 48
   },
   {
    "_defaultOrder": 27,
    "_isFastLaunch": false,
    "category": "Compute optimized",
    "gpuNum": 0,
    "hideHardwareSpecs": false,
    "memoryGiB": 144,
    "name": "ml.c5.18xlarge",
    "vcpuNum": 72
   },
   {
    "_defaultOrder": 28,
    "_isFastLaunch": false,
    "category": "Compute optimized",
    "gpuNum": 0,
    "hideHardwareSpecs": false,
    "memoryGiB": 192,
    "name": "ml.c5.24xlarge",
    "vcpuNum": 96
   },
   {
    "_defaultOrder": 29,
    "_isFastLaunch": true,
    "category": "Accelerated computing",
    "gpuNum": 1,
    "hideHardwareSpecs": false,
    "memoryGiB": 16,
    "name": "ml.g4dn.xlarge",
    "vcpuNum": 4
   },
   {
    "_defaultOrder": 30,
    "_isFastLaunch": false,
    "category": "Accelerated computing",
    "gpuNum": 1,
    "hideHardwareSpecs": false,
    "memoryGiB": 32,
    "name": "ml.g4dn.2xlarge",
    "vcpuNum": 8
   },
   {
    "_defaultOrder": 31,
    "_isFastLaunch": false,
    "category": "Accelerated computing",
    "gpuNum": 1,
    "hideHardwareSpecs": false,
    "memoryGiB": 64,
    "name": "ml.g4dn.4xlarge",
    "vcpuNum": 16
   },
   {
    "_defaultOrder": 32,
    "_isFastLaunch": false,
    "category": "Accelerated computing",
    "gpuNum": 1,
    "hideHardwareSpecs": false,
    "memoryGiB": 128,
    "name": "ml.g4dn.8xlarge",
    "vcpuNum": 32
   },
   {
    "_defaultOrder": 33,
    "_isFastLaunch": false,
    "category": "Accelerated computing",
    "gpuNum": 4,
    "hideHardwareSpecs": false,
    "memoryGiB": 192,
    "name": "ml.g4dn.12xlarge",
    "vcpuNum": 48
   },
   {
    "_defaultOrder": 34,
    "_isFastLaunch": false,
    "category": "Accelerated computing",
    "gpuNum": 1,
    "hideHardwareSpecs": false,
    "memoryGiB": 256,
    "name": "ml.g4dn.16xlarge",
    "vcpuNum": 64
   },
   {
    "_defaultOrder": 35,
    "_isFastLaunch": false,
    "category": "Accelerated computing",
    "gpuNum": 1,
    "hideHardwareSpecs": false,
    "memoryGiB": 61,
    "name": "ml.p3.2xlarge",
    "vcpuNum": 8
   },
   {
    "_defaultOrder": 36,
    "_isFastLaunch": false,
    "category": "Accelerated computing",
    "gpuNum": 4,
    "hideHardwareSpecs": false,
    "memoryGiB": 244,
    "name": "ml.p3.8xlarge",
    "vcpuNum": 32
   },
   {
    "_defaultOrder": 37,
    "_isFastLaunch": false,
    "category": "Accelerated computing",
    "gpuNum": 8,
    "hideHardwareSpecs": false,
    "memoryGiB": 488,
    "name": "ml.p3.16xlarge",
    "vcpuNum": 64
   },
   {
    "_defaultOrder": 38,
    "_isFastLaunch": false,
    "category": "Accelerated computing",
    "gpuNum": 8,
    "hideHardwareSpecs": false,
    "memoryGiB": 768,
    "name": "ml.p3dn.24xlarge",
    "vcpuNum": 96
   },
   {
    "_defaultOrder": 39,
    "_isFastLaunch": false,
    "category": "Memory Optimized",
    "gpuNum": 0,
    "hideHardwareSpecs": false,
    "memoryGiB": 16,
    "name": "ml.r5.large",
    "vcpuNum": 2
   },
   {
    "_defaultOrder": 40,
    "_isFastLaunch": false,
    "category": "Memory Optimized",
    "gpuNum": 0,
    "hideHardwareSpecs": false,
    "memoryGiB": 32,
    "name": "ml.r5.xlarge",
    "vcpuNum": 4
   },
   {
    "_defaultOrder": 41,
    "_isFastLaunch": false,
    "category": "Memory Optimized",
    "gpuNum": 0,
    "hideHardwareSpecs": false,
    "memoryGiB": 64,
    "name": "ml.r5.2xlarge",
    "vcpuNum": 8
   },
   {
    "_defaultOrder": 42,
    "_isFastLaunch": false,
    "category": "Memory Optimized",
    "gpuNum": 0,
    "hideHardwareSpecs": false,
    "memoryGiB": 128,
    "name": "ml.r5.4xlarge",
    "vcpuNum": 16
   },
   {
    "_defaultOrder": 43,
    "_isFastLaunch": false,
    "category": "Memory Optimized",
    "gpuNum": 0,
    "hideHardwareSpecs": false,
    "memoryGiB": 256,
    "name": "ml.r5.8xlarge",
    "vcpuNum": 32
   },
   {
    "_defaultOrder": 44,
    "_isFastLaunch": false,
    "category": "Memory Optimized",
    "gpuNum": 0,
    "hideHardwareSpecs": false,
    "memoryGiB": 384,
    "name": "ml.r5.12xlarge",
    "vcpuNum": 48
   },
   {
    "_defaultOrder": 45,
    "_isFastLaunch": false,
    "category": "Memory Optimized",
    "gpuNum": 0,
    "hideHardwareSpecs": false,
    "memoryGiB": 512,
    "name": "ml.r5.16xlarge",
    "vcpuNum": 64
   },
   {
    "_defaultOrder": 46,
    "_isFastLaunch": false,
    "category": "Memory Optimized",
    "gpuNum": 0,
    "hideHardwareSpecs": false,
    "memoryGiB": 768,
    "name": "ml.r5.24xlarge",
    "vcpuNum": 96
   },
   {
    "_defaultOrder": 47,
    "_isFastLaunch": false,
    "category": "Accelerated computing",
    "gpuNum": 1,
    "hideHardwareSpecs": false,
    "memoryGiB": 16,
    "name": "ml.g5.xlarge",
    "vcpuNum": 4
   },
   {
    "_defaultOrder": 48,
    "_isFastLaunch": false,
    "category": "Accelerated computing",
    "gpuNum": 1,
    "hideHardwareSpecs": false,
    "memoryGiB": 32,
    "name": "ml.g5.2xlarge",
    "vcpuNum": 8
   },
   {
    "_defaultOrder": 49,
    "_isFastLaunch": false,
    "category": "Accelerated computing",
    "gpuNum": 1,
    "hideHardwareSpecs": false,
    "memoryGiB": 64,
    "name": "ml.g5.4xlarge",
    "vcpuNum": 16
   },
   {
    "_defaultOrder": 50,
    "_isFastLaunch": false,
    "category": "Accelerated computing",
    "gpuNum": 1,
    "hideHardwareSpecs": false,
    "memoryGiB": 128,
    "name": "ml.g5.8xlarge",
    "vcpuNum": 32
   },
   {
    "_defaultOrder": 51,
    "_isFastLaunch": false,
    "category": "Accelerated computing",
    "gpuNum": 1,
    "hideHardwareSpecs": false,
    "memoryGiB": 256,
    "name": "ml.g5.16xlarge",
    "vcpuNum": 64
   },
   {
    "_defaultOrder": 52,
    "_isFastLaunch": false,
    "category": "Accelerated computing",
    "gpuNum": 4,
    "hideHardwareSpecs": false,
    "memoryGiB": 192,
    "name": "ml.g5.12xlarge",
    "vcpuNum": 48
   },
   {
    "_defaultOrder": 53,
    "_isFastLaunch": false,
    "category": "Accelerated computing",
    "gpuNum": 4,
    "hideHardwareSpecs": false,
    "memoryGiB": 384,
    "name": "ml.g5.24xlarge",
    "vcpuNum": 96
   },
   {
    "_defaultOrder": 54,
    "_isFastLaunch": false,
    "category": "Accelerated computing",
    "gpuNum": 8,
    "hideHardwareSpecs": false,
    "memoryGiB": 768,
    "name": "ml.g5.48xlarge",
    "vcpuNum": 192
   },
   {
    "_defaultOrder": 55,
    "_isFastLaunch": false,
    "category": "Accelerated computing",
    "gpuNum": 8,
    "hideHardwareSpecs": false,
    "memoryGiB": 1152,
    "name": "ml.p4d.24xlarge",
    "vcpuNum": 96
   },
   {
    "_defaultOrder": 56,
    "_isFastLaunch": false,
    "category": "Accelerated computing",
    "gpuNum": 8,
    "hideHardwareSpecs": false,
    "memoryGiB": 1152,
    "name": "ml.p4de.24xlarge",
    "vcpuNum": 96
   }
  ],
  "instance_type": "ml.t3.medium",
  "kernelspec": {
   "display_name": "Python 3 (Data Science)",
   "language": "python",
   "name": "python3__SAGEMAKER_INTERNAL__arn:aws:sagemaker:us-east-1:081325390199:image/datascience-1.0"
  },
  "language_info": {
   "codemirror_mode": {
    "name": "ipython",
    "version": 3
   },
   "file_extension": ".py",
   "mimetype": "text/x-python",
   "name": "python",
   "nbconvert_exporter": "python",
   "pygments_lexer": "ipython3",
   "version": "3.7.10"
  }
 },
 "nbformat": 4,
 "nbformat_minor": 5
}
