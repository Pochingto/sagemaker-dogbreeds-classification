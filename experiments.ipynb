{
 "cells": [
  {
   "cell_type": "markdown",
   "id": "5d76756a-0745-4f27-a299-8db7f3718112",
   "metadata": {},
   "source": [
    "# Pipeline"
   ]
  },
  {
   "cell_type": "code",
   "execution_count": 15,
   "id": "b329f245-cd3e-4f45-b5a5-d7ce021960ab",
   "metadata": {
    "tags": []
   },
   "outputs": [],
   "source": [
    "import os\n",
    "import sagemaker\n",
    "from sagemaker.workflow.pipeline_context import PipelineSession, LocalPipelineSession\n",
    "\n",
    "role = sagemaker.get_execution_role()\n",
    "bucket = \"pochingto-testing\"\n",
    "pipeline_session = PipelineSession(default_bucket=bucket)"
   ]
  },
  {
   "cell_type": "code",
   "execution_count": 3,
   "id": "89ef2f30-d3f6-4bdb-a648-11c3ecfa6f2d",
   "metadata": {
    "tags": []
   },
   "outputs": [
    {
     "data": {
      "text/plain": [
       "'2.183.0'"
      ]
     },
     "execution_count": 3,
     "metadata": {},
     "output_type": "execute_result"
    }
   ],
   "source": [
    "sagemaker.__version__"
   ]
  },
  {
   "cell_type": "code",
   "execution_count": 4,
   "id": "0c6e04ff-95a6-41df-9a85-ad6c6b7d10a5",
   "metadata": {
    "tags": []
   },
   "outputs": [],
   "source": [
    "# !pip3 install -U sagemaker"
   ]
  },
  {
   "cell_type": "code",
   "execution_count": 5,
   "id": "a735ee68-dc56-4c78-a4c2-45de419c64a4",
   "metadata": {
    "tags": []
   },
   "outputs": [],
   "source": [
    "# import sagemaker\n",
    "# import importlib\n",
    "# importlib.reload(sagemaker)\n",
    "# sagemaker.__version__"
   ]
  },
  {
   "cell_type": "code",
   "execution_count": 6,
   "id": "b7ce5b81-fb7a-43c4-a365-097b095d8992",
   "metadata": {
    "tags": []
   },
   "outputs": [
    {
     "name": "stderr",
     "output_type": "stream",
     "text": [
      "/opt/conda/lib/python3.7/site-packages/boto3/compat.py:82: PythonDeprecationWarning: Boto3 will no longer support Python 3.7 starting December 13, 2023. To continue receiving service updates, bug fixes, and security updates please upgrade to Python 3.8 or later. More information can be found here: https://aws.amazon.com/blogs/developer/python-support-policy-updates-for-aws-sdks-and-tools/\n",
      "  warnings.warn(warning, PythonDeprecationWarning)\n"
     ]
    }
   ],
   "source": [
    "import boto3\n",
    "\n",
    "sagemaker_session = sagemaker.session.Session()\n",
    "sagemaker_client = boto3.client(\"sagemaker\")\n",
    "iam_client = boto3.client(\"iam\")\n",
    "region = boto3.Session().region_name\n",
    "bucket = \"pochingto-testing\""
   ]
  },
  {
   "cell_type": "code",
   "execution_count": 7,
   "id": "da7beea1-6d5f-4be1-a1b5-a24745a1f313",
   "metadata": {
    "tags": []
   },
   "outputs": [],
   "source": [
    "ENDPOINT = \"dogBreeds-endpoint\"\n",
    "DATA_CAPTURE_DESTINATION = f\"{bucket}/monitoring/data-capture\"\n",
    "MODEL_PACKAGE_GROUP = \"dogBreeds\""
   ]
  },
  {
   "cell_type": "code",
   "execution_count": 8,
   "id": "763d53e2-be53-4694-b455-c5bb4c26b633",
   "metadata": {
    "tags": []
   },
   "outputs": [],
   "source": [
    "config = {\n",
    "    \"session\": pipeline_session,\n",
    "    \"instance_type\": \"ml.m5.xlarge\",\n",
    "    \"image\": None,\n",
    "    \"framework_version\": \"1.12\",\n",
    "    \"py_version\": \"py38\",\n",
    "}"
   ]
  },
  {
   "cell_type": "code",
   "execution_count": 9,
   "id": "fe533980-b476-4bff-926b-220da050f01b",
   "metadata": {
    "tags": []
   },
   "outputs": [],
   "source": [
    "from sagemaker.workflow.steps import CacheConfig\n",
    "\n",
    "cache_config = CacheConfig(enable_caching=True, expire_after=\"15d\")"
   ]
  },
  {
   "cell_type": "markdown",
   "id": "ceca7666-071e-4183-9c63-fdd149836e0a",
   "metadata": {
    "tags": []
   },
   "source": [
    "## Data preprocessing"
   ]
  },
  {
   "cell_type": "code",
   "execution_count": 73,
   "id": "ea542088-da67-40ab-9580-f8256965c06d",
   "metadata": {
    "collapsed": true,
    "jupyter": {
     "outputs_hidden": true
    },
    "scrolled": true,
    "tags": []
   },
   "outputs": [
    {
     "name": "stdout",
     "output_type": "stream",
     "text": [
      "Splitting data...\n",
      "Splitting class folder: Affenpinscher\n",
      "Splitting class folder: Afghan_hound\n",
      "Splitting class folder: Airedale_terrier\n",
      "Splitting class folder: Akita\n",
      "Splitting class folder: Alaskan_malamute\n",
      "Splitting class folder: American_eskimo_dog\n",
      "Splitting class folder: American_foxhound\n",
      "Splitting class folder: American_staffordshire_terrier\n",
      "Splitting class folder: American_water_spaniel\n",
      "Splitting class folder: Anatolian_shepherd_dog\n",
      "Splitting class folder: Australian_cattle_dog\n",
      "Splitting class folder: Australian_shepherd\n",
      "Splitting class folder: Australian_terrier\n",
      "Splitting class folder: Basenji\n",
      "Splitting class folder: Basset_hound\n",
      "Splitting class folder: Beagle\n",
      "Splitting class folder: Bearded_collie\n",
      "Splitting class folder: Beauceron\n",
      "Splitting class folder: Bedlington_terrier\n",
      "Splitting class folder: Belgian_malinois\n",
      "Splitting class folder: Belgian_sheepdog\n",
      "Splitting class folder: Belgian_tervuren\n",
      "Splitting class folder: Bernese_mountain_dog\n",
      "Splitting class folder: Bichon_frise\n",
      "Splitting class folder: Black_and_tan_coonhound\n",
      "Splitting class folder: Black_russian_terrier\n",
      "Splitting class folder: Bloodhound\n",
      "Splitting class folder: Bluetick_coonhound\n",
      "Splitting class folder: Border_collie\n",
      "Splitting class folder: Border_terrier\n",
      "Splitting class folder: Borzoi\n",
      "Splitting class folder: Boston_terrier\n",
      "Splitting class folder: Bouvier_des_flandres\n",
      "Splitting class folder: Boxer\n",
      "Splitting class folder: Boykin_spaniel\n",
      "Splitting class folder: Briard\n",
      "Splitting class folder: Brittany\n",
      "Splitting class folder: Brussels_griffon\n",
      "Splitting class folder: Bull_terrier\n",
      "Splitting class folder: Bulldog\n",
      "Splitting class folder: Bullmastiff\n",
      "Splitting class folder: Cairn_terrier\n",
      "Splitting class folder: Canaan_dog\n",
      "Splitting class folder: Cane_corso\n",
      "Splitting class folder: Cardigan_welsh_corgi\n",
      "Splitting class folder: Cavalier_king_charles_spaniel\n",
      "Splitting class folder: Chesapeake_bay_retriever\n",
      "Splitting class folder: Chihuahua\n",
      "Splitting class folder: Chinese_crested\n",
      "Splitting class folder: Chinese_shar-pei\n",
      "Splitting class folder: Chow_chow\n",
      "Splitting class folder: Clumber_spaniel\n",
      "Splitting class folder: Cocker_spaniel\n",
      "Splitting class folder: Collie\n",
      "Splitting class folder: Curly-coated_retriever\n",
      "Splitting class folder: Dachshund\n",
      "Splitting class folder: Dalmatian\n",
      "Splitting class folder: Dandie_dinmont_terrier\n",
      "Splitting class folder: Doberman_pinscher\n",
      "Splitting class folder: Dogue_de_bordeaux\n",
      "Splitting class folder: English_cocker_spaniel\n",
      "Splitting class folder: English_setter\n",
      "Splitting class folder: English_springer_spaniel\n",
      "Splitting class folder: English_toy_spaniel\n",
      "Splitting class folder: Entlebucher_mountain_dog\n",
      "Splitting class folder: Field_spaniel\n",
      "Splitting class folder: Finnish_spitz\n",
      "Splitting class folder: Flat-coated_retriever\n",
      "Splitting class folder: French_bulldog\n",
      "Splitting class folder: German_pinscher\n",
      "Splitting class folder: German_shepherd_dog\n",
      "Splitting class folder: German_shorthaired_pointer\n",
      "Splitting class folder: German_wirehaired_pointer\n",
      "Splitting class folder: Giant_schnauzer\n",
      "Splitting class folder: Glen_of_imaal_terrier\n",
      "Splitting class folder: Golden_retriever\n",
      "Splitting class folder: Gordon_setter\n",
      "Splitting class folder: Great_dane\n",
      "Splitting class folder: Great_pyrenees\n",
      "Splitting class folder: Greater_swiss_mountain_dog\n",
      "Splitting class folder: Greyhound\n",
      "Splitting class folder: Havanese\n",
      "Splitting class folder: Ibizan_hound\n",
      "Splitting class folder: Icelandic_sheepdog\n",
      "Splitting class folder: Irish_red_and_white_setter\n",
      "Splitting class folder: Irish_setter\n",
      "Splitting class folder: Irish_terrier\n",
      "Splitting class folder: Irish_water_spaniel\n",
      "Splitting class folder: Irish_wolfhound\n",
      "Splitting class folder: Italian_greyhound\n",
      "Splitting class folder: Japanese_chin\n",
      "Splitting class folder: Keeshond\n",
      "Splitting class folder: Kerry_blue_terrier\n",
      "Splitting class folder: Komondor\n",
      "Splitting class folder: Kuvasz\n",
      "Splitting class folder: Labrador_retriever\n",
      "Splitting class folder: Lakeland_terrier\n",
      "Splitting class folder: Leonberger\n",
      "Splitting class folder: Lhasa_apso\n",
      "Splitting class folder: Lowchen\n",
      "Splitting class folder: Maltese\n",
      "Splitting class folder: Manchester_terrier\n",
      "Splitting class folder: Mastiff\n",
      "Splitting class folder: Miniature_schnauzer\n",
      "Splitting class folder: Neapolitan_mastiff\n",
      "Splitting class folder: Newfoundland\n",
      "Splitting class folder: Norfolk_terrier\n",
      "Splitting class folder: Norwegian_buhund\n",
      "Splitting class folder: Norwegian_elkhound\n",
      "Splitting class folder: Norwegian_lundehund\n",
      "Splitting class folder: Norwich_terrier\n",
      "Splitting class folder: Nova_scotia_duck_tolling_retriever\n",
      "Splitting class folder: Old_english_sheepdog\n",
      "Splitting class folder: Otterhound\n",
      "Splitting class folder: Papillon\n",
      "Splitting class folder: Parson_russell_terrier\n",
      "Splitting class folder: Pekingese\n",
      "Splitting class folder: Pembroke_welsh_corgi\n",
      "Splitting class folder: Petit_basset_griffon_vendeen\n",
      "Splitting class folder: Pharaoh_hound\n",
      "Splitting class folder: Plott\n",
      "Splitting class folder: Pointer\n",
      "Splitting class folder: Pomeranian\n",
      "Splitting class folder: Poodle\n",
      "Splitting class folder: Portuguese_water_dog\n",
      "Splitting class folder: Saint_bernard\n",
      "Splitting class folder: Silky_terrier\n",
      "Splitting class folder: Smooth_fox_terrier\n",
      "Splitting class folder: Tibetan_mastiff\n",
      "Splitting class folder: Welsh_springer_spaniel\n",
      "Splitting class folder: Wirehaired_pointing_griffon\n",
      "Splitting class folder: Xoloitzcuintli\n",
      "Splitting class folder: Yorkshire_terrier\n",
      "Data split into training and test sets completed.\n",
      "Initializing CSV...\n",
      "Extracting features in class Affenpinscher ...\n",
      "Extracting features in class Afghan_hound ...\n",
      "Extracting features in class Airedale_terrier ...\n",
      "Extracting features in class Akita ...\n",
      "Extracting features in class Alaskan_malamute ...\n",
      "Extracting features in class American_eskimo_dog ...\n",
      "Extracting features in class American_foxhound ...\n",
      "Extracting features in class American_staffordshire_terrier ...\n",
      "Extracting features in class American_water_spaniel ...\n",
      "Extracting features in class Anatolian_shepherd_dog ...\n",
      "Extracting features in class Australian_cattle_dog ...\n",
      "Extracting features in class Australian_shepherd ...\n",
      "Extracting features in class Australian_terrier ...\n",
      "Extracting features in class Basenji ...\n",
      "Extracting features in class Basset_hound ...\n",
      "Extracting features in class Beagle ...\n",
      "Extracting features in class Bearded_collie ...\n",
      "Extracting features in class Beauceron ...\n",
      "Extracting features in class Bedlington_terrier ...\n",
      "Extracting features in class Belgian_malinois ...\n",
      "Extracting features in class Belgian_sheepdog ...\n",
      "Extracting features in class Belgian_tervuren ...\n",
      "Extracting features in class Bernese_mountain_dog ...\n",
      "Extracting features in class Bichon_frise ...\n",
      "Extracting features in class Black_and_tan_coonhound ...\n",
      "Extracting features in class Black_russian_terrier ...\n",
      "Extracting features in class Bloodhound ...\n",
      "Extracting features in class Bluetick_coonhound ...\n",
      "Extracting features in class Border_collie ...\n",
      "Extracting features in class Border_terrier ...\n",
      "Extracting features in class Borzoi ...\n",
      "Extracting features in class Boston_terrier ...\n",
      "Extracting features in class Bouvier_des_flandres ...\n",
      "Extracting features in class Boxer ...\n",
      "Extracting features in class Boykin_spaniel ...\n",
      "Extracting features in class Briard ...\n",
      "Extracting features in class Brittany ...\n",
      "Extracting features in class Brussels_griffon ...\n",
      "Extracting features in class Bull_terrier ...\n",
      "Extracting features in class Bulldog ...\n",
      "Extracting features in class Bullmastiff ...\n",
      "Extracting features in class Cairn_terrier ...\n",
      "Extracting features in class Canaan_dog ...\n",
      "Extracting features in class Cane_corso ...\n",
      "Extracting features in class Cardigan_welsh_corgi ...\n",
      "Extracting features in class Cavalier_king_charles_spaniel ...\n",
      "Extracting features in class Chesapeake_bay_retriever ...\n",
      "Extracting features in class Chihuahua ...\n",
      "Extracting features in class Chinese_crested ...\n",
      "Extracting features in class Chinese_shar-pei ...\n",
      "Extracting features in class Chow_chow ...\n",
      "Extracting features in class Clumber_spaniel ...\n",
      "Extracting features in class Cocker_spaniel ...\n",
      "Extracting features in class Collie ...\n",
      "Extracting features in class Curly-coated_retriever ...\n",
      "Extracting features in class Dachshund ...\n",
      "Extracting features in class Dalmatian ...\n",
      "Extracting features in class Dandie_dinmont_terrier ...\n",
      "Extracting features in class Doberman_pinscher ...\n",
      "Extracting features in class Dogue_de_bordeaux ...\n",
      "Extracting features in class English_cocker_spaniel ...\n",
      "Extracting features in class English_setter ...\n",
      "Extracting features in class English_springer_spaniel ...\n",
      "Extracting features in class English_toy_spaniel ...\n",
      "Extracting features in class Entlebucher_mountain_dog ...\n",
      "Extracting features in class Field_spaniel ...\n",
      "Extracting features in class Finnish_spitz ...\n",
      "Extracting features in class Flat-coated_retriever ...\n",
      "Extracting features in class French_bulldog ...\n",
      "Extracting features in class German_pinscher ...\n",
      "Extracting features in class German_shepherd_dog ...\n",
      "Extracting features in class German_shorthaired_pointer ...\n",
      "Extracting features in class German_wirehaired_pointer ...\n",
      "Extracting features in class Giant_schnauzer ...\n",
      "Extracting features in class Glen_of_imaal_terrier ...\n",
      "Extracting features in class Golden_retriever ...\n",
      "Extracting features in class Gordon_setter ...\n",
      "Extracting features in class Great_dane ...\n",
      "Extracting features in class Great_pyrenees ...\n",
      "Extracting features in class Greater_swiss_mountain_dog ...\n",
      "Extracting features in class Greyhound ...\n",
      "Extracting features in class Havanese ...\n",
      "Extracting features in class Ibizan_hound ...\n",
      "Extracting features in class Icelandic_sheepdog ...\n",
      "Extracting features in class Irish_red_and_white_setter ...\n",
      "Extracting features in class Irish_setter ...\n",
      "Extracting features in class Irish_terrier ...\n",
      "Extracting features in class Irish_water_spaniel ...\n",
      "Extracting features in class Irish_wolfhound ...\n",
      "Extracting features in class Italian_greyhound ...\n",
      "Extracting features in class Japanese_chin ...\n",
      "Extracting features in class Keeshond ...\n",
      "Extracting features in class Kerry_blue_terrier ...\n",
      "Extracting features in class Komondor ...\n",
      "Extracting features in class Kuvasz ...\n",
      "Extracting features in class Labrador_retriever ...\n",
      "Extracting features in class Lakeland_terrier ...\n",
      "Extracting features in class Leonberger ...\n",
      "Extracting features in class Lhasa_apso ...\n",
      "Extracting features in class Lowchen ...\n",
      "Extracting features in class Maltese ...\n",
      "Extracting features in class Manchester_terrier ...\n",
      "Extracting features in class Mastiff ...\n",
      "Extracting features in class Miniature_schnauzer ...\n",
      "Extracting features in class Neapolitan_mastiff ...\n",
      "Extracting features in class Newfoundland ...\n",
      "Extracting features in class Norfolk_terrier ...\n",
      "Extracting features in class Norwegian_buhund ...\n",
      "Extracting features in class Norwegian_elkhound ...\n",
      "Extracting features in class Norwegian_lundehund ...\n",
      "Extracting features in class Norwich_terrier ...\n",
      "Extracting features in class Nova_scotia_duck_tolling_retriever ...\n",
      "Extracting features in class Old_english_sheepdog ...\n",
      "Extracting features in class Otterhound ...\n",
      "Extracting features in class Papillon ...\n",
      "Extracting features in class Parson_russell_terrier ...\n",
      "Extracting features in class Pekingese ...\n",
      "Extracting features in class Pembroke_welsh_corgi ...\n",
      "Extracting features in class Petit_basset_griffon_vendeen ...\n",
      "Extracting features in class Pharaoh_hound ...\n",
      "Extracting features in class Plott ...\n",
      "Extracting features in class Pointer ...\n",
      "Extracting features in class Pomeranian ...\n",
      "Extracting features in class Poodle ...\n",
      "Extracting features in class Portuguese_water_dog ...\n",
      "Extracting features in class Saint_bernard ...\n",
      "Extracting features in class Silky_terrier ...\n",
      "Extracting features in class Smooth_fox_terrier ...\n",
      "Extracting features in class Tibetan_mastiff ...\n",
      "Extracting features in class Welsh_springer_spaniel ...\n",
      "Extracting features in class Wirehaired_pointing_griffon ...\n",
      "Extracting features in class Xoloitzcuintli ...\n",
      "Extracting features in class Yorkshire_terrier ...\n",
      "Feature extraction completed.\n"
     ]
    }
   ],
   "source": [
    "import importlib\n",
    "from preprocessing import preprocess_data\n",
    "\n",
    "importlib.reload(preprocess_data)\n",
    "\n",
    "import tempfile\n",
    "import shutil\n",
    "\n",
    "from pathlib import Path\n",
    "\n",
    "directory = tempfile.mkdtemp()\n",
    "data_dir = \"all/\"\n",
    "train_ratio = 0.8\n",
    "output_dir = Path(directory) / \"output\"\n",
    "\n",
    "preprocess_data.preprocess_data(data_dir, output_dir, train_ratio)"
   ]
  },
  {
   "cell_type": "code",
   "execution_count": 52,
   "id": "f9dbd10c-3372-4e35-b70b-0bb26425ed31",
   "metadata": {
    "tags": []
   },
   "outputs": [],
   "source": [
    "# !cat /tmp/tmpp0tanr90/output/train-baseline/image_stats.csv\n",
    "shutil.rmtree(directory)"
   ]
  },
  {
   "cell_type": "code",
   "execution_count": 10,
   "id": "546fa7cd-bed0-4119-92bd-de4d59554d96",
   "metadata": {
    "tags": []
   },
   "outputs": [],
   "source": [
    "from sagemaker.workflow.pipeline_context import LocalPipelineSession\n",
    "local_pipeline_session = LocalPipelineSession()"
   ]
  },
  {
   "cell_type": "code",
   "execution_count": 11,
   "id": "0c458c46-7ccb-4b1f-bff7-3fadef13c4cb",
   "metadata": {
    "tags": []
   },
   "outputs": [],
   "source": [
    "from sagemaker.workflow.parameters import ParameterString\n",
    "\n",
    "dataset_location = ParameterString(\n",
    "    name=\"dataset_location\",\n",
    "    default_value=f\"s3://{bucket}/all\",\n",
    ")"
   ]
  },
  {
   "cell_type": "code",
   "execution_count": 12,
   "id": "b601e498-300c-4b1f-9759-c11dcf2e257e",
   "metadata": {
    "tags": []
   },
   "outputs": [],
   "source": [
    "from sagemaker.workflow.pipeline import Pipeline\n",
    "from sagemaker.workflow.pipeline_definition_config import PipelineDefinitionConfig\n",
    "\n",
    "pipeline_definition_config = PipelineDefinitionConfig(use_custom_job_prefix=True)"
   ]
  },
  {
   "cell_type": "code",
   "execution_count": 16,
   "id": "4f1e76ee-16fe-4a66-a206-12291428d139",
   "metadata": {
    "tags": []
   },
   "outputs": [
    {
     "data": {
      "text/plain": [
       "134"
      ]
     },
     "execution_count": 16,
     "metadata": {},
     "output_type": "execute_result"
    }
   ],
   "source": [
    "len(sorted(os.listdir('all/')))"
   ]
  },
  {
   "cell_type": "code",
   "execution_count": 17,
   "id": "c9d54431-b285-4b1b-b9f5-f13adafbf807",
   "metadata": {
    "tags": []
   },
   "outputs": [
    {
     "data": {
      "text/plain": [
       "ParameterString(name='dataset_location', parameter_type=<ParameterTypeEnum.STRING: 'String'>, default_value='s3://pochingto-testing/all')"
      ]
     },
     "execution_count": 17,
     "metadata": {},
     "output_type": "execute_result"
    }
   ],
   "source": [
    "dataset_location"
   ]
  },
  {
   "cell_type": "code",
   "execution_count": 18,
   "id": "fb1186de-a83a-4347-aec6-0db175c09056",
   "metadata": {
    "tags": []
   },
   "outputs": [
    {
     "name": "stderr",
     "output_type": "stream",
     "text": [
      "/opt/conda/lib/python3.7/site-packages/sagemaker/workflow/pipeline_context.py:300: UserWarning: Running within a PipelineSession, there will be No Wait, No Logs, and No Job being started.\n",
      "  UserWarning,\n"
     ]
    }
   ],
   "source": [
    "from sagemaker.processing import ScriptProcessor, ProcessingInput, ProcessingOutput\n",
    "from sagemaker.workflow.steps import ProcessingStep\n",
    "from sagemaker.pytorch.processing import PyTorchProcessor\n",
    "\n",
    "# pytorch_processor = PyTorchProcessor(\n",
    "#     base_job_name=\"evaluation-processor\",\n",
    "#     image_uri=config[\"image\"],\n",
    "#     framework_version=config[\"framework_version\"],\n",
    "#     py_version=config[\"py_version\"],\n",
    "#     instance_type=config[\"instance_type\"],\n",
    "#     instance_count=1,\n",
    "#     role=role,\n",
    "#     sagemaker_session=config[\"session\"],\n",
    "# )\n",
    "\n",
    "# Define the script processor\n",
    "pytorch_preprocessor = PyTorchProcessor(\n",
    "    base_job_name=\"preprocess-data\",\n",
    "    image_uri=config[\"image\"],\n",
    "    framework_version=config[\"framework_version\"],\n",
    "    py_version=config[\"py_version\"],\n",
    "    instance_type=config[\"instance_type\"],\n",
    "    instance_count=1,\n",
    "    role=role,\n",
    "    sagemaker_session=config[\"session\"],\n",
    "    # sagemaker_session=local_pipeline_session\n",
    ")\n",
    "\n",
    "preprocessing_step = ProcessingStep(\n",
    "    name=\"preprocess-data\",\n",
    "    step_args=pytorch_preprocessor.run(\n",
    "        code='preprocess_data.py',\n",
    "        source_dir='preprocessing', \n",
    "        inputs=[\n",
    "            ProcessingInput(\n",
    "                source=dataset_location,\n",
    "                destination='/opt/ml/processing/input'\n",
    "            )\n",
    "        ],\n",
    "        outputs=[\n",
    "            ProcessingOutput(\n",
    "                output_name=\"train\",\n",
    "                source='/opt/ml/processing/output/train',\n",
    "                destination=f's3://{bucket}/output/train'\n",
    "            ),\n",
    "            ProcessingOutput(\n",
    "                output_name=\"test\",\n",
    "                source='/opt/ml/processing/output/test',\n",
    "                destination=f's3://{bucket}/output/test'\n",
    "            ),\n",
    "            ProcessingOutput(\n",
    "                output_name=\"train-baseline\",\n",
    "                source='/opt/ml/processing/output/train-baseline',\n",
    "                destination=f's3://{bucket}/output/train-baseline'\n",
    "            )\n",
    "        ]\n",
    "    ),\n",
    "    cache_config=cache_config\n",
    ")"
   ]
  },
  {
   "cell_type": "code",
   "execution_count": 19,
   "id": "fb9e76ed-73ec-46ba-b8b4-50f86c0ed768",
   "metadata": {
    "tags": []
   },
   "outputs": [
    {
     "data": {
      "text/plain": [
       "sagemaker.workflow.steps.ProcessingStep"
      ]
     },
     "execution_count": 19,
     "metadata": {},
     "output_type": "execute_result"
    }
   ],
   "source": [
    "type(preprocessing_step)"
   ]
  },
  {
   "cell_type": "code",
   "execution_count": 20,
   "id": "d0394603-4f5d-4c4f-8927-2bd856689c0c",
   "metadata": {
    "tags": []
   },
   "outputs": [],
   "source": [
    "# dogbreed_pipeline = Pipeline(\n",
    "#     name=\"dogbreeds-preprocessing-pipeline\",\n",
    "#     parameters=[dataset_location],\n",
    "#     steps=[\n",
    "#         preprocessing_step,\n",
    "#     ],\n",
    "#     pipeline_definition_config=pipeline_definition_config,\n",
    "#     sagemaker_session=config[\"session\"],\n",
    "#     # sagemaker_session=local_pipeline_session\n",
    "# )\n",
    "\n",
    "# dogbreed_pipeline.upsert(role_arn=role)"
   ]
  },
  {
   "cell_type": "code",
   "execution_count": 21,
   "id": "1c3aade5-a0b4-4129-8951-a978d1140e4c",
   "metadata": {
    "tags": []
   },
   "outputs": [],
   "source": [
    "# dogbreed_pipeline.create(\n",
    "#     role_arn=sagemaker.get_execution_role(), \n",
    "#     description=\"local pipeline example\"\n",
    "# )\n",
    "\n",
    "# execution = dogbreed_pipeline.start()\n",
    "\n",
    "# steps = execution.list_steps()\n",
    "\n",
    "# training_job_name = steps['PipelineExecutionSteps'][0]['Metadata']['TrainingJob']['Arn']\n",
    "\n",
    "# step_outputs = local_pipeline_session.sagemaker_client.describe_training_job(TrainingJobName = training_job_name)"
   ]
  },
  {
   "cell_type": "markdown",
   "id": "f254ae54-0952-458d-bf0a-762f859fcb69",
   "metadata": {},
   "source": [
    "## Training"
   ]
  },
  {
   "cell_type": "code",
   "execution_count": 10,
   "id": "e3aa4147-f51e-4729-8329-60f322cc9826",
   "metadata": {
    "tags": []
   },
   "outputs": [
    {
     "name": "stdout",
     "output_type": "stream",
     "text": [
      "Classes written to /tmp/tmpjg2v2xz9/model/data_classes.txt\n",
      "Start training...\n",
      "sagemaker.config INFO - Not applying SDK defaults from location: /etc/xdg/sagemaker/config.yaml\n",
      "sagemaker.config INFO - Not applying SDK defaults from location: /home/sagemaker-user/.config/sagemaker/config.yaml\n"
     ]
    },
    {
     "name": "stderr",
     "output_type": "stream",
     "text": [
      "WARNING:sagemaker.experiments.run:run_name is explicitly supplied in load_run, which will be prioritized to load the Run object. In other words, the run name in the experiment config, fetched from the job environment or the current run context, will be ignored.\n"
     ]
    },
    {
     "name": "stdout",
     "output_type": "stream",
     "text": [
      "Epoch 1/1, Loss: 5.310918807983398\n",
      "Validation Accuracy: 6.25%\n",
      "Checkpoint saved at epoch 1 with validation accuracy: 6.25%\n",
      "Training complete\n"
     ]
    }
   ],
   "source": [
    "import importlib\n",
    "import train\n",
    "\n",
    "importlib.reload(train)\n",
    "\n",
    "import tempfile\n",
    "import shutil\n",
    "\n",
    "from pathlib import Path\n",
    "from train import main\n",
    "\n",
    "directory = tempfile.mkdtemp()\n",
    "data_dir = \"all/\"\n",
    "model_dir = Path(directory) / \"model\"\n",
    "output_dir = Path(directory) / \"output\"\n",
    "\n",
    "model_dir.mkdir(parents=True, exist_ok=True)\n",
    "output_dir.mkdir(parents=True, exist_ok=True)\n",
    "\n",
    "num_epochs = 1\n",
    "batch_size = 16\n",
    "debug = True\n",
    "\n",
    "main(str(data_dir), str(model_dir), str(output_dir), num_epochs, batch_size, debug)"
   ]
  },
  {
   "cell_type": "code",
   "execution_count": 42,
   "id": "bf20c8d3-11a4-4ffd-8aaa-bfae31df0430",
   "metadata": {
    "tags": []
   },
   "outputs": [],
   "source": [
    "shutil.rmtree(directory)"
   ]
  },
  {
   "cell_type": "code",
   "execution_count": 17,
   "id": "a8d2bdd9-2529-44ee-9ac4-eb75b239df5b",
   "metadata": {
    "tags": []
   },
   "outputs": [],
   "source": [
    "from sagemaker.pytorch import PyTorch\n",
    "\n",
    "estimator = PyTorch(\n",
    "    base_job_name=\"dogbreeds-training\",\n",
    "    entry_point=f\"train.py\",\n",
    "\n",
    "    hyperparameters={\n",
    "        \"epochs\": 5,\n",
    "        \"batch_size\": 32,\n",
    "    },\n",
    "    \n",
    "    metric_definitions=[\n",
    "        {\"Name\": \"loss\", \"Regex\": \"Loss: ([0-9\\\\.]+)\"},\n",
    "        {\"Name\": \"accuracy\", \"Regex\": \"Validation Accuracy: ([0-9\\\\.]+)\"},\n",
    "    ],\n",
    "    image_uri=config[\"image\"],\n",
    "    framework_version=config[\"framework_version\"],\n",
    "    py_version=config[\"py_version\"],\n",
    "    instance_type=\"ml.g4dn.xlarge\",\n",
    "    instance_count=1,\n",
    "    disable_profiler=True,\n",
    "    sagemaker_session=config[\"session\"],\n",
    "    role=role\n",
    ")"
   ]
  },
  {
   "cell_type": "code",
   "execution_count": 18,
   "id": "ec54fb23-8762-4b8b-98b6-2b23685d29e3",
   "metadata": {
    "tags": []
   },
   "outputs": [],
   "source": [
    "from sagemaker.workflow.steps import TrainingStep\n",
    "from sagemaker.inputs import TrainingInput\n",
    "\n",
    "train_model_step = TrainingStep(\n",
    "    name=\"train-model\",\n",
    "    step_args=estimator.fit(\n",
    "        inputs={\n",
    "            \"train\": TrainingInput(\n",
    "                s3_data=preprocessing_step.properties.ProcessingOutputConfig.Outputs[\n",
    "                    \"train\"\n",
    "                ].S3Output.S3Uri\n",
    "            )\n",
    "        }\n",
    "    ),\n",
    "    cache_config=cache_config,\n",
    ")"
   ]
  },
  {
   "cell_type": "markdown",
   "id": "f01107ff-e7aa-463f-ad19-a282ae9e7c62",
   "metadata": {},
   "source": [
    "## Evaluation"
   ]
  },
  {
   "cell_type": "code",
   "execution_count": 11,
   "id": "ea56635d-2065-4957-9ebc-2d9c5929c1f8",
   "metadata": {
    "tags": []
   },
   "outputs": [
    {
     "data": {
      "text/plain": [
       "'/tmp/tmpjg2v2xz9/model'"
      ]
     },
     "execution_count": 11,
     "metadata": {},
     "output_type": "execute_result"
    }
   ],
   "source": [
    "str(model_dir)"
   ]
  },
  {
   "cell_type": "code",
   "execution_count": 12,
   "id": "4c634b06-30c1-4804-b10e-0b36ebb59767",
   "metadata": {
    "tags": []
   },
   "outputs": [
    {
     "name": "stdout",
     "output_type": "stream",
     "text": [
      "data_classes.txt  model.pt\n"
     ]
    }
   ],
   "source": [
    "!ls /tmp/tmpjg2v2xz9/model/"
   ]
  },
  {
   "cell_type": "code",
   "execution_count": 17,
   "id": "41655027-b274-46de-b9f6-fe4fb6463079",
   "metadata": {
    "collapsed": true,
    "jupyter": {
     "outputs_hidden": true
    },
    "tags": []
   },
   "outputs": [
    {
     "data": {
      "text/plain": [
       "['Affenpinscher',\n",
       " 'Afghan_hound',\n",
       " 'Airedale_terrier',\n",
       " 'Akita',\n",
       " 'Alaskan_malamute',\n",
       " 'American_eskimo_dog',\n",
       " 'American_foxhound',\n",
       " 'American_staffordshire_terrier',\n",
       " 'American_water_spaniel',\n",
       " 'Anatolian_shepherd_dog',\n",
       " 'Australian_cattle_dog',\n",
       " 'Australian_shepherd',\n",
       " 'Australian_terrier',\n",
       " 'Basenji',\n",
       " 'Basset_hound',\n",
       " 'Beagle',\n",
       " 'Bearded_collie',\n",
       " 'Beauceron',\n",
       " 'Bedlington_terrier',\n",
       " 'Belgian_malinois',\n",
       " 'Belgian_sheepdog',\n",
       " 'Belgian_tervuren',\n",
       " 'Bernese_mountain_dog',\n",
       " 'Bichon_frise',\n",
       " 'Black_and_tan_coonhound',\n",
       " 'Black_russian_terrier',\n",
       " 'Bloodhound',\n",
       " 'Bluetick_coonhound',\n",
       " 'Border_collie',\n",
       " 'Border_terrier',\n",
       " 'Borzoi',\n",
       " 'Boston_terrier',\n",
       " 'Bouvier_des_flandres',\n",
       " 'Boxer',\n",
       " 'Boykin_spaniel',\n",
       " 'Briard',\n",
       " 'Brittany',\n",
       " 'Brussels_griffon',\n",
       " 'Bull_terrier',\n",
       " 'Bulldog',\n",
       " 'Bullmastiff',\n",
       " 'Cairn_terrier',\n",
       " 'Canaan_dog',\n",
       " 'Cane_corso',\n",
       " 'Cardigan_welsh_corgi',\n",
       " 'Cavalier_king_charles_spaniel',\n",
       " 'Chesapeake_bay_retriever',\n",
       " 'Chihuahua',\n",
       " 'Chinese_crested',\n",
       " 'Chinese_shar-pei',\n",
       " 'Chow_chow',\n",
       " 'Clumber_spaniel',\n",
       " 'Cocker_spaniel',\n",
       " 'Collie',\n",
       " 'Curly-coated_retriever',\n",
       " 'Dachshund',\n",
       " 'Dalmatian',\n",
       " 'Dandie_dinmont_terrier',\n",
       " 'Doberman_pinscher',\n",
       " 'Dogue_de_bordeaux',\n",
       " 'English_cocker_spaniel',\n",
       " 'English_setter',\n",
       " 'English_springer_spaniel',\n",
       " 'English_toy_spaniel',\n",
       " 'Entlebucher_mountain_dog',\n",
       " 'Field_spaniel',\n",
       " 'Finnish_spitz',\n",
       " 'Flat-coated_retriever',\n",
       " 'French_bulldog',\n",
       " 'German_pinscher',\n",
       " 'German_shepherd_dog',\n",
       " 'German_shorthaired_pointer',\n",
       " 'German_wirehaired_pointer',\n",
       " 'Giant_schnauzer',\n",
       " 'Glen_of_imaal_terrier',\n",
       " 'Golden_retriever',\n",
       " 'Gordon_setter',\n",
       " 'Great_dane',\n",
       " 'Great_pyrenees',\n",
       " 'Greater_swiss_mountain_dog',\n",
       " 'Greyhound',\n",
       " 'Havanese',\n",
       " 'Ibizan_hound',\n",
       " 'Icelandic_sheepdog',\n",
       " 'Irish_red_and_white_setter',\n",
       " 'Irish_setter',\n",
       " 'Irish_terrier',\n",
       " 'Irish_water_spaniel',\n",
       " 'Irish_wolfhound',\n",
       " 'Italian_greyhound',\n",
       " 'Japanese_chin',\n",
       " 'Keeshond',\n",
       " 'Kerry_blue_terrier',\n",
       " 'Komondor',\n",
       " 'Kuvasz',\n",
       " 'Labrador_retriever',\n",
       " 'Lakeland_terrier',\n",
       " 'Leonberger',\n",
       " 'Lhasa_apso',\n",
       " 'Lowchen',\n",
       " 'Maltese',\n",
       " 'Manchester_terrier',\n",
       " 'Mastiff',\n",
       " 'Miniature_schnauzer',\n",
       " 'Neapolitan_mastiff',\n",
       " 'Newfoundland',\n",
       " 'Norfolk_terrier',\n",
       " 'Norwegian_buhund',\n",
       " 'Norwegian_elkhound',\n",
       " 'Norwegian_lundehund',\n",
       " 'Norwich_terrier',\n",
       " 'Nova_scotia_duck_tolling_retriever',\n",
       " 'Old_english_sheepdog',\n",
       " 'Otterhound',\n",
       " 'Papillon',\n",
       " 'Parson_russell_terrier',\n",
       " 'Pekingese',\n",
       " 'Pembroke_welsh_corgi',\n",
       " 'Petit_basset_griffon_vendeen',\n",
       " 'Pharaoh_hound',\n",
       " 'Plott',\n",
       " 'Pointer',\n",
       " 'Pomeranian',\n",
       " 'Poodle',\n",
       " 'Portuguese_water_dog',\n",
       " 'Saint_bernard',\n",
       " 'Silky_terrier',\n",
       " 'Smooth_fox_terrier',\n",
       " 'Tibetan_mastiff',\n",
       " 'Welsh_springer_spaniel',\n",
       " 'Wirehaired_pointing_griffon',\n",
       " 'Xoloitzcuintli',\n",
       " 'Yorkshire_terrier']"
      ]
     },
     "execution_count": 17,
     "metadata": {},
     "output_type": "execute_result"
    }
   ],
   "source": [
    "with open(model_dir / \"data_classes.txt\", \"r\") as f:\n",
    "    classes = [cls.strip() for cls in f.readlines()]\n",
    "classes"
   ]
  },
  {
   "cell_type": "code",
   "execution_count": 26,
   "id": "9aee6629-1f1b-45c0-9825-0e7cef096ee8",
   "metadata": {
    "collapsed": true,
    "jupyter": {
     "outputs_hidden": true
    },
    "tags": []
   },
   "outputs": [
    {
     "data": {
      "text/plain": [
       "{'Affenpinscher': 0,\n",
       " 'Afghan_hound': 1,\n",
       " 'Airedale_terrier': 2,\n",
       " 'Akita': 3,\n",
       " 'Alaskan_malamute': 4,\n",
       " 'American_eskimo_dog': 5,\n",
       " 'American_foxhound': 6,\n",
       " 'American_staffordshire_terrier': 7,\n",
       " 'American_water_spaniel': 8,\n",
       " 'Anatolian_shepherd_dog': 9,\n",
       " 'Australian_cattle_dog': 10,\n",
       " 'Australian_shepherd': 11,\n",
       " 'Australian_terrier': 12,\n",
       " 'Basenji': 13,\n",
       " 'Basset_hound': 14,\n",
       " 'Beagle': 15,\n",
       " 'Bearded_collie': 16,\n",
       " 'Beauceron': 17,\n",
       " 'Bedlington_terrier': 18,\n",
       " 'Belgian_malinois': 19,\n",
       " 'Belgian_sheepdog': 20,\n",
       " 'Belgian_tervuren': 21,\n",
       " 'Bernese_mountain_dog': 22,\n",
       " 'Bichon_frise': 23,\n",
       " 'Black_and_tan_coonhound': 24,\n",
       " 'Black_russian_terrier': 25,\n",
       " 'Bloodhound': 26,\n",
       " 'Bluetick_coonhound': 27,\n",
       " 'Border_collie': 28,\n",
       " 'Border_terrier': 29,\n",
       " 'Borzoi': 30,\n",
       " 'Boston_terrier': 31,\n",
       " 'Bouvier_des_flandres': 32,\n",
       " 'Boxer': 33,\n",
       " 'Boykin_spaniel': 34,\n",
       " 'Briard': 35,\n",
       " 'Brittany': 36,\n",
       " 'Brussels_griffon': 37,\n",
       " 'Bull_terrier': 38,\n",
       " 'Bulldog': 39,\n",
       " 'Bullmastiff': 40,\n",
       " 'Cairn_terrier': 41,\n",
       " 'Canaan_dog': 42,\n",
       " 'Cane_corso': 43,\n",
       " 'Cardigan_welsh_corgi': 44,\n",
       " 'Cavalier_king_charles_spaniel': 45,\n",
       " 'Chesapeake_bay_retriever': 46,\n",
       " 'Chihuahua': 47,\n",
       " 'Chinese_crested': 48,\n",
       " 'Chinese_shar-pei': 49,\n",
       " 'Chow_chow': 50,\n",
       " 'Clumber_spaniel': 51,\n",
       " 'Cocker_spaniel': 52,\n",
       " 'Collie': 53,\n",
       " 'Curly-coated_retriever': 54,\n",
       " 'Dachshund': 55,\n",
       " 'Dalmatian': 56,\n",
       " 'Dandie_dinmont_terrier': 57,\n",
       " 'Doberman_pinscher': 58,\n",
       " 'Dogue_de_bordeaux': 59,\n",
       " 'English_cocker_spaniel': 60,\n",
       " 'English_setter': 61,\n",
       " 'English_springer_spaniel': 62,\n",
       " 'English_toy_spaniel': 63,\n",
       " 'Entlebucher_mountain_dog': 64,\n",
       " 'Field_spaniel': 65,\n",
       " 'Finnish_spitz': 66,\n",
       " 'Flat-coated_retriever': 67,\n",
       " 'French_bulldog': 68,\n",
       " 'German_pinscher': 69,\n",
       " 'German_shepherd_dog': 70,\n",
       " 'German_shorthaired_pointer': 71,\n",
       " 'German_wirehaired_pointer': 72,\n",
       " 'Giant_schnauzer': 73,\n",
       " 'Glen_of_imaal_terrier': 74,\n",
       " 'Golden_retriever': 75,\n",
       " 'Gordon_setter': 76,\n",
       " 'Great_dane': 77,\n",
       " 'Great_pyrenees': 78,\n",
       " 'Greater_swiss_mountain_dog': 79,\n",
       " 'Greyhound': 80,\n",
       " 'Havanese': 81,\n",
       " 'Ibizan_hound': 82,\n",
       " 'Icelandic_sheepdog': 83,\n",
       " 'Irish_red_and_white_setter': 84,\n",
       " 'Irish_setter': 85,\n",
       " 'Irish_terrier': 86,\n",
       " 'Irish_water_spaniel': 87,\n",
       " 'Irish_wolfhound': 88,\n",
       " 'Italian_greyhound': 89,\n",
       " 'Japanese_chin': 90,\n",
       " 'Keeshond': 91,\n",
       " 'Kerry_blue_terrier': 92,\n",
       " 'Komondor': 93,\n",
       " 'Kuvasz': 94,\n",
       " 'Labrador_retriever': 95,\n",
       " 'Lakeland_terrier': 96,\n",
       " 'Leonberger': 97,\n",
       " 'Lhasa_apso': 98,\n",
       " 'Lowchen': 99,\n",
       " 'Maltese': 100,\n",
       " 'Manchester_terrier': 101,\n",
       " 'Mastiff': 102,\n",
       " 'Miniature_schnauzer': 103,\n",
       " 'Neapolitan_mastiff': 104,\n",
       " 'Newfoundland': 105,\n",
       " 'Norfolk_terrier': 106,\n",
       " 'Norwegian_buhund': 107,\n",
       " 'Norwegian_elkhound': 108,\n",
       " 'Norwegian_lundehund': 109,\n",
       " 'Norwich_terrier': 110,\n",
       " 'Nova_scotia_duck_tolling_retriever': 111,\n",
       " 'Old_english_sheepdog': 112,\n",
       " 'Otterhound': 113,\n",
       " 'Papillon': 114,\n",
       " 'Parson_russell_terrier': 115,\n",
       " 'Pekingese': 116,\n",
       " 'Pembroke_welsh_corgi': 117,\n",
       " 'Petit_basset_griffon_vendeen': 118,\n",
       " 'Pharaoh_hound': 119,\n",
       " 'Plott': 120,\n",
       " 'Pointer': 121,\n",
       " 'Pomeranian': 122,\n",
       " 'Poodle': 123,\n",
       " 'Portuguese_water_dog': 124,\n",
       " 'Saint_bernard': 125,\n",
       " 'Silky_terrier': 126,\n",
       " 'Smooth_fox_terrier': 127,\n",
       " 'Tibetan_mastiff': 128,\n",
       " 'Welsh_springer_spaniel': 129,\n",
       " 'Wirehaired_pointing_griffon': 130,\n",
       " 'Xoloitzcuintli': 131,\n",
       " 'Yorkshire_terrier': 132}"
      ]
     },
     "execution_count": 26,
     "metadata": {},
     "output_type": "execute_result"
    }
   ],
   "source": [
    "from torchvision import datasets\n",
    "all_data = datasets.ImageFolder(root=data_dir)\n",
    "all_data.classes = classes\n",
    "all_data.class_to_idx = {cls_name: i for i, cls_name in enumerate(classes)}\n",
    "all_data.class_to_idx"
   ]
  },
  {
   "cell_type": "code",
   "execution_count": 39,
   "id": "f96920d5-6573-4dfc-b71f-c498f8273e9f",
   "metadata": {
    "tags": []
   },
   "outputs": [
    {
     "name": "stdout",
     "output_type": "stream",
     "text": [
      "tared data\n",
      "Extracting model_dir...\n",
      "extracted tar.\n",
      "Loading model...\n",
      "Test Accuracy: 3.125%\n",
      "Test weighted precision: 1.0\n",
      "Test weighted recall: 0.03125\n",
      "Written evaluation.json .\n",
      "Writing baseline csv...\n",
      "Wrote /tmp/tmpjg2v2xz9/output/evaluation_baseline.csv\n"
     ]
    },
    {
     "name": "stderr",
     "output_type": "stream",
     "text": [
      "/opt/conda/lib/python3.8/site-packages/sklearn/metrics/_classification.py:1471: UndefinedMetricWarning: Recall is ill-defined and being set to 0.0 in labels with no true samples. Use `zero_division` parameter to control this behavior.\n",
      "  _warn_prf(average, modifier, msg_start, len(result))\n"
     ]
    }
   ],
   "source": [
    "# if 'autoreload' not in get_ipython().extension_manager.loaded:\n",
    "#     %load_ext autoreload\n",
    "import importlib\n",
    "\n",
    "import tempfile\n",
    "import shutil\n",
    "\n",
    "from pathlib import Path\n",
    "from evaluate import evaluation\n",
    "\n",
    "importlib.reload(evaluation)\n",
    "# generate model.tar.gz\n",
    "import tarfile\n",
    "import os\n",
    "\n",
    "def tar_sagemaker_style(source_dir, output_filename):\n",
    "    with tarfile.open(output_filename, \"w:gz\") as tar:\n",
    "        for item in os.listdir(source_dir):\n",
    "            item_path = os.path.join(source_dir, item)\n",
    "            tar.add(item_path, arcname=item)\n",
    "\n",
    "# Tar the 'model/' folder\n",
    "output_file = 'model.tar.gz'\n",
    "tar_sagemaker_style(str(model_dir), model_dir / output_file)\n",
    "print(\"tared data\")\n",
    "\n",
    "# with tarfile.open(Path(directory) / \"model.tar.gz\") as tar:\n",
    "#     tar.extractall(path=Path(model_dir))\n",
    "evaluation.main(str(model_dir), str(data_dir), str(output_dir), debug=True)"
   ]
  },
  {
   "cell_type": "code",
   "execution_count": 42,
   "id": "6c7f6964-9681-40b0-88e5-11bac7265304",
   "metadata": {
    "tags": []
   },
   "outputs": [
    {
     "name": "stdout",
     "output_type": "stream",
     "text": [
      "Predicted,Label,Confidence\n",
      "123,0,0.058272272\n",
      "128,0,0.042744916\n",
      "43,0,0.040311657\n",
      "112,0,0.043824345\n",
      "112,0,0.043053087\n",
      "17,0,0.034501385\n",
      "17,0,0.03910346\n",
      "43,0,0.049315706\n",
      "78,0,0.02734374\n",
      "46,0,0.054395616\n",
      "46,0,0.05734981\n",
      "123,0,0.037385754\n",
      "123,0,0.04410225\n",
      "17,0,0.02573959\n",
      "43,0,0.033720877\n",
      "123,0,0.041246813\n",
      "112,0,0.047379896\n",
      "123,0,0.065215066\n",
      "112,0,0.051347382\n",
      "46,0,0.049985155\n",
      "0,0,0.030542245\n",
      "128,0,0.084609374\n",
      "112,0,0.057425596\n",
      "112,0,0.036075264\n",
      "46,0,0.03006444\n",
      "43,0,0.051023073\n",
      "112,0,0.052787412\n",
      "46,0,0.031601362\n",
      "43,0,0.03916564\n",
      "112,0,0.030664597\n",
      "123,0,0.02805526\n",
      "112,0,0.04982964\n"
     ]
    }
   ],
   "source": [
    "!cat /tmp/tmpjg2v2xz9/output/evaluation_baseline.csv"
   ]
  },
  {
   "cell_type": "code",
   "execution_count": 74,
   "id": "450fd1e7-479c-4127-80db-62429548c225",
   "metadata": {
    "tags": []
   },
   "outputs": [
    {
     "name": "stdout",
     "output_type": "stream",
     "text": [
      "data_classes.txt  model.pt\n"
     ]
    }
   ],
   "source": [
    "!ls /tmp/tmpnclu3kzg/model/"
   ]
  },
  {
   "cell_type": "code",
   "execution_count": 22,
   "id": "40a66823-5719-42b8-aa88-f56d3b924e0c",
   "metadata": {
    "tags": []
   },
   "outputs": [
    {
     "name": "stdout",
     "output_type": "stream",
     "text": [
      "/tmp/tmpdtjbje2o\n",
      "cat: /tmp/tmpf8kvn5ak/output/evaluation.json: No such file or directory\n"
     ]
    }
   ],
   "source": [
    "print(directory)\n",
    "!cat /tmp/tmpf8kvn5ak/output/evaluation.json"
   ]
  },
  {
   "cell_type": "code",
   "execution_count": 23,
   "id": "4760627a-58d5-4127-bb07-96d4ee0e29a5",
   "metadata": {
    "tags": []
   },
   "outputs": [],
   "source": [
    "shutil.rmtree(directory)"
   ]
  },
  {
   "cell_type": "code",
   "execution_count": 24,
   "id": "4f338bc9-b455-4225-932d-242c36648141",
   "metadata": {
    "tags": []
   },
   "outputs": [],
   "source": [
    "from sagemaker.workflow.properties import PropertyFile\n",
    "\n",
    "evaluation_report = PropertyFile(\n",
    "    name=\"evaluation-report\", output_name=\"evaluation\", path=\"evaluation.json\"\n",
    ")"
   ]
  },
  {
   "cell_type": "code",
   "execution_count": 25,
   "id": "05a9ff37-7771-44c6-92c1-8d7448705c42",
   "metadata": {
    "tags": []
   },
   "outputs": [
    {
     "data": {
      "text/plain": [
       "<sagemaker.workflow.properties.Properties at 0x7fd961200b20>"
      ]
     },
     "execution_count": 25,
     "metadata": {},
     "output_type": "execute_result"
    }
   ],
   "source": [
    "model_assets = train_model_step.properties.ModelArtifacts.S3ModelArtifacts\n",
    "model_assets"
   ]
  },
  {
   "cell_type": "code",
   "execution_count": 26,
   "id": "1393ef1b-05ba-4461-b7c8-8aabe64b96e8",
   "metadata": {},
   "outputs": [
    {
     "data": {
      "text/plain": [
       "{'session': <sagemaker.workflow.pipeline_context.PipelineSession at 0x7fd9a93c9eb0>,\n",
       " 'instance_type': 'ml.m5.xlarge',\n",
       " 'image': None,\n",
       " 'framework_version': '1.12',\n",
       " 'py_version': 'py38'}"
      ]
     },
     "execution_count": 26,
     "metadata": {},
     "output_type": "execute_result"
    }
   ],
   "source": [
    "config"
   ]
  },
  {
   "cell_type": "code",
   "execution_count": 27,
   "id": "eaa5335d-d273-4f81-98b3-187f6a40fcf8",
   "metadata": {
    "tags": []
   },
   "outputs": [],
   "source": [
    "from sagemaker.pytorch.processing import PyTorchProcessor\n",
    "\n",
    "pytorch_processor = PyTorchProcessor(\n",
    "    base_job_name=\"evaluation-processor\",\n",
    "    image_uri=config[\"image\"],\n",
    "    framework_version=config[\"framework_version\"],\n",
    "    py_version=config[\"py_version\"],\n",
    "    instance_type=config[\"instance_type\"],\n",
    "    instance_count=1,\n",
    "    role=role,\n",
    "    sagemaker_session=config[\"session\"],\n",
    ")\n"
   ]
  },
  {
   "cell_type": "code",
   "execution_count": 28,
   "id": "1a20b9d4-a1a5-43fe-bd53-d09d7dd7e0c8",
   "metadata": {
    "tags": []
   },
   "outputs": [
    {
     "name": "stderr",
     "output_type": "stream",
     "text": [
      "/opt/conda/lib/python3.8/site-packages/sagemaker/workflow/pipeline_context.py:297: UserWarning: Running within a PipelineSession, there will be No Wait, No Logs, and No Job being started.\n",
      "  warnings.warn(\n"
     ]
    }
   ],
   "source": [
    "evaluate_model_step = ProcessingStep(\n",
    "    name=\"evaluate-model\",\n",
    "    step_args=pytorch_processor.run(\n",
    "        inputs=[\n",
    "            ProcessingInput(\n",
    "                source=preprocessing_step.properties.ProcessingOutputConfig.Outputs[\n",
    "                    \"test\"\n",
    "                ].S3Output.S3Uri,\n",
    "                destination=\"/opt/ml/processing/test\",\n",
    "            ),\n",
    "            ProcessingInput(\n",
    "                source=model_assets,\n",
    "                destination=\"/opt/ml/processing/model\",\n",
    "            ),\n",
    "        ],\n",
    "        outputs=[\n",
    "            ProcessingOutput(\n",
    "                output_name=\"evaluation\", source=\"/opt/ml/processing/evaluation\"\n",
    "            ),\n",
    "        ],\n",
    "        code=f\"evaluation.py\",\n",
    "    ),\n",
    "    property_files=[evaluation_report],\n",
    "    cache_config=cache_config,\n",
    ")"
   ]
  },
  {
   "cell_type": "markdown",
   "id": "145d2f32-bd8e-42c9-9f13-35d7d5d0e1ba",
   "metadata": {},
   "source": [
    "## Registering Model"
   ]
  },
  {
   "cell_type": "code",
   "execution_count": 29,
   "id": "1ed2a948-af30-456b-bb7a-a69bc61ecdbd",
   "metadata": {
    "tags": []
   },
   "outputs": [
    {
     "data": {
      "text/plain": [
       "{'session': <sagemaker.workflow.pipeline_context.PipelineSession at 0x7fd9a93c9eb0>,\n",
       " 'instance_type': 'ml.m5.xlarge',\n",
       " 'image': None,\n",
       " 'framework_version': '1.12',\n",
       " 'py_version': 'py38'}"
      ]
     },
     "execution_count": 29,
     "metadata": {},
     "output_type": "execute_result"
    }
   ],
   "source": [
    "config"
   ]
  },
  {
   "cell_type": "code",
   "execution_count": 30,
   "id": "8c59216d-9b89-460c-bf43-129e589f95da",
   "metadata": {
    "tags": []
   },
   "outputs": [],
   "source": [
    "MODEL_PACKAGE_GROUP = \"dogBreeds\""
   ]
  },
  {
   "cell_type": "code",
   "execution_count": 31,
   "id": "41826499-bc38-43a4-8524-8b33104f63fc",
   "metadata": {
    "tags": []
   },
   "outputs": [],
   "source": [
    "from sagemaker.pytorch.model import PyTorchModel\n",
    "\n",
    "pytorch_model = PyTorchModel(\n",
    "    model_data=model_assets,\n",
    "    entry_point=\"inference.py\",\n",
    "    image_uri=config[\"image\"],\n",
    "    py_version=config[\"py_version\"],\n",
    "    framework_version=config[\"framework_version\"],\n",
    "    sagemaker_session=config[\"session\"],\n",
    "    role=role,\n",
    ")"
   ]
  },
  {
   "cell_type": "code",
   "execution_count": 32,
   "id": "2041853e-85f2-4c84-b1ed-ee817ddf5629",
   "metadata": {
    "tags": []
   },
   "outputs": [],
   "source": [
    "from sagemaker.model_metrics import ModelMetrics, MetricsSource\n",
    "from sagemaker.workflow.functions import Join\n",
    "\n",
    "model_metrics = ModelMetrics(\n",
    "    model_statistics=MetricsSource(\n",
    "        s3_uri=Join(\n",
    "            on=\"/\",\n",
    "            values=[\n",
    "                evaluate_model_step.properties.ProcessingOutputConfig.Outputs[\n",
    "                    \"evaluation\"\n",
    "                ].S3Output.S3Uri,\n",
    "                \"evaluation.json\",\n",
    "            ],\n",
    "        ),\n",
    "        content_type=\"application/json\",\n",
    "    )\n",
    ")"
   ]
  },
  {
   "cell_type": "code",
   "execution_count": 33,
   "id": "00b8d61d-bb3c-42a8-8b5c-81d5e9f2e599",
   "metadata": {
    "tags": []
   },
   "outputs": [],
   "source": [
    "from sagemaker.workflow.model_step import ModelStep\n",
    "\n",
    "register_model_step = ModelStep(\n",
    "    name=\"register-model\",\n",
    "    step_args=pytorch_model.register(\n",
    "        model_package_group_name=MODEL_PACKAGE_GROUP,\n",
    "        approval_status=\"PendingManualApproval\",\n",
    "        model_metrics=model_metrics,\n",
    "        content_types=[\"application/x-image\"],\n",
    "        response_types=[\"application/json\"],\n",
    "        inference_instances=[\"ml.m5.xlarge\"],\n",
    "        transform_instances=[\"ml.g4dn.xlarge\"],\n",
    "        domain=\"MACHINE_LEARNING\",\n",
    "        task=\"CLASSIFICATION\",\n",
    "        framework=\"PYTORCH\",\n",
    "        framework_version=config[\"framework_version\"],\n",
    "    ),\n",
    ")"
   ]
  },
  {
   "cell_type": "code",
   "execution_count": 34,
   "id": "675a678f-1cda-4ba0-a27d-d421dc5c8554",
   "metadata": {
    "tags": []
   },
   "outputs": [],
   "source": [
    "from sagemaker.workflow.parameters import ParameterFloat\n",
    "\n",
    "accuracy_threshold = ParameterFloat(name=\"accuracy_threshold\", default_value=0.50)"
   ]
  },
  {
   "cell_type": "code",
   "execution_count": 35,
   "id": "7f4e5fbe-96e7-457c-a169-c617a3b6a6fe",
   "metadata": {
    "tags": []
   },
   "outputs": [],
   "source": [
    "from sagemaker.workflow.fail_step import FailStep\n",
    "\n",
    "fail_step = FailStep(\n",
    "    name=\"fail\",\n",
    "    error_message=Join(\n",
    "        on=\" \",\n",
    "        values=[\n",
    "            \"Execution failed because the model's accuracy was lower than\",\n",
    "            accuracy_threshold,\n",
    "        ],\n",
    "    ),\n",
    ")"
   ]
  },
  {
   "cell_type": "code",
   "execution_count": 36,
   "id": "e9f72318-5b3c-4d52-96e5-ebadd7c1e8c9",
   "metadata": {
    "tags": []
   },
   "outputs": [],
   "source": [
    "from sagemaker.workflow.functions import JsonGet\n",
    "from sagemaker.workflow.conditions import ConditionGreaterThanOrEqualTo\n",
    "\n",
    "condition = ConditionGreaterThanOrEqualTo(\n",
    "    left=JsonGet(\n",
    "        step_name=evaluate_model_step.name,\n",
    "        property_file=evaluation_report,\n",
    "        json_path=\"metrics.accuracy.value\",\n",
    "    ),\n",
    "    right=accuracy_threshold,\n",
    ")"
   ]
  },
  {
   "cell_type": "code",
   "execution_count": 37,
   "id": "d3939587-06b6-450b-aaa5-e96d5420433d",
   "metadata": {
    "tags": []
   },
   "outputs": [],
   "source": [
    "from sagemaker.workflow.condition_step import ConditionStep\n",
    "\n",
    "condition_step = ConditionStep(\n",
    "    name=\"check-model-accuracy\",\n",
    "    conditions=[condition],\n",
    "    if_steps=[register_model_step],\n",
    "    else_steps=[fail_step],\n",
    ")"
   ]
  },
  {
   "cell_type": "code",
   "execution_count": 38,
   "id": "098e6e08-08f4-42cf-b478-c47e35fb3b0c",
   "metadata": {
    "tags": []
   },
   "outputs": [],
   "source": [
    "training_pipeline = Pipeline(\n",
    "    name=\"dogBreeds-training-pipeline\",\n",
    "    parameters=[dataset_location, accuracy_threshold],\n",
    "    steps=[\n",
    "        preprocessing_step,\n",
    "        train_model_step,\n",
    "        evaluate_model_step,\n",
    "        condition_step,\n",
    "    ],\n",
    "    pipeline_definition_config=pipeline_definition_config,\n",
    "    sagemaker_session=config[\"session\"],\n",
    ")\n",
    "\n",
    "# training_pipeline.upsert(role_arn=role)"
   ]
  },
  {
   "cell_type": "markdown",
   "id": "69aec151-97a9-4691-9e59-2ec16e474261",
   "metadata": {},
   "source": [
    "# Setup lambda"
   ]
  },
  {
   "cell_type": "code",
   "execution_count": 37,
   "id": "356d8215-96ad-49a3-bb1a-24df3721313e",
   "metadata": {
    "collapsed": true,
    "jupyter": {
     "outputs_hidden": true
    },
    "tags": []
   },
   "outputs": [
    {
     "ename": "ClientError",
     "evalue": "An error occurred (AccessDenied) when calling the CreateRole operation: User: arn:aws:sts::681340771742:assumed-role/AmazonSageMaker-ExecutionRole-20230916T122655/SageMaker is not authorized to perform: iam:CreateRole on resource: arn:aws:iam::681340771742:role/lambda-deployment-role because no identity-based policy allows the iam:CreateRole action",
     "output_type": "error",
     "traceback": [
      "\u001b[0;31m---------------------------------------------------------------------------\u001b[0m",
      "\u001b[0;31mClientError\u001b[0m                               Traceback (most recent call last)",
      "Cell \u001b[0;32mIn[37], line 8\u001b[0m\n\u001b[1;32m      5\u001b[0m lambda_role_arn \u001b[38;5;241m=\u001b[39m \u001b[38;5;28;01mNone\u001b[39;00m\n\u001b[1;32m      7\u001b[0m \u001b[38;5;28;01mtry\u001b[39;00m:\n\u001b[0;32m----> 8\u001b[0m     response \u001b[38;5;241m=\u001b[39m \u001b[43miam_client\u001b[49m\u001b[38;5;241;43m.\u001b[39;49m\u001b[43mcreate_role\u001b[49m\u001b[43m(\u001b[49m\n\u001b[1;32m      9\u001b[0m \u001b[43m        \u001b[49m\u001b[43mRoleName\u001b[49m\u001b[38;5;241;43m=\u001b[39;49m\u001b[43mlambda_role_name\u001b[49m\u001b[43m,\u001b[49m\n\u001b[1;32m     10\u001b[0m \u001b[43m        \u001b[49m\u001b[43mAssumeRolePolicyDocument\u001b[49m\u001b[38;5;241;43m=\u001b[39;49m\u001b[43mjson\u001b[49m\u001b[38;5;241;43m.\u001b[39;49m\u001b[43mdumps\u001b[49m\u001b[43m(\u001b[49m\n\u001b[1;32m     11\u001b[0m \u001b[43m            \u001b[49m\u001b[43m{\u001b[49m\n\u001b[1;32m     12\u001b[0m \u001b[43m                \u001b[49m\u001b[38;5;124;43m\"\u001b[39;49m\u001b[38;5;124;43mVersion\u001b[39;49m\u001b[38;5;124;43m\"\u001b[39;49m\u001b[43m:\u001b[49m\u001b[43m \u001b[49m\u001b[38;5;124;43m\"\u001b[39;49m\u001b[38;5;124;43m2012-10-17\u001b[39;49m\u001b[38;5;124;43m\"\u001b[39;49m\u001b[43m,\u001b[49m\n\u001b[1;32m     13\u001b[0m \u001b[43m                \u001b[49m\u001b[38;5;124;43m\"\u001b[39;49m\u001b[38;5;124;43mStatement\u001b[39;49m\u001b[38;5;124;43m\"\u001b[39;49m\u001b[43m:\u001b[49m\u001b[43m \u001b[49m\u001b[43m[\u001b[49m\n\u001b[1;32m     14\u001b[0m \u001b[43m                    \u001b[49m\u001b[43m{\u001b[49m\n\u001b[1;32m     15\u001b[0m \u001b[43m                        \u001b[49m\u001b[38;5;124;43m\"\u001b[39;49m\u001b[38;5;124;43mEffect\u001b[39;49m\u001b[38;5;124;43m\"\u001b[39;49m\u001b[43m:\u001b[49m\u001b[43m \u001b[49m\u001b[38;5;124;43m\"\u001b[39;49m\u001b[38;5;124;43mAllow\u001b[39;49m\u001b[38;5;124;43m\"\u001b[39;49m\u001b[43m,\u001b[49m\n\u001b[1;32m     16\u001b[0m \u001b[43m                        \u001b[49m\u001b[38;5;124;43m\"\u001b[39;49m\u001b[38;5;124;43mPrincipal\u001b[39;49m\u001b[38;5;124;43m\"\u001b[39;49m\u001b[43m:\u001b[49m\u001b[43m \u001b[49m\u001b[43m{\u001b[49m\n\u001b[1;32m     17\u001b[0m \u001b[43m                            \u001b[49m\u001b[38;5;124;43m\"\u001b[39;49m\u001b[38;5;124;43mService\u001b[39;49m\u001b[38;5;124;43m\"\u001b[39;49m\u001b[43m:\u001b[49m\u001b[43m \u001b[49m\u001b[43m[\u001b[49m\u001b[38;5;124;43m\"\u001b[39;49m\u001b[38;5;124;43mlambda.amazonaws.com\u001b[39;49m\u001b[38;5;124;43m\"\u001b[39;49m\u001b[43m,\u001b[49m\u001b[43m \u001b[49m\u001b[38;5;124;43m\"\u001b[39;49m\u001b[38;5;124;43mevents.amazonaws.com\u001b[39;49m\u001b[38;5;124;43m\"\u001b[39;49m\u001b[43m]\u001b[49m\n\u001b[1;32m     18\u001b[0m \u001b[43m                        \u001b[49m\u001b[43m}\u001b[49m\u001b[43m,\u001b[49m\n\u001b[1;32m     19\u001b[0m \u001b[43m                        \u001b[49m\u001b[38;5;124;43m\"\u001b[39;49m\u001b[38;5;124;43mAction\u001b[39;49m\u001b[38;5;124;43m\"\u001b[39;49m\u001b[43m:\u001b[49m\u001b[43m \u001b[49m\u001b[38;5;124;43m\"\u001b[39;49m\u001b[38;5;124;43msts:AssumeRole\u001b[39;49m\u001b[38;5;124;43m\"\u001b[39;49m\u001b[43m,\u001b[49m\n\u001b[1;32m     20\u001b[0m \u001b[43m                    \u001b[49m\u001b[43m}\u001b[49m\n\u001b[1;32m     21\u001b[0m \u001b[43m                \u001b[49m\u001b[43m]\u001b[49m\u001b[43m,\u001b[49m\n\u001b[1;32m     22\u001b[0m \u001b[43m            \u001b[49m\u001b[43m}\u001b[49m\n\u001b[1;32m     23\u001b[0m \u001b[43m        \u001b[49m\u001b[43m)\u001b[49m\u001b[43m,\u001b[49m\n\u001b[1;32m     24\u001b[0m \u001b[43m        \u001b[49m\u001b[43mDescription\u001b[49m\u001b[38;5;241;43m=\u001b[39;49m\u001b[38;5;124;43m\"\u001b[39;49m\u001b[38;5;124;43mLambda Endpoint Deployment\u001b[39;49m\u001b[38;5;124;43m\"\u001b[39;49m\u001b[43m,\u001b[49m\n\u001b[1;32m     25\u001b[0m \u001b[43m    \u001b[49m\u001b[43m)\u001b[49m\n\u001b[1;32m     27\u001b[0m     lambda_role_arn \u001b[38;5;241m=\u001b[39m response[\u001b[38;5;124m\"\u001b[39m\u001b[38;5;124mRole\u001b[39m\u001b[38;5;124m\"\u001b[39m][\u001b[38;5;124m\"\u001b[39m\u001b[38;5;124mArn\u001b[39m\u001b[38;5;124m\"\u001b[39m]\n\u001b[1;32m     29\u001b[0m     iam_client\u001b[38;5;241m.\u001b[39mattach_role_policy(\n\u001b[1;32m     30\u001b[0m         PolicyArn\u001b[38;5;241m=\u001b[39m\u001b[38;5;124m\"\u001b[39m\u001b[38;5;124marn:aws:iam::aws:policy/service-role/AWSLambdaBasicExecutionRole\u001b[39m\u001b[38;5;124m\"\u001b[39m,\n\u001b[1;32m     31\u001b[0m         RoleName\u001b[38;5;241m=\u001b[39mlambda_role_name,\n\u001b[1;32m     32\u001b[0m     )\n",
      "File \u001b[0;32m/opt/conda/lib/python3.8/site-packages/botocore/client.py:535\u001b[0m, in \u001b[0;36mClientCreator._create_api_method.<locals>._api_call\u001b[0;34m(self, *args, **kwargs)\u001b[0m\n\u001b[1;32m    531\u001b[0m     \u001b[38;5;28;01mraise\u001b[39;00m \u001b[38;5;167;01mTypeError\u001b[39;00m(\n\u001b[1;32m    532\u001b[0m         \u001b[38;5;124mf\u001b[39m\u001b[38;5;124m\"\u001b[39m\u001b[38;5;132;01m{\u001b[39;00mpy_operation_name\u001b[38;5;132;01m}\u001b[39;00m\u001b[38;5;124m() only accepts keyword arguments.\u001b[39m\u001b[38;5;124m\"\u001b[39m\n\u001b[1;32m    533\u001b[0m     )\n\u001b[1;32m    534\u001b[0m \u001b[38;5;66;03m# The \"self\" in this scope is referring to the BaseClient.\u001b[39;00m\n\u001b[0;32m--> 535\u001b[0m \u001b[38;5;28;01mreturn\u001b[39;00m \u001b[38;5;28;43mself\u001b[39;49m\u001b[38;5;241;43m.\u001b[39;49m\u001b[43m_make_api_call\u001b[49m\u001b[43m(\u001b[49m\u001b[43moperation_name\u001b[49m\u001b[43m,\u001b[49m\u001b[43m \u001b[49m\u001b[43mkwargs\u001b[49m\u001b[43m)\u001b[49m\n",
      "File \u001b[0;32m/opt/conda/lib/python3.8/site-packages/botocore/client.py:980\u001b[0m, in \u001b[0;36mBaseClient._make_api_call\u001b[0;34m(self, operation_name, api_params)\u001b[0m\n\u001b[1;32m    978\u001b[0m     error_code \u001b[38;5;241m=\u001b[39m parsed_response\u001b[38;5;241m.\u001b[39mget(\u001b[38;5;124m\"\u001b[39m\u001b[38;5;124mError\u001b[39m\u001b[38;5;124m\"\u001b[39m, {})\u001b[38;5;241m.\u001b[39mget(\u001b[38;5;124m\"\u001b[39m\u001b[38;5;124mCode\u001b[39m\u001b[38;5;124m\"\u001b[39m)\n\u001b[1;32m    979\u001b[0m     error_class \u001b[38;5;241m=\u001b[39m \u001b[38;5;28mself\u001b[39m\u001b[38;5;241m.\u001b[39mexceptions\u001b[38;5;241m.\u001b[39mfrom_code(error_code)\n\u001b[0;32m--> 980\u001b[0m     \u001b[38;5;28;01mraise\u001b[39;00m error_class(parsed_response, operation_name)\n\u001b[1;32m    981\u001b[0m \u001b[38;5;28;01melse\u001b[39;00m:\n\u001b[1;32m    982\u001b[0m     \u001b[38;5;28;01mreturn\u001b[39;00m parsed_response\n",
      "\u001b[0;31mClientError\u001b[0m: An error occurred (AccessDenied) when calling the CreateRole operation: User: arn:aws:sts::681340771742:assumed-role/AmazonSageMaker-ExecutionRole-20230916T122655/SageMaker is not authorized to perform: iam:CreateRole on resource: arn:aws:iam::681340771742:role/lambda-deployment-role because no identity-based policy allows the iam:CreateRole action"
     ]
    }
   ],
   "source": [
    "# setup role for lambda to deploy endpoint\n",
    "import json\n",
    "\n",
    "lambda_role_name = \"lambda-deployment-role\"\n",
    "lambda_role_arn = None\n",
    "\n",
    "try:\n",
    "    response = iam_client.create_role(\n",
    "        RoleName=lambda_role_name,\n",
    "        AssumeRolePolicyDocument=json.dumps(\n",
    "            {\n",
    "                \"Version\": \"2012-10-17\",\n",
    "                \"Statement\": [\n",
    "                    {\n",
    "                        \"Effect\": \"Allow\",\n",
    "                        \"Principal\": {\n",
    "                            \"Service\": [\"lambda.amazonaws.com\", \"events.amazonaws.com\"]\n",
    "                        },\n",
    "                        \"Action\": \"sts:AssumeRole\",\n",
    "                    }\n",
    "                ],\n",
    "            }\n",
    "        ),\n",
    "        Description=\"Lambda Endpoint Deployment\",\n",
    "    )\n",
    "\n",
    "    lambda_role_arn = response[\"Role\"][\"Arn\"]\n",
    "\n",
    "    iam_client.attach_role_policy(\n",
    "        PolicyArn=\"arn:aws:iam::aws:policy/service-role/AWSLambdaBasicExecutionRole\",\n",
    "        RoleName=lambda_role_name,\n",
    "    )\n",
    "\n",
    "    iam_client.attach_role_policy(\n",
    "        PolicyArn=\"arn:aws:iam::aws:policy/AmazonSageMakerFullAccess\",\n",
    "        RoleName=lambda_role_name,\n",
    "    )\n",
    "\n",
    "    print(f'Role \"{lambda_role_name}\" created with ARN \"{lambda_role_arn}\".')\n",
    "except iam_client.exceptions.EntityAlreadyExistsException:\n",
    "    response = iam_client.get_role(RoleName=lambda_role_name)\n",
    "    lambda_role_arn = response[\"Role\"][\"Arn\"]\n",
    "    print(f'Role \"{lambda_role_name}\" already exists with ARN \"{lambda_role_arn}\".')"
   ]
  },
  {
   "cell_type": "code",
   "execution_count": 40,
   "id": "a55170ed-654e-4a44-97b8-a7046c29a328",
   "metadata": {
    "tags": []
   },
   "outputs": [
    {
     "data": {
      "text/plain": [
       "'pochingto-testing'"
      ]
     },
     "execution_count": 40,
     "metadata": {},
     "output_type": "execute_result"
    }
   ],
   "source": [
    "bucket"
   ]
  },
  {
   "cell_type": "code",
   "execution_count": 41,
   "id": "9aeb1cb0-db86-49ff-9ff8-46cc128102de",
   "metadata": {
    "tags": []
   },
   "outputs": [],
   "source": [
    "from sagemaker.predictor import Predictor\n",
    "\n",
    "ENDPOINT = \"dogbreeds-endpoint\"\n",
    "DATA_CAPTURE_DESTINATION = f\"{bucket}/monitoring/data-capture\""
   ]
  },
  {
   "cell_type": "code",
   "execution_count": 43,
   "id": "3030fae6-3031-4f67-b3eb-9301934bd2f1",
   "metadata": {
    "tags": []
   },
   "outputs": [
    {
     "data": {
      "text/plain": [
       "'pochingto-testing/monitoring/data-capture'"
      ]
     },
     "execution_count": 43,
     "metadata": {},
     "output_type": "execute_result"
    }
   ],
   "source": [
    "DATA_CAPTURE_DESTINATION"
   ]
  },
  {
   "cell_type": "code",
   "execution_count": 44,
   "id": "f92d5ed5-f5fd-4ce2-aec3-3aa19488bf9e",
   "metadata": {
    "tags": []
   },
   "outputs": [
    {
     "data": {
      "text/plain": [
       "'arn:aws:iam::681340771742:role/service-role/AmazonSageMaker-ExecutionRole-20230916T122655'"
      ]
     },
     "execution_count": 44,
     "metadata": {},
     "output_type": "execute_result"
    }
   ],
   "source": [
    "role"
   ]
  },
  {
   "cell_type": "code",
   "execution_count": 42,
   "id": "15934808-f487-4976-81df-bd27a3d845e1",
   "metadata": {
    "collapsed": true,
    "jupyter": {
     "outputs_hidden": true
    },
    "tags": []
   },
   "outputs": [
    {
     "ename": "ValueError",
     "evalue": "{'Message': 'User: arn:aws:sts::681340771742:assumed-role/AmazonSageMaker-ExecutionRole-20230916T122655/SageMaker is not authorized to perform: lambda:CreateFunction on resource: arn:aws:lambda:us-east-1:681340771742:function:deploy_fn because no identity-based policy allows the lambda:CreateFunction action', 'Code': 'AccessDeniedException'}",
     "output_type": "error",
     "traceback": [
      "\u001b[0;31m---------------------------------------------------------------------------\u001b[0m",
      "\u001b[0;31mClientError\u001b[0m                               Traceback (most recent call last)",
      "File \u001b[0;32m/opt/conda/lib/python3.8/site-packages/sagemaker/lambda_helper.py:136\u001b[0m, in \u001b[0;36mLambda.create\u001b[0;34m(self)\u001b[0m\n\u001b[1;32m    135\u001b[0m \u001b[38;5;28;01mtry\u001b[39;00m:\n\u001b[0;32m--> 136\u001b[0m     response \u001b[38;5;241m=\u001b[39m \u001b[43mlambda_client\u001b[49m\u001b[38;5;241;43m.\u001b[39;49m\u001b[43mcreate_function\u001b[49m\u001b[43m(\u001b[49m\n\u001b[1;32m    137\u001b[0m \u001b[43m        \u001b[49m\u001b[43mFunctionName\u001b[49m\u001b[38;5;241;43m=\u001b[39;49m\u001b[38;5;28;43mself\u001b[39;49m\u001b[38;5;241;43m.\u001b[39;49m\u001b[43mfunction_name\u001b[49m\u001b[43m,\u001b[49m\n\u001b[1;32m    138\u001b[0m \u001b[43m        \u001b[49m\u001b[43mRuntime\u001b[49m\u001b[38;5;241;43m=\u001b[39;49m\u001b[38;5;28;43mself\u001b[39;49m\u001b[38;5;241;43m.\u001b[39;49m\u001b[43mruntime\u001b[49m\u001b[43m,\u001b[49m\n\u001b[1;32m    139\u001b[0m \u001b[43m        \u001b[49m\u001b[43mHandler\u001b[49m\u001b[38;5;241;43m=\u001b[39;49m\u001b[38;5;28;43mself\u001b[39;49m\u001b[38;5;241;43m.\u001b[39;49m\u001b[43mhandler\u001b[49m\u001b[43m,\u001b[49m\n\u001b[1;32m    140\u001b[0m \u001b[43m        \u001b[49m\u001b[43mRole\u001b[49m\u001b[38;5;241;43m=\u001b[39;49m\u001b[38;5;28;43mself\u001b[39;49m\u001b[38;5;241;43m.\u001b[39;49m\u001b[43mexecution_role_arn\u001b[49m\u001b[43m,\u001b[49m\n\u001b[1;32m    141\u001b[0m \u001b[43m        \u001b[49m\u001b[43mCode\u001b[49m\u001b[38;5;241;43m=\u001b[39;49m\u001b[43mcode\u001b[49m\u001b[43m,\u001b[49m\n\u001b[1;32m    142\u001b[0m \u001b[43m        \u001b[49m\u001b[43mTimeout\u001b[49m\u001b[38;5;241;43m=\u001b[39;49m\u001b[38;5;28;43mself\u001b[39;49m\u001b[38;5;241;43m.\u001b[39;49m\u001b[43mtimeout\u001b[49m\u001b[43m,\u001b[49m\n\u001b[1;32m    143\u001b[0m \u001b[43m        \u001b[49m\u001b[43mMemorySize\u001b[49m\u001b[38;5;241;43m=\u001b[39;49m\u001b[38;5;28;43mself\u001b[39;49m\u001b[38;5;241;43m.\u001b[39;49m\u001b[43mmemory_size\u001b[49m\u001b[43m,\u001b[49m\n\u001b[1;32m    144\u001b[0m \u001b[43m        \u001b[49m\u001b[43mVpcConfig\u001b[49m\u001b[38;5;241;43m=\u001b[39;49m\u001b[38;5;28;43mself\u001b[39;49m\u001b[38;5;241;43m.\u001b[39;49m\u001b[43mvpc_config\u001b[49m\u001b[43m,\u001b[49m\n\u001b[1;32m    145\u001b[0m \u001b[43m        \u001b[49m\u001b[43mEnvironment\u001b[49m\u001b[38;5;241;43m=\u001b[39;49m\u001b[38;5;28;43mself\u001b[39;49m\u001b[38;5;241;43m.\u001b[39;49m\u001b[43menvironment\u001b[49m\u001b[43m,\u001b[49m\n\u001b[1;32m    146\u001b[0m \u001b[43m        \u001b[49m\u001b[43mLayers\u001b[49m\u001b[38;5;241;43m=\u001b[39;49m\u001b[38;5;28;43mself\u001b[39;49m\u001b[38;5;241;43m.\u001b[39;49m\u001b[43mlayers\u001b[49m\u001b[43m,\u001b[49m\n\u001b[1;32m    147\u001b[0m \u001b[43m    \u001b[49m\u001b[43m)\u001b[49m\n\u001b[1;32m    148\u001b[0m     \u001b[38;5;28;01mreturn\u001b[39;00m response\n",
      "File \u001b[0;32m/opt/conda/lib/python3.8/site-packages/botocore/client.py:535\u001b[0m, in \u001b[0;36mClientCreator._create_api_method.<locals>._api_call\u001b[0;34m(self, *args, **kwargs)\u001b[0m\n\u001b[1;32m    534\u001b[0m \u001b[38;5;66;03m# The \"self\" in this scope is referring to the BaseClient.\u001b[39;00m\n\u001b[0;32m--> 535\u001b[0m \u001b[38;5;28;01mreturn\u001b[39;00m \u001b[38;5;28;43mself\u001b[39;49m\u001b[38;5;241;43m.\u001b[39;49m\u001b[43m_make_api_call\u001b[49m\u001b[43m(\u001b[49m\u001b[43moperation_name\u001b[49m\u001b[43m,\u001b[49m\u001b[43m \u001b[49m\u001b[43mkwargs\u001b[49m\u001b[43m)\u001b[49m\n",
      "File \u001b[0;32m/opt/conda/lib/python3.8/site-packages/botocore/client.py:980\u001b[0m, in \u001b[0;36mBaseClient._make_api_call\u001b[0;34m(self, operation_name, api_params)\u001b[0m\n\u001b[1;32m    979\u001b[0m     error_class \u001b[38;5;241m=\u001b[39m \u001b[38;5;28mself\u001b[39m\u001b[38;5;241m.\u001b[39mexceptions\u001b[38;5;241m.\u001b[39mfrom_code(error_code)\n\u001b[0;32m--> 980\u001b[0m     \u001b[38;5;28;01mraise\u001b[39;00m error_class(parsed_response, operation_name)\n\u001b[1;32m    981\u001b[0m \u001b[38;5;28;01melse\u001b[39;00m:\n",
      "\u001b[0;31mClientError\u001b[0m: An error occurred (AccessDeniedException) when calling the CreateFunction operation: User: arn:aws:sts::681340771742:assumed-role/AmazonSageMaker-ExecutionRole-20230916T122655/SageMaker is not authorized to perform: lambda:CreateFunction on resource: arn:aws:lambda:us-east-1:681340771742:function:deploy_fn because no identity-based policy allows the lambda:CreateFunction action",
      "\nDuring handling of the above exception, another exception occurred:\n",
      "\u001b[0;31mValueError\u001b[0m                                Traceback (most recent call last)",
      "Cell \u001b[0;32mIn[42], line 21\u001b[0m\n\u001b[1;32m      3\u001b[0m lambda_role_arn \u001b[38;5;241m=\u001b[39m \u001b[38;5;124m\"\u001b[39m\u001b[38;5;124marn:aws:iam::681340771742:role/lambda-deployment-role\u001b[39m\u001b[38;5;124m\"\u001b[39m\n\u001b[1;32m      4\u001b[0m deploy_lambda_fn \u001b[38;5;241m=\u001b[39m Lambda(\n\u001b[1;32m      5\u001b[0m     function_name\u001b[38;5;241m=\u001b[39m\u001b[38;5;124m\"\u001b[39m\u001b[38;5;124mdeploy_fn\u001b[39m\u001b[38;5;124m\"\u001b[39m,\n\u001b[1;32m      6\u001b[0m     execution_role_arn\u001b[38;5;241m=\u001b[39mlambda_role_arn,\n\u001b[0;32m   (...)\u001b[0m\n\u001b[1;32m     18\u001b[0m     },\n\u001b[1;32m     19\u001b[0m )\n\u001b[0;32m---> 21\u001b[0m lambda_response \u001b[38;5;241m=\u001b[39m \u001b[43mdeploy_lambda_fn\u001b[49m\u001b[38;5;241;43m.\u001b[39;49m\u001b[43mupsert\u001b[49m\u001b[43m(\u001b[49m\u001b[43m)\u001b[49m\n\u001b[1;32m     22\u001b[0m lambda_response\n",
      "File \u001b[0;32m/opt/conda/lib/python3.8/site-packages/sagemaker/lambda_helper.py:211\u001b[0m, in \u001b[0;36mLambda.upsert\u001b[0;34m(self)\u001b[0m\n\u001b[1;32m    206\u001b[0m \u001b[38;5;250m\u001b[39m\u001b[38;5;124;03m\"\"\"Method to create a lambda function or update it if it already exists\u001b[39;00m\n\u001b[1;32m    207\u001b[0m \n\u001b[1;32m    208\u001b[0m \u001b[38;5;124;03mReturns: boto3 response from Lambda's methods.\u001b[39;00m\n\u001b[1;32m    209\u001b[0m \u001b[38;5;124;03m\"\"\"\u001b[39;00m\n\u001b[1;32m    210\u001b[0m \u001b[38;5;28;01mtry\u001b[39;00m:\n\u001b[0;32m--> 211\u001b[0m     \u001b[38;5;28;01mreturn\u001b[39;00m \u001b[38;5;28;43mself\u001b[39;49m\u001b[38;5;241;43m.\u001b[39;49m\u001b[43mcreate\u001b[49m\u001b[43m(\u001b[49m\u001b[43m)\u001b[49m\n\u001b[1;32m    212\u001b[0m \u001b[38;5;28;01mexcept\u001b[39;00m \u001b[38;5;167;01mValueError\u001b[39;00m \u001b[38;5;28;01mas\u001b[39;00m error:\n\u001b[1;32m    213\u001b[0m     \u001b[38;5;28;01mif\u001b[39;00m \u001b[38;5;124m\"\u001b[39m\u001b[38;5;124mResourceConflictException\u001b[39m\u001b[38;5;124m\"\u001b[39m \u001b[38;5;129;01min\u001b[39;00m \u001b[38;5;28mstr\u001b[39m(error):\n",
      "File \u001b[0;32m/opt/conda/lib/python3.8/site-packages/sagemaker/lambda_helper.py:151\u001b[0m, in \u001b[0;36mLambda.create\u001b[0;34m(self)\u001b[0m\n\u001b[1;32m    149\u001b[0m \u001b[38;5;28;01mexcept\u001b[39;00m ClientError \u001b[38;5;28;01mas\u001b[39;00m e:\n\u001b[1;32m    150\u001b[0m     error \u001b[38;5;241m=\u001b[39m e\u001b[38;5;241m.\u001b[39mresponse[\u001b[38;5;124m\"\u001b[39m\u001b[38;5;124mError\u001b[39m\u001b[38;5;124m\"\u001b[39m]\n\u001b[0;32m--> 151\u001b[0m     \u001b[38;5;28;01mraise\u001b[39;00m \u001b[38;5;167;01mValueError\u001b[39;00m(error)\n",
      "\u001b[0;31mValueError\u001b[0m: {'Message': 'User: arn:aws:sts::681340771742:assumed-role/AmazonSageMaker-ExecutionRole-20230916T122655/SageMaker is not authorized to perform: lambda:CreateFunction on resource: arn:aws:lambda:us-east-1:681340771742:function:deploy_fn because no identity-based policy allows the lambda:CreateFunction action', 'Code': 'AccessDeniedException'}"
     ]
    }
   ],
   "source": [
    "from sagemaker.lambda_helper import Lambda\n",
    "\n",
    "lambda_role_arn = \"arn:aws:iam::681340771742:role/lambda-deployment-role\"\n",
    "deploy_lambda_fn = Lambda(\n",
    "    function_name=\"deploy_fn\",\n",
    "    execution_role_arn=lambda_role_arn,\n",
    "    script=\"lambda.py\",\n",
    "    handler=\"lambda.lambda_handler\",\n",
    "    timeout=600,\n",
    "    session=sagemaker_session,\n",
    "    runtime=\"python3.11\",\n",
    "    environment={\n",
    "        \"Variables\": {\n",
    "            \"ENDPOINT\": ENDPOINT,\n",
    "            \"DATA_CAPTURE_DESTINATION\": DATA_CAPTURE_DESTINATION,\n",
    "            \"ROLE\": role,\n",
    "        }\n",
    "    },\n",
    ")\n",
    "\n",
    "lambda_response = deploy_lambda_fn.upsert()\n",
    "lambda_response"
   ]
  },
  {
   "cell_type": "markdown",
   "id": "bc94c32c-894b-49de-a57e-67053710c92a",
   "metadata": {},
   "source": [
    "## Setup Eventbridge"
   ]
  },
  {
   "cell_type": "code",
   "execution_count": 46,
   "id": "09914ec1-5353-44c0-9242-7872e9dfd65f",
   "metadata": {
    "tags": []
   },
   "outputs": [
    {
     "data": {
      "text/plain": [
       "'dogBreeds'"
      ]
     },
     "execution_count": 46,
     "metadata": {},
     "output_type": "execute_result"
    }
   ],
   "source": [
    "MODEL_PACKAGE_GROUP"
   ]
  },
  {
   "cell_type": "code",
   "execution_count": 47,
   "id": "0003d4c3-523a-403b-9a05-cfccf3a68969",
   "metadata": {
    "tags": []
   },
   "outputs": [],
   "source": [
    "event_pattern = f\"\"\"\n",
    "{{\n",
    "  \"source\": [\"aws.sagemaker\"],\n",
    "  \"detail-type\": [\"SageMaker Model Package State Change\"],\n",
    "  \"detail\": {{\n",
    "    \"ModelPackageGroupName\": [\"{MODEL_PACKAGE_GROUP}\"],\n",
    "    \"ModelApprovalStatus\": [\"Approved\"]\n",
    "  }}\n",
    "}}\n",
    "\"\"\""
   ]
  },
  {
   "cell_type": "code",
   "execution_count": 50,
   "id": "8a5ac4bc-8325-47fd-a660-735688ae0127",
   "metadata": {
    "tags": []
   },
   "outputs": [
    {
     "data": {
      "text/plain": [
       "'\\n{\\n  \"source\": [\"aws.sagemaker\"],\\n  \"detail-type\": [\"SageMaker Model Package State Change\"],\\n  \"detail\": {\\n    \"ModelPackageGroupName\": [\"dogBreeds\"],\\n    \"ModelApprovalStatus\": [\"Approved\"]\\n  }\\n}\\n'"
      ]
     },
     "execution_count": 50,
     "metadata": {},
     "output_type": "execute_result"
    }
   ],
   "source": [
    "event_pattern"
   ]
  },
  {
   "cell_type": "code",
   "execution_count": 48,
   "id": "01e3e4d0-293a-415d-bef5-ec1835b4d696",
   "metadata": {
    "tags": []
   },
   "outputs": [
    {
     "ename": "ClientError",
     "evalue": "An error occurred (AccessDeniedException) when calling the PutRule operation: User: arn:aws:sts::681340771742:assumed-role/AmazonSageMaker-ExecutionRole-20230916T122655/SageMaker is not authorized to perform: events:PutRule on resource: arn:aws:events:us-east-1:681340771742:rule/PipelineModelApprovedRule because no identity-based policy allows the events:PutRule action",
     "output_type": "error",
     "traceback": [
      "\u001b[0;31m---------------------------------------------------------------------------\u001b[0m",
      "\u001b[0;31mClientError\u001b[0m                               Traceback (most recent call last)",
      "Cell \u001b[0;32mIn[48], line 2\u001b[0m\n\u001b[1;32m      1\u001b[0m events_client \u001b[38;5;241m=\u001b[39m boto3\u001b[38;5;241m.\u001b[39mclient(\u001b[38;5;124m\"\u001b[39m\u001b[38;5;124mevents\u001b[39m\u001b[38;5;124m\"\u001b[39m)\n\u001b[0;32m----> 2\u001b[0m rule_response \u001b[38;5;241m=\u001b[39m \u001b[43mevents_client\u001b[49m\u001b[38;5;241;43m.\u001b[39;49m\u001b[43mput_rule\u001b[49m\u001b[43m(\u001b[49m\n\u001b[1;32m      3\u001b[0m \u001b[43m    \u001b[49m\u001b[43mName\u001b[49m\u001b[38;5;241;43m=\u001b[39;49m\u001b[38;5;124;43m\"\u001b[39;49m\u001b[38;5;124;43mPipelineModelApprovedRule\u001b[39;49m\u001b[38;5;124;43m\"\u001b[39;49m\u001b[43m,\u001b[49m\n\u001b[1;32m      4\u001b[0m \u001b[43m    \u001b[49m\u001b[43mEventPattern\u001b[49m\u001b[38;5;241;43m=\u001b[39;49m\u001b[43mevent_pattern\u001b[49m\u001b[43m,\u001b[49m\n\u001b[1;32m      5\u001b[0m \u001b[43m    \u001b[49m\u001b[43mState\u001b[49m\u001b[38;5;241;43m=\u001b[39;49m\u001b[38;5;124;43m\"\u001b[39;49m\u001b[38;5;124;43mENABLED\u001b[39;49m\u001b[38;5;124;43m\"\u001b[39;49m\u001b[43m,\u001b[49m\n\u001b[1;32m      6\u001b[0m \u001b[43m    \u001b[49m\u001b[43mRoleArn\u001b[49m\u001b[38;5;241;43m=\u001b[39;49m\u001b[43mrole\u001b[49m\u001b[43m,\u001b[49m\n\u001b[1;32m      7\u001b[0m \u001b[43m)\u001b[49m\n",
      "File \u001b[0;32m/opt/conda/lib/python3.8/site-packages/botocore/client.py:535\u001b[0m, in \u001b[0;36mClientCreator._create_api_method.<locals>._api_call\u001b[0;34m(self, *args, **kwargs)\u001b[0m\n\u001b[1;32m    531\u001b[0m     \u001b[38;5;28;01mraise\u001b[39;00m \u001b[38;5;167;01mTypeError\u001b[39;00m(\n\u001b[1;32m    532\u001b[0m         \u001b[38;5;124mf\u001b[39m\u001b[38;5;124m\"\u001b[39m\u001b[38;5;132;01m{\u001b[39;00mpy_operation_name\u001b[38;5;132;01m}\u001b[39;00m\u001b[38;5;124m() only accepts keyword arguments.\u001b[39m\u001b[38;5;124m\"\u001b[39m\n\u001b[1;32m    533\u001b[0m     )\n\u001b[1;32m    534\u001b[0m \u001b[38;5;66;03m# The \"self\" in this scope is referring to the BaseClient.\u001b[39;00m\n\u001b[0;32m--> 535\u001b[0m \u001b[38;5;28;01mreturn\u001b[39;00m \u001b[38;5;28;43mself\u001b[39;49m\u001b[38;5;241;43m.\u001b[39;49m\u001b[43m_make_api_call\u001b[49m\u001b[43m(\u001b[49m\u001b[43moperation_name\u001b[49m\u001b[43m,\u001b[49m\u001b[43m \u001b[49m\u001b[43mkwargs\u001b[49m\u001b[43m)\u001b[49m\n",
      "File \u001b[0;32m/opt/conda/lib/python3.8/site-packages/botocore/client.py:980\u001b[0m, in \u001b[0;36mBaseClient._make_api_call\u001b[0;34m(self, operation_name, api_params)\u001b[0m\n\u001b[1;32m    978\u001b[0m     error_code \u001b[38;5;241m=\u001b[39m parsed_response\u001b[38;5;241m.\u001b[39mget(\u001b[38;5;124m\"\u001b[39m\u001b[38;5;124mError\u001b[39m\u001b[38;5;124m\"\u001b[39m, {})\u001b[38;5;241m.\u001b[39mget(\u001b[38;5;124m\"\u001b[39m\u001b[38;5;124mCode\u001b[39m\u001b[38;5;124m\"\u001b[39m)\n\u001b[1;32m    979\u001b[0m     error_class \u001b[38;5;241m=\u001b[39m \u001b[38;5;28mself\u001b[39m\u001b[38;5;241m.\u001b[39mexceptions\u001b[38;5;241m.\u001b[39mfrom_code(error_code)\n\u001b[0;32m--> 980\u001b[0m     \u001b[38;5;28;01mraise\u001b[39;00m error_class(parsed_response, operation_name)\n\u001b[1;32m    981\u001b[0m \u001b[38;5;28;01melse\u001b[39;00m:\n\u001b[1;32m    982\u001b[0m     \u001b[38;5;28;01mreturn\u001b[39;00m parsed_response\n",
      "\u001b[0;31mClientError\u001b[0m: An error occurred (AccessDeniedException) when calling the PutRule operation: User: arn:aws:sts::681340771742:assumed-role/AmazonSageMaker-ExecutionRole-20230916T122655/SageMaker is not authorized to perform: events:PutRule on resource: arn:aws:events:us-east-1:681340771742:rule/PipelineModelApprovedRule because no identity-based policy allows the events:PutRule action"
     ]
    }
   ],
   "source": [
    "events_client = boto3.client(\"events\")\n",
    "rule_response = events_client.put_rule(\n",
    "    Name=\"PipelineModelApprovedRule\",\n",
    "    EventPattern=event_pattern,\n",
    "    State=\"ENABLED\",\n",
    "    RoleArn=role,\n",
    ")"
   ]
  },
  {
   "cell_type": "markdown",
   "id": "c364b905-d7fb-433e-a0db-3c986c6df4a6",
   "metadata": {},
   "source": [
    "# Deploy"
   ]
  },
  {
   "cell_type": "code",
   "execution_count": 4,
   "id": "30a3767a-c561-4bea-9bbb-af4fa6f34df2",
   "metadata": {
    "tags": []
   },
   "outputs": [],
   "source": [
    "bucket = \"pochingto-testing\""
   ]
  },
  {
   "cell_type": "code",
   "execution_count": 8,
   "id": "24e5f8a8-40e0-4cac-b302-abc2a437f308",
   "metadata": {
    "tags": []
   },
   "outputs": [],
   "source": [
    "from sagemaker.predictor import Predictor\n",
    "\n",
    "ENDPOINT = \"dogBreeds-endpoint\"\n",
    "DATA_CAPTURE_DESTINATION = f\"{bucket}/monitoring/data-capture\"\n",
    "MODEL_PACKAGE_GROUP = \"dogBreeds\""
   ]
  },
  {
   "cell_type": "code",
   "execution_count": 13,
   "id": "4bc6f249-2289-4821-bf66-851c82fd977e",
   "metadata": {
    "tags": []
   },
   "outputs": [
    {
     "name": "stdout",
     "output_type": "stream",
     "text": [
      "sagemaker.config INFO - Not applying SDK defaults from location: /etc/xdg/sagemaker/config.yaml\n",
      "sagemaker.config INFO - Not applying SDK defaults from location: /home/sagemaker-user/.config/sagemaker/config.yaml\n",
      "sagemaker.config INFO - Not applying SDK defaults from location: /etc/xdg/sagemaker/config.yaml\n",
      "sagemaker.config INFO - Not applying SDK defaults from location: /home/sagemaker-user/.config/sagemaker/config.yaml\n"
     ]
    }
   ],
   "source": [
    "import boto3\n",
    "import sagemaker\n",
    "\n",
    "sagemaker_client = boto3.client(\"sagemaker\")\n",
    "sagemaker_session = sagemaker.session.Session()\n",
    "role = sagemaker.get_execution_role()\n",
    "region = boto3.Session().region_name"
   ]
  },
  {
   "cell_type": "code",
   "execution_count": 14,
   "id": "7b8a455d-2531-4a55-b964-eefe59968a4c",
   "metadata": {
    "tags": []
   },
   "outputs": [
    {
     "data": {
      "text/plain": [
       "{'ModelPackageGroupName': 'dogBreeds',\n",
       " 'ModelPackageVersion': 5,\n",
       " 'ModelPackageArn': 'arn:aws:sagemaker:us-east-1:681340771742:model-package/dogBreeds/5',\n",
       " 'CreationTime': datetime.datetime(2023, 11, 3, 2, 56, 10, 102000, tzinfo=tzlocal()),\n",
       " 'ModelPackageStatus': 'Completed',\n",
       " 'ModelApprovalStatus': 'Approved'}"
      ]
     },
     "execution_count": 14,
     "metadata": {},
     "output_type": "execute_result"
    }
   ],
   "source": [
    "response = sagemaker_client.list_model_packages(\n",
    "    ModelPackageGroupName=MODEL_PACKAGE_GROUP,\n",
    "    ModelApprovalStatus=\"Approved\",\n",
    "    SortBy=\"CreationTime\",\n",
    "    MaxResults=1,\n",
    ")\n",
    "\n",
    "package = (\n",
    "    response[\"ModelPackageSummaryList\"][0]\n",
    "    if response[\"ModelPackageSummaryList\"]\n",
    "    else None\n",
    ")\n",
    "package"
   ]
  },
  {
   "cell_type": "code",
   "execution_count": 15,
   "id": "a5271f99-2e76-4958-a455-300d62b936b4",
   "metadata": {
    "tags": []
   },
   "outputs": [],
   "source": [
    "from sagemaker import ModelPackage\n",
    "\n",
    "model_package = ModelPackage(\n",
    "    model_package_arn=package[\"ModelPackageArn\"],\n",
    "    sagemaker_session=sagemaker_session,\n",
    "    role=role,\n",
    ")"
   ]
  },
  {
   "cell_type": "code",
   "execution_count": 16,
   "id": "5efc9cc5-463d-4c65-b502-917c92271bf3",
   "metadata": {
    "tags": []
   },
   "outputs": [],
   "source": [
    "# model_package.deploy(\n",
    "#     endpoint_name=ENDPOINT, \n",
    "#     initial_instance_count=1, \n",
    "#     instance_type=config[\"instance_type\"]\n",
    "# )"
   ]
  },
  {
   "cell_type": "code",
   "execution_count": 17,
   "id": "9fc1e180-f45f-4d22-ae94-cc6f7351895a",
   "metadata": {
    "tags": []
   },
   "outputs": [
    {
     "data": {
      "text/plain": [
       "{'EndpointConfigArn': 'arn:aws:sagemaker:us-east-1:681340771742:endpoint-config/dogbreeds-endpoint-config-1103183233',\n",
       " 'ResponseMetadata': {'RequestId': 'e58dde11-b8f3-4020-a9f3-b5fed768e9ff',\n",
       "  'HTTPStatusCode': 200,\n",
       "  'HTTPHeaders': {'x-amzn-requestid': 'e58dde11-b8f3-4020-a9f3-b5fed768e9ff',\n",
       "   'content-type': 'application/x-amz-json-1.1',\n",
       "   'content-length': '117',\n",
       "   'date': 'Fri, 03 Nov 2023 18:32:34 GMT'},\n",
       "  'RetryAttempts': 0}}"
      ]
     },
     "execution_count": 17,
     "metadata": {},
     "output_type": "execute_result"
    }
   ],
   "source": [
    "import time\n",
    "import boto3\n",
    "\n",
    "sagemaker_client = boto3.client(\"sagemaker\")\n",
    "\n",
    "endpoint_name = \"dogBreeds-endpoint\"\n",
    "data_capture_destination = f\"s3://{bucket}/monitoring/data-capture\"\n",
    "\n",
    "timestamp = time.strftime(\"%m%d%H%M%S\", time.localtime())\n",
    "model_name = f\"{endpoint_name}-model-{timestamp}\"\n",
    "endpoint_config_name = f\"{endpoint_name}-config-{timestamp}\"\n",
    "model_package_arn=package[\"ModelPackageArn\"]\n",
    "\n",
    "sagemaker_client.create_model(\n",
    "    ModelName=model_name, \n",
    "    ExecutionRoleArn=role, \n",
    "    Containers=[{\n",
    "        \"ModelPackageName\": model_package_arn\n",
    "    }] \n",
    ")\n",
    "sagemaker_client.create_endpoint_config(\n",
    "    EndpointConfigName=endpoint_config_name,\n",
    "    ProductionVariants=[{\n",
    "        \"ModelName\": model_name,\n",
    "        \"InstanceType\": \"ml.m5.xlarge\",\n",
    "        \"InitialVariantWeight\": 1,\n",
    "        \"InitialInstanceCount\": 1,\n",
    "        \"VariantName\": \"AllTraffic\",\n",
    "    }],\n",
    "\n",
    "    DataCaptureConfig={\n",
    "        \"EnableCapture\": True,\n",
    "        \"InitialSamplingPercentage\": 100,\n",
    "        \"DestinationS3Uri\": data_capture_destination,\n",
    "        \"CaptureOptions\": [\n",
    "            {\n",
    "                \"CaptureMode\": \"Input\"\n",
    "            },\n",
    "            {\n",
    "                \"CaptureMode\": \"Output\"\n",
    "            },\n",
    "        ],\n",
    "        \"CaptureContentTypeHeader\": {\n",
    "            \"JsonContentTypes\": [\n",
    "                \"application/json\",\n",
    "                \"application/x-image\"\n",
    "            ]\n",
    "        }\n",
    "    },\n",
    ")"
   ]
  },
  {
   "cell_type": "code",
   "execution_count": 18,
   "id": "934c9eb2-c7b2-4aa2-9129-6ba6b759239f",
   "metadata": {
    "tags": []
   },
   "outputs": [],
   "source": [
    "response = sagemaker_client.list_endpoints(NameContains=endpoint_name, MaxResults=1)\n",
    "\n",
    "if len(response[\"Endpoints\"]) == 0:\n",
    "    sagemaker_client.create_endpoint(\n",
    "        EndpointName=endpoint_name, \n",
    "        EndpointConfigName=endpoint_config_name,\n",
    "    )\n",
    "else:\n",
    "    sagemaker_client.update_endpoint(\n",
    "        EndpointName=endpoint_name, \n",
    "        EndpointConfigName=endpoint_config_name,\n",
    "    )"
   ]
  },
  {
   "cell_type": "markdown",
   "id": "6ab26fa0-b219-45b9-a161-2303e16f561f",
   "metadata": {},
   "source": [
    "## Evaluate"
   ]
  },
  {
   "cell_type": "code",
   "execution_count": 22,
   "id": "0317589a-8e53-41c1-8efb-f4c024a186aa",
   "metadata": {
    "tags": []
   },
   "outputs": [],
   "source": [
    "from PIL import Image\n",
    "import io\n",
    "\n",
    "def load_and_preprocess_image(image_path):\n",
    "    # Load the image\n",
    "    image = Image.open(image_path)\n",
    "    # image = image.resize((224, 224))\n",
    "\n",
    "    # Convert the image to bytes\n",
    "    img_byte_arr = io.BytesIO()\n",
    "    image.save(img_byte_arr, format='JPEG')  # Adjust format if needed\n",
    "    img_byte_arr = img_byte_arr.getvalue()\n",
    "\n",
    "    return img_byte_arr\n",
    "\n",
    "image_path = './test_images/australian-shepherd.jpg'\n",
    "image_data = load_and_preprocess_image(image_path)"
   ]
  },
  {
   "cell_type": "code",
   "execution_count": 23,
   "id": "67919a61-d2fb-4dd4-a95e-3e7b2b0f6dd2",
   "metadata": {
    "tags": []
   },
   "outputs": [],
   "source": [
    "# image_data"
   ]
  },
  {
   "cell_type": "code",
   "execution_count": 24,
   "id": "cf12c2bc-bd25-46c5-b1d2-0d6d2a5c5e8e",
   "metadata": {
    "tags": []
   },
   "outputs": [
    {
     "name": "stdout",
     "output_type": "stream",
     "text": [
      "Australian_shepherd\n"
     ]
    }
   ],
   "source": [
    "import boto3\n",
    "import json\n",
    "\n",
    "client = boto3.client('sagemaker-runtime')\n",
    "\n",
    "content_type = \"application/x-image\"\n",
    "\n",
    "response = client.invoke_endpoint(\n",
    "    EndpointName=endpoint_name,\n",
    "    ContentType=content_type,\n",
    "    Body=image_data\n",
    ")\n",
    "\n",
    "# Parse the response\n",
    "response_body = response['Body'].read()\n",
    "predictions = json.loads(response_body)\n",
    "print(predictions)"
   ]
  },
  {
   "cell_type": "markdown",
   "id": "0a909841-2101-43dd-ae0b-8b10293941ef",
   "metadata": {},
   "source": [
    "# Monitoring"
   ]
  },
  {
   "cell_type": "code",
   "execution_count": 10,
   "id": "f33e87b5-9f24-439c-8419-ed4be97bc9e0",
   "metadata": {
    "tags": []
   },
   "outputs": [],
   "source": [
    "GROUND_TRUTH_LOCATION = f\"{bucket}/monitoring/groundtruth\"\n",
    "DATA_QUALITY_LOCATION = f\"{bucket}/monitoring/data-quality\"\n",
    "MODEL_QUALITY_LOCATION = f\"{bucket}/monitoring/model-quality\""
   ]
  },
  {
   "cell_type": "code",
   "execution_count": null,
   "id": "0b30cac4-4456-455c-a4f0-8651eeceec6e",
   "metadata": {},
   "outputs": [],
   "source": [
    "from sagemaker.workflow.quality_check_step import (\n",
    "    QualityCheckStep,\n",
    "    DataQualityCheckConfig,\n",
    ")\n",
    "from sagemaker.workflow.check_job_config import CheckJobConfig\n",
    "from sagemaker.model_monitor.dataset_format import DatasetFormat\n",
    "\n",
    "data_quality_baseline_step = QualityCheckStep(\n",
    "    name=\"generate-data-quality-baseline\",\n",
    "    check_job_config=CheckJobConfig(\n",
    "        instance_type=\"ml.c5.xlarge\",\n",
    "        instance_count=1,\n",
    "        volume_size_in_gb=20,\n",
    "        sagemaker_session=pipeline_session,\n",
    "        role=role,\n",
    "    ),\n",
    "    quality_check_config=DataQualityCheckConfig(\n",
    "        baseline_dataset=preprocessing_step.properties.ProcessingOutputConfig.Outputs[\n",
    "            \"train\"\n",
    "        ].S3Output.S3Uri,\n",
    "        dataset_format=DatasetFormat.csv(header=True, output_columns_position=\"START\"),\n",
    "        output_s3_uri=DATA_QUALITY_LOCATION,\n",
    "    ),\n",
    "    model_package_group_name=MODEL_PACKAGE_GROUP,\n",
    "    skip_check=True,\n",
    "    register_new_baseline=True,\n",
    "    cache_config=cache_config,\n",
    ")"
   ]
  }
 ],
 "metadata": {
  "availableInstances": [
   {
    "_defaultOrder": 0,
    "_isFastLaunch": true,
    "category": "General purpose",
    "gpuNum": 0,
    "hideHardwareSpecs": false,
    "memoryGiB": 4,
    "name": "ml.t3.medium",
    "vcpuNum": 2
   },
   {
    "_defaultOrder": 1,
    "_isFastLaunch": false,
    "category": "General purpose",
    "gpuNum": 0,
    "hideHardwareSpecs": false,
    "memoryGiB": 8,
    "name": "ml.t3.large",
    "vcpuNum": 2
   },
   {
    "_defaultOrder": 2,
    "_isFastLaunch": false,
    "category": "General purpose",
    "gpuNum": 0,
    "hideHardwareSpecs": false,
    "memoryGiB": 16,
    "name": "ml.t3.xlarge",
    "vcpuNum": 4
   },
   {
    "_defaultOrder": 3,
    "_isFastLaunch": false,
    "category": "General purpose",
    "gpuNum": 0,
    "hideHardwareSpecs": false,
    "memoryGiB": 32,
    "name": "ml.t3.2xlarge",
    "vcpuNum": 8
   },
   {
    "_defaultOrder": 4,
    "_isFastLaunch": true,
    "category": "General purpose",
    "gpuNum": 0,
    "hideHardwareSpecs": false,
    "memoryGiB": 8,
    "name": "ml.m5.large",
    "vcpuNum": 2
   },
   {
    "_defaultOrder": 5,
    "_isFastLaunch": false,
    "category": "General purpose",
    "gpuNum": 0,
    "hideHardwareSpecs": false,
    "memoryGiB": 16,
    "name": "ml.m5.xlarge",
    "vcpuNum": 4
   },
   {
    "_defaultOrder": 6,
    "_isFastLaunch": false,
    "category": "General purpose",
    "gpuNum": 0,
    "hideHardwareSpecs": false,
    "memoryGiB": 32,
    "name": "ml.m5.2xlarge",
    "vcpuNum": 8
   },
   {
    "_defaultOrder": 7,
    "_isFastLaunch": false,
    "category": "General purpose",
    "gpuNum": 0,
    "hideHardwareSpecs": false,
    "memoryGiB": 64,
    "name": "ml.m5.4xlarge",
    "vcpuNum": 16
   },
   {
    "_defaultOrder": 8,
    "_isFastLaunch": false,
    "category": "General purpose",
    "gpuNum": 0,
    "hideHardwareSpecs": false,
    "memoryGiB": 128,
    "name": "ml.m5.8xlarge",
    "vcpuNum": 32
   },
   {
    "_defaultOrder": 9,
    "_isFastLaunch": false,
    "category": "General purpose",
    "gpuNum": 0,
    "hideHardwareSpecs": false,
    "memoryGiB": 192,
    "name": "ml.m5.12xlarge",
    "vcpuNum": 48
   },
   {
    "_defaultOrder": 10,
    "_isFastLaunch": false,
    "category": "General purpose",
    "gpuNum": 0,
    "hideHardwareSpecs": false,
    "memoryGiB": 256,
    "name": "ml.m5.16xlarge",
    "vcpuNum": 64
   },
   {
    "_defaultOrder": 11,
    "_isFastLaunch": false,
    "category": "General purpose",
    "gpuNum": 0,
    "hideHardwareSpecs": false,
    "memoryGiB": 384,
    "name": "ml.m5.24xlarge",
    "vcpuNum": 96
   },
   {
    "_defaultOrder": 12,
    "_isFastLaunch": false,
    "category": "General purpose",
    "gpuNum": 0,
    "hideHardwareSpecs": false,
    "memoryGiB": 8,
    "name": "ml.m5d.large",
    "vcpuNum": 2
   },
   {
    "_defaultOrder": 13,
    "_isFastLaunch": false,
    "category": "General purpose",
    "gpuNum": 0,
    "hideHardwareSpecs": false,
    "memoryGiB": 16,
    "name": "ml.m5d.xlarge",
    "vcpuNum": 4
   },
   {
    "_defaultOrder": 14,
    "_isFastLaunch": false,
    "category": "General purpose",
    "gpuNum": 0,
    "hideHardwareSpecs": false,
    "memoryGiB": 32,
    "name": "ml.m5d.2xlarge",
    "vcpuNum": 8
   },
   {
    "_defaultOrder": 15,
    "_isFastLaunch": false,
    "category": "General purpose",
    "gpuNum": 0,
    "hideHardwareSpecs": false,
    "memoryGiB": 64,
    "name": "ml.m5d.4xlarge",
    "vcpuNum": 16
   },
   {
    "_defaultOrder": 16,
    "_isFastLaunch": false,
    "category": "General purpose",
    "gpuNum": 0,
    "hideHardwareSpecs": false,
    "memoryGiB": 128,
    "name": "ml.m5d.8xlarge",
    "vcpuNum": 32
   },
   {
    "_defaultOrder": 17,
    "_isFastLaunch": false,
    "category": "General purpose",
    "gpuNum": 0,
    "hideHardwareSpecs": false,
    "memoryGiB": 192,
    "name": "ml.m5d.12xlarge",
    "vcpuNum": 48
   },
   {
    "_defaultOrder": 18,
    "_isFastLaunch": false,
    "category": "General purpose",
    "gpuNum": 0,
    "hideHardwareSpecs": false,
    "memoryGiB": 256,
    "name": "ml.m5d.16xlarge",
    "vcpuNum": 64
   },
   {
    "_defaultOrder": 19,
    "_isFastLaunch": false,
    "category": "General purpose",
    "gpuNum": 0,
    "hideHardwareSpecs": false,
    "memoryGiB": 384,
    "name": "ml.m5d.24xlarge",
    "vcpuNum": 96
   },
   {
    "_defaultOrder": 20,
    "_isFastLaunch": false,
    "category": "General purpose",
    "gpuNum": 0,
    "hideHardwareSpecs": true,
    "memoryGiB": 0,
    "name": "ml.geospatial.interactive",
    "supportedImageNames": [
     "sagemaker-geospatial-v1-0"
    ],
    "vcpuNum": 0
   },
   {
    "_defaultOrder": 21,
    "_isFastLaunch": true,
    "category": "Compute optimized",
    "gpuNum": 0,
    "hideHardwareSpecs": false,
    "memoryGiB": 4,
    "name": "ml.c5.large",
    "vcpuNum": 2
   },
   {
    "_defaultOrder": 22,
    "_isFastLaunch": false,
    "category": "Compute optimized",
    "gpuNum": 0,
    "hideHardwareSpecs": false,
    "memoryGiB": 8,
    "name": "ml.c5.xlarge",
    "vcpuNum": 4
   },
   {
    "_defaultOrder": 23,
    "_isFastLaunch": false,
    "category": "Compute optimized",
    "gpuNum": 0,
    "hideHardwareSpecs": false,
    "memoryGiB": 16,
    "name": "ml.c5.2xlarge",
    "vcpuNum": 8
   },
   {
    "_defaultOrder": 24,
    "_isFastLaunch": false,
    "category": "Compute optimized",
    "gpuNum": 0,
    "hideHardwareSpecs": false,
    "memoryGiB": 32,
    "name": "ml.c5.4xlarge",
    "vcpuNum": 16
   },
   {
    "_defaultOrder": 25,
    "_isFastLaunch": false,
    "category": "Compute optimized",
    "gpuNum": 0,
    "hideHardwareSpecs": false,
    "memoryGiB": 72,
    "name": "ml.c5.9xlarge",
    "vcpuNum": 36
   },
   {
    "_defaultOrder": 26,
    "_isFastLaunch": false,
    "category": "Compute optimized",
    "gpuNum": 0,
    "hideHardwareSpecs": false,
    "memoryGiB": 96,
    "name": "ml.c5.12xlarge",
    "vcpuNum": 48
   },
   {
    "_defaultOrder": 27,
    "_isFastLaunch": false,
    "category": "Compute optimized",
    "gpuNum": 0,
    "hideHardwareSpecs": false,
    "memoryGiB": 144,
    "name": "ml.c5.18xlarge",
    "vcpuNum": 72
   },
   {
    "_defaultOrder": 28,
    "_isFastLaunch": false,
    "category": "Compute optimized",
    "gpuNum": 0,
    "hideHardwareSpecs": false,
    "memoryGiB": 192,
    "name": "ml.c5.24xlarge",
    "vcpuNum": 96
   },
   {
    "_defaultOrder": 29,
    "_isFastLaunch": true,
    "category": "Accelerated computing",
    "gpuNum": 1,
    "hideHardwareSpecs": false,
    "memoryGiB": 16,
    "name": "ml.g4dn.xlarge",
    "vcpuNum": 4
   },
   {
    "_defaultOrder": 30,
    "_isFastLaunch": false,
    "category": "Accelerated computing",
    "gpuNum": 1,
    "hideHardwareSpecs": false,
    "memoryGiB": 32,
    "name": "ml.g4dn.2xlarge",
    "vcpuNum": 8
   },
   {
    "_defaultOrder": 31,
    "_isFastLaunch": false,
    "category": "Accelerated computing",
    "gpuNum": 1,
    "hideHardwareSpecs": false,
    "memoryGiB": 64,
    "name": "ml.g4dn.4xlarge",
    "vcpuNum": 16
   },
   {
    "_defaultOrder": 32,
    "_isFastLaunch": false,
    "category": "Accelerated computing",
    "gpuNum": 1,
    "hideHardwareSpecs": false,
    "memoryGiB": 128,
    "name": "ml.g4dn.8xlarge",
    "vcpuNum": 32
   },
   {
    "_defaultOrder": 33,
    "_isFastLaunch": false,
    "category": "Accelerated computing",
    "gpuNum": 4,
    "hideHardwareSpecs": false,
    "memoryGiB": 192,
    "name": "ml.g4dn.12xlarge",
    "vcpuNum": 48
   },
   {
    "_defaultOrder": 34,
    "_isFastLaunch": false,
    "category": "Accelerated computing",
    "gpuNum": 1,
    "hideHardwareSpecs": false,
    "memoryGiB": 256,
    "name": "ml.g4dn.16xlarge",
    "vcpuNum": 64
   },
   {
    "_defaultOrder": 35,
    "_isFastLaunch": false,
    "category": "Accelerated computing",
    "gpuNum": 1,
    "hideHardwareSpecs": false,
    "memoryGiB": 61,
    "name": "ml.p3.2xlarge",
    "vcpuNum": 8
   },
   {
    "_defaultOrder": 36,
    "_isFastLaunch": false,
    "category": "Accelerated computing",
    "gpuNum": 4,
    "hideHardwareSpecs": false,
    "memoryGiB": 244,
    "name": "ml.p3.8xlarge",
    "vcpuNum": 32
   },
   {
    "_defaultOrder": 37,
    "_isFastLaunch": false,
    "category": "Accelerated computing",
    "gpuNum": 8,
    "hideHardwareSpecs": false,
    "memoryGiB": 488,
    "name": "ml.p3.16xlarge",
    "vcpuNum": 64
   },
   {
    "_defaultOrder": 38,
    "_isFastLaunch": false,
    "category": "Accelerated computing",
    "gpuNum": 8,
    "hideHardwareSpecs": false,
    "memoryGiB": 768,
    "name": "ml.p3dn.24xlarge",
    "vcpuNum": 96
   },
   {
    "_defaultOrder": 39,
    "_isFastLaunch": false,
    "category": "Memory Optimized",
    "gpuNum": 0,
    "hideHardwareSpecs": false,
    "memoryGiB": 16,
    "name": "ml.r5.large",
    "vcpuNum": 2
   },
   {
    "_defaultOrder": 40,
    "_isFastLaunch": false,
    "category": "Memory Optimized",
    "gpuNum": 0,
    "hideHardwareSpecs": false,
    "memoryGiB": 32,
    "name": "ml.r5.xlarge",
    "vcpuNum": 4
   },
   {
    "_defaultOrder": 41,
    "_isFastLaunch": false,
    "category": "Memory Optimized",
    "gpuNum": 0,
    "hideHardwareSpecs": false,
    "memoryGiB": 64,
    "name": "ml.r5.2xlarge",
    "vcpuNum": 8
   },
   {
    "_defaultOrder": 42,
    "_isFastLaunch": false,
    "category": "Memory Optimized",
    "gpuNum": 0,
    "hideHardwareSpecs": false,
    "memoryGiB": 128,
    "name": "ml.r5.4xlarge",
    "vcpuNum": 16
   },
   {
    "_defaultOrder": 43,
    "_isFastLaunch": false,
    "category": "Memory Optimized",
    "gpuNum": 0,
    "hideHardwareSpecs": false,
    "memoryGiB": 256,
    "name": "ml.r5.8xlarge",
    "vcpuNum": 32
   },
   {
    "_defaultOrder": 44,
    "_isFastLaunch": false,
    "category": "Memory Optimized",
    "gpuNum": 0,
    "hideHardwareSpecs": false,
    "memoryGiB": 384,
    "name": "ml.r5.12xlarge",
    "vcpuNum": 48
   },
   {
    "_defaultOrder": 45,
    "_isFastLaunch": false,
    "category": "Memory Optimized",
    "gpuNum": 0,
    "hideHardwareSpecs": false,
    "memoryGiB": 512,
    "name": "ml.r5.16xlarge",
    "vcpuNum": 64
   },
   {
    "_defaultOrder": 46,
    "_isFastLaunch": false,
    "category": "Memory Optimized",
    "gpuNum": 0,
    "hideHardwareSpecs": false,
    "memoryGiB": 768,
    "name": "ml.r5.24xlarge",
    "vcpuNum": 96
   },
   {
    "_defaultOrder": 47,
    "_isFastLaunch": false,
    "category": "Accelerated computing",
    "gpuNum": 1,
    "hideHardwareSpecs": false,
    "memoryGiB": 16,
    "name": "ml.g5.xlarge",
    "vcpuNum": 4
   },
   {
    "_defaultOrder": 48,
    "_isFastLaunch": false,
    "category": "Accelerated computing",
    "gpuNum": 1,
    "hideHardwareSpecs": false,
    "memoryGiB": 32,
    "name": "ml.g5.2xlarge",
    "vcpuNum": 8
   },
   {
    "_defaultOrder": 49,
    "_isFastLaunch": false,
    "category": "Accelerated computing",
    "gpuNum": 1,
    "hideHardwareSpecs": false,
    "memoryGiB": 64,
    "name": "ml.g5.4xlarge",
    "vcpuNum": 16
   },
   {
    "_defaultOrder": 50,
    "_isFastLaunch": false,
    "category": "Accelerated computing",
    "gpuNum": 1,
    "hideHardwareSpecs": false,
    "memoryGiB": 128,
    "name": "ml.g5.8xlarge",
    "vcpuNum": 32
   },
   {
    "_defaultOrder": 51,
    "_isFastLaunch": false,
    "category": "Accelerated computing",
    "gpuNum": 1,
    "hideHardwareSpecs": false,
    "memoryGiB": 256,
    "name": "ml.g5.16xlarge",
    "vcpuNum": 64
   },
   {
    "_defaultOrder": 52,
    "_isFastLaunch": false,
    "category": "Accelerated computing",
    "gpuNum": 4,
    "hideHardwareSpecs": false,
    "memoryGiB": 192,
    "name": "ml.g5.12xlarge",
    "vcpuNum": 48
   },
   {
    "_defaultOrder": 53,
    "_isFastLaunch": false,
    "category": "Accelerated computing",
    "gpuNum": 4,
    "hideHardwareSpecs": false,
    "memoryGiB": 384,
    "name": "ml.g5.24xlarge",
    "vcpuNum": 96
   },
   {
    "_defaultOrder": 54,
    "_isFastLaunch": false,
    "category": "Accelerated computing",
    "gpuNum": 8,
    "hideHardwareSpecs": false,
    "memoryGiB": 768,
    "name": "ml.g5.48xlarge",
    "vcpuNum": 192
   },
   {
    "_defaultOrder": 55,
    "_isFastLaunch": false,
    "category": "Accelerated computing",
    "gpuNum": 8,
    "hideHardwareSpecs": false,
    "memoryGiB": 1152,
    "name": "ml.p4d.24xlarge",
    "vcpuNum": 96
   },
   {
    "_defaultOrder": 56,
    "_isFastLaunch": false,
    "category": "Accelerated computing",
    "gpuNum": 8,
    "hideHardwareSpecs": false,
    "memoryGiB": 1152,
    "name": "ml.p4de.24xlarge",
    "vcpuNum": 96
   }
  ],
  "instance_type": "ml.t3.medium",
  "kernelspec": {
   "display_name": "Python 3 (Data Science)",
   "language": "python",
   "name": "python3__SAGEMAKER_INTERNAL__arn:aws:sagemaker:us-east-1:081325390199:image/datascience-1.0"
  },
  "language_info": {
   "codemirror_mode": {
    "name": "ipython",
    "version": 3
   },
   "file_extension": ".py",
   "mimetype": "text/x-python",
   "name": "python",
   "nbconvert_exporter": "python",
   "pygments_lexer": "ipython3",
   "version": "3.7.10"
  }
 },
 "nbformat": 4,
 "nbformat_minor": 5
}
