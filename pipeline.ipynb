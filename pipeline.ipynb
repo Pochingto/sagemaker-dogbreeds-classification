{
 "cells": [
  {
   "cell_type": "markdown",
   "id": "5d76756a-0745-4f27-a299-8db7f3718112",
   "metadata": {},
   "source": [
    "# Pipeline"
   ]
  },
  {
   "cell_type": "code",
   "execution_count": 2,
   "id": "a6ab0d2c-0519-4f30-bac7-529ef18149bd",
   "metadata": {
    "tags": []
   },
   "outputs": [
    {
     "name": "stdout",
     "output_type": "stream",
     "text": [
      "Collecting python-dotenv\n",
      "  Using cached python_dotenv-0.21.1-py3-none-any.whl (19 kB)\n",
      "\u001b[33mDEPRECATION: pyodbc 4.0.0-unsupported has a non-standard version number. pip 23.3 will enforce this behaviour change. A possible replacement is to upgrade to a newer version of pyodbc or contact the author to suggest that they release a version with a conforming version number. Discussion can be found at https://github.com/pypa/pip/issues/12063\u001b[0m\u001b[33m\n",
      "\u001b[0mInstalling collected packages: python-dotenv\n",
      "Successfully installed python-dotenv-0.21.1\n",
      "\u001b[33mWARNING: Running pip as the 'root' user can result in broken permissions and conflicting behaviour with the system package manager. It is recommended to use a virtual environment instead: https://pip.pypa.io/warnings/venv\u001b[0m\u001b[33m\n",
      "\u001b[0m\u001b[33mWARNING: There was an error checking the latest version of pip.\u001b[0m\u001b[33m\n",
      "\u001b[0m"
     ]
    }
   ],
   "source": [
    "!pip3 install python-dotenv"
   ]
  },
  {
   "cell_type": "code",
   "execution_count": 3,
   "id": "28e46ff2-e4e0-4d98-8d49-387edfd420f4",
   "metadata": {
    "tags": []
   },
   "outputs": [
    {
     "data": {
      "text/plain": [
       "True"
      ]
     },
     "execution_count": 3,
     "metadata": {},
     "output_type": "execute_result"
    }
   ],
   "source": [
    "from dotenv import find_dotenv, load_dotenv\n",
    "load_dotenv(find_dotenv(\"config.env\"))"
   ]
  },
  {
   "cell_type": "code",
   "execution_count": 4,
   "id": "b329f245-cd3e-4f45-b5a5-d7ce021960ab",
   "metadata": {
    "tags": []
   },
   "outputs": [],
   "source": [
    "import os\n",
    "import sagemaker\n",
    "from sagemaker.workflow.pipeline_context import PipelineSession, LocalPipelineSession\n",
    "\n",
    "role = sagemaker.get_execution_role()\n",
    "bucket = os.environ[\"BUCKET\"]\n",
    "pipeline_session = PipelineSession(default_bucket=bucket)"
   ]
  },
  {
   "cell_type": "code",
   "execution_count": 5,
   "id": "89ef2f30-d3f6-4bdb-a648-11c3ecfa6f2d",
   "metadata": {
    "tags": []
   },
   "outputs": [
    {
     "data": {
      "text/plain": [
       "'2.183.0'"
      ]
     },
     "execution_count": 5,
     "metadata": {},
     "output_type": "execute_result"
    }
   ],
   "source": [
    "sagemaker.__version__"
   ]
  },
  {
   "cell_type": "code",
   "execution_count": 6,
   "id": "b7ce5b81-fb7a-43c4-a365-097b095d8992",
   "metadata": {
    "tags": []
   },
   "outputs": [
    {
     "name": "stderr",
     "output_type": "stream",
     "text": [
      "/opt/conda/lib/python3.7/site-packages/boto3/compat.py:82: PythonDeprecationWarning: Boto3 will no longer support Python 3.7 starting December 13, 2023. To continue receiving service updates, bug fixes, and security updates please upgrade to Python 3.8 or later. More information can be found here: https://aws.amazon.com/blogs/developer/python-support-policy-updates-for-aws-sdks-and-tools/\n",
      "  warnings.warn(warning, PythonDeprecationWarning)\n"
     ]
    }
   ],
   "source": [
    "import boto3\n",
    "\n",
    "sagemaker_session = sagemaker.session.Session()\n",
    "sagemaker_client = boto3.client(\"sagemaker\")\n",
    "iam_client = boto3.client(\"iam\")\n",
    "region = boto3.Session().region_name"
   ]
  },
  {
   "cell_type": "code",
   "execution_count": 7,
   "id": "da7beea1-6d5f-4be1-a1b5-a24745a1f313",
   "metadata": {
    "tags": []
   },
   "outputs": [],
   "source": [
    "ENDPOINT = \"dogBreeds-endpoint\"\n",
    "DATA_CAPTURE_DESTINATION = f\"s3://{bucket}/monitoring/data-capture\"\n",
    "MODEL_PACKAGE_GROUP = \"dogBreeds\""
   ]
  },
  {
   "cell_type": "code",
   "execution_count": 8,
   "id": "763d53e2-be53-4694-b455-c5bb4c26b633",
   "metadata": {
    "tags": []
   },
   "outputs": [],
   "source": [
    "config = {\n",
    "    \"session\": pipeline_session,\n",
    "    \"instance_type\": \"ml.m5.xlarge\",\n",
    "    \"image\": None,\n",
    "    \"framework_version\": \"1.12\",\n",
    "    \"py_version\": \"py38\",\n",
    "}"
   ]
  },
  {
   "cell_type": "code",
   "execution_count": 9,
   "id": "fe533980-b476-4bff-926b-220da050f01b",
   "metadata": {
    "tags": []
   },
   "outputs": [],
   "source": [
    "from sagemaker.workflow.steps import CacheConfig\n",
    "\n",
    "cache_config = CacheConfig(enable_caching=True, expire_after=\"15d\")"
   ]
  },
  {
   "cell_type": "markdown",
   "id": "ceca7666-071e-4183-9c63-fdd149836e0a",
   "metadata": {
    "tags": []
   },
   "source": [
    "## Data preprocessing"
   ]
  },
  {
   "cell_type": "code",
   "execution_count": 10,
   "id": "ea542088-da67-40ab-9580-f8256965c06d",
   "metadata": {
    "scrolled": true,
    "tags": []
   },
   "outputs": [],
   "source": [
    "# # For testing script locally\n",
    "\n",
    "# import importlib\n",
    "# from preprocessing import preprocess_data\n",
    "\n",
    "# importlib.reload(preprocess_data)\n",
    "\n",
    "# import tempfile\n",
    "# import shutil\n",
    "\n",
    "# from pathlib import Path\n",
    "\n",
    "# directory = tempfile.mkdtemp()\n",
    "# data_dir = \"all/\"\n",
    "# train_ratio = 0.8\n",
    "# output_dir = Path(directory) / \"output\"\n",
    "\n",
    "# preprocess_data.preprocess_data(data_dir, output_dir, train_ratio)"
   ]
  },
  {
   "cell_type": "code",
   "execution_count": 11,
   "id": "f9dbd10c-3372-4e35-b70b-0bb26425ed31",
   "metadata": {
    "tags": []
   },
   "outputs": [],
   "source": [
    "# shutil.rmtree(directory)"
   ]
  },
  {
   "cell_type": "code",
   "execution_count": 12,
   "id": "546fa7cd-bed0-4119-92bd-de4d59554d96",
   "metadata": {
    "tags": []
   },
   "outputs": [],
   "source": [
    "from sagemaker.workflow.pipeline_context import LocalPipelineSession\n",
    "local_pipeline_session = LocalPipelineSession()"
   ]
  },
  {
   "cell_type": "code",
   "execution_count": 13,
   "id": "0c458c46-7ccb-4b1f-bff7-3fadef13c4cb",
   "metadata": {
    "tags": []
   },
   "outputs": [],
   "source": [
    "from sagemaker.workflow.parameters import ParameterString\n",
    "\n",
    "dataset_location = ParameterString(\n",
    "    name=\"dataset_location\",\n",
    "    default_value=f\"s3://{bucket}/all\",\n",
    ")"
   ]
  },
  {
   "cell_type": "code",
   "execution_count": 14,
   "id": "b601e498-300c-4b1f-9759-c11dcf2e257e",
   "metadata": {
    "tags": []
   },
   "outputs": [],
   "source": [
    "from sagemaker.workflow.pipeline_definition_config import PipelineDefinitionConfig\n",
    "\n",
    "pipeline_definition_config = PipelineDefinitionConfig(use_custom_job_prefix=True)"
   ]
  },
  {
   "cell_type": "code",
   "execution_count": 15,
   "id": "c9d54431-b285-4b1b-b9f5-f13adafbf807",
   "metadata": {
    "tags": []
   },
   "outputs": [],
   "source": [
    "# dataset_location"
   ]
  },
  {
   "cell_type": "code",
   "execution_count": 16,
   "id": "fb1186de-a83a-4347-aec6-0db175c09056",
   "metadata": {
    "tags": []
   },
   "outputs": [
    {
     "name": "stderr",
     "output_type": "stream",
     "text": [
      "/opt/conda/lib/python3.7/site-packages/sagemaker/workflow/pipeline_context.py:300: UserWarning: Running within a PipelineSession, there will be No Wait, No Logs, and No Job being started.\n",
      "  UserWarning,\n"
     ]
    }
   ],
   "source": [
    "from sagemaker.processing import ScriptProcessor, ProcessingInput, ProcessingOutput\n",
    "from sagemaker.workflow.steps import ProcessingStep\n",
    "from sagemaker.pytorch.processing import PyTorchProcessor\n",
    "\n",
    "# Define the script processor\n",
    "pytorch_preprocessor = PyTorchProcessor(\n",
    "    base_job_name=\"preprocess-data\",\n",
    "    image_uri=config[\"image\"],\n",
    "    framework_version=config[\"framework_version\"],\n",
    "    py_version=config[\"py_version\"],\n",
    "    instance_type=config[\"instance_type\"],\n",
    "    instance_count=1,\n",
    "    role=role,\n",
    "    sagemaker_session=config[\"session\"],\n",
    "    # sagemaker_session=local_pipeline_session\n",
    ")\n",
    "\n",
    "preprocessing_step = ProcessingStep(\n",
    "    name=\"preprocess-data\",\n",
    "    step_args=pytorch_preprocessor.run(\n",
    "        code='preprocess_data.py',\n",
    "        source_dir='preprocessing', \n",
    "        inputs=[\n",
    "            ProcessingInput(\n",
    "                source=dataset_location,\n",
    "                destination='/opt/ml/processing/input'\n",
    "            )\n",
    "        ],\n",
    "        outputs=[\n",
    "            ProcessingOutput(\n",
    "                output_name=\"train\",\n",
    "                source='/opt/ml/processing/output/train',\n",
    "                destination=f's3://{bucket}/output/train'\n",
    "            ),\n",
    "            ProcessingOutput(\n",
    "                output_name=\"test\",\n",
    "                source='/opt/ml/processing/output/test',\n",
    "                destination=f's3://{bucket}/output/test'\n",
    "            ),\n",
    "            ProcessingOutput(\n",
    "                output_name=\"data-baseline\",\n",
    "                source='/opt/ml/processing/output/data-baseline',\n",
    "                destination=f's3://{bucket}/output/data-baseline'\n",
    "            )\n",
    "        ]\n",
    "    ),\n",
    "    cache_config=cache_config\n",
    ")"
   ]
  },
  {
   "cell_type": "markdown",
   "id": "f254ae54-0952-458d-bf0a-762f859fcb69",
   "metadata": {},
   "source": [
    "## Training"
   ]
  },
  {
   "cell_type": "code",
   "execution_count": 17,
   "id": "7fe37780-988f-47fd-97ec-49e29db705aa",
   "metadata": {
    "tags": []
   },
   "outputs": [],
   "source": [
    "# !pip install --upgrade torch torchvision"
   ]
  },
  {
   "cell_type": "code",
   "execution_count": 18,
   "id": "e3aa4147-f51e-4729-8329-60f322cc9826",
   "metadata": {
    "tags": []
   },
   "outputs": [],
   "source": [
    "# # For testing script locally\n",
    "\n",
    "# import importlib\n",
    "# import train\n",
    "\n",
    "# importlib.reload(train)\n",
    "\n",
    "# import tempfile\n",
    "# import shutil\n",
    "\n",
    "# from pathlib import Path\n",
    "# from train import main\n",
    "\n",
    "# directory = tempfile.mkdtemp()\n",
    "# data_dir = \"all/\"\n",
    "# model_dir = Path(directory) / \"model\"\n",
    "# output_dir = Path(directory) / \"output\"\n",
    "\n",
    "# model_dir.mkdir(parents=True, exist_ok=True)\n",
    "# output_dir.mkdir(parents=True, exist_ok=True)\n",
    "\n",
    "# num_epochs = 1\n",
    "# batch_size = 16\n",
    "# debug = True\n",
    "\n",
    "# main(str(data_dir), str(model_dir), str(output_dir), num_epochs, batch_size, debug)"
   ]
  },
  {
   "cell_type": "code",
   "execution_count": 19,
   "id": "a8d2bdd9-2529-44ee-9ac4-eb75b239df5b",
   "metadata": {
    "tags": []
   },
   "outputs": [],
   "source": [
    "from sagemaker.pytorch import PyTorch\n",
    "\n",
    "estimator = PyTorch(\n",
    "    base_job_name=\"dogbreeds-training\",\n",
    "    entry_point=f\"train.py\",\n",
    "\n",
    "    hyperparameters={\n",
    "        \"epochs\": 5,\n",
    "        \"batch_size\": 32,\n",
    "    },\n",
    "    \n",
    "    metric_definitions=[\n",
    "        {\"Name\": \"loss\", \"Regex\": \"Loss: ([0-9\\\\.]+)\"},\n",
    "        {\"Name\": \"accuracy\", \"Regex\": \"Validation Accuracy: ([0-9\\\\.]+)\"},\n",
    "    ],\n",
    "    image_uri=config[\"image\"],\n",
    "    framework_version=config[\"framework_version\"],\n",
    "    py_version=config[\"py_version\"],\n",
    "    instance_type=\"ml.g4dn.xlarge\",\n",
    "    instance_count=1,\n",
    "    disable_profiler=True,\n",
    "    sagemaker_session=config[\"session\"],\n",
    "    role=role\n",
    ")"
   ]
  },
  {
   "cell_type": "code",
   "execution_count": 20,
   "id": "ec54fb23-8762-4b8b-98b6-2b23685d29e3",
   "metadata": {
    "tags": []
   },
   "outputs": [],
   "source": [
    "from sagemaker.workflow.steps import TrainingStep\n",
    "from sagemaker.inputs import TrainingInput\n",
    "\n",
    "train_model_step = TrainingStep(\n",
    "    name=\"train-model\",\n",
    "    step_args=estimator.fit(\n",
    "        inputs={\n",
    "            \"train\": TrainingInput(\n",
    "                s3_data=preprocessing_step.properties.ProcessingOutputConfig.Outputs[\n",
    "                    \"train\"\n",
    "                ].S3Output.S3Uri\n",
    "            )\n",
    "        }\n",
    "    ),\n",
    "    cache_config=cache_config,\n",
    ")"
   ]
  },
  {
   "cell_type": "markdown",
   "id": "f01107ff-e7aa-463f-ad19-a282ae9e7c62",
   "metadata": {},
   "source": [
    "## Evaluation"
   ]
  },
  {
   "cell_type": "code",
   "execution_count": 21,
   "id": "f96920d5-6573-4dfc-b71f-c498f8273e9f",
   "metadata": {
    "tags": []
   },
   "outputs": [],
   "source": [
    "# # For testing script locally\n",
    "\n",
    "# # if 'autoreload' not in get_ipython().extension_manager.loaded:\n",
    "# #     %load_ext autoreload\n",
    "# import importlib\n",
    "\n",
    "# import tempfile\n",
    "# import shutil\n",
    "\n",
    "# from pathlib import Path\n",
    "# from evaluate import evaluation\n",
    "\n",
    "# importlib.reload(evaluation)\n",
    "# # generate model.tar.gz\n",
    "# import tarfile\n",
    "# import os\n",
    "\n",
    "# def tar_sagemaker_style(source_dir, output_filename):\n",
    "#     with tarfile.open(output_filename, \"w:gz\") as tar:\n",
    "#         for item in os.listdir(source_dir):\n",
    "#             item_path = os.path.join(source_dir, item)\n",
    "#             tar.add(item_path, arcname=item)\n",
    "\n",
    "# # Tar the 'model/' folder\n",
    "# output_file = 'model.tar.gz'\n",
    "# tar_sagemaker_style(str(model_dir), model_dir / output_file)\n",
    "# print(\"tared data\")\n",
    "\n",
    "# baseline_dir = output_dir.parent / \"baseline\"\n",
    "# baseline_dir.mkdir(exist_ok=True)\n",
    "\n",
    "# with tarfile.open(Path(directory) / \"model.tar.gz\") as tar:\n",
    "#     tar.extractall(path=Path(model_dir))\n",
    "# evaluation.main(str(model_dir), str(data_dir), str(output_dir), str(baseline_dir), debug=True)"
   ]
  },
  {
   "cell_type": "code",
   "execution_count": 22,
   "id": "4f338bc9-b455-4225-932d-242c36648141",
   "metadata": {
    "tags": []
   },
   "outputs": [],
   "source": [
    "from sagemaker.workflow.properties import PropertyFile\n",
    "\n",
    "evaluation_report = PropertyFile(\n",
    "    name=\"evaluation-report\", output_name=\"evaluation\", path=\"evaluation.json\"\n",
    ")"
   ]
  },
  {
   "cell_type": "code",
   "execution_count": 23,
   "id": "05a9ff37-7771-44c6-92c1-8d7448705c42",
   "metadata": {
    "tags": []
   },
   "outputs": [
    {
     "data": {
      "text/plain": [
       "<sagemaker.workflow.properties.Properties at 0x7f188cb45510>"
      ]
     },
     "execution_count": 23,
     "metadata": {},
     "output_type": "execute_result"
    }
   ],
   "source": [
    "model_assets = train_model_step.properties.ModelArtifacts.S3ModelArtifacts\n",
    "model_assets"
   ]
  },
  {
   "cell_type": "code",
   "execution_count": 24,
   "id": "1393ef1b-05ba-4461-b7c8-8aabe64b96e8",
   "metadata": {},
   "outputs": [
    {
     "data": {
      "text/plain": [
       "{'session': <sagemaker.workflow.pipeline_context.PipelineSession at 0x7f18c86276d0>,\n",
       " 'instance_type': 'ml.m5.xlarge',\n",
       " 'image': None,\n",
       " 'framework_version': '1.12',\n",
       " 'py_version': 'py38'}"
      ]
     },
     "execution_count": 24,
     "metadata": {},
     "output_type": "execute_result"
    }
   ],
   "source": [
    "config"
   ]
  },
  {
   "cell_type": "code",
   "execution_count": 25,
   "id": "eaa5335d-d273-4f81-98b3-187f6a40fcf8",
   "metadata": {
    "tags": []
   },
   "outputs": [],
   "source": [
    "from sagemaker.pytorch.processing import PyTorchProcessor\n",
    "\n",
    "pytorch_processor = PyTorchProcessor(\n",
    "    base_job_name=\"evaluation-processor\",\n",
    "    image_uri=config[\"image\"],\n",
    "    framework_version=config[\"framework_version\"],\n",
    "    py_version=config[\"py_version\"],\n",
    "    instance_type=config[\"instance_type\"],\n",
    "    instance_count=1,\n",
    "    role=role,\n",
    "    sagemaker_session=config[\"session\"],\n",
    ")\n"
   ]
  },
  {
   "cell_type": "code",
   "execution_count": 26,
   "id": "1a20b9d4-a1a5-43fe-bd53-d09d7dd7e0c8",
   "metadata": {
    "tags": []
   },
   "outputs": [],
   "source": [
    "evaluate_model_step = ProcessingStep(\n",
    "    name=\"evaluate-model\",\n",
    "    step_args=pytorch_processor.run(\n",
    "        code=f\"evaluation.py\",\n",
    "        source_dir='evaluate',\n",
    "        inputs=[\n",
    "            ProcessingInput(\n",
    "                source=preprocessing_step.properties.ProcessingOutputConfig.Outputs[\n",
    "                    \"test\"\n",
    "                ].S3Output.S3Uri,\n",
    "                destination=\"/opt/ml/processing/test\",\n",
    "            ),\n",
    "            ProcessingInput(\n",
    "                source=model_assets,\n",
    "                destination=\"/opt/ml/processing/model\",\n",
    "            ),\n",
    "        ],\n",
    "        outputs=[\n",
    "            ProcessingOutput(\n",
    "                output_name=\"evaluation\", source=\"/opt/ml/processing/evaluation\"\n",
    "            ),\n",
    "            ProcessingOutput(\n",
    "                output_name=\"model-baseline\", source=\"/opt/ml/processing/baseline\"\n",
    "            ),\n",
    "        ],\n",
    "    ),\n",
    "    property_files=[evaluation_report],\n",
    "    cache_config=cache_config,\n",
    ")"
   ]
  },
  {
   "cell_type": "markdown",
   "id": "c4995335-4357-47ac-990b-0f1e2dfed157",
   "metadata": {},
   "source": [
    "## Data & Model Quality Check Step"
   ]
  },
  {
   "cell_type": "code",
   "execution_count": 27,
   "id": "a9751957-3a39-476b-b770-cd0cdf505b21",
   "metadata": {
    "tags": []
   },
   "outputs": [],
   "source": [
    "GROUND_TRUTH_LOCATION = f\"s3://{bucket}/monitoring/groundtruth\"\n",
    "DATA_QUALITY_LOCATION = f\"s3://{bucket}/monitoring/data-quality\"\n",
    "MODEL_QUALITY_LOCATION = f\"s3://{bucket}/monitoring/model-quality\""
   ]
  },
  {
   "cell_type": "code",
   "execution_count": 28,
   "id": "e640268c-aad8-406f-ad46-bc187a52fd95",
   "metadata": {
    "tags": []
   },
   "outputs": [],
   "source": [
    "from sagemaker.workflow.quality_check_step import (\n",
    "    QualityCheckStep,\n",
    "    DataQualityCheckConfig,\n",
    ")\n",
    "from sagemaker.workflow.check_job_config import CheckJobConfig\n",
    "from sagemaker.model_monitor.dataset_format import DatasetFormat\n",
    "\n",
    "data_quality_baseline_step = QualityCheckStep(\n",
    "    name=\"generate-data-quality-baseline\",\n",
    "    check_job_config=CheckJobConfig(\n",
    "        instance_type=\"ml.c5.xlarge\",\n",
    "        instance_count=1,\n",
    "        volume_size_in_gb=20,\n",
    "        sagemaker_session=pipeline_session,\n",
    "        role=role,\n",
    "    ),\n",
    "    quality_check_config=DataQualityCheckConfig(\n",
    "        baseline_dataset=preprocessing_step.properties.ProcessingOutputConfig.Outputs[\n",
    "            \"data-baseline\"\n",
    "        ].S3Output.S3Uri,\n",
    "        dataset_format=DatasetFormat.csv(header=True, output_columns_position=\"START\"),\n",
    "        output_s3_uri=DATA_QUALITY_LOCATION,\n",
    "    ),\n",
    "    model_package_group_name=MODEL_PACKAGE_GROUP,\n",
    "    skip_check=True,\n",
    "    register_new_baseline=True,\n",
    "    cache_config=cache_config,\n",
    ")"
   ]
  },
  {
   "cell_type": "code",
   "execution_count": 29,
   "id": "7b522439-09b2-465d-8738-b3d0371f551f",
   "metadata": {},
   "outputs": [],
   "source": [
    "from sagemaker.workflow.quality_check_step import ModelQualityCheckConfig\n",
    "\n",
    "model_quality_baseline_step = QualityCheckStep(\n",
    "    name=\"generate-model-quality-baseline\",\n",
    "    check_job_config=CheckJobConfig(\n",
    "        instance_type=\"ml.c5.xlarge\",\n",
    "        instance_count=1,\n",
    "        volume_size_in_gb=20,\n",
    "        sagemaker_session=pipeline_session,\n",
    "        role=role,\n",
    "    ),\n",
    "    quality_check_config=ModelQualityCheckConfig(\n",
    "        baseline_dataset=evaluate_model_step.properties.ProcessingOutputConfig.Outputs[\n",
    "            \"model-baseline\"\n",
    "        ].S3Output.S3Uri,\n",
    "        dataset_format=DatasetFormat.csv(header=True),\n",
    "        problem_type=\"MulticlassClassification\",\n",
    "        # evaluate_model_step generated baseline csv of header \"Label\", \"Predicted\", \"Confidence\"\n",
    "        ground_truth_attribute=\"Label\",\n",
    "        inference_attribute=\"Predicted\",\n",
    "        probability_attribute=\"Confidence\",\n",
    "        output_s3_uri=MODEL_QUALITY_LOCATION,\n",
    "    ),\n",
    "    model_package_group_name=MODEL_PACKAGE_GROUP,\n",
    "    skip_check=True,\n",
    "    register_new_baseline=True,\n",
    "    cache_config=cache_config,\n",
    ")"
   ]
  },
  {
   "cell_type": "markdown",
   "id": "145d2f32-bd8e-42c9-9f13-35d7d5d0e1ba",
   "metadata": {},
   "source": [
    "## Registering Model"
   ]
  },
  {
   "cell_type": "code",
   "execution_count": 30,
   "id": "1ed2a948-af30-456b-bb7a-a69bc61ecdbd",
   "metadata": {
    "tags": []
   },
   "outputs": [
    {
     "data": {
      "text/plain": [
       "{'session': <sagemaker.workflow.pipeline_context.PipelineSession at 0x7f18c86276d0>,\n",
       " 'instance_type': 'ml.m5.xlarge',\n",
       " 'image': None,\n",
       " 'framework_version': '1.12',\n",
       " 'py_version': 'py38'}"
      ]
     },
     "execution_count": 30,
     "metadata": {},
     "output_type": "execute_result"
    }
   ],
   "source": [
    "config"
   ]
  },
  {
   "cell_type": "code",
   "execution_count": 31,
   "id": "8c59216d-9b89-460c-bf43-129e589f95da",
   "metadata": {
    "tags": []
   },
   "outputs": [],
   "source": [
    "MODEL_PACKAGE_GROUP = \"dogBreeds\""
   ]
  },
  {
   "cell_type": "code",
   "execution_count": 32,
   "id": "41826499-bc38-43a4-8524-8b33104f63fc",
   "metadata": {
    "tags": []
   },
   "outputs": [],
   "source": [
    "from sagemaker.pytorch.model import PyTorchModel\n",
    "\n",
    "pytorch_model = PyTorchModel(\n",
    "    model_data=model_assets,\n",
    "    entry_point=\"inference.py\",\n",
    "    image_uri=config[\"image\"],\n",
    "    py_version=config[\"py_version\"],\n",
    "    framework_version=config[\"framework_version\"],\n",
    "    sagemaker_session=config[\"session\"],\n",
    "    role=role,\n",
    ")"
   ]
  },
  {
   "cell_type": "code",
   "execution_count": 33,
   "id": "f7238ccf-7af8-4b96-9235-16944cb40d4d",
   "metadata": {},
   "outputs": [],
   "source": [
    "from sagemaker.model_metrics import ModelMetrics, MetricsSource\n",
    "from sagemaker.drift_check_baselines import DriftCheckBaselines\n",
    "\n",
    "model_metrics = ModelMetrics(\n",
    "    model_data_statistics=MetricsSource(\n",
    "        s3_uri=data_quality_baseline_step.properties.CalculatedBaselineStatistics,\n",
    "        content_type=\"application/json\",\n",
    "    ),\n",
    "    model_data_constraints=MetricsSource(\n",
    "        s3_uri=data_quality_baseline_step.properties.CalculatedBaselineConstraints,\n",
    "        content_type=\"application/json\",\n",
    "    ),\n",
    "    model_statistics=MetricsSource(\n",
    "        s3_uri=model_quality_baseline_step.properties.CalculatedBaselineStatistics,\n",
    "        content_type=\"application/json\",\n",
    "    ),\n",
    "    model_constraints=MetricsSource(\n",
    "        s3_uri=model_quality_baseline_step.properties.CalculatedBaselineConstraints,\n",
    "        content_type=\"application/json\",\n",
    "    ),\n",
    ")\n",
    "\n",
    "drift_check_baselines = DriftCheckBaselines(\n",
    "    model_data_statistics=MetricsSource(\n",
    "        s3_uri=data_quality_baseline_step.properties.BaselineUsedForDriftCheckStatistics,\n",
    "        content_type=\"application/json\",\n",
    "    ),\n",
    "    model_data_constraints=MetricsSource(\n",
    "        s3_uri=data_quality_baseline_step.properties.BaselineUsedForDriftCheckConstraints,\n",
    "        content_type=\"application/json\",\n",
    "    ),\n",
    "    model_statistics=MetricsSource(\n",
    "        s3_uri=model_quality_baseline_step.properties.BaselineUsedForDriftCheckStatistics,\n",
    "        content_type=\"application/json\",\n",
    "    ),\n",
    "    model_constraints=MetricsSource(\n",
    "        s3_uri=model_quality_baseline_step.properties.BaselineUsedForDriftCheckConstraints,\n",
    "        content_type=\"application/json\",\n",
    "    ),\n",
    ")"
   ]
  },
  {
   "cell_type": "code",
   "execution_count": 34,
   "id": "00b8d61d-bb3c-42a8-8b5c-81d5e9f2e599",
   "metadata": {
    "tags": []
   },
   "outputs": [],
   "source": [
    "from sagemaker.workflow.model_step import ModelStep\n",
    "\n",
    "register_model_step = ModelStep(\n",
    "    name=\"register-model\",\n",
    "    step_args=pytorch_model.register(\n",
    "        model_package_group_name=MODEL_PACKAGE_GROUP,\n",
    "        model_metrics=model_metrics,\n",
    "        drift_check_baselines=drift_check_baselines,\n",
    "        approval_status=\"PendingManualApproval\",\n",
    "        content_types=[\"application/json\", \"application/x-image\"],\n",
    "        response_types=[\"application/json\"],\n",
    "        inference_instances=[\"ml.m5.xlarge\"],\n",
    "        transform_instances=[\"ml.g4dn.xlarge\"],\n",
    "        domain=\"MACHINE_LEARNING\",\n",
    "        task=\"CLASSIFICATION\",\n",
    "        framework=\"PYTORCH\",\n",
    "        framework_version=config[\"framework_version\"],\n",
    "    ),\n",
    ")"
   ]
  },
  {
   "cell_type": "code",
   "execution_count": 35,
   "id": "675a678f-1cda-4ba0-a27d-d421dc5c8554",
   "metadata": {
    "tags": []
   },
   "outputs": [],
   "source": [
    "from sagemaker.workflow.parameters import ParameterFloat\n",
    "\n",
    "accuracy_threshold = ParameterFloat(name=\"accuracy_threshold\", default_value=0.50)"
   ]
  },
  {
   "cell_type": "code",
   "execution_count": 36,
   "id": "7f4e5fbe-96e7-457c-a169-c617a3b6a6fe",
   "metadata": {
    "tags": []
   },
   "outputs": [],
   "source": [
    "from sagemaker.workflow.fail_step import FailStep\n",
    "from sagemaker.workflow.functions import Join\n",
    "\n",
    "fail_step = FailStep(\n",
    "    name=\"fail\",\n",
    "    error_message=Join(\n",
    "        on=\" \",\n",
    "        values=[\n",
    "            \"Execution failed because the model's accuracy was lower than\",\n",
    "            accuracy_threshold,\n",
    "        ],\n",
    "    ),\n",
    ")"
   ]
  },
  {
   "cell_type": "code",
   "execution_count": 37,
   "id": "e9f72318-5b3c-4d52-96e5-ebadd7c1e8c9",
   "metadata": {
    "tags": []
   },
   "outputs": [],
   "source": [
    "from sagemaker.workflow.functions import JsonGet\n",
    "from sagemaker.workflow.conditions import ConditionGreaterThanOrEqualTo\n",
    "\n",
    "condition = ConditionGreaterThanOrEqualTo(\n",
    "    left=JsonGet(\n",
    "        step_name=evaluate_model_step.name,\n",
    "        property_file=evaluation_report,\n",
    "        json_path=\"metrics.accuracy.value\",\n",
    "    ),\n",
    "    right=accuracy_threshold,\n",
    ")"
   ]
  },
  {
   "cell_type": "code",
   "execution_count": 38,
   "id": "d3939587-06b6-450b-aaa5-e96d5420433d",
   "metadata": {
    "tags": []
   },
   "outputs": [],
   "source": [
    "from sagemaker.workflow.condition_step import ConditionStep\n",
    "\n",
    "condition_step = ConditionStep(\n",
    "    name=\"check-model-accuracy\",\n",
    "    conditions=[condition],\n",
    "    if_steps=[\n",
    "        model_quality_baseline_step, \n",
    "        register_model_step\n",
    "    ],\n",
    "    else_steps=[fail_step],\n",
    ")"
   ]
  },
  {
   "cell_type": "code",
   "execution_count": 39,
   "id": "098e6e08-08f4-42cf-b478-c47e35fb3b0c",
   "metadata": {
    "tags": []
   },
   "outputs": [],
   "source": [
    "from sagemaker.workflow.pipeline import Pipeline\n",
    "training_pipeline = Pipeline(\n",
    "    name=\"dogBreeds-training-pipeline\",\n",
    "    parameters=[dataset_location, accuracy_threshold],\n",
    "    steps=[\n",
    "        preprocessing_step,\n",
    "        train_model_step,\n",
    "        data_quality_baseline_step,\n",
    "        evaluate_model_step,\n",
    "        condition_step,\n",
    "    ],\n",
    "    pipeline_definition_config=pipeline_definition_config,\n",
    "    sagemaker_session=config[\"session\"],\n",
    ")"
   ]
  },
  {
   "cell_type": "code",
   "execution_count": 40,
   "id": "2d8498c8-f1eb-4fdd-ad20-7f7219864018",
   "metadata": {
    "tags": []
   },
   "outputs": [
    {
     "name": "stdout",
     "output_type": "stream",
     "text": [
      "Using provided s3_resource\n"
     ]
    },
    {
     "name": "stderr",
     "output_type": "stream",
     "text": [
      "INFO:sagemaker.image_uris:image_uri is not presented, retrieving image_uri based on instance_type, framework etc.\n"
     ]
    },
    {
     "name": "stdout",
     "output_type": "stream",
     "text": [
      "Using provided s3_resource\n",
      "Using provided s3_resource\n"
     ]
    },
    {
     "name": "stderr",
     "output_type": "stream",
     "text": [
      "INFO:sagemaker.processing:Uploaded evaluate to s3://pochingto-testing/dogBreeds-training-pipeline/code/4db941f04ed748882e10300736cad13a/sourcedir.tar.gz\n",
      "INFO:sagemaker.processing:runproc.sh uploaded to s3://pochingto-testing/dogBreeds-training-pipeline/code/2c207c809cb0e0e9a1d77e5247f961f9/runproc.sh\n",
      "WARNING:sagemaker.workflow._utils:Popping out 'CertifyForMarketplace' from the pipeline definition since it will be overridden in pipeline execution time.\n"
     ]
    },
    {
     "name": "stdout",
     "output_type": "stream",
     "text": [
      "Using provided s3_resource\n"
     ]
    },
    {
     "name": "stderr",
     "output_type": "stream",
     "text": [
      "INFO:sagemaker.processing:Uploaded preprocessing to s3://pochingto-testing/dogBreeds-training-pipeline/code/af7855aa5c91b75932b386e381849af6/sourcedir.tar.gz\n",
      "INFO:sagemaker.processing:runproc.sh uploaded to s3://pochingto-testing/dogBreeds-training-pipeline/code/0c8137ea235a6debf66cba8d901e144c/runproc.sh\n",
      "INFO:sagemaker.image_uris:image_uri is not presented, retrieving image_uri based on instance_type, framework etc.\n"
     ]
    },
    {
     "name": "stdout",
     "output_type": "stream",
     "text": [
      "Using provided s3_resource\n",
      "Using provided s3_resource\n"
     ]
    },
    {
     "name": "stderr",
     "output_type": "stream",
     "text": [
      "INFO:sagemaker.processing:Uploaded evaluate to s3://pochingto-testing/dogBreeds-training-pipeline/code/4db941f04ed748882e10300736cad13a/sourcedir.tar.gz\n",
      "INFO:sagemaker.processing:runproc.sh uploaded to s3://pochingto-testing/dogBreeds-training-pipeline/code/2c207c809cb0e0e9a1d77e5247f961f9/runproc.sh\n"
     ]
    },
    {
     "name": "stdout",
     "output_type": "stream",
     "text": [
      "Using provided s3_resource\n",
      "Using provided s3_resource\n"
     ]
    },
    {
     "data": {
      "text/plain": [
       "{'PipelineArn': 'arn:aws:sagemaker:us-east-1:681340771742:pipeline/dogBreeds-training-pipeline',\n",
       " 'ResponseMetadata': {'RequestId': 'a233e3f8-afe5-4a49-86af-9b15a86dc0fc',\n",
       "  'HTTPStatusCode': 200,\n",
       "  'HTTPHeaders': {'x-amzn-requestid': 'a233e3f8-afe5-4a49-86af-9b15a86dc0fc',\n",
       "   'content-type': 'application/x-amz-json-1.1',\n",
       "   'content-length': '95',\n",
       "   'date': 'Thu, 23 Nov 2023 20:28:09 GMT'},\n",
       "  'RetryAttempts': 0}}"
      ]
     },
     "execution_count": 40,
     "metadata": {},
     "output_type": "execute_result"
    }
   ],
   "source": [
    "training_pipeline.upsert(role_arn=role)"
   ]
  },
  {
   "cell_type": "markdown",
   "id": "c8848b04-43e4-4335-8bad-a22b943c42c4",
   "metadata": {},
   "source": [
    "# Setup Automatic Deployment\n",
    "\n",
    "In this part, my premission is not correctly configured. So I setup this part using AWS console UI. "
   ]
  },
  {
   "cell_type": "markdown",
   "id": "69aec151-97a9-4691-9e59-2ec16e474261",
   "metadata": {
    "tags": []
   },
   "source": [
    "## Setup lambda"
   ]
  },
  {
   "cell_type": "code",
   "execution_count": 41,
   "id": "356d8215-96ad-49a3-bb1a-24df3721313e",
   "metadata": {
    "tags": []
   },
   "outputs": [],
   "source": [
    "# # setup role for lambda to deploy endpoint\n",
    "# import json\n",
    "\n",
    "# lambda_role_name = \"lambda-deployment-role\"\n",
    "# lambda_role_arn = None\n",
    "\n",
    "# try:\n",
    "#     response = iam_client.create_role(\n",
    "#         RoleName=lambda_role_name,\n",
    "#         AssumeRolePolicyDocument=json.dumps(\n",
    "#             {\n",
    "#                 \"Version\": \"2012-10-17\",\n",
    "#                 \"Statement\": [\n",
    "#                     {\n",
    "#                         \"Effect\": \"Allow\",\n",
    "#                         \"Principal\": {\n",
    "#                             \"Service\": [\"lambda.amazonaws.com\", \"events.amazonaws.com\"]\n",
    "#                         },\n",
    "#                         \"Action\": \"sts:AssumeRole\",\n",
    "#                     }\n",
    "#                 ],\n",
    "#             }\n",
    "#         ),\n",
    "#         Description=\"Lambda Endpoint Deployment\",\n",
    "#     )\n",
    "\n",
    "#     lambda_role_arn = response[\"Role\"][\"Arn\"]\n",
    "\n",
    "#     iam_client.attach_role_policy(\n",
    "#         PolicyArn=\"arn:aws:iam::aws:policy/service-role/AWSLambdaBasicExecutionRole\",\n",
    "#         RoleName=lambda_role_name,\n",
    "#     )\n",
    "\n",
    "#     iam_client.attach_role_policy(\n",
    "#         PolicyArn=\"arn:aws:iam::aws:policy/AmazonSageMakerFullAccess\",\n",
    "#         RoleName=lambda_role_name,\n",
    "#     )\n",
    "\n",
    "#     print(f'Role \"{lambda_role_name}\" created with ARN \"{lambda_role_arn}\".')\n",
    "# except iam_client.exceptions.EntityAlreadyExistsException:\n",
    "#     response = iam_client.get_role(RoleName=lambda_role_name)\n",
    "#     lambda_role_arn = response[\"Role\"][\"Arn\"]\n",
    "#     print(f'Role \"{lambda_role_name}\" already exists with ARN \"{lambda_role_arn}\".')"
   ]
  },
  {
   "cell_type": "code",
   "execution_count": 42,
   "id": "9aeb1cb0-db86-49ff-9ff8-46cc128102de",
   "metadata": {
    "tags": []
   },
   "outputs": [],
   "source": [
    "# ENDPOINT = \"dogbreeds-endpoint\"\n",
    "# DATA_CAPTURE_DESTINATION = f\"s3://{bucket}/monitoring/data-capture\""
   ]
  },
  {
   "cell_type": "code",
   "execution_count": 43,
   "id": "15934808-f487-4976-81df-bd27a3d845e1",
   "metadata": {
    "tags": []
   },
   "outputs": [],
   "source": [
    "# from sagemaker.lambda_helper import Lambda\n",
    "\n",
    "# deploy_lambda_fn = Lambda(\n",
    "#     function_name=\"deploy_fn\",\n",
    "#     execution_role_arn=lambda_role_arn,\n",
    "#     script=\"lambda.py\",\n",
    "#     handler=\"lambda.lambda_handler\",\n",
    "#     timeout=600,\n",
    "#     session=sagemaker_session,\n",
    "#     runtime=\"python3.11\",\n",
    "#     environment={\n",
    "#         \"Variables\": {\n",
    "#             \"ENDPOINT\": ENDPOINT,\n",
    "#             \"DATA_CAPTURE_DESTINATION\": DATA_CAPTURE_DESTINATION,\n",
    "#             \"ROLE\": role,\n",
    "#         }\n",
    "#     },\n",
    "# )\n",
    "\n",
    "# lambda_response = deploy_lambda_fn.upsert()\n",
    "# lambda_response"
   ]
  },
  {
   "cell_type": "markdown",
   "id": "bc94c32c-894b-49de-a57e-67053710c92a",
   "metadata": {},
   "source": [
    "## Setup Eventbridge"
   ]
  },
  {
   "cell_type": "code",
   "execution_count": 44,
   "id": "09914ec1-5353-44c0-9242-7872e9dfd65f",
   "metadata": {
    "tags": []
   },
   "outputs": [],
   "source": [
    "# MODEL_PACKAGE_GROUP"
   ]
  },
  {
   "cell_type": "code",
   "execution_count": 45,
   "id": "0003d4c3-523a-403b-9a05-cfccf3a68969",
   "metadata": {
    "tags": []
   },
   "outputs": [],
   "source": [
    "# event_pattern = f\"\"\"\n",
    "# {{\n",
    "#   \"source\": [\"aws.sagemaker\"],\n",
    "#   \"detail-type\": [\"SageMaker Model Package State Change\"],\n",
    "#   \"detail\": {{\n",
    "#     \"ModelPackageGroupName\": [\"{MODEL_PACKAGE_GROUP}\"],\n",
    "#     \"ModelApprovalStatus\": [\"Approved\"]\n",
    "#   }}\n",
    "# }}\n",
    "# \"\"\""
   ]
  },
  {
   "cell_type": "code",
   "execution_count": 46,
   "id": "8a5ac4bc-8325-47fd-a660-735688ae0127",
   "metadata": {
    "tags": []
   },
   "outputs": [],
   "source": [
    "# event_pattern"
   ]
  },
  {
   "cell_type": "code",
   "execution_count": 47,
   "id": "01e3e4d0-293a-415d-bef5-ec1835b4d696",
   "metadata": {
    "tags": []
   },
   "outputs": [],
   "source": [
    "# events_client = boto3.client(\"events\")\n",
    "# rule_response = events_client.put_rule(\n",
    "#     Name=\"PipelineModelApprovedRule\",\n",
    "#     EventPattern=event_pattern,\n",
    "#     State=\"ENABLED\",\n",
    "#     RoleArn=role,\n",
    "# )"
   ]
  },
  {
   "cell_type": "markdown",
   "id": "c364b905-d7fb-433e-a0db-3c986c6df4a6",
   "metadata": {},
   "source": [
    "# Manually Deploy"
   ]
  },
  {
   "cell_type": "code",
   "execution_count": 48,
   "id": "24e5f8a8-40e0-4cac-b302-abc2a437f308",
   "metadata": {
    "tags": []
   },
   "outputs": [],
   "source": [
    "from sagemaker.predictor import Predictor\n",
    "\n",
    "ENDPOINT = \"dogBreeds-endpoint\"\n",
    "DATA_CAPTURE_DESTINATION = f\"{bucket}/monitoring/data-capture\"\n",
    "MODEL_PACKAGE_GROUP = \"dogBreeds\""
   ]
  },
  {
   "cell_type": "code",
   "execution_count": 49,
   "id": "4bc6f249-2289-4821-bf66-851c82fd977e",
   "metadata": {
    "tags": []
   },
   "outputs": [],
   "source": [
    "import boto3\n",
    "import sagemaker\n",
    "\n",
    "sagemaker_client = boto3.client(\"sagemaker\")\n",
    "sagemaker_session = sagemaker.session.Session()\n",
    "role = sagemaker.get_execution_role()\n",
    "region = boto3.Session().region_name"
   ]
  },
  {
   "cell_type": "markdown",
   "id": "49b2e3a4-70b9-4bf4-81ac-13daf0873d48",
   "metadata": {},
   "source": [
    "## Sagemaker SDK"
   ]
  },
  {
   "cell_type": "code",
   "execution_count": 50,
   "id": "a5271f99-2e76-4958-a455-300d62b936b4",
   "metadata": {
    "tags": []
   },
   "outputs": [],
   "source": [
    "# from sagemaker import ModelPackage\n",
    "\n",
    "# model_package = ModelPackage(\n",
    "#     model_package_arn=package[\"ModelPackageArn\"],\n",
    "#     sagemaker_session=sagemaker_session,\n",
    "#     role=role,\n",
    "# )"
   ]
  },
  {
   "cell_type": "code",
   "execution_count": 51,
   "id": "5efc9cc5-463d-4c65-b502-917c92271bf3",
   "metadata": {
    "tags": []
   },
   "outputs": [],
   "source": [
    "# model_package.deploy(\n",
    "#     endpoint_name=ENDPOINT, \n",
    "#     initial_instance_count=1, \n",
    "#     instance_type=config[\"instance_type\"]\n",
    "# )"
   ]
  },
  {
   "cell_type": "markdown",
   "id": "30f4fd1d-654a-4d28-b572-3c65847bd768",
   "metadata": {},
   "source": [
    "## boto3 SDK"
   ]
  },
  {
   "cell_type": "code",
   "execution_count": 52,
   "id": "7b8a455d-2531-4a55-b964-eefe59968a4c",
   "metadata": {
    "tags": []
   },
   "outputs": [],
   "source": [
    "# response = sagemaker_client.list_model_packages(\n",
    "#     ModelPackageGroupName=MODEL_PACKAGE_GROUP,\n",
    "#     ModelApprovalStatus=\"Approved\",\n",
    "#     SortBy=\"CreationTime\",\n",
    "#     MaxResults=1,\n",
    "# )\n",
    "\n",
    "# package = (\n",
    "#     response[\"ModelPackageSummaryList\"][0]\n",
    "#     if response[\"ModelPackageSummaryList\"]\n",
    "#     else None\n",
    "# )\n",
    "# package"
   ]
  },
  {
   "cell_type": "code",
   "execution_count": 53,
   "id": "9fc1e180-f45f-4d22-ae94-cc6f7351895a",
   "metadata": {
    "tags": []
   },
   "outputs": [],
   "source": [
    "# import time\n",
    "# import boto3\n",
    "\n",
    "# sagemaker_client = boto3.client(\"sagemaker\")\n",
    "\n",
    "# endpoint_name = \"dogBreeds-endpoint\"\n",
    "# data_capture_destination = DATA_CAPTURE_DESTINATION # f\"s3://{bucket}/monitoring/data-capture\"\n",
    "\n",
    "# timestamp = time.strftime(\"%m%d%H%M%S\", time.localtime())\n",
    "# model_name = f\"{endpoint_name}-model-{timestamp}\"\n",
    "# endpoint_config_name = f\"{endpoint_name}-config-{timestamp}\"\n",
    "# model_package_arn=package[\"ModelPackageArn\"]\n",
    "\n",
    "# sagemaker_client.create_model(\n",
    "#     ModelName=model_name, \n",
    "#     ExecutionRoleArn=role, \n",
    "#     Containers=[{\n",
    "#         \"ModelPackageName\": model_package_arn\n",
    "#     }] \n",
    "# )\n",
    "# sagemaker_client.create_endpoint_config(\n",
    "#     EndpointConfigName=endpoint_config_name,\n",
    "#     ProductionVariants=[{\n",
    "#         \"ModelName\": model_name,\n",
    "#         \"InstanceType\": \"ml.m5.xlarge\",\n",
    "#         \"InitialVariantWeight\": 1,\n",
    "#         \"InitialInstanceCount\": 1,\n",
    "#         \"VariantName\": \"AllTraffic\",\n",
    "#     }],\n",
    "\n",
    "#     DataCaptureConfig={\n",
    "#         \"EnableCapture\": True,\n",
    "#         \"InitialSamplingPercentage\": 100,\n",
    "#         \"DestinationS3Uri\": data_capture_destination,\n",
    "#         \"CaptureOptions\": [\n",
    "#             {\n",
    "#                 \"CaptureMode\": \"Input\"\n",
    "#             },\n",
    "#             {\n",
    "#                 \"CaptureMode\": \"Output\"\n",
    "#             },\n",
    "#         ],\n",
    "#         \"CaptureContentTypeHeader\": {\n",
    "#             \"JsonContentTypes\": [\n",
    "#                 \"application/json\",\n",
    "#                 \"application/x-image\"\n",
    "#             ]\n",
    "#         }\n",
    "#     },\n",
    "# )"
   ]
  },
  {
   "cell_type": "code",
   "execution_count": 54,
   "id": "934c9eb2-c7b2-4aa2-9129-6ba6b759239f",
   "metadata": {
    "tags": []
   },
   "outputs": [],
   "source": [
    "# response = sagemaker_client.list_endpoints(NameContains=endpoint_name, MaxResults=1)\n",
    "\n",
    "# if len(response[\"Endpoints\"]) == 0:\n",
    "#     sagemaker_client.create_endpoint(\n",
    "#         EndpointName=endpoint_name, \n",
    "#         EndpointConfigName=endpoint_config_name,\n",
    "#     )\n",
    "# else:\n",
    "#     sagemaker_client.update_endpoint(\n",
    "#         EndpointName=endpoint_name, \n",
    "#         EndpointConfigName=endpoint_config_name,\n",
    "#     )"
   ]
  },
  {
   "cell_type": "markdown",
   "id": "0a909841-2101-43dd-ae0b-8b10293941ef",
   "metadata": {},
   "source": [
    "# Setup Monitoring"
   ]
  },
  {
   "cell_type": "code",
   "execution_count": 55,
   "id": "f33e87b5-9f24-439c-8419-ed4be97bc9e0",
   "metadata": {
    "tags": []
   },
   "outputs": [],
   "source": [
    "from time import sleep\n",
    "from sagemaker.model_monitor import MonitoringExecution\n",
    "from sagemaker.s3 import S3Downloader\n",
    "\n",
    "def describe_monitoring_schedules(endpoint_name):\n",
    "    schedules = []\n",
    "    response = sagemaker_client.list_monitoring_schedules(EndpointName=endpoint_name)[\n",
    "        \"MonitoringScheduleSummaries\"\n",
    "    ]\n",
    "    for item in response:\n",
    "        name = item[\"MonitoringScheduleName\"]\n",
    "        schedule = {\n",
    "            \"Name\": name,\n",
    "            \"Type\": item[\"MonitoringType\"],\n",
    "        }\n",
    "\n",
    "        description = sagemaker_client.describe_monitoring_schedule(\n",
    "            MonitoringScheduleName=name\n",
    "        )\n",
    "        # print(description)\n",
    "        schedule[\"Status\"] = description[\"MonitoringScheduleStatus\"]\n",
    "\n",
    "        last_execution_status = description[\"LastMonitoringExecutionSummary\"][\n",
    "            \"MonitoringExecutionStatus\"\n",
    "        ]\n",
    "\n",
    "        schedule[\"Last Execution Status\"] = last_execution_status\n",
    "        schedule[\"Last Execution Date\"] = str(description[\"LastMonitoringExecutionSummary\"][\"LastModifiedTime\"])\n",
    "\n",
    "        if last_execution_status == \"Failed\":\n",
    "            schedule[\"Failure Reason\"] = description[\"LastMonitoringExecutionSummary\"][\n",
    "                \"FailureReason\"\n",
    "            ]\n",
    "        elif last_execution_status == \"CompletedWithViolations\":\n",
    "            processing_job_arn = description[\"LastMonitoringExecutionSummary\"][\n",
    "                \"ProcessingJobArn\"\n",
    "            ]\n",
    "            execution = MonitoringExecution.from_processing_arn(\n",
    "                sagemaker_session=sagemaker_session,\n",
    "                processing_job_arn=processing_job_arn,\n",
    "            )\n",
    "            execution_destination = execution.output.destination\n",
    "\n",
    "            violations_filepath = os.path.join(\n",
    "                execution_destination, \"constraint_violations.json\"\n",
    "            )\n",
    "            violations = json.loads(S3Downloader.read_file(violations_filepath))[\n",
    "                \"violations\"\n",
    "            ]\n",
    "\n",
    "            schedule[\"Violations\"] = violations\n",
    "\n",
    "        schedules.append(schedule)\n",
    "\n",
    "    return schedules\n",
    "\n",
    "\n",
    "def describe_monitoring_schedule(endpoint_name, monitoring_type):\n",
    "    found = False\n",
    "\n",
    "    schedules = describe_monitoring_schedules(endpoint_name)\n",
    "    for schedule in schedules:\n",
    "        if schedule[\"Type\"] == monitoring_type:\n",
    "            found = True\n",
    "            print(json.dumps(schedule, indent=2))\n",
    "\n",
    "    if not found:\n",
    "        print(f\"There's no {monitoring_type} Monitoring Schedule.\")\n",
    "\n",
    "\n",
    "def describe_data_monitoring_schedule(endpoint_name):\n",
    "    describe_monitoring_schedule(endpoint_name, \"DataQuality\")\n",
    "\n",
    "\n",
    "def describe_model_monitoring_schedule(endpoint_name):\n",
    "    describe_monitoring_schedule(endpoint_name, \"ModelQuality\")\n",
    "\n",
    "\n",
    "def delete_monitoring_schedule(endpoint_name, monitoring_type):\n",
    "    attempts = 30\n",
    "    found = False\n",
    "\n",
    "    response = sagemaker_client.list_monitoring_schedules(EndpointName=endpoint_name)[\n",
    "        \"MonitoringScheduleSummaries\"\n",
    "    ]\n",
    "    for item in response:\n",
    "        if item[\"MonitoringType\"] == monitoring_type:\n",
    "            found = True\n",
    "            \n",
    "            summary = sagemaker_client.describe_monitoring_schedule(\n",
    "                MonitoringScheduleName=item[\"MonitoringScheduleName\"]\n",
    "            )\n",
    "            status = summary[\"MonitoringScheduleStatus\"]\n",
    "\n",
    "            if status == \"Scheduled\" and \"LastMonitoringExecutionSummary\" in summary and \"MonitoringExecutionStatus\" in summary[\"LastMonitoringExecutionSummary\"]:\n",
    "                status = summary[\"LastMonitoringExecutionSummary\"][\"MonitoringExecutionStatus\"]\n",
    "\n",
    "            while status in (\"Pending\", \"InProgress\") and attempts > 0:\n",
    "                attempts -= 1\n",
    "                print(\n",
    "                    f\"Monitoring schedule status: {status}. Waiting for it to finish.\"\n",
    "                )\n",
    "                sleep(30)\n",
    "\n",
    "                status = sagemaker_client.describe_monitoring_schedule(\n",
    "                    MonitoringScheduleName=item[\"MonitoringScheduleName\"]\n",
    "                )[\"MonitoringScheduleStatus\"]\n",
    "\n",
    "            if status not in (\"Pending\", \"InProgress\"):\n",
    "                sagemaker_client.delete_monitoring_schedule(\n",
    "                    MonitoringScheduleName=item[\"MonitoringScheduleName\"]\n",
    "                )\n",
    "                print(\"Monitoring schedule deleted.\")\n",
    "            else:\n",
    "                print(\"Waiting for monitoring schedule timed out\")\n",
    "\n",
    "    if not found:\n",
    "        print(f\"There's no {monitoring_type} Monitoring Schedule.\")\n",
    "\n",
    "\n",
    "def delete_data_monitoring_schedule(endpoint_name):\n",
    "    delete_monitoring_schedule(endpoint_name, \"DataQuality\")\n",
    "\n",
    "\n",
    "def delete_model_monitoring_schedule(endpoint_name):\n",
    "    delete_monitoring_schedule(endpoint_name, \"ModelQuality\")"
   ]
  },
  {
   "cell_type": "code",
   "execution_count": 56,
   "id": "220ba03a-8baa-4e82-bdc8-60a6eb6993a5",
   "metadata": {
    "tags": []
   },
   "outputs": [],
   "source": [
    "GROUND_TRUTH_LOCATION = f\"s3://{bucket}/monitoring/groundtruth\"\n",
    "DATA_QUALITY_LOCATION = f\"s3://{bucket}/monitoring/data-quality\"\n",
    "MODEL_QUALITY_LOCATION = f\"s3://{bucket}/monitoring/model-quality\""
   ]
  },
  {
   "cell_type": "code",
   "execution_count": 58,
   "id": "f2785b00-c24e-463b-ad17-30ebd51015ae",
   "metadata": {
    "tags": []
   },
   "outputs": [],
   "source": [
    "# GROUND_TRUTH_LOCATION"
   ]
  },
  {
   "cell_type": "markdown",
   "id": "0db1edd7-feec-4ace-9b13-bd895d70f4f3",
   "metadata": {},
   "source": [
    "## Data Monitoring"
   ]
  },
  {
   "cell_type": "code",
   "execution_count": 59,
   "id": "0b30cac4-4456-455c-a4f0-8651eeceec6e",
   "metadata": {},
   "outputs": [],
   "source": [
    "import json\n",
    "import numpy as np\n",
    "import io\n",
    "import base64\n",
    "\n",
    "from PIL import Image\n",
    "\n",
    "def extract_rgb_features(image_data):\n",
    "    img = Image.open(io.BytesIO(image_data))\n",
    "    width, height = img.size\n",
    "    print(f\"Img size w x h: {width}, {height}\")\n",
    "    img_array = np.array(img)\n",
    "    \n",
    "    columns = ['width', 'height', 'red_mean', 'red_std', 'green_mean', 'green_std', 'blue_mean', 'blue_std']\n",
    "    if img_array.ndim == 3:\n",
    "        red_channel = img_array[:, :, 0]\n",
    "        green_channel = img_array[:, :, 1]\n",
    "        blue_channel = img_array[:, :, 2]\n",
    "\n",
    "        red_mean, red_std = np.mean(red_channel), np.std(red_channel)\n",
    "        print(f\"red mean {red_mean} red std {red_std}\")\n",
    "        green_mean, green_std = np.mean(green_channel), np.std(green_channel)\n",
    "        print(f\"green mean {green_mean} green std {green_std}\")\n",
    "        blue_mean, blue_std = np.mean(blue_channel), np.std(blue_channel)\n",
    "        print(f\"blue mean {blue_mean} blue std {blue_std}\")\n",
    "\n",
    "        features = [width, height, red_mean, red_std, green_mean, green_std, blue_mean, blue_std]\n",
    "    else:\n",
    "        features = [width, height] + [-1.0] * 6\n",
    "        \n",
    "    response = {\n",
    "        \"width\": width, \n",
    "        \"height\": height, \n",
    "        \"red_mean\": red_mean, \n",
    "        \"red_std\": red_std, \n",
    "        \"green_mean\": green_mean, \n",
    "        \"green_std\": green_std\n",
    "    }\n",
    "    print(f\"Reponse: {response}\")\n",
    "    return response\n",
    "\n",
    "def preprocess_handler(inference_record):\n",
    "    data = json.loads(inference_record.endpoint_input.data)\n",
    "    image_data = data[\"image_data\"]\n",
    "    image_data = base64.b64decode(image_data)\n",
    "    return extract_rgb_features(image_data)"
   ]
  },
  {
   "cell_type": "code",
   "execution_count": 60,
   "id": "2a8af58b-97bf-4bd1-bce6-54791644bbfe",
   "metadata": {
    "tags": []
   },
   "outputs": [],
   "source": [
    "DATA_QUALITY_PREPROCESSOR = \"data_quality_preprocessor.py\""
   ]
  },
  {
   "cell_type": "code",
   "execution_count": 61,
   "id": "f0ffbfe3-610b-4ac8-8914-fd381f89c934",
   "metadata": {},
   "outputs": [],
   "source": [
    "s3_bucket = boto3.Session().resource(\"s3\").Bucket(pipeline_session.default_bucket())\n",
    "prefix = \"dogbreeds/monitoring\"\n",
    "s3_bucket.Object(os.path.join(prefix, DATA_QUALITY_PREPROCESSOR)).upload_file(\n",
    "    str(DATA_QUALITY_PREPROCESSOR)\n",
    ")\n",
    "data_quality_preprocessor = (\n",
    "    f\"s3://{os.path.join(s3_bucket.name, prefix, DATA_QUALITY_PREPROCESSOR)}\"\n",
    ")"
   ]
  },
  {
   "cell_type": "code",
   "execution_count": 62,
   "id": "72b554f9-48d4-4c8f-99f2-c410b0201a91",
   "metadata": {
    "tags": []
   },
   "outputs": [],
   "source": [
    "# data_quality_preprocessor"
   ]
  },
  {
   "cell_type": "code",
   "execution_count": 59,
   "id": "ba780d51-9cbb-43dd-bcc1-c89c7c27691b",
   "metadata": {
    "tags": []
   },
   "outputs": [],
   "source": [
    "from sagemaker.model_monitor import CronExpressionGenerator, DefaultModelMonitor\n",
    "\n",
    "data_monitor = DefaultModelMonitor(\n",
    "    instance_type=config[\"instance_type\"],\n",
    "    instance_count=1,\n",
    "    max_runtime_in_seconds=3600,\n",
    "    role=role,\n",
    ")\n",
    "\n",
    "data_monitor.create_monitoring_schedule(\n",
    "    monitor_schedule_name=\"dogbreeds-data-monitoring-schedule\",\n",
    "    endpoint_input=ENDPOINT,\n",
    "    record_preprocessor_script=data_quality_preprocessor,\n",
    "    statistics=f\"{DATA_QUALITY_LOCATION}/statistics.json\",\n",
    "    constraints=f\"{DATA_QUALITY_LOCATION}/constraints.json\",\n",
    "    schedule_cron_expression=CronExpressionGenerator.hourly(),\n",
    "    output_s3_uri=DATA_QUALITY_LOCATION,\n",
    "    enable_cloudwatch_metrics=True,\n",
    ")"
   ]
  },
  {
   "cell_type": "code",
   "execution_count": 83,
   "id": "9e19a5d9-f8db-4f31-b4f3-def038403889",
   "metadata": {
    "tags": []
   },
   "outputs": [
    {
     "name": "stdout",
     "output_type": "stream",
     "text": [
      "{\n",
      "  \"Name\": \"dogbreeds-data-monitoring-schedule\",\n",
      "  \"Type\": \"DataQuality\",\n",
      "  \"Status\": \"Scheduled\",\n",
      "  \"Last Execution Status\": \"CompletedWithViolations\",\n",
      "  \"Last Execution Date\": \"2023-11-22 22:08:28.549000+00:00\",\n",
      "  \"Violations\": [\n",
      "    {\n",
      "      \"feature_name\": \"height\",\n",
      "      \"constraint_check_type\": \"data_type_check\",\n",
      "      \"description\": \"Data type match requirement is not met. Expected data type: Integral, Expected match: 100.0%. Observed: Only 0.0% of data is Integral.\"\n",
      "    },\n",
      "    {\n",
      "      \"feature_name\": \"blue_std\",\n",
      "      \"constraint_check_type\": \"data_type_check\",\n",
      "      \"description\": \"Data type match requirement is not met. Expected data type: Fractional, Expected match: 100.0%. Observed: Only 0.0% of data is Fractional.\"\n",
      "    },\n",
      "    {\n",
      "      \"feature_name\": \"width\",\n",
      "      \"constraint_check_type\": \"data_type_check\",\n",
      "      \"description\": \"Data type match requirement is not met. Expected data type: Integral, Expected match: 100.0%. Observed: Only 0.0% of data is Integral.\"\n",
      "    },\n",
      "    {\n",
      "      \"feature_name\": \"green_mean\",\n",
      "      \"constraint_check_type\": \"data_type_check\",\n",
      "      \"description\": \"Data type match requirement is not met. Expected data type: Fractional, Expected match: 100.0%. Observed: Only 0.0% of data is Fractional.\"\n",
      "    }\n",
      "  ]\n",
      "}\n"
     ]
    }
   ],
   "source": [
    "# describe_data_monitoring_schedule(ENDPOINT)"
   ]
  },
  {
   "cell_type": "markdown",
   "id": "aebac6be-fb6e-4557-93d7-6ae86c07e071",
   "metadata": {},
   "source": [
    "## Model Monitoring"
   ]
  },
  {
   "cell_type": "code",
   "execution_count": 63,
   "id": "c4860ca0-49dd-4f95-993a-af9d3af62538",
   "metadata": {
    "tags": []
   },
   "outputs": [],
   "source": [
    "from sagemaker.model_monitor import ModelQualityMonitor, EndpointInput\n",
    "\n",
    "model_monitor = ModelQualityMonitor(\n",
    "    instance_type=config[\"instance_type\"],\n",
    "    instance_count=1,\n",
    "    max_runtime_in_seconds=1800,\n",
    "    role=role\n",
    ")\n",
    "\n",
    "model_monitor.create_monitoring_schedule(\n",
    "    monitor_schedule_name=\"dogbreeds-model-monitoring-schedule\",\n",
    "    \n",
    "    endpoint_input = EndpointInput(\n",
    "        endpoint_name=ENDPOINT,\n",
    "        inference_attribute=\"prediction\",\n",
    "        destination=\"/opt/ml/processing/input_data\",\n",
    "    ),\n",
    "    \n",
    "    problem_type=\"MulticlassClassification\",\n",
    "    ground_truth_input=GROUND_TRUTH_LOCATION,\n",
    "    constraints=f\"{MODEL_QUALITY_LOCATION}/constraints.json\",\n",
    "    schedule_cron_expression=CronExpressionGenerator.hourly(),\n",
    "    output_s3_uri=MODEL_QUALITY_LOCATION,\n",
    "    enable_cloudwatch_metrics=True,\n",
    ")"
   ]
  },
  {
   "cell_type": "code",
   "execution_count": 84,
   "id": "6d8cfe6d-686e-4168-b01f-02b5d0d238cf",
   "metadata": {
    "tags": []
   },
   "outputs": [
    {
     "name": "stdout",
     "output_type": "stream",
     "text": [
      "{\n",
      "  \"Name\": \"dogbreeds-model-monitoring-schedule\",\n",
      "  \"Type\": \"ModelQuality\",\n",
      "  \"Status\": \"Scheduled\",\n",
      "  \"Last Execution Status\": \"InProgress\",\n",
      "  \"Last Execution Date\": \"2023-11-22 22:07:51.938000+00:00\"\n",
      "}\n"
     ]
    }
   ],
   "source": [
    "# describe_model_monitoring_schedule(ENDPOINT)"
   ]
  },
  {
   "cell_type": "markdown",
   "id": "879b67c2-c918-4291-ab0c-16cf2189edff",
   "metadata": {},
   "source": [
    "## Generate Traffic"
   ]
  },
  {
   "cell_type": "code",
   "execution_count": 65,
   "id": "1aaedd8f-af64-4300-a91d-ef6c80a37d23",
   "metadata": {},
   "outputs": [],
   "source": [
    "from PIL import Image\n",
    "import io\n",
    "import base64\n",
    "\n",
    "def load_and_preprocess_image(image_path):\n",
    "    # Load the image\n",
    "    image = Image.open(image_path)\n",
    "    # image = image.resize((224, 224))\n",
    "\n",
    "    # Convert the image to bytes\n",
    "    img_byte_arr = io.BytesIO()\n",
    "    image.save(img_byte_arr, format='JPEG')  # Adjust format if needed\n",
    "    img_byte_arr = img_byte_arr.getvalue()\n",
    "    image_data = base64.b64encode(img_byte_arr).decode('utf-8')\n",
    "\n",
    "    return image_data\n",
    "\n",
    "image_path = './test_images/chow-chow.jpg'\n",
    "image_data = load_and_preprocess_image(image_path)"
   ]
  },
  {
   "cell_type": "code",
   "execution_count": 66,
   "id": "67c57ab2-5181-4e39-a51b-5e94ac9164cb",
   "metadata": {},
   "outputs": [
    {
     "name": "stdout",
     "output_type": "stream",
     "text": [
      "Inference id 0 : {'prediction': 'Chow_chow', 'confidence': 0.7634961009025574}\n",
      "Inference id 1 : {'prediction': 'Chow_chow', 'confidence': 0.7634961009025574}\n",
      "Inference id 2 : {'prediction': 'Chow_chow', 'confidence': 0.7634961009025574}\n",
      "Inference id 3 : {'prediction': 'Chow_chow', 'confidence': 0.7634961009025574}\n",
      "Inference id 4 : {'prediction': 'Chow_chow', 'confidence': 0.7634961009025574}\n",
      "Inference id 5 : {'prediction': 'Chow_chow', 'confidence': 0.7634961009025574}\n",
      "Inference id 6 : {'prediction': 'Chow_chow', 'confidence': 0.7634961009025574}\n",
      "Inference id 7 : {'prediction': 'Chow_chow', 'confidence': 0.7634961009025574}\n",
      "Inference id 8 : {'prediction': 'Chow_chow', 'confidence': 0.7634961009025574}\n",
      "Inference id 9 : {'prediction': 'Chow_chow', 'confidence': 0.7634961009025574}\n"
     ]
    }
   ],
   "source": [
    "import boto3\n",
    "import json\n",
    "\n",
    "endpoint_name = \"dogbreeds-endpoint\"\n",
    "\n",
    "client = boto3.client('sagemaker-runtime')\n",
    "\n",
    "# content_type = \"application/x-image\"\n",
    "\n",
    "# response = client.invoke_endpoint(\n",
    "#     EndpointName=endpoint_name,\n",
    "#     ContentType=content_type,\n",
    "#     Body=image_data\n",
    "# )\n",
    "\n",
    "content_type = \"application/json\"\n",
    "\n",
    "for i in range(10): \n",
    "    response = client.invoke_endpoint(\n",
    "        EndpointName=endpoint_name,\n",
    "        ContentType=content_type,\n",
    "        Body=json.dumps({\"image_data\": image_data}),\n",
    "        InferenceId=str(i)\n",
    "    )\n",
    "\n",
    "    # Parse the response\n",
    "    response_body = response['Body'].read()\n",
    "    predictions = json.loads(response_body)\n",
    "    print(f\"Inference id {i} : {predictions}\")"
   ]
  },
  {
   "cell_type": "code",
   "execution_count": 109,
   "id": "618a0760-40b5-498e-ae15-f1dcc54de3b5",
   "metadata": {
    "tags": []
   },
   "outputs": [
    {
     "name": "stdout",
     "output_type": "stream",
     "text": [
      "Img size w x h: 943, 1414\n",
      "red mean 128.78669973496366 red std 67.0890291598068\n",
      "green mean 85.30613798389383 green std 51.851484277429236\n",
      "blue mean 47.351028422036265 blue std 41.72439149432255\n",
      "Reponse: {'width': 943, 'height': 1414, 'red_mean': 128.78669973496366, 'red_std': 67.0890291598068, 'green_mean': 85.30613798389383, 'green_std': 51.851484277429236}\n"
     ]
    }
   ],
   "source": [
    "image_data = load_and_preprocess_image(image_path)\n",
    "image_data = base64.b64decode(image_data)\n",
    "response = extract_rgb_features(image_data)"
   ]
  },
  {
   "cell_type": "code",
   "execution_count": 110,
   "id": "f9746a8a-351e-4615-bc51-d79583b31972",
   "metadata": {
    "tags": []
   },
   "outputs": [
    {
     "data": {
      "text/plain": [
       "{'width': 943,\n",
       " 'height': 1414,\n",
       " 'red_mean': 128.78669973496366,\n",
       " 'red_std': 67.0890291598068,\n",
       " 'green_mean': 85.30613798389383,\n",
       " 'green_std': 51.851484277429236}"
      ]
     },
     "execution_count": 110,
     "metadata": {},
     "output_type": "execute_result"
    }
   ],
   "source": [
    "response"
   ]
  },
  {
   "cell_type": "markdown",
   "id": "f07f6c1f-b2b1-47b7-acfd-bb4f0f1c38fb",
   "metadata": {},
   "source": [
    "## Generate Fake Ground Truth"
   ]
  },
  {
   "cell_type": "code",
   "execution_count": 77,
   "id": "54e3644a-55a9-444b-a498-9a8635cae4ad",
   "metadata": {
    "tags": []
   },
   "outputs": [
    {
     "data": {
      "text/plain": [
       "'s3://pochingto-testing/monitoring/groundtruth'"
      ]
     },
     "execution_count": 77,
     "metadata": {},
     "output_type": "execute_result"
    }
   ],
   "source": [
    "GROUND_TRUTH_LOCATION"
   ]
  },
  {
   "cell_type": "code",
   "execution_count": 63,
   "id": "59747c20-2848-4167-bc1a-696107a7c54f",
   "metadata": {},
   "outputs": [],
   "source": [
    "import random\n",
    "from datetime import datetime\n",
    "from sagemaker.s3 import S3Uploader\n",
    "\n",
    "records = []\n",
    "for i in range(10):\n",
    "    inference_id = str(i)\n",
    "\n",
    "    records.append(json.dumps({\n",
    "        \"groundTruthData\": {\n",
    "            \"data\": \"Chow_chow\",\n",
    "            \"encoding\": \"CSV\",\n",
    "        },\n",
    "        \"eventMetadata\": {\n",
    "            \"eventId\": str(inference_id),\n",
    "        },\n",
    "        \"eventVersion\": \"0\",\n",
    "    }))\n",
    "\n",
    "groundtruth_payload = \"\\n\".join(records)\n",
    "upload_time = datetime.utcnow()\n",
    "uri = f\"{GROUND_TRUTH_LOCATION}/{upload_time:%Y/%m/%d/%H/%M%S}.jsonl\"\n",
    "S3Uploader.upload_string_as_file_body(groundtruth_payload, uri)"
   ]
  },
  {
   "cell_type": "code",
   "execution_count": null,
   "id": "cfdc3379-5248-49a2-9dd9-029806c1622a",
   "metadata": {},
   "outputs": [],
   "source": []
  }
 ],
 "metadata": {
  "availableInstances": [
   {
    "_defaultOrder": 0,
    "_isFastLaunch": true,
    "category": "General purpose",
    "gpuNum": 0,
    "hideHardwareSpecs": false,
    "memoryGiB": 4,
    "name": "ml.t3.medium",
    "vcpuNum": 2
   },
   {
    "_defaultOrder": 1,
    "_isFastLaunch": false,
    "category": "General purpose",
    "gpuNum": 0,
    "hideHardwareSpecs": false,
    "memoryGiB": 8,
    "name": "ml.t3.large",
    "vcpuNum": 2
   },
   {
    "_defaultOrder": 2,
    "_isFastLaunch": false,
    "category": "General purpose",
    "gpuNum": 0,
    "hideHardwareSpecs": false,
    "memoryGiB": 16,
    "name": "ml.t3.xlarge",
    "vcpuNum": 4
   },
   {
    "_defaultOrder": 3,
    "_isFastLaunch": false,
    "category": "General purpose",
    "gpuNum": 0,
    "hideHardwareSpecs": false,
    "memoryGiB": 32,
    "name": "ml.t3.2xlarge",
    "vcpuNum": 8
   },
   {
    "_defaultOrder": 4,
    "_isFastLaunch": true,
    "category": "General purpose",
    "gpuNum": 0,
    "hideHardwareSpecs": false,
    "memoryGiB": 8,
    "name": "ml.m5.large",
    "vcpuNum": 2
   },
   {
    "_defaultOrder": 5,
    "_isFastLaunch": false,
    "category": "General purpose",
    "gpuNum": 0,
    "hideHardwareSpecs": false,
    "memoryGiB": 16,
    "name": "ml.m5.xlarge",
    "vcpuNum": 4
   },
   {
    "_defaultOrder": 6,
    "_isFastLaunch": false,
    "category": "General purpose",
    "gpuNum": 0,
    "hideHardwareSpecs": false,
    "memoryGiB": 32,
    "name": "ml.m5.2xlarge",
    "vcpuNum": 8
   },
   {
    "_defaultOrder": 7,
    "_isFastLaunch": false,
    "category": "General purpose",
    "gpuNum": 0,
    "hideHardwareSpecs": false,
    "memoryGiB": 64,
    "name": "ml.m5.4xlarge",
    "vcpuNum": 16
   },
   {
    "_defaultOrder": 8,
    "_isFastLaunch": false,
    "category": "General purpose",
    "gpuNum": 0,
    "hideHardwareSpecs": false,
    "memoryGiB": 128,
    "name": "ml.m5.8xlarge",
    "vcpuNum": 32
   },
   {
    "_defaultOrder": 9,
    "_isFastLaunch": false,
    "category": "General purpose",
    "gpuNum": 0,
    "hideHardwareSpecs": false,
    "memoryGiB": 192,
    "name": "ml.m5.12xlarge",
    "vcpuNum": 48
   },
   {
    "_defaultOrder": 10,
    "_isFastLaunch": false,
    "category": "General purpose",
    "gpuNum": 0,
    "hideHardwareSpecs": false,
    "memoryGiB": 256,
    "name": "ml.m5.16xlarge",
    "vcpuNum": 64
   },
   {
    "_defaultOrder": 11,
    "_isFastLaunch": false,
    "category": "General purpose",
    "gpuNum": 0,
    "hideHardwareSpecs": false,
    "memoryGiB": 384,
    "name": "ml.m5.24xlarge",
    "vcpuNum": 96
   },
   {
    "_defaultOrder": 12,
    "_isFastLaunch": false,
    "category": "General purpose",
    "gpuNum": 0,
    "hideHardwareSpecs": false,
    "memoryGiB": 8,
    "name": "ml.m5d.large",
    "vcpuNum": 2
   },
   {
    "_defaultOrder": 13,
    "_isFastLaunch": false,
    "category": "General purpose",
    "gpuNum": 0,
    "hideHardwareSpecs": false,
    "memoryGiB": 16,
    "name": "ml.m5d.xlarge",
    "vcpuNum": 4
   },
   {
    "_defaultOrder": 14,
    "_isFastLaunch": false,
    "category": "General purpose",
    "gpuNum": 0,
    "hideHardwareSpecs": false,
    "memoryGiB": 32,
    "name": "ml.m5d.2xlarge",
    "vcpuNum": 8
   },
   {
    "_defaultOrder": 15,
    "_isFastLaunch": false,
    "category": "General purpose",
    "gpuNum": 0,
    "hideHardwareSpecs": false,
    "memoryGiB": 64,
    "name": "ml.m5d.4xlarge",
    "vcpuNum": 16
   },
   {
    "_defaultOrder": 16,
    "_isFastLaunch": false,
    "category": "General purpose",
    "gpuNum": 0,
    "hideHardwareSpecs": false,
    "memoryGiB": 128,
    "name": "ml.m5d.8xlarge",
    "vcpuNum": 32
   },
   {
    "_defaultOrder": 17,
    "_isFastLaunch": false,
    "category": "General purpose",
    "gpuNum": 0,
    "hideHardwareSpecs": false,
    "memoryGiB": 192,
    "name": "ml.m5d.12xlarge",
    "vcpuNum": 48
   },
   {
    "_defaultOrder": 18,
    "_isFastLaunch": false,
    "category": "General purpose",
    "gpuNum": 0,
    "hideHardwareSpecs": false,
    "memoryGiB": 256,
    "name": "ml.m5d.16xlarge",
    "vcpuNum": 64
   },
   {
    "_defaultOrder": 19,
    "_isFastLaunch": false,
    "category": "General purpose",
    "gpuNum": 0,
    "hideHardwareSpecs": false,
    "memoryGiB": 384,
    "name": "ml.m5d.24xlarge",
    "vcpuNum": 96
   },
   {
    "_defaultOrder": 20,
    "_isFastLaunch": false,
    "category": "General purpose",
    "gpuNum": 0,
    "hideHardwareSpecs": true,
    "memoryGiB": 0,
    "name": "ml.geospatial.interactive",
    "supportedImageNames": [
     "sagemaker-geospatial-v1-0"
    ],
    "vcpuNum": 0
   },
   {
    "_defaultOrder": 21,
    "_isFastLaunch": true,
    "category": "Compute optimized",
    "gpuNum": 0,
    "hideHardwareSpecs": false,
    "memoryGiB": 4,
    "name": "ml.c5.large",
    "vcpuNum": 2
   },
   {
    "_defaultOrder": 22,
    "_isFastLaunch": false,
    "category": "Compute optimized",
    "gpuNum": 0,
    "hideHardwareSpecs": false,
    "memoryGiB": 8,
    "name": "ml.c5.xlarge",
    "vcpuNum": 4
   },
   {
    "_defaultOrder": 23,
    "_isFastLaunch": false,
    "category": "Compute optimized",
    "gpuNum": 0,
    "hideHardwareSpecs": false,
    "memoryGiB": 16,
    "name": "ml.c5.2xlarge",
    "vcpuNum": 8
   },
   {
    "_defaultOrder": 24,
    "_isFastLaunch": false,
    "category": "Compute optimized",
    "gpuNum": 0,
    "hideHardwareSpecs": false,
    "memoryGiB": 32,
    "name": "ml.c5.4xlarge",
    "vcpuNum": 16
   },
   {
    "_defaultOrder": 25,
    "_isFastLaunch": false,
    "category": "Compute optimized",
    "gpuNum": 0,
    "hideHardwareSpecs": false,
    "memoryGiB": 72,
    "name": "ml.c5.9xlarge",
    "vcpuNum": 36
   },
   {
    "_defaultOrder": 26,
    "_isFastLaunch": false,
    "category": "Compute optimized",
    "gpuNum": 0,
    "hideHardwareSpecs": false,
    "memoryGiB": 96,
    "name": "ml.c5.12xlarge",
    "vcpuNum": 48
   },
   {
    "_defaultOrder": 27,
    "_isFastLaunch": false,
    "category": "Compute optimized",
    "gpuNum": 0,
    "hideHardwareSpecs": false,
    "memoryGiB": 144,
    "name": "ml.c5.18xlarge",
    "vcpuNum": 72
   },
   {
    "_defaultOrder": 28,
    "_isFastLaunch": false,
    "category": "Compute optimized",
    "gpuNum": 0,
    "hideHardwareSpecs": false,
    "memoryGiB": 192,
    "name": "ml.c5.24xlarge",
    "vcpuNum": 96
   },
   {
    "_defaultOrder": 29,
    "_isFastLaunch": true,
    "category": "Accelerated computing",
    "gpuNum": 1,
    "hideHardwareSpecs": false,
    "memoryGiB": 16,
    "name": "ml.g4dn.xlarge",
    "vcpuNum": 4
   },
   {
    "_defaultOrder": 30,
    "_isFastLaunch": false,
    "category": "Accelerated computing",
    "gpuNum": 1,
    "hideHardwareSpecs": false,
    "memoryGiB": 32,
    "name": "ml.g4dn.2xlarge",
    "vcpuNum": 8
   },
   {
    "_defaultOrder": 31,
    "_isFastLaunch": false,
    "category": "Accelerated computing",
    "gpuNum": 1,
    "hideHardwareSpecs": false,
    "memoryGiB": 64,
    "name": "ml.g4dn.4xlarge",
    "vcpuNum": 16
   },
   {
    "_defaultOrder": 32,
    "_isFastLaunch": false,
    "category": "Accelerated computing",
    "gpuNum": 1,
    "hideHardwareSpecs": false,
    "memoryGiB": 128,
    "name": "ml.g4dn.8xlarge",
    "vcpuNum": 32
   },
   {
    "_defaultOrder": 33,
    "_isFastLaunch": false,
    "category": "Accelerated computing",
    "gpuNum": 4,
    "hideHardwareSpecs": false,
    "memoryGiB": 192,
    "name": "ml.g4dn.12xlarge",
    "vcpuNum": 48
   },
   {
    "_defaultOrder": 34,
    "_isFastLaunch": false,
    "category": "Accelerated computing",
    "gpuNum": 1,
    "hideHardwareSpecs": false,
    "memoryGiB": 256,
    "name": "ml.g4dn.16xlarge",
    "vcpuNum": 64
   },
   {
    "_defaultOrder": 35,
    "_isFastLaunch": false,
    "category": "Accelerated computing",
    "gpuNum": 1,
    "hideHardwareSpecs": false,
    "memoryGiB": 61,
    "name": "ml.p3.2xlarge",
    "vcpuNum": 8
   },
   {
    "_defaultOrder": 36,
    "_isFastLaunch": false,
    "category": "Accelerated computing",
    "gpuNum": 4,
    "hideHardwareSpecs": false,
    "memoryGiB": 244,
    "name": "ml.p3.8xlarge",
    "vcpuNum": 32
   },
   {
    "_defaultOrder": 37,
    "_isFastLaunch": false,
    "category": "Accelerated computing",
    "gpuNum": 8,
    "hideHardwareSpecs": false,
    "memoryGiB": 488,
    "name": "ml.p3.16xlarge",
    "vcpuNum": 64
   },
   {
    "_defaultOrder": 38,
    "_isFastLaunch": false,
    "category": "Accelerated computing",
    "gpuNum": 8,
    "hideHardwareSpecs": false,
    "memoryGiB": 768,
    "name": "ml.p3dn.24xlarge",
    "vcpuNum": 96
   },
   {
    "_defaultOrder": 39,
    "_isFastLaunch": false,
    "category": "Memory Optimized",
    "gpuNum": 0,
    "hideHardwareSpecs": false,
    "memoryGiB": 16,
    "name": "ml.r5.large",
    "vcpuNum": 2
   },
   {
    "_defaultOrder": 40,
    "_isFastLaunch": false,
    "category": "Memory Optimized",
    "gpuNum": 0,
    "hideHardwareSpecs": false,
    "memoryGiB": 32,
    "name": "ml.r5.xlarge",
    "vcpuNum": 4
   },
   {
    "_defaultOrder": 41,
    "_isFastLaunch": false,
    "category": "Memory Optimized",
    "gpuNum": 0,
    "hideHardwareSpecs": false,
    "memoryGiB": 64,
    "name": "ml.r5.2xlarge",
    "vcpuNum": 8
   },
   {
    "_defaultOrder": 42,
    "_isFastLaunch": false,
    "category": "Memory Optimized",
    "gpuNum": 0,
    "hideHardwareSpecs": false,
    "memoryGiB": 128,
    "name": "ml.r5.4xlarge",
    "vcpuNum": 16
   },
   {
    "_defaultOrder": 43,
    "_isFastLaunch": false,
    "category": "Memory Optimized",
    "gpuNum": 0,
    "hideHardwareSpecs": false,
    "memoryGiB": 256,
    "name": "ml.r5.8xlarge",
    "vcpuNum": 32
   },
   {
    "_defaultOrder": 44,
    "_isFastLaunch": false,
    "category": "Memory Optimized",
    "gpuNum": 0,
    "hideHardwareSpecs": false,
    "memoryGiB": 384,
    "name": "ml.r5.12xlarge",
    "vcpuNum": 48
   },
   {
    "_defaultOrder": 45,
    "_isFastLaunch": false,
    "category": "Memory Optimized",
    "gpuNum": 0,
    "hideHardwareSpecs": false,
    "memoryGiB": 512,
    "name": "ml.r5.16xlarge",
    "vcpuNum": 64
   },
   {
    "_defaultOrder": 46,
    "_isFastLaunch": false,
    "category": "Memory Optimized",
    "gpuNum": 0,
    "hideHardwareSpecs": false,
    "memoryGiB": 768,
    "name": "ml.r5.24xlarge",
    "vcpuNum": 96
   },
   {
    "_defaultOrder": 47,
    "_isFastLaunch": false,
    "category": "Accelerated computing",
    "gpuNum": 1,
    "hideHardwareSpecs": false,
    "memoryGiB": 16,
    "name": "ml.g5.xlarge",
    "vcpuNum": 4
   },
   {
    "_defaultOrder": 48,
    "_isFastLaunch": false,
    "category": "Accelerated computing",
    "gpuNum": 1,
    "hideHardwareSpecs": false,
    "memoryGiB": 32,
    "name": "ml.g5.2xlarge",
    "vcpuNum": 8
   },
   {
    "_defaultOrder": 49,
    "_isFastLaunch": false,
    "category": "Accelerated computing",
    "gpuNum": 1,
    "hideHardwareSpecs": false,
    "memoryGiB": 64,
    "name": "ml.g5.4xlarge",
    "vcpuNum": 16
   },
   {
    "_defaultOrder": 50,
    "_isFastLaunch": false,
    "category": "Accelerated computing",
    "gpuNum": 1,
    "hideHardwareSpecs": false,
    "memoryGiB": 128,
    "name": "ml.g5.8xlarge",
    "vcpuNum": 32
   },
   {
    "_defaultOrder": 51,
    "_isFastLaunch": false,
    "category": "Accelerated computing",
    "gpuNum": 1,
    "hideHardwareSpecs": false,
    "memoryGiB": 256,
    "name": "ml.g5.16xlarge",
    "vcpuNum": 64
   },
   {
    "_defaultOrder": 52,
    "_isFastLaunch": false,
    "category": "Accelerated computing",
    "gpuNum": 4,
    "hideHardwareSpecs": false,
    "memoryGiB": 192,
    "name": "ml.g5.12xlarge",
    "vcpuNum": 48
   },
   {
    "_defaultOrder": 53,
    "_isFastLaunch": false,
    "category": "Accelerated computing",
    "gpuNum": 4,
    "hideHardwareSpecs": false,
    "memoryGiB": 384,
    "name": "ml.g5.24xlarge",
    "vcpuNum": 96
   },
   {
    "_defaultOrder": 54,
    "_isFastLaunch": false,
    "category": "Accelerated computing",
    "gpuNum": 8,
    "hideHardwareSpecs": false,
    "memoryGiB": 768,
    "name": "ml.g5.48xlarge",
    "vcpuNum": 192
   },
   {
    "_defaultOrder": 55,
    "_isFastLaunch": false,
    "category": "Accelerated computing",
    "gpuNum": 8,
    "hideHardwareSpecs": false,
    "memoryGiB": 1152,
    "name": "ml.p4d.24xlarge",
    "vcpuNum": 96
   },
   {
    "_defaultOrder": 56,
    "_isFastLaunch": false,
    "category": "Accelerated computing",
    "gpuNum": 8,
    "hideHardwareSpecs": false,
    "memoryGiB": 1152,
    "name": "ml.p4de.24xlarge",
    "vcpuNum": 96
   }
  ],
  "instance_type": "ml.t3.medium",
  "kernelspec": {
   "display_name": "Python 3 (Data Science)",
   "language": "python",
   "name": "python3__SAGEMAKER_INTERNAL__arn:aws:sagemaker:us-east-1:081325390199:image/datascience-1.0"
  },
  "language_info": {
   "codemirror_mode": {
    "name": "ipython",
    "version": 3
   },
   "file_extension": ".py",
   "mimetype": "text/x-python",
   "name": "python",
   "nbconvert_exporter": "python",
   "pygments_lexer": "ipython3",
   "version": "3.7.10"
  }
 },
 "nbformat": 4,
 "nbformat_minor": 5
}
